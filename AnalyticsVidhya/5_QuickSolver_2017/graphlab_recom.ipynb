{
 "cells": [
  {
   "cell_type": "markdown",
   "metadata": {},
   "source": [
    "# The Quicksolver - Machine Learning Minihack\n",
    "## Analytics Vidhya\n",
    "## April 30, 2017"
   ]
  },
  {
   "cell_type": "code",
   "execution_count": 1,
   "metadata": {
    "collapsed": true
   },
   "outputs": [],
   "source": [
    "import graphlab as gl"
   ]
  },
  {
   "cell_type": "code",
   "execution_count": 2,
   "metadata": {
    "collapsed": false
   },
   "outputs": [
    {
     "name": "stdout",
     "output_type": "stream",
     "text": [
      "This non-commercial license of GraphLab Create for academic use is assigned to judit.badics@gmail.com and will expire on May 10, 2017.\n"
     ]
    },
    {
     "name": "stderr",
     "output_type": "stream",
     "text": [
      "[INFO] graphlab.cython.cy_server: GraphLab Create v2.1 started. Logging: C:\\Users\\BADICS~1\\AppData\\Local\\Temp\\graphlab_server_1493570723.log.0\n"
     ]
    },
    {
     "data": {
      "text/html": [
       "<pre>Finished parsing file C:\\Users\\Badics Judit\\AnalyticsVidhya\\5_QuickSolver_20170430\\train.csv</pre>"
      ],
      "text/plain": [
       "Finished parsing file C:\\Users\\Badics Judit\\AnalyticsVidhya\\5_QuickSolver_20170430\\train.csv"
      ]
     },
     "metadata": {},
     "output_type": "display_data"
    },
    {
     "data": {
      "text/html": [
       "<pre>Parsing completed. Parsed 100 lines in 1.03905 secs.</pre>"
      ],
      "text/plain": [
       "Parsing completed. Parsed 100 lines in 1.03905 secs."
      ]
     },
     "metadata": {},
     "output_type": "display_data"
    },
    {
     "name": "stdout",
     "output_type": "stream",
     "text": [
      "------------------------------------------------------\n",
      "Inferred types from first 100 line(s) of file as \n",
      "column_type_hints=[long,long,long,str]\n",
      "If parsing fails due to incorrect types, you can correct\n",
      "the inferred type list above and pass it to read_csv in\n",
      "the column_type_hints argument\n",
      "------------------------------------------------------\n"
     ]
    },
    {
     "data": {
      "text/html": [
       "<pre>Finished parsing file C:\\Users\\Badics Judit\\AnalyticsVidhya\\5_QuickSolver_20170430\\train.csv</pre>"
      ],
      "text/plain": [
       "Finished parsing file C:\\Users\\Badics Judit\\AnalyticsVidhya\\5_QuickSolver_20170430\\train.csv"
      ]
     },
     "metadata": {},
     "output_type": "display_data"
    },
    {
     "data": {
      "text/html": [
       "<pre>Parsing completed. Parsed 679051 lines in 0.562618 secs.</pre>"
      ],
      "text/plain": [
       "Parsing completed. Parsed 679051 lines in 0.562618 secs."
      ]
     },
     "metadata": {},
     "output_type": "display_data"
    }
   ],
   "source": [
    "train = gl.SFrame.read_csv('train.csv')"
   ]
  },
  {
   "cell_type": "code",
   "execution_count": 3,
   "metadata": {
    "collapsed": false
   },
   "outputs": [
    {
     "data": {
      "text/html": [
       "<div style=\"max-height:1000px;max-width:1500px;overflow:auto;\"><table frame=\"box\" rules=\"cols\">\n",
       "    <tr>\n",
       "        <th style=\"padding-left: 1em; padding-right: 1em; text-align: center\">User_ID</th>\n",
       "        <th style=\"padding-left: 1em; padding-right: 1em; text-align: center\">Article_ID</th>\n",
       "        <th style=\"padding-left: 1em; padding-right: 1em; text-align: center\">Rating</th>\n",
       "        <th style=\"padding-left: 1em; padding-right: 1em; text-align: center\">ID</th>\n",
       "    </tr>\n",
       "    <tr>\n",
       "        <td style=\"padding-left: 1em; padding-right: 1em; text-align: center; vertical-align: top\">20080828074</td>\n",
       "        <td style=\"padding-left: 1em; padding-right: 1em; text-align: center; vertical-align: top\">1219102233</td>\n",
       "        <td style=\"padding-left: 1em; padding-right: 1em; text-align: center; vertical-align: top\">0</td>\n",
       "        <td style=\"padding-left: 1em; padding-right: 1em; text-align: center; vertical-align: top\">20080828074_1219102233</td>\n",
       "    </tr>\n",
       "    <tr>\n",
       "        <td style=\"padding-left: 1em; padding-right: 1em; text-align: center; vertical-align: top\">20080851125</td>\n",
       "        <td style=\"padding-left: 1em; padding-right: 1em; text-align: center; vertical-align: top\">1219110304</td>\n",
       "        <td style=\"padding-left: 1em; padding-right: 1em; text-align: center; vertical-align: top\">6</td>\n",
       "        <td style=\"padding-left: 1em; padding-right: 1em; text-align: center; vertical-align: top\">20080851125_1219110304</td>\n",
       "    </tr>\n",
       "    <tr>\n",
       "        <td style=\"padding-left: 1em; padding-right: 1em; text-align: center; vertical-align: top\">20080820760</td>\n",
       "        <td style=\"padding-left: 1em; padding-right: 1em; text-align: center; vertical-align: top\">1219151095</td>\n",
       "        <td style=\"padding-left: 1em; padding-right: 1em; text-align: center; vertical-align: top\">0</td>\n",
       "        <td style=\"padding-left: 1em; padding-right: 1em; text-align: center; vertical-align: top\">20080820760_1219151095</td>\n",
       "    </tr>\n",
       "    <tr>\n",
       "        <td style=\"padding-left: 1em; padding-right: 1em; text-align: center; vertical-align: top\">20080824760</td>\n",
       "        <td style=\"padding-left: 1em; padding-right: 1em; text-align: center; vertical-align: top\">1219295837</td>\n",
       "        <td style=\"padding-left: 1em; padding-right: 1em; text-align: center; vertical-align: top\">5</td>\n",
       "        <td style=\"padding-left: 1em; padding-right: 1em; text-align: center; vertical-align: top\">20080824760_1219295837</td>\n",
       "    </tr>\n",
       "    <tr>\n",
       "        <td style=\"padding-left: 1em; padding-right: 1em; text-align: center; vertical-align: top\">20080883177</td>\n",
       "        <td style=\"padding-left: 1em; padding-right: 1em; text-align: center; vertical-align: top\">1219209257</td>\n",
       "        <td style=\"padding-left: 1em; padding-right: 1em; text-align: center; vertical-align: top\">4</td>\n",
       "        <td style=\"padding-left: 1em; padding-right: 1em; text-align: center; vertical-align: top\">20080883177_1219209257</td>\n",
       "    </tr>\n",
       "    <tr>\n",
       "        <td style=\"padding-left: 1em; padding-right: 1em; text-align: center; vertical-align: top\">20080820470</td>\n",
       "        <td style=\"padding-left: 1em; padding-right: 1em; text-align: center; vertical-align: top\">1219098705</td>\n",
       "        <td style=\"padding-left: 1em; padding-right: 1em; text-align: center; vertical-align: top\">0</td>\n",
       "        <td style=\"padding-left: 1em; padding-right: 1em; text-align: center; vertical-align: top\">20080820470_1219098705</td>\n",
       "    </tr>\n",
       "    <tr>\n",
       "        <td style=\"padding-left: 1em; padding-right: 1em; text-align: center; vertical-align: top\">20080821438</td>\n",
       "        <td style=\"padding-left: 1em; padding-right: 1em; text-align: center; vertical-align: top\">1219144384</td>\n",
       "        <td style=\"padding-left: 1em; padding-right: 1em; text-align: center; vertical-align: top\">0</td>\n",
       "        <td style=\"padding-left: 1em; padding-right: 1em; text-align: center; vertical-align: top\">20080821438_1219144384</td>\n",
       "    </tr>\n",
       "    <tr>\n",
       "        <td style=\"padding-left: 1em; padding-right: 1em; text-align: center; vertical-align: top\">20080820609</td>\n",
       "        <td style=\"padding-left: 1em; padding-right: 1em; text-align: center; vertical-align: top\">1219279037</td>\n",
       "        <td style=\"padding-left: 1em; padding-right: 1em; text-align: center; vertical-align: top\">0</td>\n",
       "        <td style=\"padding-left: 1em; padding-right: 1em; text-align: center; vertical-align: top\">20080820609_1219279037</td>\n",
       "    </tr>\n",
       "    <tr>\n",
       "        <td style=\"padding-left: 1em; padding-right: 1em; text-align: center; vertical-align: top\">20080820848</td>\n",
       "        <td style=\"padding-left: 1em; padding-right: 1em; text-align: center; vertical-align: top\">1219106862</td>\n",
       "        <td style=\"padding-left: 1em; padding-right: 1em; text-align: center; vertical-align: top\">0</td>\n",
       "        <td style=\"padding-left: 1em; padding-right: 1em; text-align: center; vertical-align: top\">20080820848_1219106862</td>\n",
       "    </tr>\n",
       "    <tr>\n",
       "        <td style=\"padding-left: 1em; padding-right: 1em; text-align: center; vertical-align: top\">20080820899</td>\n",
       "        <td style=\"padding-left: 1em; padding-right: 1em; text-align: center; vertical-align: top\">1219239006</td>\n",
       "        <td style=\"padding-left: 1em; padding-right: 1em; text-align: center; vertical-align: top\">0</td>\n",
       "        <td style=\"padding-left: 1em; padding-right: 1em; text-align: center; vertical-align: top\">20080820899_1219239006</td>\n",
       "    </tr>\n",
       "</table>\n",
       "[10 rows x 4 columns]<br/>\n",
       "</div>"
      ],
      "text/plain": [
       "Columns:\n",
       "\tUser_ID\tint\n",
       "\tArticle_ID\tint\n",
       "\tRating\tint\n",
       "\tID\tstr\n",
       "\n",
       "Rows: 10\n",
       "\n",
       "Data:\n",
       "+-------------+------------+--------+------------------------+\n",
       "|   User_ID   | Article_ID | Rating |           ID           |\n",
       "+-------------+------------+--------+------------------------+\n",
       "| 20080828074 | 1219102233 |   0    | 20080828074_1219102233 |\n",
       "| 20080851125 | 1219110304 |   6    | 20080851125_1219110304 |\n",
       "| 20080820760 | 1219151095 |   0    | 20080820760_1219151095 |\n",
       "| 20080824760 | 1219295837 |   5    | 20080824760_1219295837 |\n",
       "| 20080883177 | 1219209257 |   4    | 20080883177_1219209257 |\n",
       "| 20080820470 | 1219098705 |   0    | 20080820470_1219098705 |\n",
       "| 20080821438 | 1219144384 |   0    | 20080821438_1219144384 |\n",
       "| 20080820609 | 1219279037 |   0    | 20080820609_1219279037 |\n",
       "| 20080820848 | 1219106862 |   0    | 20080820848_1219106862 |\n",
       "| 20080820899 | 1219239006 |   0    | 20080820899_1219239006 |\n",
       "+-------------+------------+--------+------------------------+\n",
       "[10 rows x 4 columns]"
      ]
     },
     "execution_count": 3,
     "metadata": {},
     "output_type": "execute_result"
    }
   ],
   "source": [
    "train.head()"
   ]
  },
  {
   "cell_type": "code",
   "execution_count": 7,
   "metadata": {
    "collapsed": false
   },
   "outputs": [
    {
     "data": {
      "text/html": [
       "<pre>Recsys training: model = factorization_recommender</pre>"
      ],
      "text/plain": [
       "Recsys training: model = factorization_recommender"
      ]
     },
     "metadata": {},
     "output_type": "display_data"
    },
    {
     "data": {
      "text/html": [
       "<pre>Preparing data set.</pre>"
      ],
      "text/plain": [
       "Preparing data set."
      ]
     },
     "metadata": {},
     "output_type": "display_data"
    },
    {
     "data": {
      "text/html": [
       "<pre>    Data has 679051 observations with 73489 users and 214027 items.</pre>"
      ],
      "text/plain": [
       "    Data has 679051 observations with 73489 users and 214027 items."
      ]
     },
     "metadata": {},
     "output_type": "display_data"
    },
    {
     "data": {
      "text/html": [
       "<pre>    Data prepared in: 1.71941s</pre>"
      ],
      "text/plain": [
       "    Data prepared in: 1.71941s"
      ]
     },
     "metadata": {},
     "output_type": "display_data"
    },
    {
     "data": {
      "text/html": [
       "<pre>Training factorization_recommender for recommendations.</pre>"
      ],
      "text/plain": [
       "Training factorization_recommender for recommendations."
      ]
     },
     "metadata": {},
     "output_type": "display_data"
    },
    {
     "data": {
      "text/html": [
       "<pre>+--------------------------------+--------------------------------------------------+----------+</pre>"
      ],
      "text/plain": [
       "+--------------------------------+--------------------------------------------------+----------+"
      ]
     },
     "metadata": {},
     "output_type": "display_data"
    },
    {
     "data": {
      "text/html": [
       "<pre>| Parameter                      | Description                                      | Value    |</pre>"
      ],
      "text/plain": [
       "| Parameter                      | Description                                      | Value    |"
      ]
     },
     "metadata": {},
     "output_type": "display_data"
    },
    {
     "data": {
      "text/html": [
       "<pre>+--------------------------------+--------------------------------------------------+----------+</pre>"
      ],
      "text/plain": [
       "+--------------------------------+--------------------------------------------------+----------+"
      ]
     },
     "metadata": {},
     "output_type": "display_data"
    },
    {
     "data": {
      "text/html": [
       "<pre>| num_factors                    | Factor Dimension                                 | 8        |</pre>"
      ],
      "text/plain": [
       "| num_factors                    | Factor Dimension                                 | 8        |"
      ]
     },
     "metadata": {},
     "output_type": "display_data"
    },
    {
     "data": {
      "text/html": [
       "<pre>| regularization                 | L2 Regularization on Factors                     | 1e-008   |</pre>"
      ],
      "text/plain": [
       "| regularization                 | L2 Regularization on Factors                     | 1e-008   |"
      ]
     },
     "metadata": {},
     "output_type": "display_data"
    },
    {
     "data": {
      "text/html": [
       "<pre>| solver                         | Solver used for training                         | adagrad  |</pre>"
      ],
      "text/plain": [
       "| solver                         | Solver used for training                         | adagrad  |"
      ]
     },
     "metadata": {},
     "output_type": "display_data"
    },
    {
     "data": {
      "text/html": [
       "<pre>| linear_regularization          | L2 Regularization on Linear Coefficients         | 1e-010   |</pre>"
      ],
      "text/plain": [
       "| linear_regularization          | L2 Regularization on Linear Coefficients         | 1e-010   |"
      ]
     },
     "metadata": {},
     "output_type": "display_data"
    },
    {
     "data": {
      "text/html": [
       "<pre>| max_iterations                 | Maximum Number of Iterations                     | 50       |</pre>"
      ],
      "text/plain": [
       "| max_iterations                 | Maximum Number of Iterations                     | 50       |"
      ]
     },
     "metadata": {},
     "output_type": "display_data"
    },
    {
     "data": {
      "text/html": [
       "<pre>+--------------------------------+--------------------------------------------------+----------+</pre>"
      ],
      "text/plain": [
       "+--------------------------------+--------------------------------------------------+----------+"
      ]
     },
     "metadata": {},
     "output_type": "display_data"
    },
    {
     "data": {
      "text/html": [
       "<pre>  Optimizing model using SGD; tuning step size.</pre>"
      ],
      "text/plain": [
       "  Optimizing model using SGD; tuning step size."
      ]
     },
     "metadata": {},
     "output_type": "display_data"
    },
    {
     "data": {
      "text/html": [
       "<pre>  Using 84881 / 679051 points for tuning the step size.</pre>"
      ],
      "text/plain": [
       "  Using 84881 / 679051 points for tuning the step size."
      ]
     },
     "metadata": {},
     "output_type": "display_data"
    },
    {
     "data": {
      "text/html": [
       "<pre>+---------+-------------------+------------------------------------------+</pre>"
      ],
      "text/plain": [
       "+---------+-------------------+------------------------------------------+"
      ]
     },
     "metadata": {},
     "output_type": "display_data"
    },
    {
     "data": {
      "text/html": [
       "<pre>| Attempt | Initial Step Size | Estimated Objective Value                |</pre>"
      ],
      "text/plain": [
       "| Attempt | Initial Step Size | Estimated Objective Value                |"
      ]
     },
     "metadata": {},
     "output_type": "display_data"
    },
    {
     "data": {
      "text/html": [
       "<pre>+---------+-------------------+------------------------------------------+</pre>"
      ],
      "text/plain": [
       "+---------+-------------------+------------------------------------------+"
      ]
     },
     "metadata": {},
     "output_type": "display_data"
    },
    {
     "data": {
      "text/html": [
       "<pre>| 0       | 16.6667           | Not Viable                               |</pre>"
      ],
      "text/plain": [
       "| 0       | 16.6667           | Not Viable                               |"
      ]
     },
     "metadata": {},
     "output_type": "display_data"
    },
    {
     "data": {
      "text/html": [
       "<pre>| 1       | 4.16667           | Not Viable                               |</pre>"
      ],
      "text/plain": [
       "| 1       | 4.16667           | Not Viable                               |"
      ]
     },
     "metadata": {},
     "output_type": "display_data"
    },
    {
     "data": {
      "text/html": [
       "<pre>| 2       | 1.04167           | Not Viable                               |</pre>"
      ],
      "text/plain": [
       "| 2       | 1.04167           | Not Viable                               |"
      ]
     },
     "metadata": {},
     "output_type": "display_data"
    },
    {
     "data": {
      "text/html": [
       "<pre>| 3       | 0.260417          | 0.0488636                                |</pre>"
      ],
      "text/plain": [
       "| 3       | 0.260417          | 0.0488636                                |"
      ]
     },
     "metadata": {},
     "output_type": "display_data"
    },
    {
     "data": {
      "text/html": [
       "<pre>| 4       | 0.130208          | 0.00865749                               |</pre>"
      ],
      "text/plain": [
       "| 4       | 0.130208          | 0.00865749                               |"
      ]
     },
     "metadata": {},
     "output_type": "display_data"
    },
    {
     "data": {
      "text/html": [
       "<pre>| 5       | 0.0651042         | 0.322367                                 |</pre>"
      ],
      "text/plain": [
       "| 5       | 0.0651042         | 0.322367                                 |"
      ]
     },
     "metadata": {},
     "output_type": "display_data"
    },
    {
     "data": {
      "text/html": [
       "<pre>+---------+-------------------+------------------------------------------+</pre>"
      ],
      "text/plain": [
       "+---------+-------------------+------------------------------------------+"
      ]
     },
     "metadata": {},
     "output_type": "display_data"
    },
    {
     "data": {
      "text/html": [
       "<pre>| Final   | 0.130208          | 0.00865749                               |</pre>"
      ],
      "text/plain": [
       "| Final   | 0.130208          | 0.00865749                               |"
      ]
     },
     "metadata": {},
     "output_type": "display_data"
    },
    {
     "data": {
      "text/html": [
       "<pre>+---------+-------------------+------------------------------------------+</pre>"
      ],
      "text/plain": [
       "+---------+-------------------+------------------------------------------+"
      ]
     },
     "metadata": {},
     "output_type": "display_data"
    },
    {
     "data": {
      "text/html": [
       "<pre>Starting Optimization.</pre>"
      ],
      "text/plain": [
       "Starting Optimization."
      ]
     },
     "metadata": {},
     "output_type": "display_data"
    },
    {
     "data": {
      "text/html": [
       "<pre>+---------+--------------+-------------------+-----------------------+-------------+</pre>"
      ],
      "text/plain": [
       "+---------+--------------+-------------------+-----------------------+-------------+"
      ]
     },
     "metadata": {},
     "output_type": "display_data"
    },
    {
     "data": {
      "text/html": [
       "<pre>| Iter.   | Elapsed Time | Approx. Objective | Approx. Training RMSE | Step Size   |</pre>"
      ],
      "text/plain": [
       "| Iter.   | Elapsed Time | Approx. Objective | Approx. Training RMSE | Step Size   |"
      ]
     },
     "metadata": {},
     "output_type": "display_data"
    },
    {
     "data": {
      "text/html": [
       "<pre>+---------+--------------+-------------------+-----------------------+-------------+</pre>"
      ],
      "text/plain": [
       "+---------+--------------+-------------------+-----------------------+-------------+"
      ]
     },
     "metadata": {},
     "output_type": "display_data"
    },
    {
     "data": {
      "text/html": [
       "<pre>| Initial | 0us          | 4.19826           | 2.04897               |             |</pre>"
      ],
      "text/plain": [
       "| Initial | 0us          | 4.19826           | 2.04897               |             |"
      ]
     },
     "metadata": {},
     "output_type": "display_data"
    },
    {
     "data": {
      "text/html": [
       "<pre>+---------+--------------+-------------------+-----------------------+-------------+</pre>"
      ],
      "text/plain": [
       "+---------+--------------+-------------------+-----------------------+-------------+"
      ]
     },
     "metadata": {},
     "output_type": "display_data"
    },
    {
     "data": {
      "text/html": [
       "<pre>| 1       | 437.615ms    | 3.62856           | 1.90443               | 0.130208    |</pre>"
      ],
      "text/plain": [
       "| 1       | 437.615ms    | 3.62856           | 1.90443               | 0.130208    |"
      ]
     },
     "metadata": {},
     "output_type": "display_data"
    },
    {
     "data": {
      "text/html": [
       "<pre>| 2       | 946.645ms    | 1.54162           | 1.24051               | 0.130208    |</pre>"
      ],
      "text/plain": [
       "| 2       | 946.645ms    | 1.54162           | 1.24051               | 0.130208    |"
      ]
     },
     "metadata": {},
     "output_type": "display_data"
    },
    {
     "data": {
      "text/html": [
       "<pre>| 3       | 1.27s        | 0.454049          | 0.671489              | 0.130208    |</pre>"
      ],
      "text/plain": [
       "| 3       | 1.27s        | 0.454049          | 0.671489              | 0.130208    |"
      ]
     },
     "metadata": {},
     "output_type": "display_data"
    },
    {
     "data": {
      "text/html": [
       "<pre>| 4       | 1.66s        | 0.130576          | 0.356639              | 0.130208    |</pre>"
      ],
      "text/plain": [
       "| 4       | 1.66s        | 0.130576          | 0.356639              | 0.130208    |"
      ]
     },
     "metadata": {},
     "output_type": "display_data"
    },
    {
     "data": {
      "text/html": [
       "<pre>| 5       | 2.15s        | 0.0435555         | 0.200224              | 0.130208    |</pre>"
      ],
      "text/plain": [
       "| 5       | 2.15s        | 0.0435555         | 0.200224              | 0.130208    |"
      ]
     },
     "metadata": {},
     "output_type": "display_data"
    },
    {
     "data": {
      "text/html": [
       "<pre>| 6       | 2.52s        | 0.0189568         | 0.124265              | 0.130208    |</pre>"
      ],
      "text/plain": [
       "| 6       | 2.52s        | 0.0189568         | 0.124265              | 0.130208    |"
      ]
     },
     "metadata": {},
     "output_type": "display_data"
    },
    {
     "data": {
      "text/html": [
       "<pre>| 10      | 3.72s        | 0.00454363        | 0.0312444             | 0.130208    |</pre>"
      ],
      "text/plain": [
       "| 10      | 3.72s        | 0.00454363        | 0.0312444             | 0.130208    |"
      ]
     },
     "metadata": {},
     "output_type": "display_data"
    },
    {
     "data": {
      "text/html": [
       "<pre>| 11      | 4.04s        | 0.00412262        | 0.0234904             | 0.130208    |</pre>"
      ],
      "text/plain": [
       "| 11      | 4.04s        | 0.00412262        | 0.0234904             | 0.130208    |"
      ]
     },
     "metadata": {},
     "output_type": "display_data"
    },
    {
     "data": {
      "text/html": [
       "<pre>| 15      | 5.51s        | 0.00364668        | 0.00846548            | 0.130208    |</pre>"
      ],
      "text/plain": [
       "| 15      | 5.51s        | 0.00364668        | 0.00846548            | 0.130208    |"
      ]
     },
     "metadata": {},
     "output_type": "display_data"
    },
    {
     "data": {
      "text/html": [
       "<pre>| 20      | 7.19s        | 0.00358216        | 0.00309225            | 0.130208    |</pre>"
      ],
      "text/plain": [
       "| 20      | 7.19s        | 0.00358216        | 0.00309225            | 0.130208    |"
      ]
     },
     "metadata": {},
     "output_type": "display_data"
    },
    {
     "data": {
      "text/html": [
       "<pre>+---------+--------------+-------------------+-----------------------+-------------+</pre>"
      ],
      "text/plain": [
       "+---------+--------------+-------------------+-----------------------+-------------+"
      ]
     },
     "metadata": {},
     "output_type": "display_data"
    },
    {
     "data": {
      "text/html": [
       "<pre>Optimization Complete: Convergence on objective within bounds.</pre>"
      ],
      "text/plain": [
       "Optimization Complete: Convergence on objective within bounds."
      ]
     },
     "metadata": {},
     "output_type": "display_data"
    },
    {
     "data": {
      "text/html": [
       "<pre>Computing final objective value and training RMSE.</pre>"
      ],
      "text/plain": [
       "Computing final objective value and training RMSE."
      ]
     },
     "metadata": {},
     "output_type": "display_data"
    },
    {
     "data": {
      "text/html": [
       "<pre>       Final objective value: 0.00357513</pre>"
      ],
      "text/plain": [
       "       Final objective value: 0.00357513"
      ]
     },
     "metadata": {},
     "output_type": "display_data"
    },
    {
     "data": {
      "text/html": [
       "<pre>       Final training RMSE: 0.00225538</pre>"
      ],
      "text/plain": [
       "       Final training RMSE: 0.00225538"
      ]
     },
     "metadata": {},
     "output_type": "display_data"
    }
   ],
   "source": [
    "#model = gl.recommender.create(train, 'User_ID', 'Article_ID')\n",
    "m = gl.factorization_recommender.create(train, user_id='User_ID', item_id='Article_ID',\n",
    "                                              target='Rating')"
   ]
  },
  {
   "cell_type": "code",
   "execution_count": 8,
   "metadata": {
    "collapsed": false
   },
   "outputs": [
    {
     "data": {
      "text/html": [
       "<pre>Finished parsing file C:\\Users\\Badics Judit\\AnalyticsVidhya\\5_QuickSolver_20170430\\test.csv</pre>"
      ],
      "text/plain": [
       "Finished parsing file C:\\Users\\Badics Judit\\AnalyticsVidhya\\5_QuickSolver_20170430\\test.csv"
      ]
     },
     "metadata": {},
     "output_type": "display_data"
    },
    {
     "data": {
      "text/html": [
       "<pre>Parsing completed. Parsed 100 lines in 2.02361 secs.</pre>"
      ],
      "text/plain": [
       "Parsing completed. Parsed 100 lines in 2.02361 secs."
      ]
     },
     "metadata": {},
     "output_type": "display_data"
    },
    {
     "name": "stdout",
     "output_type": "stream",
     "text": [
      "------------------------------------------------------\n",
      "Inferred types from first 100 line(s) of file as \n",
      "column_type_hints=[long,long,str]\n",
      "If parsing fails due to incorrect types, you can correct\n",
      "the inferred type list above and pass it to read_csv in\n",
      "the column_type_hints argument\n",
      "------------------------------------------------------\n"
     ]
    },
    {
     "data": {
      "text/html": [
       "<pre>Finished parsing file C:\\Users\\Badics Judit\\AnalyticsVidhya\\5_QuickSolver_20170430\\test.csv</pre>"
      ],
      "text/plain": [
       "Finished parsing file C:\\Users\\Badics Judit\\AnalyticsVidhya\\5_QuickSolver_20170430\\test.csv"
      ]
     },
     "metadata": {},
     "output_type": "display_data"
    },
    {
     "data": {
      "text/html": [
       "<pre>Parsing completed. Parsed 290306 lines in 0.227202 secs.</pre>"
      ],
      "text/plain": [
       "Parsing completed. Parsed 290306 lines in 0.227202 secs."
      ]
     },
     "metadata": {},
     "output_type": "display_data"
    },
    {
     "data": {
      "text/html": [
       "<div style=\"max-height:1000px;max-width:1500px;overflow:auto;\"><table frame=\"box\" rules=\"cols\">\n",
       "    <tr>\n",
       "        <th style=\"padding-left: 1em; padding-right: 1em; text-align: center\">User_ID</th>\n",
       "        <th style=\"padding-left: 1em; padding-right: 1em; text-align: center\">Article_ID</th>\n",
       "        <th style=\"padding-left: 1em; padding-right: 1em; text-align: center\">ID</th>\n",
       "    </tr>\n",
       "    <tr>\n",
       "        <td style=\"padding-left: 1em; padding-right: 1em; text-align: center; vertical-align: top\">20080822161</td>\n",
       "        <td style=\"padding-left: 1em; padding-right: 1em; text-align: center; vertical-align: top\">1219173561</td>\n",
       "        <td style=\"padding-left: 1em; padding-right: 1em; text-align: center; vertical-align: top\">20080822161_1219173561</td>\n",
       "    </tr>\n",
       "    <tr>\n",
       "        <td style=\"padding-left: 1em; padding-right: 1em; text-align: center; vertical-align: top\">20080839116</td>\n",
       "        <td style=\"padding-left: 1em; padding-right: 1em; text-align: center; vertical-align: top\">1219217951</td>\n",
       "        <td style=\"padding-left: 1em; padding-right: 1em; text-align: center; vertical-align: top\">20080839116_1219217951</td>\n",
       "    </tr>\n",
       "    <tr>\n",
       "        <td style=\"padding-left: 1em; padding-right: 1em; text-align: center; vertical-align: top\">20080831336</td>\n",
       "        <td style=\"padding-left: 1em; padding-right: 1em; text-align: center; vertical-align: top\">1219224091</td>\n",
       "        <td style=\"padding-left: 1em; padding-right: 1em; text-align: center; vertical-align: top\">20080831336_1219224091</td>\n",
       "    </tr>\n",
       "    <tr>\n",
       "        <td style=\"padding-left: 1em; padding-right: 1em; text-align: center; vertical-align: top\">20080820936</td>\n",
       "        <td style=\"padding-left: 1em; padding-right: 1em; text-align: center; vertical-align: top\">1219186943</td>\n",
       "        <td style=\"padding-left: 1em; padding-right: 1em; text-align: center; vertical-align: top\">20080820936_1219186943</td>\n",
       "    </tr>\n",
       "    <tr>\n",
       "        <td style=\"padding-left: 1em; padding-right: 1em; text-align: center; vertical-align: top\">20080823287</td>\n",
       "        <td style=\"padding-left: 1em; padding-right: 1em; text-align: center; vertical-align: top\">1219165896</td>\n",
       "        <td style=\"padding-left: 1em; padding-right: 1em; text-align: center; vertical-align: top\">20080823287_1219165896</td>\n",
       "    </tr>\n",
       "    <tr>\n",
       "        <td style=\"padding-left: 1em; padding-right: 1em; text-align: center; vertical-align: top\">20080820143</td>\n",
       "        <td style=\"padding-left: 1em; padding-right: 1em; text-align: center; vertical-align: top\">1219240117</td>\n",
       "        <td style=\"padding-left: 1em; padding-right: 1em; text-align: center; vertical-align: top\">20080820143_1219240117</td>\n",
       "    </tr>\n",
       "    <tr>\n",
       "        <td style=\"padding-left: 1em; padding-right: 1em; text-align: center; vertical-align: top\">20080829250</td>\n",
       "        <td style=\"padding-left: 1em; padding-right: 1em; text-align: center; vertical-align: top\">1219153253</td>\n",
       "        <td style=\"padding-left: 1em; padding-right: 1em; text-align: center; vertical-align: top\">20080829250_1219153253</td>\n",
       "    </tr>\n",
       "    <tr>\n",
       "        <td style=\"padding-left: 1em; padding-right: 1em; text-align: center; vertical-align: top\">20080824894</td>\n",
       "        <td style=\"padding-left: 1em; padding-right: 1em; text-align: center; vertical-align: top\">1219190978</td>\n",
       "        <td style=\"padding-left: 1em; padding-right: 1em; text-align: center; vertical-align: top\">20080824894_1219190978</td>\n",
       "    </tr>\n",
       "    <tr>\n",
       "        <td style=\"padding-left: 1em; padding-right: 1em; text-align: center; vertical-align: top\">20080833994</td>\n",
       "        <td style=\"padding-left: 1em; padding-right: 1em; text-align: center; vertical-align: top\">1219251303</td>\n",
       "        <td style=\"padding-left: 1em; padding-right: 1em; text-align: center; vertical-align: top\">20080833994_1219251303</td>\n",
       "    </tr>\n",
       "    <tr>\n",
       "        <td style=\"padding-left: 1em; padding-right: 1em; text-align: center; vertical-align: top\">20080820727</td>\n",
       "        <td style=\"padding-left: 1em; padding-right: 1em; text-align: center; vertical-align: top\">1219331743</td>\n",
       "        <td style=\"padding-left: 1em; padding-right: 1em; text-align: center; vertical-align: top\">20080820727_1219331743</td>\n",
       "    </tr>\n",
       "</table>\n",
       "[10 rows x 3 columns]<br/>\n",
       "</div>"
      ],
      "text/plain": [
       "Columns:\n",
       "\tUser_ID\tint\n",
       "\tArticle_ID\tint\n",
       "\tID\tstr\n",
       "\n",
       "Rows: 10\n",
       "\n",
       "Data:\n",
       "+-------------+------------+------------------------+\n",
       "|   User_ID   | Article_ID |           ID           |\n",
       "+-------------+------------+------------------------+\n",
       "| 20080822161 | 1219173561 | 20080822161_1219173561 |\n",
       "| 20080839116 | 1219217951 | 20080839116_1219217951 |\n",
       "| 20080831336 | 1219224091 | 20080831336_1219224091 |\n",
       "| 20080820936 | 1219186943 | 20080820936_1219186943 |\n",
       "| 20080823287 | 1219165896 | 20080823287_1219165896 |\n",
       "| 20080820143 | 1219240117 | 20080820143_1219240117 |\n",
       "| 20080829250 | 1219153253 | 20080829250_1219153253 |\n",
       "| 20080824894 | 1219190978 | 20080824894_1219190978 |\n",
       "| 20080833994 | 1219251303 | 20080833994_1219251303 |\n",
       "| 20080820727 | 1219331743 | 20080820727_1219331743 |\n",
       "+-------------+------------+------------------------+\n",
       "[10 rows x 3 columns]"
      ]
     },
     "execution_count": 8,
     "metadata": {},
     "output_type": "execute_result"
    }
   ],
   "source": [
    "test = gl.SFrame.read_csv('test.csv')\n",
    "test.head()"
   ]
  },
  {
   "cell_type": "code",
   "execution_count": 9,
   "metadata": {
    "collapsed": true
   },
   "outputs": [],
   "source": [
    "pairs_to_inspect = test\n",
    "scores = m.predict(pairs_to_inspect)"
   ]
  },
  {
   "cell_type": "code",
   "execution_count": 12,
   "metadata": {
    "collapsed": false
   },
   "outputs": [
    {
     "data": {
      "text/plain": [
       "290306"
      ]
     },
     "execution_count": 12,
     "metadata": {},
     "output_type": "execute_result"
    }
   ],
   "source": [
    "len(scores)"
   ]
  },
  {
   "cell_type": "code",
   "execution_count": 13,
   "metadata": {
    "collapsed": true
   },
   "outputs": [],
   "source": [
    "test['pred'] = scores"
   ]
  },
  {
   "cell_type": "code",
   "execution_count": 14,
   "metadata": {
    "collapsed": false
   },
   "outputs": [
    {
     "data": {
      "text/html": [
       "<div style=\"max-height:1000px;max-width:1500px;overflow:auto;\"><table frame=\"box\" rules=\"cols\">\n",
       "    <tr>\n",
       "        <th style=\"padding-left: 1em; padding-right: 1em; text-align: center\">User_ID</th>\n",
       "        <th style=\"padding-left: 1em; padding-right: 1em; text-align: center\">Article_ID</th>\n",
       "        <th style=\"padding-left: 1em; padding-right: 1em; text-align: center\">ID</th>\n",
       "        <th style=\"padding-left: 1em; padding-right: 1em; text-align: center\">pred</th>\n",
       "    </tr>\n",
       "    <tr>\n",
       "        <td style=\"padding-left: 1em; padding-right: 1em; text-align: center; vertical-align: top\">20080822161</td>\n",
       "        <td style=\"padding-left: 1em; padding-right: 1em; text-align: center; vertical-align: top\">1219173561</td>\n",
       "        <td style=\"padding-left: 1em; padding-right: 1em; text-align: center; vertical-align: top\">20080822161_1219173561</td>\n",
       "        <td style=\"padding-left: 1em; padding-right: 1em; text-align: center; vertical-align: top\">0.346893227917</td>\n",
       "    </tr>\n",
       "    <tr>\n",
       "        <td style=\"padding-left: 1em; padding-right: 1em; text-align: center; vertical-align: top\">20080839116</td>\n",
       "        <td style=\"padding-left: 1em; padding-right: 1em; text-align: center; vertical-align: top\">1219217951</td>\n",
       "        <td style=\"padding-left: 1em; padding-right: 1em; text-align: center; vertical-align: top\">20080839116_1219217951</td>\n",
       "        <td style=\"padding-left: 1em; padding-right: 1em; text-align: center; vertical-align: top\">2.78350647472</td>\n",
       "    </tr>\n",
       "    <tr>\n",
       "        <td style=\"padding-left: 1em; padding-right: 1em; text-align: center; vertical-align: top\">20080831336</td>\n",
       "        <td style=\"padding-left: 1em; padding-right: 1em; text-align: center; vertical-align: top\">1219224091</td>\n",
       "        <td style=\"padding-left: 1em; padding-right: 1em; text-align: center; vertical-align: top\">20080831336_1219224091</td>\n",
       "        <td style=\"padding-left: 1em; padding-right: 1em; text-align: center; vertical-align: top\">1.06299156</td>\n",
       "    </tr>\n",
       "    <tr>\n",
       "        <td style=\"padding-left: 1em; padding-right: 1em; text-align: center; vertical-align: top\">20080820936</td>\n",
       "        <td style=\"padding-left: 1em; padding-right: 1em; text-align: center; vertical-align: top\">1219186943</td>\n",
       "        <td style=\"padding-left: 1em; padding-right: 1em; text-align: center; vertical-align: top\">20080820936_1219186943</td>\n",
       "        <td style=\"padding-left: 1em; padding-right: 1em; text-align: center; vertical-align: top\">1.6995905333</td>\n",
       "    </tr>\n",
       "    <tr>\n",
       "        <td style=\"padding-left: 1em; padding-right: 1em; text-align: center; vertical-align: top\">20080823287</td>\n",
       "        <td style=\"padding-left: 1em; padding-right: 1em; text-align: center; vertical-align: top\">1219165896</td>\n",
       "        <td style=\"padding-left: 1em; padding-right: 1em; text-align: center; vertical-align: top\">20080823287_1219165896</td>\n",
       "        <td style=\"padding-left: 1em; padding-right: 1em; text-align: center; vertical-align: top\">3.45155996762</td>\n",
       "    </tr>\n",
       "    <tr>\n",
       "        <td style=\"padding-left: 1em; padding-right: 1em; text-align: center; vertical-align: top\">20080820143</td>\n",
       "        <td style=\"padding-left: 1em; padding-right: 1em; text-align: center; vertical-align: top\">1219240117</td>\n",
       "        <td style=\"padding-left: 1em; padding-right: 1em; text-align: center; vertical-align: top\">20080820143_1219240117</td>\n",
       "        <td style=\"padding-left: 1em; padding-right: 1em; text-align: center; vertical-align: top\">0.619665599686</td>\n",
       "    </tr>\n",
       "    <tr>\n",
       "        <td style=\"padding-left: 1em; padding-right: 1em; text-align: center; vertical-align: top\">20080829250</td>\n",
       "        <td style=\"padding-left: 1em; padding-right: 1em; text-align: center; vertical-align: top\">1219153253</td>\n",
       "        <td style=\"padding-left: 1em; padding-right: 1em; text-align: center; vertical-align: top\">20080829250_1219153253</td>\n",
       "        <td style=\"padding-left: 1em; padding-right: 1em; text-align: center; vertical-align: top\">0.677053670657</td>\n",
       "    </tr>\n",
       "    <tr>\n",
       "        <td style=\"padding-left: 1em; padding-right: 1em; text-align: center; vertical-align: top\">20080824894</td>\n",
       "        <td style=\"padding-left: 1em; padding-right: 1em; text-align: center; vertical-align: top\">1219190978</td>\n",
       "        <td style=\"padding-left: 1em; padding-right: 1em; text-align: center; vertical-align: top\">20080824894_1219190978</td>\n",
       "        <td style=\"padding-left: 1em; padding-right: 1em; text-align: center; vertical-align: top\">2.70190291784</td>\n",
       "    </tr>\n",
       "    <tr>\n",
       "        <td style=\"padding-left: 1em; padding-right: 1em; text-align: center; vertical-align: top\">20080833994</td>\n",
       "        <td style=\"padding-left: 1em; padding-right: 1em; text-align: center; vertical-align: top\">1219251303</td>\n",
       "        <td style=\"padding-left: 1em; padding-right: 1em; text-align: center; vertical-align: top\">20080833994_1219251303</td>\n",
       "        <td style=\"padding-left: 1em; padding-right: 1em; text-align: center; vertical-align: top\">1.22651442073</td>\n",
       "    </tr>\n",
       "    <tr>\n",
       "        <td style=\"padding-left: 1em; padding-right: 1em; text-align: center; vertical-align: top\">20080820727</td>\n",
       "        <td style=\"padding-left: 1em; padding-right: 1em; text-align: center; vertical-align: top\">1219331743</td>\n",
       "        <td style=\"padding-left: 1em; padding-right: 1em; text-align: center; vertical-align: top\">20080820727_1219331743</td>\n",
       "        <td style=\"padding-left: 1em; padding-right: 1em; text-align: center; vertical-align: top\">1.18974230371</td>\n",
       "    </tr>\n",
       "</table>\n",
       "[10 rows x 4 columns]<br/>\n",
       "</div>"
      ],
      "text/plain": [
       "Columns:\n",
       "\tUser_ID\tint\n",
       "\tArticle_ID\tint\n",
       "\tID\tstr\n",
       "\tpred\tfloat\n",
       "\n",
       "Rows: 10\n",
       "\n",
       "Data:\n",
       "+-------------+------------+------------------------+----------------+\n",
       "|   User_ID   | Article_ID |           ID           |      pred      |\n",
       "+-------------+------------+------------------------+----------------+\n",
       "| 20080822161 | 1219173561 | 20080822161_1219173561 | 0.346893227917 |\n",
       "| 20080839116 | 1219217951 | 20080839116_1219217951 | 2.78350647472  |\n",
       "| 20080831336 | 1219224091 | 20080831336_1219224091 |   1.06299156   |\n",
       "| 20080820936 | 1219186943 | 20080820936_1219186943 |  1.6995905333  |\n",
       "| 20080823287 | 1219165896 | 20080823287_1219165896 | 3.45155996762  |\n",
       "| 20080820143 | 1219240117 | 20080820143_1219240117 | 0.619665599686 |\n",
       "| 20080829250 | 1219153253 | 20080829250_1219153253 | 0.677053670657 |\n",
       "| 20080824894 | 1219190978 | 20080824894_1219190978 | 2.70190291784  |\n",
       "| 20080833994 | 1219251303 | 20080833994_1219251303 | 1.22651442073  |\n",
       "| 20080820727 | 1219331743 | 20080820727_1219331743 | 1.18974230371  |\n",
       "+-------------+------------+------------------------+----------------+\n",
       "[10 rows x 4 columns]"
      ]
     },
     "execution_count": 14,
     "metadata": {},
     "output_type": "execute_result"
    }
   ],
   "source": [
    "test.head()"
   ]
  },
  {
   "cell_type": "code",
   "execution_count": 15,
   "metadata": {
    "collapsed": false
   },
   "outputs": [
    {
     "data": {
      "text/plain": [
       "(-1.7507753122814202, 7.616631753069142)"
      ]
     },
     "execution_count": 15,
     "metadata": {},
     "output_type": "execute_result"
    }
   ],
   "source": [
    "min(test['pred']), max(test['pred'])"
   ]
  },
  {
   "cell_type": "code",
   "execution_count": 16,
   "metadata": {
    "collapsed": false
   },
   "outputs": [
    {
     "data": {
      "text/plain": [
       "(0L, 6L)"
      ]
     },
     "execution_count": 16,
     "metadata": {},
     "output_type": "execute_result"
    }
   ],
   "source": [
    "min(train['Rating']), max(train['Rating'])"
   ]
  },
  {
   "cell_type": "code",
   "execution_count": 17,
   "metadata": {
    "collapsed": false
   },
   "outputs": [
    {
     "data": {
      "text/html": [
       "<pre>Recsys training: model = factorization_recommender</pre>"
      ],
      "text/plain": [
       "Recsys training: model = factorization_recommender"
      ]
     },
     "metadata": {},
     "output_type": "display_data"
    },
    {
     "data": {
      "text/html": [
       "<pre>Preparing data set.</pre>"
      ],
      "text/plain": [
       "Preparing data set."
      ]
     },
     "metadata": {},
     "output_type": "display_data"
    },
    {
     "data": {
      "text/html": [
       "<pre>    Data has 679051 observations with 73489 users and 214027 items.</pre>"
      ],
      "text/plain": [
       "    Data has 679051 observations with 73489 users and 214027 items."
      ]
     },
     "metadata": {},
     "output_type": "display_data"
    },
    {
     "data": {
      "text/html": [
       "<pre>    Data prepared in: 1.45063s</pre>"
      ],
      "text/plain": [
       "    Data prepared in: 1.45063s"
      ]
     },
     "metadata": {},
     "output_type": "display_data"
    },
    {
     "data": {
      "text/html": [
       "<pre>Training factorization_recommender for recommendations.</pre>"
      ],
      "text/plain": [
       "Training factorization_recommender for recommendations."
      ]
     },
     "metadata": {},
     "output_type": "display_data"
    },
    {
     "data": {
      "text/html": [
       "<pre>+--------------------------------+--------------------------------------------------+----------+</pre>"
      ],
      "text/plain": [
       "+--------------------------------+--------------------------------------------------+----------+"
      ]
     },
     "metadata": {},
     "output_type": "display_data"
    },
    {
     "data": {
      "text/html": [
       "<pre>| Parameter                      | Description                                      | Value    |</pre>"
      ],
      "text/plain": [
       "| Parameter                      | Description                                      | Value    |"
      ]
     },
     "metadata": {},
     "output_type": "display_data"
    },
    {
     "data": {
      "text/html": [
       "<pre>+--------------------------------+--------------------------------------------------+----------+</pre>"
      ],
      "text/plain": [
       "+--------------------------------+--------------------------------------------------+----------+"
      ]
     },
     "metadata": {},
     "output_type": "display_data"
    },
    {
     "data": {
      "text/html": [
       "<pre>| num_factors                    | Factor Dimension                                 | 8        |</pre>"
      ],
      "text/plain": [
       "| num_factors                    | Factor Dimension                                 | 8        |"
      ]
     },
     "metadata": {},
     "output_type": "display_data"
    },
    {
     "data": {
      "text/html": [
       "<pre>| regularization                 | L2 Regularization on Factors                     | 1e-008   |</pre>"
      ],
      "text/plain": [
       "| regularization                 | L2 Regularization on Factors                     | 1e-008   |"
      ]
     },
     "metadata": {},
     "output_type": "display_data"
    },
    {
     "data": {
      "text/html": [
       "<pre>| solver                         | Solver used for training                         | adagrad  |</pre>"
      ],
      "text/plain": [
       "| solver                         | Solver used for training                         | adagrad  |"
      ]
     },
     "metadata": {},
     "output_type": "display_data"
    },
    {
     "data": {
      "text/html": [
       "<pre>| linear_regularization          | L2 Regularization on Linear Coefficients         | 1e-010   |</pre>"
      ],
      "text/plain": [
       "| linear_regularization          | L2 Regularization on Linear Coefficients         | 1e-010   |"
      ]
     },
     "metadata": {},
     "output_type": "display_data"
    },
    {
     "data": {
      "text/html": [
       "<pre>| max_iterations                 | Maximum Number of Iterations                     | 50       |</pre>"
      ],
      "text/plain": [
       "| max_iterations                 | Maximum Number of Iterations                     | 50       |"
      ]
     },
     "metadata": {},
     "output_type": "display_data"
    },
    {
     "data": {
      "text/html": [
       "<pre>+--------------------------------+--------------------------------------------------+----------+</pre>"
      ],
      "text/plain": [
       "+--------------------------------+--------------------------------------------------+----------+"
      ]
     },
     "metadata": {},
     "output_type": "display_data"
    },
    {
     "data": {
      "text/html": [
       "<pre>  Optimizing model using SGD; tuning step size.</pre>"
      ],
      "text/plain": [
       "  Optimizing model using SGD; tuning step size."
      ]
     },
     "metadata": {},
     "output_type": "display_data"
    },
    {
     "data": {
      "text/html": [
       "<pre>  Using 84881 / 679051 points for tuning the step size.</pre>"
      ],
      "text/plain": [
       "  Using 84881 / 679051 points for tuning the step size."
      ]
     },
     "metadata": {},
     "output_type": "display_data"
    },
    {
     "data": {
      "text/html": [
       "<pre>+---------+-------------------+------------------------------------------+</pre>"
      ],
      "text/plain": [
       "+---------+-------------------+------------------------------------------+"
      ]
     },
     "metadata": {},
     "output_type": "display_data"
    },
    {
     "data": {
      "text/html": [
       "<pre>| Attempt | Initial Step Size | Estimated Objective Value                |</pre>"
      ],
      "text/plain": [
       "| Attempt | Initial Step Size | Estimated Objective Value                |"
      ]
     },
     "metadata": {},
     "output_type": "display_data"
    },
    {
     "data": {
      "text/html": [
       "<pre>+---------+-------------------+------------------------------------------+</pre>"
      ],
      "text/plain": [
       "+---------+-------------------+------------------------------------------+"
      ]
     },
     "metadata": {},
     "output_type": "display_data"
    },
    {
     "data": {
      "text/html": [
       "<pre>| 0       | 16.6667           | Not Viable                               |</pre>"
      ],
      "text/plain": [
       "| 0       | 16.6667           | Not Viable                               |"
      ]
     },
     "metadata": {},
     "output_type": "display_data"
    },
    {
     "data": {
      "text/html": [
       "<pre>| 1       | 4.16667           | Not Viable                               |</pre>"
      ],
      "text/plain": [
       "| 1       | 4.16667           | Not Viable                               |"
      ]
     },
     "metadata": {},
     "output_type": "display_data"
    },
    {
     "data": {
      "text/html": [
       "<pre>| 2       | 1.04167           | Not Viable                               |</pre>"
      ],
      "text/plain": [
       "| 2       | 1.04167           | Not Viable                               |"
      ]
     },
     "metadata": {},
     "output_type": "display_data"
    },
    {
     "data": {
      "text/html": [
       "<pre>| 3       | 0.260417          | 0.0486822                                |</pre>"
      ],
      "text/plain": [
       "| 3       | 0.260417          | 0.0486822                                |"
      ]
     },
     "metadata": {},
     "output_type": "display_data"
    },
    {
     "data": {
      "text/html": [
       "<pre>| 4       | 0.130208          | 0.00868983                               |</pre>"
      ],
      "text/plain": [
       "| 4       | 0.130208          | 0.00868983                               |"
      ]
     },
     "metadata": {},
     "output_type": "display_data"
    },
    {
     "data": {
      "text/html": [
       "<pre>| 5       | 0.0651042         | 0.311924                                 |</pre>"
      ],
      "text/plain": [
       "| 5       | 0.0651042         | 0.311924                                 |"
      ]
     },
     "metadata": {},
     "output_type": "display_data"
    },
    {
     "data": {
      "text/html": [
       "<pre>+---------+-------------------+------------------------------------------+</pre>"
      ],
      "text/plain": [
       "+---------+-------------------+------------------------------------------+"
      ]
     },
     "metadata": {},
     "output_type": "display_data"
    },
    {
     "data": {
      "text/html": [
       "<pre>| Final   | 0.130208          | 0.00868983                               |</pre>"
      ],
      "text/plain": [
       "| Final   | 0.130208          | 0.00868983                               |"
      ]
     },
     "metadata": {},
     "output_type": "display_data"
    },
    {
     "data": {
      "text/html": [
       "<pre>+---------+-------------------+------------------------------------------+</pre>"
      ],
      "text/plain": [
       "+---------+-------------------+------------------------------------------+"
      ]
     },
     "metadata": {},
     "output_type": "display_data"
    },
    {
     "data": {
      "text/html": [
       "<pre>Starting Optimization.</pre>"
      ],
      "text/plain": [
       "Starting Optimization."
      ]
     },
     "metadata": {},
     "output_type": "display_data"
    },
    {
     "data": {
      "text/html": [
       "<pre>+---------+--------------+-------------------+-----------------------+-------------+</pre>"
      ],
      "text/plain": [
       "+---------+--------------+-------------------+-----------------------+-------------+"
      ]
     },
     "metadata": {},
     "output_type": "display_data"
    },
    {
     "data": {
      "text/html": [
       "<pre>| Iter.   | Elapsed Time | Approx. Objective | Approx. Training RMSE | Step Size   |</pre>"
      ],
      "text/plain": [
       "| Iter.   | Elapsed Time | Approx. Objective | Approx. Training RMSE | Step Size   |"
      ]
     },
     "metadata": {},
     "output_type": "display_data"
    },
    {
     "data": {
      "text/html": [
       "<pre>+---------+--------------+-------------------+-----------------------+-------------+</pre>"
      ],
      "text/plain": [
       "+---------+--------------+-------------------+-----------------------+-------------+"
      ]
     },
     "metadata": {},
     "output_type": "display_data"
    },
    {
     "data": {
      "text/html": [
       "<pre>| Initial | 0us          | 4.19827           | 2.04897               |             |</pre>"
      ],
      "text/plain": [
       "| Initial | 0us          | 4.19827           | 2.04897               |             |"
      ]
     },
     "metadata": {},
     "output_type": "display_data"
    },
    {
     "data": {
      "text/html": [
       "<pre>+---------+--------------+-------------------+-----------------------+-------------+</pre>"
      ],
      "text/plain": [
       "+---------+--------------+-------------------+-----------------------+-------------+"
      ]
     },
     "metadata": {},
     "output_type": "display_data"
    },
    {
     "data": {
      "text/html": [
       "<pre>| 1       | 491.42ms     | 3.62727           | 1.90409               | 0.130208    |</pre>"
      ],
      "text/plain": [
       "| 1       | 491.42ms     | 3.62727           | 1.90409               | 0.130208    |"
      ]
     },
     "metadata": {},
     "output_type": "display_data"
    },
    {
     "data": {
      "text/html": [
       "<pre>| 2       | 882.033ms    | 1.54768           | 1.24295               | 0.130208    |</pre>"
      ],
      "text/plain": [
       "| 2       | 882.033ms    | 1.54768           | 1.24295               | 0.130208    |"
      ]
     },
     "metadata": {},
     "output_type": "display_data"
    },
    {
     "data": {
      "text/html": [
       "<pre>| 3       | 1.44s        | 0.453616          | 0.671165              | 0.130208    |</pre>"
      ],
      "text/plain": [
       "| 3       | 1.44s        | 0.453616          | 0.671165              | 0.130208    |"
      ]
     },
     "metadata": {},
     "output_type": "display_data"
    },
    {
     "data": {
      "text/html": [
       "<pre>| 4       | 1.86s        | 0.129112          | 0.354579              | 0.130208    |</pre>"
      ],
      "text/plain": [
       "| 4       | 1.86s        | 0.129112          | 0.354579              | 0.130208    |"
      ]
     },
     "metadata": {},
     "output_type": "display_data"
    },
    {
     "data": {
      "text/html": [
       "<pre>| 5       | 2.25s        | 0.0425913         | 0.197801              | 0.130208    |</pre>"
      ],
      "text/plain": [
       "| 5       | 2.25s        | 0.0425913         | 0.197801              | 0.130208    |"
      ]
     },
     "metadata": {},
     "output_type": "display_data"
    },
    {
     "data": {
      "text/html": [
       "<pre>| 6       | 2.58s        | 0.0183662         | 0.12187               | 0.130208    |</pre>"
      ],
      "text/plain": [
       "| 6       | 2.58s        | 0.0183662         | 0.12187               | 0.130208    |"
      ]
     },
     "metadata": {},
     "output_type": "display_data"
    },
    {
     "data": {
      "text/html": [
       "<pre>| 10      | 4.48s        | 0.00447371        | 0.0301536             | 0.130208    |</pre>"
      ],
      "text/plain": [
       "| 10      | 4.48s        | 0.00447371        | 0.0301536             | 0.130208    |"
      ]
     },
     "metadata": {},
     "output_type": "display_data"
    },
    {
     "data": {
      "text/html": [
       "<pre>| 11      | 4.81s        | 0.00408363        | 0.0227156             | 0.130208    |</pre>"
      ],
      "text/plain": [
       "| 11      | 4.81s        | 0.00408363        | 0.0227156             | 0.130208    |"
      ]
     },
     "metadata": {},
     "output_type": "display_data"
    },
    {
     "data": {
      "text/html": [
       "<pre>| 15      | 6.56s        | 0.00364458        | 0.00854908            | 0.130208    |</pre>"
      ],
      "text/plain": [
       "| 15      | 6.56s        | 0.00364458        | 0.00854908            | 0.130208    |"
      ]
     },
     "metadata": {},
     "output_type": "display_data"
    },
    {
     "data": {
      "text/html": [
       "<pre>| 20      | 8.91s        | 0.00358093        | 0.00346051            | 0.130208    |</pre>"
      ],
      "text/plain": [
       "| 20      | 8.91s        | 0.00358093        | 0.00346051            | 0.130208    |"
      ]
     },
     "metadata": {},
     "output_type": "display_data"
    },
    {
     "data": {
      "text/html": [
       "<pre>+---------+--------------+-------------------+-----------------------+-------------+</pre>"
      ],
      "text/plain": [
       "+---------+--------------+-------------------+-----------------------+-------------+"
      ]
     },
     "metadata": {},
     "output_type": "display_data"
    },
    {
     "data": {
      "text/html": [
       "<pre>Optimization Complete: Convergence on objective within bounds.</pre>"
      ],
      "text/plain": [
       "Optimization Complete: Convergence on objective within bounds."
      ]
     },
     "metadata": {},
     "output_type": "display_data"
    },
    {
     "data": {
      "text/html": [
       "<pre>Computing final objective value and training RMSE.</pre>"
      ],
      "text/plain": [
       "Computing final objective value and training RMSE."
      ]
     },
     "metadata": {},
     "output_type": "display_data"
    },
    {
     "data": {
      "text/html": [
       "<pre>       Final objective value: 0.00357301</pre>"
      ],
      "text/plain": [
       "       Final objective value: 0.00357301"
      ]
     },
     "metadata": {},
     "output_type": "display_data"
    },
    {
     "data": {
      "text/html": [
       "<pre>       Final training RMSE: 0.0025627</pre>"
      ],
      "text/plain": [
       "       Final training RMSE: 0.0025627"
      ]
     },
     "metadata": {},
     "output_type": "display_data"
    }
   ],
   "source": [
    "train2 = train\n",
    "train2['Rating'] = train2['Rating'] + 1\n",
    "m2 = gl.factorization_recommender.create(train2, user_id='User_ID', item_id='Article_ID',\n",
    "                                              target='Rating')"
   ]
  },
  {
   "cell_type": "code",
   "execution_count": 18,
   "metadata": {
    "collapsed": true
   },
   "outputs": [],
   "source": [
    "pairs_to_inspect2 = test\n",
    "scores2 = m2.predict(pairs_to_inspect2)"
   ]
  },
  {
   "cell_type": "code",
   "execution_count": 19,
   "metadata": {
    "collapsed": false
   },
   "outputs": [
    {
     "data": {
      "text/plain": [
       "(-0.9187212518632477, 8.825198895555728)"
      ]
     },
     "execution_count": 19,
     "metadata": {},
     "output_type": "execute_result"
    }
   ],
   "source": [
    "min(scores2), max(scores2)"
   ]
  },
  {
   "cell_type": "code",
   "execution_count": 20,
   "metadata": {
    "collapsed": false
   },
   "outputs": [
    {
     "data": {
      "text/html": [
       "<div style=\"max-height:1000px;max-width:1500px;overflow:auto;\"><table frame=\"box\" rules=\"cols\">\n",
       "    <tr>\n",
       "        <th style=\"padding-left: 1em; padding-right: 1em; text-align: center\">User_ID</th>\n",
       "        <th style=\"padding-left: 1em; padding-right: 1em; text-align: center\">Article_ID</th>\n",
       "        <th style=\"padding-left: 1em; padding-right: 1em; text-align: center\">ID</th>\n",
       "        <th style=\"padding-left: 1em; padding-right: 1em; text-align: center\">pred</th>\n",
       "        <th style=\"padding-left: 1em; padding-right: 1em; text-align: center\">Rating</th>\n",
       "    </tr>\n",
       "    <tr>\n",
       "        <td style=\"padding-left: 1em; padding-right: 1em; text-align: center; vertical-align: top\">20080822161</td>\n",
       "        <td style=\"padding-left: 1em; padding-right: 1em; text-align: center; vertical-align: top\">1219173561</td>\n",
       "        <td style=\"padding-left: 1em; padding-right: 1em; text-align: center; vertical-align: top\">20080822161_1219173561</td>\n",
       "        <td style=\"padding-left: 1em; padding-right: 1em; text-align: center; vertical-align: top\">0.346893227917</td>\n",
       "        <td style=\"padding-left: 1em; padding-right: 1em; text-align: center; vertical-align: top\">0.346893227917</td>\n",
       "    </tr>\n",
       "    <tr>\n",
       "        <td style=\"padding-left: 1em; padding-right: 1em; text-align: center; vertical-align: top\">20080839116</td>\n",
       "        <td style=\"padding-left: 1em; padding-right: 1em; text-align: center; vertical-align: top\">1219217951</td>\n",
       "        <td style=\"padding-left: 1em; padding-right: 1em; text-align: center; vertical-align: top\">20080839116_1219217951</td>\n",
       "        <td style=\"padding-left: 1em; padding-right: 1em; text-align: center; vertical-align: top\">2.78350647472</td>\n",
       "        <td style=\"padding-left: 1em; padding-right: 1em; text-align: center; vertical-align: top\">2.78350647472</td>\n",
       "    </tr>\n",
       "    <tr>\n",
       "        <td style=\"padding-left: 1em; padding-right: 1em; text-align: center; vertical-align: top\">20080831336</td>\n",
       "        <td style=\"padding-left: 1em; padding-right: 1em; text-align: center; vertical-align: top\">1219224091</td>\n",
       "        <td style=\"padding-left: 1em; padding-right: 1em; text-align: center; vertical-align: top\">20080831336_1219224091</td>\n",
       "        <td style=\"padding-left: 1em; padding-right: 1em; text-align: center; vertical-align: top\">1.06299156</td>\n",
       "        <td style=\"padding-left: 1em; padding-right: 1em; text-align: center; vertical-align: top\">1.06299156</td>\n",
       "    </tr>\n",
       "    <tr>\n",
       "        <td style=\"padding-left: 1em; padding-right: 1em; text-align: center; vertical-align: top\">20080820936</td>\n",
       "        <td style=\"padding-left: 1em; padding-right: 1em; text-align: center; vertical-align: top\">1219186943</td>\n",
       "        <td style=\"padding-left: 1em; padding-right: 1em; text-align: center; vertical-align: top\">20080820936_1219186943</td>\n",
       "        <td style=\"padding-left: 1em; padding-right: 1em; text-align: center; vertical-align: top\">1.6995905333</td>\n",
       "        <td style=\"padding-left: 1em; padding-right: 1em; text-align: center; vertical-align: top\">1.6995905333</td>\n",
       "    </tr>\n",
       "    <tr>\n",
       "        <td style=\"padding-left: 1em; padding-right: 1em; text-align: center; vertical-align: top\">20080823287</td>\n",
       "        <td style=\"padding-left: 1em; padding-right: 1em; text-align: center; vertical-align: top\">1219165896</td>\n",
       "        <td style=\"padding-left: 1em; padding-right: 1em; text-align: center; vertical-align: top\">20080823287_1219165896</td>\n",
       "        <td style=\"padding-left: 1em; padding-right: 1em; text-align: center; vertical-align: top\">3.45155996762</td>\n",
       "        <td style=\"padding-left: 1em; padding-right: 1em; text-align: center; vertical-align: top\">3.45155996762</td>\n",
       "    </tr>\n",
       "    <tr>\n",
       "        <td style=\"padding-left: 1em; padding-right: 1em; text-align: center; vertical-align: top\">20080820143</td>\n",
       "        <td style=\"padding-left: 1em; padding-right: 1em; text-align: center; vertical-align: top\">1219240117</td>\n",
       "        <td style=\"padding-left: 1em; padding-right: 1em; text-align: center; vertical-align: top\">20080820143_1219240117</td>\n",
       "        <td style=\"padding-left: 1em; padding-right: 1em; text-align: center; vertical-align: top\">0.619665599686</td>\n",
       "        <td style=\"padding-left: 1em; padding-right: 1em; text-align: center; vertical-align: top\">0.619665599686</td>\n",
       "    </tr>\n",
       "    <tr>\n",
       "        <td style=\"padding-left: 1em; padding-right: 1em; text-align: center; vertical-align: top\">20080829250</td>\n",
       "        <td style=\"padding-left: 1em; padding-right: 1em; text-align: center; vertical-align: top\">1219153253</td>\n",
       "        <td style=\"padding-left: 1em; padding-right: 1em; text-align: center; vertical-align: top\">20080829250_1219153253</td>\n",
       "        <td style=\"padding-left: 1em; padding-right: 1em; text-align: center; vertical-align: top\">0.677053670657</td>\n",
       "        <td style=\"padding-left: 1em; padding-right: 1em; text-align: center; vertical-align: top\">0.677053670657</td>\n",
       "    </tr>\n",
       "    <tr>\n",
       "        <td style=\"padding-left: 1em; padding-right: 1em; text-align: center; vertical-align: top\">20080824894</td>\n",
       "        <td style=\"padding-left: 1em; padding-right: 1em; text-align: center; vertical-align: top\">1219190978</td>\n",
       "        <td style=\"padding-left: 1em; padding-right: 1em; text-align: center; vertical-align: top\">20080824894_1219190978</td>\n",
       "        <td style=\"padding-left: 1em; padding-right: 1em; text-align: center; vertical-align: top\">2.70190291784</td>\n",
       "        <td style=\"padding-left: 1em; padding-right: 1em; text-align: center; vertical-align: top\">2.70190291784</td>\n",
       "    </tr>\n",
       "    <tr>\n",
       "        <td style=\"padding-left: 1em; padding-right: 1em; text-align: center; vertical-align: top\">20080833994</td>\n",
       "        <td style=\"padding-left: 1em; padding-right: 1em; text-align: center; vertical-align: top\">1219251303</td>\n",
       "        <td style=\"padding-left: 1em; padding-right: 1em; text-align: center; vertical-align: top\">20080833994_1219251303</td>\n",
       "        <td style=\"padding-left: 1em; padding-right: 1em; text-align: center; vertical-align: top\">1.22651442073</td>\n",
       "        <td style=\"padding-left: 1em; padding-right: 1em; text-align: center; vertical-align: top\">1.22651442073</td>\n",
       "    </tr>\n",
       "    <tr>\n",
       "        <td style=\"padding-left: 1em; padding-right: 1em; text-align: center; vertical-align: top\">20080820727</td>\n",
       "        <td style=\"padding-left: 1em; padding-right: 1em; text-align: center; vertical-align: top\">1219331743</td>\n",
       "        <td style=\"padding-left: 1em; padding-right: 1em; text-align: center; vertical-align: top\">20080820727_1219331743</td>\n",
       "        <td style=\"padding-left: 1em; padding-right: 1em; text-align: center; vertical-align: top\">1.18974230371</td>\n",
       "        <td style=\"padding-left: 1em; padding-right: 1em; text-align: center; vertical-align: top\">1.18974230371</td>\n",
       "    </tr>\n",
       "</table>\n",
       "[10 rows x 5 columns]<br/>\n",
       "</div>"
      ],
      "text/plain": [
       "Columns:\n",
       "\tUser_ID\tint\n",
       "\tArticle_ID\tint\n",
       "\tID\tstr\n",
       "\tpred\tfloat\n",
       "\tRating\tfloat\n",
       "\n",
       "Rows: 10\n",
       "\n",
       "Data:\n",
       "+-------------+------------+------------------------+----------------+\n",
       "|   User_ID   | Article_ID |           ID           |      pred      |\n",
       "+-------------+------------+------------------------+----------------+\n",
       "| 20080822161 | 1219173561 | 20080822161_1219173561 | 0.346893227917 |\n",
       "| 20080839116 | 1219217951 | 20080839116_1219217951 | 2.78350647472  |\n",
       "| 20080831336 | 1219224091 | 20080831336_1219224091 |   1.06299156   |\n",
       "| 20080820936 | 1219186943 | 20080820936_1219186943 |  1.6995905333  |\n",
       "| 20080823287 | 1219165896 | 20080823287_1219165896 | 3.45155996762  |\n",
       "| 20080820143 | 1219240117 | 20080820143_1219240117 | 0.619665599686 |\n",
       "| 20080829250 | 1219153253 | 20080829250_1219153253 | 0.677053670657 |\n",
       "| 20080824894 | 1219190978 | 20080824894_1219190978 | 2.70190291784  |\n",
       "| 20080833994 | 1219251303 | 20080833994_1219251303 | 1.22651442073  |\n",
       "| 20080820727 | 1219331743 | 20080820727_1219331743 | 1.18974230371  |\n",
       "+-------------+------------+------------------------+----------------+\n",
       "+----------------+\n",
       "|     Rating     |\n",
       "+----------------+\n",
       "| 0.346893227917 |\n",
       "| 2.78350647472  |\n",
       "|   1.06299156   |\n",
       "|  1.6995905333  |\n",
       "| 3.45155996762  |\n",
       "| 0.619665599686 |\n",
       "| 0.677053670657 |\n",
       "| 2.70190291784  |\n",
       "| 1.22651442073  |\n",
       "| 1.18974230371  |\n",
       "+----------------+\n",
       "[10 rows x 5 columns]"
      ]
     },
     "execution_count": 20,
     "metadata": {},
     "output_type": "execute_result"
    }
   ],
   "source": [
    "test['Rating'] = test['pred']\n",
    "test.head()"
   ]
  },
  {
   "cell_type": "code",
   "execution_count": 21,
   "metadata": {
    "collapsed": false
   },
   "outputs": [
    {
     "data": {
      "text/html": [
       "<div style=\"max-height:1000px;max-width:1500px;overflow:auto;\"><table frame=\"box\" rules=\"cols\">\n",
       "    <tr>\n",
       "        <th style=\"padding-left: 1em; padding-right: 1em; text-align: center\">ID</th>\n",
       "        <th style=\"padding-left: 1em; padding-right: 1em; text-align: center\">Rating</th>\n",
       "    </tr>\n",
       "    <tr>\n",
       "        <td style=\"padding-left: 1em; padding-right: 1em; text-align: center; vertical-align: top\">20080822161_1219173561</td>\n",
       "        <td style=\"padding-left: 1em; padding-right: 1em; text-align: center; vertical-align: top\">0.346893227917</td>\n",
       "    </tr>\n",
       "    <tr>\n",
       "        <td style=\"padding-left: 1em; padding-right: 1em; text-align: center; vertical-align: top\">20080839116_1219217951</td>\n",
       "        <td style=\"padding-left: 1em; padding-right: 1em; text-align: center; vertical-align: top\">2.78350647472</td>\n",
       "    </tr>\n",
       "    <tr>\n",
       "        <td style=\"padding-left: 1em; padding-right: 1em; text-align: center; vertical-align: top\">20080831336_1219224091</td>\n",
       "        <td style=\"padding-left: 1em; padding-right: 1em; text-align: center; vertical-align: top\">1.06299156</td>\n",
       "    </tr>\n",
       "    <tr>\n",
       "        <td style=\"padding-left: 1em; padding-right: 1em; text-align: center; vertical-align: top\">20080820936_1219186943</td>\n",
       "        <td style=\"padding-left: 1em; padding-right: 1em; text-align: center; vertical-align: top\">1.6995905333</td>\n",
       "    </tr>\n",
       "    <tr>\n",
       "        <td style=\"padding-left: 1em; padding-right: 1em; text-align: center; vertical-align: top\">20080823287_1219165896</td>\n",
       "        <td style=\"padding-left: 1em; padding-right: 1em; text-align: center; vertical-align: top\">3.45155996762</td>\n",
       "    </tr>\n",
       "    <tr>\n",
       "        <td style=\"padding-left: 1em; padding-right: 1em; text-align: center; vertical-align: top\">20080820143_1219240117</td>\n",
       "        <td style=\"padding-left: 1em; padding-right: 1em; text-align: center; vertical-align: top\">0.619665599686</td>\n",
       "    </tr>\n",
       "    <tr>\n",
       "        <td style=\"padding-left: 1em; padding-right: 1em; text-align: center; vertical-align: top\">20080829250_1219153253</td>\n",
       "        <td style=\"padding-left: 1em; padding-right: 1em; text-align: center; vertical-align: top\">0.677053670657</td>\n",
       "    </tr>\n",
       "    <tr>\n",
       "        <td style=\"padding-left: 1em; padding-right: 1em; text-align: center; vertical-align: top\">20080824894_1219190978</td>\n",
       "        <td style=\"padding-left: 1em; padding-right: 1em; text-align: center; vertical-align: top\">2.70190291784</td>\n",
       "    </tr>\n",
       "    <tr>\n",
       "        <td style=\"padding-left: 1em; padding-right: 1em; text-align: center; vertical-align: top\">20080833994_1219251303</td>\n",
       "        <td style=\"padding-left: 1em; padding-right: 1em; text-align: center; vertical-align: top\">1.22651442073</td>\n",
       "    </tr>\n",
       "    <tr>\n",
       "        <td style=\"padding-left: 1em; padding-right: 1em; text-align: center; vertical-align: top\">20080820727_1219331743</td>\n",
       "        <td style=\"padding-left: 1em; padding-right: 1em; text-align: center; vertical-align: top\">1.18974230371</td>\n",
       "    </tr>\n",
       "</table>\n",
       "[10 rows x 2 columns]<br/>\n",
       "</div>"
      ],
      "text/plain": [
       "Columns:\n",
       "\tID\tstr\n",
       "\tRating\tfloat\n",
       "\n",
       "Rows: 10\n",
       "\n",
       "Data:\n",
       "+------------------------+----------------+\n",
       "|           ID           |     Rating     |\n",
       "+------------------------+----------------+\n",
       "| 20080822161_1219173561 | 0.346893227917 |\n",
       "| 20080839116_1219217951 | 2.78350647472  |\n",
       "| 20080831336_1219224091 |   1.06299156   |\n",
       "| 20080820936_1219186943 |  1.6995905333  |\n",
       "| 20080823287_1219165896 | 3.45155996762  |\n",
       "| 20080820143_1219240117 | 0.619665599686 |\n",
       "| 20080829250_1219153253 | 0.677053670657 |\n",
       "| 20080824894_1219190978 | 2.70190291784  |\n",
       "| 20080833994_1219251303 | 1.22651442073  |\n",
       "| 20080820727_1219331743 | 1.18974230371  |\n",
       "+------------------------+----------------+\n",
       "[10 rows x 2 columns]"
      ]
     },
     "execution_count": 21,
     "metadata": {},
     "output_type": "execute_result"
    }
   ],
   "source": [
    "submit = test.select_columns(['ID', 'Rating'])\n",
    "submit.head()"
   ]
  },
  {
   "cell_type": "code",
   "execution_count": 22,
   "metadata": {
    "collapsed": true
   },
   "outputs": [],
   "source": [
    "submit.save('submit_gl_1.csv', format='csv')"
   ]
  },
  {
   "cell_type": "code",
   "execution_count": 24,
   "metadata": {
    "collapsed": true
   },
   "outputs": [],
   "source": [
    "submit['Rating'] = submit['Rating'].apply(lambda x : 0 if x < 0 else 6 if x > 6 else x)"
   ]
  },
  {
   "cell_type": "code",
   "execution_count": 25,
   "metadata": {
    "collapsed": false
   },
   "outputs": [
    {
     "data": {
      "text/plain": [
       "(0.0, 6.0)"
      ]
     },
     "execution_count": 25,
     "metadata": {},
     "output_type": "execute_result"
    }
   ],
   "source": [
    "min(submit['Rating']), max(submit['Rating'])"
   ]
  },
  {
   "cell_type": "code",
   "execution_count": 26,
   "metadata": {
    "collapsed": true
   },
   "outputs": [],
   "source": [
    "submit.save('submit_gl_2.csv', format='csv')"
   ]
  },
  {
   "cell_type": "code",
   "execution_count": null,
   "metadata": {
    "collapsed": true
   },
   "outputs": [],
   "source": []
  },
  {
   "cell_type": "code",
   "execution_count": 28,
   "metadata": {
    "collapsed": false
   },
   "outputs": [
    {
     "data": {
      "text/html": [
       "<pre>Finished parsing file C:\\Users\\Badics Judit\\AnalyticsVidhya\\5_QuickSolver_20170430\\article.csv</pre>"
      ],
      "text/plain": [
       "Finished parsing file C:\\Users\\Badics Judit\\AnalyticsVidhya\\5_QuickSolver_20170430\\article.csv"
      ]
     },
     "metadata": {},
     "output_type": "display_data"
    },
    {
     "data": {
      "text/html": [
       "<pre>Parsing completed. Parsed 100 lines in 0.132008 secs.</pre>"
      ],
      "text/plain": [
       "Parsing completed. Parsed 100 lines in 0.132008 secs."
      ]
     },
     "metadata": {},
     "output_type": "display_data"
    },
    {
     "name": "stdout",
     "output_type": "stream",
     "text": [
      "------------------------------------------------------\n",
      "Inferred types from first 100 line(s) of file as \n",
      "column_type_hints=[long,long,long,long]\n",
      "If parsing fails due to incorrect types, you can correct\n",
      "the inferred type list above and pass it to read_csv in\n",
      "the column_type_hints argument\n",
      "------------------------------------------------------\n"
     ]
    },
    {
     "data": {
      "text/html": [
       "<pre>Finished parsing file C:\\Users\\Badics Judit\\AnalyticsVidhya\\5_QuickSolver_20170430\\article.csv</pre>"
      ],
      "text/plain": [
       "Finished parsing file C:\\Users\\Badics Judit\\AnalyticsVidhya\\5_QuickSolver_20170430\\article.csv"
      ]
     },
     "metadata": {},
     "output_type": "display_data"
    },
    {
     "data": {
      "text/html": [
       "<pre>Parsing completed. Parsed 261758 lines in 0.143603 secs.</pre>"
      ],
      "text/plain": [
       "Parsing completed. Parsed 261758 lines in 0.143603 secs."
      ]
     },
     "metadata": {},
     "output_type": "display_data"
    },
    {
     "data": {
      "text/html": [
       "<pre>Finished parsing file C:\\Users\\Badics Judit\\AnalyticsVidhya\\5_QuickSolver_20170430\\user.csv</pre>"
      ],
      "text/plain": [
       "Finished parsing file C:\\Users\\Badics Judit\\AnalyticsVidhya\\5_QuickSolver_20170430\\user.csv"
      ]
     },
     "metadata": {},
     "output_type": "display_data"
    },
    {
     "data": {
      "text/html": [
       "<pre>Parsing completed. Parsed 100 lines in 0.086005 secs.</pre>"
      ],
      "text/plain": [
       "Parsing completed. Parsed 100 lines in 0.086005 secs."
      ]
     },
     "metadata": {},
     "output_type": "display_data"
    },
    {
     "name": "stdout",
     "output_type": "stream",
     "text": [
      "------------------------------------------------------\n",
      "Inferred types from first 100 line(s) of file as \n",
      "column_type_hints=[long,str,str]\n",
      "If parsing fails due to incorrect types, you can correct\n",
      "the inferred type list above and pass it to read_csv in\n",
      "the column_type_hints argument\n",
      "------------------------------------------------------\n"
     ]
    },
    {
     "data": {
      "text/html": [
       "<pre>Finished parsing file C:\\Users\\Badics Judit\\AnalyticsVidhya\\5_QuickSolver_20170430\\user.csv</pre>"
      ],
      "text/plain": [
       "Finished parsing file C:\\Users\\Badics Judit\\AnalyticsVidhya\\5_QuickSolver_20170430\\user.csv"
      ]
     },
     "metadata": {},
     "output_type": "display_data"
    },
    {
     "data": {
      "text/html": [
       "<pre>Parsing completed. Parsed 89502 lines in 0.087203 secs.</pre>"
      ],
      "text/plain": [
       "Parsing completed. Parsed 89502 lines in 0.087203 secs."
      ]
     },
     "metadata": {},
     "output_type": "display_data"
    },
    {
     "data": {
      "text/html": [
       "<div style=\"max-height:1000px;max-width:1500px;overflow:auto;\"><table frame=\"box\" rules=\"cols\">\n",
       "    <tr>\n",
       "        <th style=\"padding-left: 1em; padding-right: 1em; text-align: center\">Article_ID</th>\n",
       "        <th style=\"padding-left: 1em; padding-right: 1em; text-align: center\">VintageMonths</th>\n",
       "        <th style=\"padding-left: 1em; padding-right: 1em; text-align: center\">NumberOfArticlesBySameAut<br>hor ...</th>\n",
       "        <th style=\"padding-left: 1em; padding-right: 1em; text-align: center\">NumberOfArticlesinSameCat<br>egory ...</th>\n",
       "    </tr>\n",
       "    <tr>\n",
       "        <td style=\"padding-left: 1em; padding-right: 1em; text-align: center; vertical-align: top\">1219098423</td>\n",
       "        <td style=\"padding-left: 1em; padding-right: 1em; text-align: center; vertical-align: top\">10</td>\n",
       "        <td style=\"padding-left: 1em; padding-right: 1em; text-align: center; vertical-align: top\">3</td>\n",
       "        <td style=\"padding-left: 1em; padding-right: 1em; text-align: center; vertical-align: top\">503</td>\n",
       "    </tr>\n",
       "    <tr>\n",
       "        <td style=\"padding-left: 1em; padding-right: 1em; text-align: center; vertical-align: top\">1219098424</td>\n",
       "        <td style=\"padding-left: 1em; padding-right: 1em; text-align: center; vertical-align: top\">9</td>\n",
       "        <td style=\"padding-left: 1em; padding-right: 1em; text-align: center; vertical-align: top\">3</td>\n",
       "        <td style=\"padding-left: 1em; padding-right: 1em; text-align: center; vertical-align: top\">503</td>\n",
       "    </tr>\n",
       "    <tr>\n",
       "        <td style=\"padding-left: 1em; padding-right: 1em; text-align: center; vertical-align: top\">1219098425</td>\n",
       "        <td style=\"padding-left: 1em; padding-right: 1em; text-align: center; vertical-align: top\">10</td>\n",
       "        <td style=\"padding-left: 1em; padding-right: 1em; text-align: center; vertical-align: top\">46</td>\n",
       "        <td style=\"padding-left: 1em; padding-right: 1em; text-align: center; vertical-align: top\">503</td>\n",
       "    </tr>\n",
       "    <tr>\n",
       "        <td style=\"padding-left: 1em; padding-right: 1em; text-align: center; vertical-align: top\">1219098426</td>\n",
       "        <td style=\"padding-left: 1em; padding-right: 1em; text-align: center; vertical-align: top\">9</td>\n",
       "        <td style=\"padding-left: 1em; padding-right: 1em; text-align: center; vertical-align: top\">46</td>\n",
       "        <td style=\"padding-left: 1em; padding-right: 1em; text-align: center; vertical-align: top\">503</td>\n",
       "    </tr>\n",
       "    <tr>\n",
       "        <td style=\"padding-left: 1em; padding-right: 1em; text-align: center; vertical-align: top\">1219098427</td>\n",
       "        <td style=\"padding-left: 1em; padding-right: 1em; text-align: center; vertical-align: top\">9</td>\n",
       "        <td style=\"padding-left: 1em; padding-right: 1em; text-align: center; vertical-align: top\">38</td>\n",
       "        <td style=\"padding-left: 1em; padding-right: 1em; text-align: center; vertical-align: top\">503</td>\n",
       "    </tr>\n",
       "    <tr>\n",
       "        <td style=\"padding-left: 1em; padding-right: 1em; text-align: center; vertical-align: top\">1219098428</td>\n",
       "        <td style=\"padding-left: 1em; padding-right: 1em; text-align: center; vertical-align: top\">11</td>\n",
       "        <td style=\"padding-left: 1em; padding-right: 1em; text-align: center; vertical-align: top\">38</td>\n",
       "        <td style=\"padding-left: 1em; padding-right: 1em; text-align: center; vertical-align: top\">503</td>\n",
       "    </tr>\n",
       "    <tr>\n",
       "        <td style=\"padding-left: 1em; padding-right: 1em; text-align: center; vertical-align: top\">1219098429</td>\n",
       "        <td style=\"padding-left: 1em; padding-right: 1em; text-align: center; vertical-align: top\">11</td>\n",
       "        <td style=\"padding-left: 1em; padding-right: 1em; text-align: center; vertical-align: top\">38</td>\n",
       "        <td style=\"padding-left: 1em; padding-right: 1em; text-align: center; vertical-align: top\">503</td>\n",
       "    </tr>\n",
       "    <tr>\n",
       "        <td style=\"padding-left: 1em; padding-right: 1em; text-align: center; vertical-align: top\">1219098430</td>\n",
       "        <td style=\"padding-left: 1em; padding-right: 1em; text-align: center; vertical-align: top\">11</td>\n",
       "        <td style=\"padding-left: 1em; padding-right: 1em; text-align: center; vertical-align: top\">38</td>\n",
       "        <td style=\"padding-left: 1em; padding-right: 1em; text-align: center; vertical-align: top\">503</td>\n",
       "    </tr>\n",
       "    <tr>\n",
       "        <td style=\"padding-left: 1em; padding-right: 1em; text-align: center; vertical-align: top\">1219098431</td>\n",
       "        <td style=\"padding-left: 1em; padding-right: 1em; text-align: center; vertical-align: top\">14</td>\n",
       "        <td style=\"padding-left: 1em; padding-right: 1em; text-align: center; vertical-align: top\">38</td>\n",
       "        <td style=\"padding-left: 1em; padding-right: 1em; text-align: center; vertical-align: top\">503</td>\n",
       "    </tr>\n",
       "    <tr>\n",
       "        <td style=\"padding-left: 1em; padding-right: 1em; text-align: center; vertical-align: top\">1219098432</td>\n",
       "        <td style=\"padding-left: 1em; padding-right: 1em; text-align: center; vertical-align: top\">29</td>\n",
       "        <td style=\"padding-left: 1em; padding-right: 1em; text-align: center; vertical-align: top\">38</td>\n",
       "        <td style=\"padding-left: 1em; padding-right: 1em; text-align: center; vertical-align: top\">503</td>\n",
       "    </tr>\n",
       "</table>\n",
       "[10 rows x 4 columns]<br/>\n",
       "</div>"
      ],
      "text/plain": [
       "Columns:\n",
       "\tArticle_ID\tint\n",
       "\tVintageMonths\tint\n",
       "\tNumberOfArticlesBySameAuthor\tint\n",
       "\tNumberOfArticlesinSameCategory\tint\n",
       "\n",
       "Rows: 10\n",
       "\n",
       "Data:\n",
       "+------------+---------------+------------------------------+--------------------------------+\n",
       "| Article_ID | VintageMonths | NumberOfArticlesBySameAuthor | NumberOfArticlesinSameCategory |\n",
       "+------------+---------------+------------------------------+--------------------------------+\n",
       "| 1219098423 |       10      |              3               |              503               |\n",
       "| 1219098424 |       9       |              3               |              503               |\n",
       "| 1219098425 |       10      |              46              |              503               |\n",
       "| 1219098426 |       9       |              46              |              503               |\n",
       "| 1219098427 |       9       |              38              |              503               |\n",
       "| 1219098428 |       11      |              38              |              503               |\n",
       "| 1219098429 |       11      |              38              |              503               |\n",
       "| 1219098430 |       11      |              38              |              503               |\n",
       "| 1219098431 |       14      |              38              |              503               |\n",
       "| 1219098432 |       29      |              38              |              503               |\n",
       "+------------+---------------+------------------------------+--------------------------------+\n",
       "[10 rows x 4 columns]"
      ]
     },
     "execution_count": 28,
     "metadata": {},
     "output_type": "execute_result"
    }
   ],
   "source": [
    "article = gl.SFrame.read_csv('article.csv')\n",
    "user = gl.SFrame.read_csv('user.csv')\n",
    "article.head()"
   ]
  },
  {
   "cell_type": "code",
   "execution_count": 29,
   "metadata": {
    "collapsed": false
   },
   "outputs": [
    {
     "data": {
      "text/html": [
       "<div style=\"max-height:1000px;max-width:1500px;overflow:auto;\"><table frame=\"box\" rules=\"cols\">\n",
       "    <tr>\n",
       "        <th style=\"padding-left: 1em; padding-right: 1em; text-align: center\">User_ID</th>\n",
       "        <th style=\"padding-left: 1em; padding-right: 1em; text-align: center\">Var1</th>\n",
       "        <th style=\"padding-left: 1em; padding-right: 1em; text-align: center\">Age</th>\n",
       "    </tr>\n",
       "    <tr>\n",
       "        <td style=\"padding-left: 1em; padding-right: 1em; text-align: center; vertical-align: top\">20080820123</td>\n",
       "        <td style=\"padding-left: 1em; padding-right: 1em; text-align: center; vertical-align: top\">A</td>\n",
       "        <td style=\"padding-left: 1em; padding-right: 1em; text-align: center; vertical-align: top\"></td>\n",
       "    </tr>\n",
       "    <tr>\n",
       "        <td style=\"padding-left: 1em; padding-right: 1em; text-align: center; vertical-align: top\">20080820124</td>\n",
       "        <td style=\"padding-left: 1em; padding-right: 1em; text-align: center; vertical-align: top\">A</td>\n",
       "        <td style=\"padding-left: 1em; padding-right: 1em; text-align: center; vertical-align: top\">20-30</td>\n",
       "    </tr>\n",
       "    <tr>\n",
       "        <td style=\"padding-left: 1em; padding-right: 1em; text-align: center; vertical-align: top\">20080820125</td>\n",
       "        <td style=\"padding-left: 1em; padding-right: 1em; text-align: center; vertical-align: top\">A</td>\n",
       "        <td style=\"padding-left: 1em; padding-right: 1em; text-align: center; vertical-align: top\">30-40</td>\n",
       "    </tr>\n",
       "    <tr>\n",
       "        <td style=\"padding-left: 1em; padding-right: 1em; text-align: center; vertical-align: top\">20080820126</td>\n",
       "        <td style=\"padding-left: 1em; padding-right: 1em; text-align: center; vertical-align: top\">A</td>\n",
       "        <td style=\"padding-left: 1em; padding-right: 1em; text-align: center; vertical-align: top\">Less tha 15</td>\n",
       "    </tr>\n",
       "    <tr>\n",
       "        <td style=\"padding-left: 1em; padding-right: 1em; text-align: center; vertical-align: top\">20080820127</td>\n",
       "        <td style=\"padding-left: 1em; padding-right: 1em; text-align: center; vertical-align: top\">A</td>\n",
       "        <td style=\"padding-left: 1em; padding-right: 1em; text-align: center; vertical-align: top\"></td>\n",
       "    </tr>\n",
       "    <tr>\n",
       "        <td style=\"padding-left: 1em; padding-right: 1em; text-align: center; vertical-align: top\">20080820128</td>\n",
       "        <td style=\"padding-left: 1em; padding-right: 1em; text-align: center; vertical-align: top\">A</td>\n",
       "        <td style=\"padding-left: 1em; padding-right: 1em; text-align: center; vertical-align: top\">40-50</td>\n",
       "    </tr>\n",
       "    <tr>\n",
       "        <td style=\"padding-left: 1em; padding-right: 1em; text-align: center; vertical-align: top\">20080820129</td>\n",
       "        <td style=\"padding-left: 1em; padding-right: 1em; text-align: center; vertical-align: top\">A</td>\n",
       "        <td style=\"padding-left: 1em; padding-right: 1em; text-align: center; vertical-align: top\"></td>\n",
       "    </tr>\n",
       "    <tr>\n",
       "        <td style=\"padding-left: 1em; padding-right: 1em; text-align: center; vertical-align: top\">20080820130</td>\n",
       "        <td style=\"padding-left: 1em; padding-right: 1em; text-align: center; vertical-align: top\">A</td>\n",
       "        <td style=\"padding-left: 1em; padding-right: 1em; text-align: center; vertical-align: top\">20-30</td>\n",
       "    </tr>\n",
       "    <tr>\n",
       "        <td style=\"padding-left: 1em; padding-right: 1em; text-align: center; vertical-align: top\">20080820131</td>\n",
       "        <td style=\"padding-left: 1em; padding-right: 1em; text-align: center; vertical-align: top\">None</td>\n",
       "        <td style=\"padding-left: 1em; padding-right: 1em; text-align: center; vertical-align: top\"></td>\n",
       "    </tr>\n",
       "    <tr>\n",
       "        <td style=\"padding-left: 1em; padding-right: 1em; text-align: center; vertical-align: top\">20080820132</td>\n",
       "        <td style=\"padding-left: 1em; padding-right: 1em; text-align: center; vertical-align: top\">A</td>\n",
       "        <td style=\"padding-left: 1em; padding-right: 1em; text-align: center; vertical-align: top\"></td>\n",
       "    </tr>\n",
       "</table>\n",
       "[10 rows x 3 columns]<br/>\n",
       "</div>"
      ],
      "text/plain": [
       "Columns:\n",
       "\tUser_ID\tint\n",
       "\tVar1\tstr\n",
       "\tAge\tstr\n",
       "\n",
       "Rows: 10\n",
       "\n",
       "Data:\n",
       "+-------------+------+-------------+\n",
       "|   User_ID   | Var1 |     Age     |\n",
       "+-------------+------+-------------+\n",
       "| 20080820123 |  A   |             |\n",
       "| 20080820124 |  A   |    20-30    |\n",
       "| 20080820125 |  A   |    30-40    |\n",
       "| 20080820126 |  A   | Less tha 15 |\n",
       "| 20080820127 |  A   |             |\n",
       "| 20080820128 |  A   |    40-50    |\n",
       "| 20080820129 |  A   |             |\n",
       "| 20080820130 |  A   |    20-30    |\n",
       "| 20080820131 | None |             |\n",
       "| 20080820132 |  A   |             |\n",
       "+-------------+------+-------------+\n",
       "[10 rows x 3 columns]"
      ]
     },
     "execution_count": 29,
     "metadata": {},
     "output_type": "execute_result"
    }
   ],
   "source": [
    "user.head()"
   ]
  },
  {
   "cell_type": "code",
   "execution_count": 30,
   "metadata": {
    "collapsed": false
   },
   "outputs": [
    {
     "data": {
      "text/plain": [
       "dtype: str\n",
       "Rows: 9\n",
       "['Less tha 15', '40-50', '50-60', '', '15-20', '20-30', '60-70', '30-40', 'More than 70']"
      ]
     },
     "execution_count": 30,
     "metadata": {},
     "output_type": "execute_result"
    }
   ],
   "source": [
    "user['Age'].unique()"
   ]
  },
  {
   "cell_type": "code",
   "execution_count": 31,
   "metadata": {
    "collapsed": false
   },
   "outputs": [
    {
     "data": {
      "text/html": [
       "<pre>Recsys training: model = factorization_recommender</pre>"
      ],
      "text/plain": [
       "Recsys training: model = factorization_recommender"
      ]
     },
     "metadata": {},
     "output_type": "display_data"
    },
    {
     "data": {
      "text/html": [
       "<pre>Preparing data set.</pre>"
      ],
      "text/plain": [
       "Preparing data set."
      ]
     },
     "metadata": {},
     "output_type": "display_data"
    },
    {
     "name": "stderr",
     "output_type": "stream",
     "text": [
      "[ERROR] graphlab.toolkits._main: Toolkit error: Missing value (None) encountered in column 'VintageMonths'. Use the SFrame's dropna function to drop rows with 'None' values in them.\n"
     ]
    },
    {
     "ename": "ToolkitError",
     "evalue": "Missing value (None) encountered in column 'VintageMonths'. Use the SFrame's dropna function to drop rows with 'None' values in them.",
     "output_type": "error",
     "traceback": [
      "\u001b[1;31m---------------------------------------------------------------------------\u001b[0m",
      "\u001b[1;31mToolkitError\u001b[0m                              Traceback (most recent call last)",
      "\u001b[1;32m<ipython-input-31-bcbb6a907c25>\u001b[0m in \u001b[0;36m<module>\u001b[1;34m()\u001b[0m\n\u001b[0;32m      1\u001b[0m m3 = gl.factorization_recommender.create(train, user_id='User_ID', item_id='Article_ID', \n\u001b[1;32m----> 2\u001b[1;33m                                          target='Rating', user_data = user, item_data = article)\n\u001b[0m",
      "\u001b[1;32mC:\\Users\\Badics Judit\\AppData\\Local\\conda\\conda\\envs\\py27\\lib\\site-packages\\graphlab\\toolkits\\recommender\\factorization_recommender.pyc\u001b[0m in \u001b[0;36mcreate\u001b[1;34m(observation_data, user_id, item_id, target, user_data, item_data, num_factors, regularization, linear_regularization, side_data_factorization, nmf, binary_target, max_iterations, sgd_step_size, random_seed, solver, verbose, **kwargs)\u001b[0m\n\u001b[0;32m    230\u001b[0m         \u001b[0mopts\u001b[0m\u001b[1;33m.\u001b[0m\u001b[0mupdate\u001b[0m\u001b[1;33m(\u001b[0m\u001b[0mkwargs\u001b[0m\u001b[1;33m)\u001b[0m\u001b[1;33m\u001b[0m\u001b[0m\n\u001b[0;32m    231\u001b[0m \u001b[1;33m\u001b[0m\u001b[0m\n\u001b[1;32m--> 232\u001b[1;33m     \u001b[0mresponse\u001b[0m \u001b[1;33m=\u001b[0m \u001b[0m_graphlab\u001b[0m\u001b[1;33m.\u001b[0m\u001b[0mtoolkits\u001b[0m\u001b[1;33m.\u001b[0m\u001b[0m_main\u001b[0m\u001b[1;33m.\u001b[0m\u001b[0mrun\u001b[0m\u001b[1;33m(\u001b[0m\u001b[1;34m'recsys_train'\u001b[0m\u001b[1;33m,\u001b[0m \u001b[0mopts\u001b[0m\u001b[1;33m,\u001b[0m \u001b[0mverbose\u001b[0m\u001b[1;33m)\u001b[0m\u001b[1;33m\u001b[0m\u001b[0m\n\u001b[0m\u001b[0;32m    233\u001b[0m \u001b[1;33m\u001b[0m\u001b[0m\n\u001b[0;32m    234\u001b[0m     \u001b[1;32mreturn\u001b[0m \u001b[0mFactorizationRecommender\u001b[0m\u001b[1;33m(\u001b[0m\u001b[0mresponse\u001b[0m\u001b[1;33m[\u001b[0m\u001b[1;34m'model'\u001b[0m\u001b[1;33m]\u001b[0m\u001b[1;33m)\u001b[0m\u001b[1;33m\u001b[0m\u001b[0m\n",
      "\u001b[1;32mC:\\Users\\Badics Judit\\AppData\\Local\\conda\\conda\\envs\\py27\\lib\\site-packages\\graphlab\\toolkits\\_main.pyc\u001b[0m in \u001b[0;36mrun\u001b[1;34m(toolkit_name, options, verbose, show_progress)\u001b[0m\n\u001b[0;32m     87\u001b[0m         \u001b[0m_get_metric_tracker\u001b[0m\u001b[1;33m(\u001b[0m\u001b[1;33m)\u001b[0m\u001b[1;33m.\u001b[0m\u001b[0mtrack\u001b[0m\u001b[1;33m(\u001b[0m\u001b[0mmetric_name\u001b[0m\u001b[1;33m,\u001b[0m \u001b[0mvalue\u001b[0m\u001b[1;33m=\u001b[0m\u001b[1;36m1\u001b[0m\u001b[1;33m,\u001b[0m \u001b[0mproperties\u001b[0m\u001b[1;33m=\u001b[0m\u001b[0mtrack_props\u001b[0m\u001b[1;33m,\u001b[0m \u001b[0msend_sys_info\u001b[0m\u001b[1;33m=\u001b[0m\u001b[0mFalse\u001b[0m\u001b[1;33m)\u001b[0m\u001b[1;33m\u001b[0m\u001b[0m\n\u001b[0;32m     88\u001b[0m \u001b[1;33m\u001b[0m\u001b[0m\n\u001b[1;32m---> 89\u001b[1;33m         \u001b[1;32mraise\u001b[0m \u001b[0mToolkitError\u001b[0m\u001b[1;33m(\u001b[0m\u001b[0mstr\u001b[0m\u001b[1;33m(\u001b[0m\u001b[0mmessage\u001b[0m\u001b[1;33m)\u001b[0m\u001b[1;33m)\u001b[0m\u001b[1;33m\u001b[0m\u001b[0m\n\u001b[0m",
      "\u001b[1;31mToolkitError\u001b[0m: Missing value (None) encountered in column 'VintageMonths'. Use the SFrame's dropna function to drop rows with 'None' values in them."
     ]
    }
   ],
   "source": [
    "m3 = gl.factorization_recommender.create(train, user_id='User_ID', item_id='Article_ID', \n",
    "                                         target='Rating', user_data = user, item_data = article)"
   ]
  },
  {
   "cell_type": "code",
   "execution_count": 32,
   "metadata": {
    "collapsed": false
   },
   "outputs": [
    {
     "data": {
      "text/plain": [
       "(None, 82L)"
      ]
     },
     "execution_count": 32,
     "metadata": {},
     "output_type": "execute_result"
    }
   ],
   "source": [
    "min(article['VintageMonths']), max(article['VintageMonths'])"
   ]
  },
  {
   "cell_type": "code",
   "execution_count": 33,
   "metadata": {
    "collapsed": true
   },
   "outputs": [],
   "source": [
    "article = article.fillna('VintageMonths', -1)"
   ]
  },
  {
   "cell_type": "code",
   "execution_count": 34,
   "metadata": {
    "collapsed": false
   },
   "outputs": [
    {
     "data": {
      "text/plain": [
       "(-1L, 82L)"
      ]
     },
     "execution_count": 34,
     "metadata": {},
     "output_type": "execute_result"
    }
   ],
   "source": [
    "min(article['VintageMonths']), max(article['VintageMonths'])"
   ]
  },
  {
   "cell_type": "code",
   "execution_count": 35,
   "metadata": {
    "collapsed": false
   },
   "outputs": [
    {
     "data": {
      "text/html": [
       "<pre>Recsys training: model = factorization_recommender</pre>"
      ],
      "text/plain": [
       "Recsys training: model = factorization_recommender"
      ]
     },
     "metadata": {},
     "output_type": "display_data"
    },
    {
     "data": {
      "text/html": [
       "<pre>Preparing data set.</pre>"
      ],
      "text/plain": [
       "Preparing data set."
      ]
     },
     "metadata": {},
     "output_type": "display_data"
    },
    {
     "data": {
      "text/html": [
       "<pre>    Data has 679051 observations with 89502 users and 261758 items.</pre>"
      ],
      "text/plain": [
       "    Data has 679051 observations with 89502 users and 261758 items."
      ]
     },
     "metadata": {},
     "output_type": "display_data"
    },
    {
     "data": {
      "text/html": [
       "<pre>    Data prepared in: 1.32744s</pre>"
      ],
      "text/plain": [
       "    Data prepared in: 1.32744s"
      ]
     },
     "metadata": {},
     "output_type": "display_data"
    },
    {
     "data": {
      "text/html": [
       "<pre>Training factorization_recommender for recommendations.</pre>"
      ],
      "text/plain": [
       "Training factorization_recommender for recommendations."
      ]
     },
     "metadata": {},
     "output_type": "display_data"
    },
    {
     "data": {
      "text/html": [
       "<pre>+--------------------------------+--------------------------------------------------+----------+</pre>"
      ],
      "text/plain": [
       "+--------------------------------+--------------------------------------------------+----------+"
      ]
     },
     "metadata": {},
     "output_type": "display_data"
    },
    {
     "data": {
      "text/html": [
       "<pre>| Parameter                      | Description                                      | Value    |</pre>"
      ],
      "text/plain": [
       "| Parameter                      | Description                                      | Value    |"
      ]
     },
     "metadata": {},
     "output_type": "display_data"
    },
    {
     "data": {
      "text/html": [
       "<pre>+--------------------------------+--------------------------------------------------+----------+</pre>"
      ],
      "text/plain": [
       "+--------------------------------+--------------------------------------------------+----------+"
      ]
     },
     "metadata": {},
     "output_type": "display_data"
    },
    {
     "data": {
      "text/html": [
       "<pre>| num_factors                    | Factor Dimension                                 | 8        |</pre>"
      ],
      "text/plain": [
       "| num_factors                    | Factor Dimension                                 | 8        |"
      ]
     },
     "metadata": {},
     "output_type": "display_data"
    },
    {
     "data": {
      "text/html": [
       "<pre>| regularization                 | L2 Regularization on Factors                     | 1e-008   |</pre>"
      ],
      "text/plain": [
       "| regularization                 | L2 Regularization on Factors                     | 1e-008   |"
      ]
     },
     "metadata": {},
     "output_type": "display_data"
    },
    {
     "data": {
      "text/html": [
       "<pre>| solver                         | Solver used for training                         | adagrad  |</pre>"
      ],
      "text/plain": [
       "| solver                         | Solver used for training                         | adagrad  |"
      ]
     },
     "metadata": {},
     "output_type": "display_data"
    },
    {
     "data": {
      "text/html": [
       "<pre>| linear_regularization          | L2 Regularization on Linear Coefficients         | 1e-010   |</pre>"
      ],
      "text/plain": [
       "| linear_regularization          | L2 Regularization on Linear Coefficients         | 1e-010   |"
      ]
     },
     "metadata": {},
     "output_type": "display_data"
    },
    {
     "data": {
      "text/html": [
       "<pre>| side_data_factorization        | Assign Factors for Side Data                     | True     |</pre>"
      ],
      "text/plain": [
       "| side_data_factorization        | Assign Factors for Side Data                     | True     |"
      ]
     },
     "metadata": {},
     "output_type": "display_data"
    },
    {
     "data": {
      "text/html": [
       "<pre>| max_iterations                 | Maximum Number of Iterations                     | 50       |</pre>"
      ],
      "text/plain": [
       "| max_iterations                 | Maximum Number of Iterations                     | 50       |"
      ]
     },
     "metadata": {},
     "output_type": "display_data"
    },
    {
     "data": {
      "text/html": [
       "<pre>+--------------------------------+--------------------------------------------------+----------+</pre>"
      ],
      "text/plain": [
       "+--------------------------------+--------------------------------------------------+----------+"
      ]
     },
     "metadata": {},
     "output_type": "display_data"
    },
    {
     "data": {
      "text/html": [
       "<pre>  Optimizing model using SGD; tuning step size.</pre>"
      ],
      "text/plain": [
       "  Optimizing model using SGD; tuning step size."
      ]
     },
     "metadata": {},
     "output_type": "display_data"
    },
    {
     "data": {
      "text/html": [
       "<pre>  Using 84881 / 679051 points for tuning the step size.</pre>"
      ],
      "text/plain": [
       "  Using 84881 / 679051 points for tuning the step size."
      ]
     },
     "metadata": {},
     "output_type": "display_data"
    },
    {
     "data": {
      "text/html": [
       "<pre>+---------+-------------------+------------------------------------------+</pre>"
      ],
      "text/plain": [
       "+---------+-------------------+------------------------------------------+"
      ]
     },
     "metadata": {},
     "output_type": "display_data"
    },
    {
     "data": {
      "text/html": [
       "<pre>| Attempt | Initial Step Size | Estimated Objective Value                |</pre>"
      ],
      "text/plain": [
       "| Attempt | Initial Step Size | Estimated Objective Value                |"
      ]
     },
     "metadata": {},
     "output_type": "display_data"
    },
    {
     "data": {
      "text/html": [
       "<pre>+---------+-------------------+------------------------------------------+</pre>"
      ],
      "text/plain": [
       "+---------+-------------------+------------------------------------------+"
      ]
     },
     "metadata": {},
     "output_type": "display_data"
    },
    {
     "data": {
      "text/html": [
       "<pre>| 0       | 6.25              | Not Viable                               |</pre>"
      ],
      "text/plain": [
       "| 0       | 6.25              | Not Viable                               |"
      ]
     },
     "metadata": {},
     "output_type": "display_data"
    },
    {
     "data": {
      "text/html": [
       "<pre>| 1       | 1.5625            | Not Viable                               |</pre>"
      ],
      "text/plain": [
       "| 1       | 1.5625            | Not Viable                               |"
      ]
     },
     "metadata": {},
     "output_type": "display_data"
    },
    {
     "data": {
      "text/html": [
       "<pre>| 2       | 0.390625          | Not Viable                               |</pre>"
      ],
      "text/plain": [
       "| 2       | 0.390625          | Not Viable                               |"
      ]
     },
     "metadata": {},
     "output_type": "display_data"
    },
    {
     "data": {
      "text/html": [
       "<pre>| 3       | 0.0976562         | 0.399611                                 |</pre>"
      ],
      "text/plain": [
       "| 3       | 0.0976562         | 0.399611                                 |"
      ]
     },
     "metadata": {},
     "output_type": "display_data"
    },
    {
     "data": {
      "text/html": [
       "<pre>| 4       | 0.0488281         | 3.12595                                  |</pre>"
      ],
      "text/plain": [
       "| 4       | 0.0488281         | 3.12595                                  |"
      ]
     },
     "metadata": {},
     "output_type": "display_data"
    },
    {
     "data": {
      "text/html": [
       "<pre>+---------+-------------------+------------------------------------------+</pre>"
      ],
      "text/plain": [
       "+---------+-------------------+------------------------------------------+"
      ]
     },
     "metadata": {},
     "output_type": "display_data"
    },
    {
     "data": {
      "text/html": [
       "<pre>| Final   | 0.0976562         | 0.399611                                 |</pre>"
      ],
      "text/plain": [
       "| Final   | 0.0976562         | 0.399611                                 |"
      ]
     },
     "metadata": {},
     "output_type": "display_data"
    },
    {
     "data": {
      "text/html": [
       "<pre>+---------+-------------------+------------------------------------------+</pre>"
      ],
      "text/plain": [
       "+---------+-------------------+------------------------------------------+"
      ]
     },
     "metadata": {},
     "output_type": "display_data"
    },
    {
     "data": {
      "text/html": [
       "<pre>Starting Optimization.</pre>"
      ],
      "text/plain": [
       "Starting Optimization."
      ]
     },
     "metadata": {},
     "output_type": "display_data"
    },
    {
     "data": {
      "text/html": [
       "<pre>+---------+--------------+-------------------+-----------------------+-------------+</pre>"
      ],
      "text/plain": [
       "+---------+--------------+-------------------+-----------------------+-------------+"
      ]
     },
     "metadata": {},
     "output_type": "display_data"
    },
    {
     "data": {
      "text/html": [
       "<pre>| Iter.   | Elapsed Time | Approx. Objective | Approx. Training RMSE | Step Size   |</pre>"
      ],
      "text/plain": [
       "| Iter.   | Elapsed Time | Approx. Objective | Approx. Training RMSE | Step Size   |"
      ]
     },
     "metadata": {},
     "output_type": "display_data"
    },
    {
     "data": {
      "text/html": [
       "<pre>+---------+--------------+-------------------+-----------------------+-------------+</pre>"
      ],
      "text/plain": [
       "+---------+--------------+-------------------+-----------------------+-------------+"
      ]
     },
     "metadata": {},
     "output_type": "display_data"
    },
    {
     "data": {
      "text/html": [
       "<pre>| Initial | 0us          | 4.1982            | 2.04895               |             |</pre>"
      ],
      "text/plain": [
       "| Initial | 0us          | 4.1982            | 2.04895               |             |"
      ]
     },
     "metadata": {},
     "output_type": "display_data"
    },
    {
     "data": {
      "text/html": [
       "<pre>+---------+--------------+-------------------+-----------------------+-------------+</pre>"
      ],
      "text/plain": [
       "+---------+--------------+-------------------+-----------------------+-------------+"
      ]
     },
     "metadata": {},
     "output_type": "display_data"
    },
    {
     "data": {
      "text/html": [
       "<pre>| 1       | 588.219ms    | 3.7587            | 1.93849               | 0.0976562   |</pre>"
      ],
      "text/plain": [
       "| 1       | 588.219ms    | 3.7587            | 1.93849               | 0.0976562   |"
      ]
     },
     "metadata": {},
     "output_type": "display_data"
    },
    {
     "data": {
      "text/html": [
       "<pre>| 2       | 1.10s        | 1.91912           | 1.3849                | 0.0976562   |</pre>"
      ],
      "text/plain": [
       "| 2       | 1.10s        | 1.91912           | 1.3849                | 0.0976562   |"
      ]
     },
     "metadata": {},
     "output_type": "display_data"
    },
    {
     "data": {
      "text/html": [
       "<pre>| 3       | 1.76s        | 0.988584          | 0.993621              | 0.0976562   |</pre>"
      ],
      "text/plain": [
       "| 3       | 1.76s        | 0.988584          | 0.993621              | 0.0976562   |"
      ]
     },
     "metadata": {},
     "output_type": "display_data"
    },
    {
     "data": {
      "text/html": [
       "<pre>| 4       | 2.41s        | 0.613641          | 0.782502              | 0.0976562   |</pre>"
      ],
      "text/plain": [
       "| 4       | 2.41s        | 0.613641          | 0.782502              | 0.0976562   |"
      ]
     },
     "metadata": {},
     "output_type": "display_data"
    },
    {
     "data": {
      "text/html": [
       "<pre>| 5       | 2.93s        | 0.378723          | 0.614303              | 0.0976562   |</pre>"
      ],
      "text/plain": [
       "| 5       | 2.93s        | 0.378723          | 0.614303              | 0.0976562   |"
      ]
     },
     "metadata": {},
     "output_type": "display_data"
    },
    {
     "data": {
      "text/html": [
       "<pre>| 6       | 3.51s        | 0.169969          | 0.410603              | 0.0976562   |</pre>"
      ],
      "text/plain": [
       "| 6       | 3.51s        | 0.169969          | 0.410603              | 0.0976562   |"
      ]
     },
     "metadata": {},
     "output_type": "display_data"
    },
    {
     "data": {
      "text/html": [
       "<pre>| 10      | 5.61s        | 0.0156326         | 0.119337              | 0.0976562   |</pre>"
      ],
      "text/plain": [
       "| 10      | 5.61s        | 0.0156326         | 0.119337              | 0.0976562   |"
      ]
     },
     "metadata": {},
     "output_type": "display_data"
    },
    {
     "data": {
      "text/html": [
       "<pre>| 11      | 6.14s        | 0.0143801         | 0.11397               | 0.0976562   |</pre>"
      ],
      "text/plain": [
       "| 11      | 6.14s        | 0.0143801         | 0.11397               | 0.0976562   |"
      ]
     },
     "metadata": {},
     "output_type": "display_data"
    },
    {
     "data": {
      "text/html": [
       "<pre>| 15      | 8.69s        | 0.0233015         | 0.148021              | 0.0976562   |</pre>"
      ],
      "text/plain": [
       "| 15      | 8.69s        | 0.0233015         | 0.148021              | 0.0976562   |"
      ]
     },
     "metadata": {},
     "output_type": "display_data"
    },
    {
     "data": {
      "text/html": [
       "<pre>| 20      | 11.77s       | 0.0925981         | 0.301979              | 0.0976562   |</pre>"
      ],
      "text/plain": [
       "| 20      | 11.77s       | 0.0925981         | 0.301979              | 0.0976562   |"
      ]
     },
     "metadata": {},
     "output_type": "display_data"
    },
    {
     "data": {
      "text/html": [
       "<pre>| 25      | 14.56s       | 0.0195046         | 0.134502              | 0.0976562   |</pre>"
      ],
      "text/plain": [
       "| 25      | 14.56s       | 0.0195046         | 0.134502              | 0.0976562   |"
      ]
     },
     "metadata": {},
     "output_type": "display_data"
    },
    {
     "data": {
      "text/html": [
       "<pre>| 30      | 17.40s       | 0.00437373        | 0.0542354             | 0.0976562   |</pre>"
      ],
      "text/plain": [
       "| 30      | 17.40s       | 0.00437373        | 0.0542354             | 0.0976562   |"
      ]
     },
     "metadata": {},
     "output_type": "display_data"
    },
    {
     "data": {
      "text/html": [
       "<pre>| 35      | 20.63s       | 0.00229606        | 0.029224              | 0.0976562   |</pre>"
      ],
      "text/plain": [
       "| 35      | 20.63s       | 0.00229606        | 0.029224              | 0.0976562   |"
      ]
     },
     "metadata": {},
     "output_type": "display_data"
    },
    {
     "data": {
      "text/html": [
       "<pre>| 40      | 23.72s       | 0.0019789         | 0.0230557             | 0.0976562   |</pre>"
      ],
      "text/plain": [
       "| 40      | 23.72s       | 0.0019789         | 0.0230557             | 0.0976562   |"
      ]
     },
     "metadata": {},
     "output_type": "display_data"
    },
    {
     "data": {
      "text/html": [
       "<pre>| 45      | 27.20s       | 0.00259936        | 0.0338842             | 0.0976562   |</pre>"
      ],
      "text/plain": [
       "| 45      | 27.20s       | 0.00259936        | 0.0338842             | 0.0976562   |"
      ]
     },
     "metadata": {},
     "output_type": "display_data"
    },
    {
     "data": {
      "text/html": [
       "<pre>| 50      | 30.28s       | 0.00435506        | 0.0538408             | 0.0976562   |</pre>"
      ],
      "text/plain": [
       "| 50      | 30.28s       | 0.00435506        | 0.0538408             | 0.0976562   |"
      ]
     },
     "metadata": {},
     "output_type": "display_data"
    },
    {
     "data": {
      "text/html": [
       "<pre>+---------+--------------+-------------------+-----------------------+-------------+</pre>"
      ],
      "text/plain": [
       "+---------+--------------+-------------------+-----------------------+-------------+"
      ]
     },
     "metadata": {},
     "output_type": "display_data"
    },
    {
     "data": {
      "text/html": [
       "<pre>Optimization Complete: Maximum number of passes through the data reached.</pre>"
      ],
      "text/plain": [
       "Optimization Complete: Maximum number of passes through the data reached."
      ]
     },
     "metadata": {},
     "output_type": "display_data"
    },
    {
     "data": {
      "text/html": [
       "<pre>Computing final objective value and training RMSE.</pre>"
      ],
      "text/plain": [
       "Computing final objective value and training RMSE."
      ]
     },
     "metadata": {},
     "output_type": "display_data"
    },
    {
     "data": {
      "text/html": [
       "<pre>       Final objective value: 0.00568585</pre>"
      ],
      "text/plain": [
       "       Final objective value: 0.00568585"
      ]
     },
     "metadata": {},
     "output_type": "display_data"
    },
    {
     "data": {
      "text/html": [
       "<pre>       Final training RMSE: 0.0650356</pre>"
      ],
      "text/plain": [
       "       Final training RMSE: 0.0650356"
      ]
     },
     "metadata": {},
     "output_type": "display_data"
    }
   ],
   "source": [
    "m3 = gl.factorization_recommender.create(train, user_id='User_ID', item_id='Article_ID', \n",
    "                                         target='Rating', user_data = user, item_data = article)"
   ]
  },
  {
   "cell_type": "code",
   "execution_count": 36,
   "metadata": {
    "collapsed": true
   },
   "outputs": [],
   "source": [
    "pairs_to_inspect3 = test.select_columns(['ID', 'User_ID', 'Article_ID'])\n",
    "scores3 = m3.predict(pairs_to_inspect2)"
   ]
  },
  {
   "cell_type": "code",
   "execution_count": 37,
   "metadata": {
    "collapsed": false
   },
   "outputs": [
    {
     "data": {
      "text/plain": [
       "(-7.289670906940458, 23.256208832237128)"
      ]
     },
     "execution_count": 37,
     "metadata": {},
     "output_type": "execute_result"
    }
   ],
   "source": [
    "min(scores3), max(scores3)"
   ]
  },
  {
   "cell_type": "code",
   "execution_count": 38,
   "metadata": {
    "collapsed": true
   },
   "outputs": [],
   "source": [
    "submit3 = pairs_to_inspect3.select_columns(['ID'])\n",
    "submit3['Rating'] = scores3\n",
    "submit3['Rating'] = submit3['Rating'].apply(lambda x : 0 if x < 0 else 6 if x > 0 else x)\n",
    "submit3.save('submit_gl_3.csv', format='csv')"
   ]
  },
  {
   "cell_type": "code",
   "execution_count": 41,
   "metadata": {
    "collapsed": false
   },
   "outputs": [
    {
     "data": {
      "text/plain": [
       "[int, int, int, int]"
      ]
     },
     "execution_count": 41,
     "metadata": {},
     "output_type": "execute_result"
    }
   ],
   "source": [
    "article.dtype()"
   ]
  },
  {
   "cell_type": "code",
   "execution_count": 50,
   "metadata": {
    "collapsed": false
   },
   "outputs": [
    {
     "data": {
      "text/plain": [
       "['Article_ID',\n",
       " 'VintageMonths',\n",
       " 'NumberOfArticlesBySameAuthor',\n",
       " 'NumberOfArticlesinSameCategory']"
      ]
     },
     "execution_count": 50,
     "metadata": {},
     "output_type": "execute_result"
    }
   ],
   "source": [
    "article.column_names()"
   ]
  },
  {
   "cell_type": "code",
   "execution_count": 51,
   "metadata": {
    "collapsed": false
   },
   "outputs": [
    {
     "data": {
      "text/plain": [
       "[int, int, str, str]"
      ]
     },
     "execution_count": 51,
     "metadata": {},
     "output_type": "execute_result"
    }
   ],
   "source": [
    "article['NumberOfArticlesBySameAuthor'] = str(article['NumberOfArticlesBySameAuthor'])\n",
    "article['NumberOfArticlesinSameCategory'] = str(article['NumberOfArticlesinSameCategory'])\n",
    "article.dtype()"
   ]
  },
  {
   "cell_type": "code",
   "execution_count": 52,
   "metadata": {
    "collapsed": false
   },
   "outputs": [
    {
     "data": {
      "text/plain": [
       "[int, str, str]"
      ]
     },
     "execution_count": 52,
     "metadata": {},
     "output_type": "execute_result"
    }
   ],
   "source": [
    "user.dtype()"
   ]
  },
  {
   "cell_type": "code",
   "execution_count": 53,
   "metadata": {
    "collapsed": false
   },
   "outputs": [
    {
     "data": {
      "text/plain": [
       "['User_ID', 'Var1', 'Age']"
      ]
     },
     "execution_count": 53,
     "metadata": {},
     "output_type": "execute_result"
    }
   ],
   "source": [
    "user.column_names()"
   ]
  },
  {
   "cell_type": "code",
   "execution_count": 54,
   "metadata": {
    "collapsed": false
   },
   "outputs": [
    {
     "data": {
      "text/html": [
       "<pre>Recsys training: model = factorization_recommender</pre>"
      ],
      "text/plain": [
       "Recsys training: model = factorization_recommender"
      ]
     },
     "metadata": {},
     "output_type": "display_data"
    },
    {
     "data": {
      "text/html": [
       "<pre>Preparing data set.</pre>"
      ],
      "text/plain": [
       "Preparing data set."
      ]
     },
     "metadata": {},
     "output_type": "display_data"
    },
    {
     "data": {
      "text/html": [
       "<pre>    Data has 679051 observations with 89502 users and 261758 items.</pre>"
      ],
      "text/plain": [
       "    Data has 679051 observations with 89502 users and 261758 items."
      ]
     },
     "metadata": {},
     "output_type": "display_data"
    },
    {
     "data": {
      "text/html": [
       "<pre>    Data prepared in: 1.32303s</pre>"
      ],
      "text/plain": [
       "    Data prepared in: 1.32303s"
      ]
     },
     "metadata": {},
     "output_type": "display_data"
    },
    {
     "data": {
      "text/html": [
       "<pre>Training factorization_recommender for recommendations.</pre>"
      ],
      "text/plain": [
       "Training factorization_recommender for recommendations."
      ]
     },
     "metadata": {},
     "output_type": "display_data"
    },
    {
     "data": {
      "text/html": [
       "<pre>+--------------------------------+--------------------------------------------------+----------+</pre>"
      ],
      "text/plain": [
       "+--------------------------------+--------------------------------------------------+----------+"
      ]
     },
     "metadata": {},
     "output_type": "display_data"
    },
    {
     "data": {
      "text/html": [
       "<pre>| Parameter                      | Description                                      | Value    |</pre>"
      ],
      "text/plain": [
       "| Parameter                      | Description                                      | Value    |"
      ]
     },
     "metadata": {},
     "output_type": "display_data"
    },
    {
     "data": {
      "text/html": [
       "<pre>+--------------------------------+--------------------------------------------------+----------+</pre>"
      ],
      "text/plain": [
       "+--------------------------------+--------------------------------------------------+----------+"
      ]
     },
     "metadata": {},
     "output_type": "display_data"
    },
    {
     "data": {
      "text/html": [
       "<pre>| num_factors                    | Factor Dimension                                 | 8        |</pre>"
      ],
      "text/plain": [
       "| num_factors                    | Factor Dimension                                 | 8        |"
      ]
     },
     "metadata": {},
     "output_type": "display_data"
    },
    {
     "data": {
      "text/html": [
       "<pre>| regularization                 | L2 Regularization on Factors                     | 1e-008   |</pre>"
      ],
      "text/plain": [
       "| regularization                 | L2 Regularization on Factors                     | 1e-008   |"
      ]
     },
     "metadata": {},
     "output_type": "display_data"
    },
    {
     "data": {
      "text/html": [
       "<pre>| solver                         | Solver used for training                         | adagrad  |</pre>"
      ],
      "text/plain": [
       "| solver                         | Solver used for training                         | adagrad  |"
      ]
     },
     "metadata": {},
     "output_type": "display_data"
    },
    {
     "data": {
      "text/html": [
       "<pre>| linear_regularization          | L2 Regularization on Linear Coefficients         | 1e-010   |</pre>"
      ],
      "text/plain": [
       "| linear_regularization          | L2 Regularization on Linear Coefficients         | 1e-010   |"
      ]
     },
     "metadata": {},
     "output_type": "display_data"
    },
    {
     "data": {
      "text/html": [
       "<pre>| side_data_factorization        | Assign Factors for Side Data                     | True     |</pre>"
      ],
      "text/plain": [
       "| side_data_factorization        | Assign Factors for Side Data                     | True     |"
      ]
     },
     "metadata": {},
     "output_type": "display_data"
    },
    {
     "data": {
      "text/html": [
       "<pre>| max_iterations                 | Maximum Number of Iterations                     | 50       |</pre>"
      ],
      "text/plain": [
       "| max_iterations                 | Maximum Number of Iterations                     | 50       |"
      ]
     },
     "metadata": {},
     "output_type": "display_data"
    },
    {
     "data": {
      "text/html": [
       "<pre>+--------------------------------+--------------------------------------------------+----------+</pre>"
      ],
      "text/plain": [
       "+--------------------------------+--------------------------------------------------+----------+"
      ]
     },
     "metadata": {},
     "output_type": "display_data"
    },
    {
     "data": {
      "text/html": [
       "<pre>  Optimizing model using SGD; tuning step size.</pre>"
      ],
      "text/plain": [
       "  Optimizing model using SGD; tuning step size."
      ]
     },
     "metadata": {},
     "output_type": "display_data"
    },
    {
     "data": {
      "text/html": [
       "<pre>  Using 84881 / 679051 points for tuning the step size.</pre>"
      ],
      "text/plain": [
       "  Using 84881 / 679051 points for tuning the step size."
      ]
     },
     "metadata": {},
     "output_type": "display_data"
    },
    {
     "data": {
      "text/html": [
       "<pre>+---------+-------------------+------------------------------------------+</pre>"
      ],
      "text/plain": [
       "+---------+-------------------+------------------------------------------+"
      ]
     },
     "metadata": {},
     "output_type": "display_data"
    },
    {
     "data": {
      "text/html": [
       "<pre>| Attempt | Initial Step Size | Estimated Objective Value                |</pre>"
      ],
      "text/plain": [
       "| Attempt | Initial Step Size | Estimated Objective Value                |"
      ]
     },
     "metadata": {},
     "output_type": "display_data"
    },
    {
     "data": {
      "text/html": [
       "<pre>+---------+-------------------+------------------------------------------+</pre>"
      ],
      "text/plain": [
       "+---------+-------------------+------------------------------------------+"
      ]
     },
     "metadata": {},
     "output_type": "display_data"
    },
    {
     "data": {
      "text/html": [
       "<pre>| 0       | 6.25              | Not Viable                               |</pre>"
      ],
      "text/plain": [
       "| 0       | 6.25              | Not Viable                               |"
      ]
     },
     "metadata": {},
     "output_type": "display_data"
    },
    {
     "data": {
      "text/html": [
       "<pre>| 1       | 1.5625            | Not Viable                               |</pre>"
      ],
      "text/plain": [
       "| 1       | 1.5625            | Not Viable                               |"
      ]
     },
     "metadata": {},
     "output_type": "display_data"
    },
    {
     "data": {
      "text/html": [
       "<pre>| 2       | 0.390625          | 0.100571                                 |</pre>"
      ],
      "text/plain": [
       "| 2       | 0.390625          | 0.100571                                 |"
      ]
     },
     "metadata": {},
     "output_type": "display_data"
    },
    {
     "data": {
      "text/html": [
       "<pre>| 3       | 0.195312          | 0.0259999                                |</pre>"
      ],
      "text/plain": [
       "| 3       | 0.195312          | 0.0259999                                |"
      ]
     },
     "metadata": {},
     "output_type": "display_data"
    },
    {
     "data": {
      "text/html": [
       "<pre>| 4       | 0.0976562         | 0.330898                                 |</pre>"
      ],
      "text/plain": [
       "| 4       | 0.0976562         | 0.330898                                 |"
      ]
     },
     "metadata": {},
     "output_type": "display_data"
    },
    {
     "data": {
      "text/html": [
       "<pre>+---------+-------------------+------------------------------------------+</pre>"
      ],
      "text/plain": [
       "+---------+-------------------+------------------------------------------+"
      ]
     },
     "metadata": {},
     "output_type": "display_data"
    },
    {
     "data": {
      "text/html": [
       "<pre>| Final   | 0.195312          | 0.0259999                                |</pre>"
      ],
      "text/plain": [
       "| Final   | 0.195312          | 0.0259999                                |"
      ]
     },
     "metadata": {},
     "output_type": "display_data"
    },
    {
     "data": {
      "text/html": [
       "<pre>+---------+-------------------+------------------------------------------+</pre>"
      ],
      "text/plain": [
       "+---------+-------------------+------------------------------------------+"
      ]
     },
     "metadata": {},
     "output_type": "display_data"
    },
    {
     "data": {
      "text/html": [
       "<pre>Starting Optimization.</pre>"
      ],
      "text/plain": [
       "Starting Optimization."
      ]
     },
     "metadata": {},
     "output_type": "display_data"
    },
    {
     "data": {
      "text/html": [
       "<pre>+---------+--------------+-------------------+-----------------------+-------------+</pre>"
      ],
      "text/plain": [
       "+---------+--------------+-------------------+-----------------------+-------------+"
      ]
     },
     "metadata": {},
     "output_type": "display_data"
    },
    {
     "data": {
      "text/html": [
       "<pre>| Iter.   | Elapsed Time | Approx. Objective | Approx. Training RMSE | Step Size   |</pre>"
      ],
      "text/plain": [
       "| Iter.   | Elapsed Time | Approx. Objective | Approx. Training RMSE | Step Size   |"
      ]
     },
     "metadata": {},
     "output_type": "display_data"
    },
    {
     "data": {
      "text/html": [
       "<pre>+---------+--------------+-------------------+-----------------------+-------------+</pre>"
      ],
      "text/plain": [
       "+---------+--------------+-------------------+-----------------------+-------------+"
      ]
     },
     "metadata": {},
     "output_type": "display_data"
    },
    {
     "data": {
      "text/html": [
       "<pre>| Initial | 0us          | 4.1983            | 2.04898               |             |</pre>"
      ],
      "text/plain": [
       "| Initial | 0us          | 4.1983            | 2.04898               |             |"
      ]
     },
     "metadata": {},
     "output_type": "display_data"
    },
    {
     "data": {
      "text/html": [
       "<pre>+---------+--------------+-------------------+-----------------------+-------------+</pre>"
      ],
      "text/plain": [
       "+---------+--------------+-------------------+-----------------------+-------------+"
      ]
     },
     "metadata": {},
     "output_type": "display_data"
    },
    {
     "data": {
      "text/html": [
       "<pre>| 1       | 770.234ms    | DIVERGED          | DIVERGED              | 0.195312    |</pre>"
      ],
      "text/plain": [
       "| 1       | 770.234ms    | DIVERGED          | DIVERGED              | 0.195312    |"
      ]
     },
     "metadata": {},
     "output_type": "display_data"
    },
    {
     "data": {
      "text/html": [
       "<pre>| RESET   | 1.21s        | 4.19829           | 2.04897               |             |</pre>"
      ],
      "text/plain": [
       "| RESET   | 1.21s        | 4.19829           | 2.04897               |             |"
      ]
     },
     "metadata": {},
     "output_type": "display_data"
    },
    {
     "data": {
      "text/html": [
       "<pre>| 1       | 1.85s        | 3.43084           | 1.85199               | 0.0976562   |</pre>"
      ],
      "text/plain": [
       "| 1       | 1.85s        | 3.43084           | 1.85199               | 0.0976562   |"
      ]
     },
     "metadata": {},
     "output_type": "display_data"
    },
    {
     "data": {
      "text/html": [
       "<pre>| 2       | 2.38s        | 2.0457            | 1.42983               | 0.0976562   |</pre>"
      ],
      "text/plain": [
       "| 2       | 2.38s        | 2.0457            | 1.42983               | 0.0976562   |"
      ]
     },
     "metadata": {},
     "output_type": "display_data"
    },
    {
     "data": {
      "text/html": [
       "<pre>| 3       | 3.07s        | 1.69014           | 1.29954               | 0.0976562   |</pre>"
      ],
      "text/plain": [
       "| 3       | 3.07s        | 1.69014           | 1.29954               | 0.0976562   |"
      ]
     },
     "metadata": {},
     "output_type": "display_data"
    },
    {
     "data": {
      "text/html": [
       "<pre>| 4       | 3.83s        | 1.02714           | 1.01281               | 0.0976562   |</pre>"
      ],
      "text/plain": [
       "| 4       | 3.83s        | 1.02714           | 1.01281               | 0.0976562   |"
      ]
     },
     "metadata": {},
     "output_type": "display_data"
    },
    {
     "data": {
      "text/html": [
       "<pre>| 5       | 4.51s        | 0.374485          | 0.610842              | 0.0976562   |</pre>"
      ],
      "text/plain": [
       "| 5       | 4.51s        | 0.374485          | 0.610842              | 0.0976562   |"
      ]
     },
     "metadata": {},
     "output_type": "display_data"
    },
    {
     "data": {
      "text/html": [
       "<pre>| 6       | 5.06s        | 0.145805          | 0.380052              | 0.0976562   |</pre>"
      ],
      "text/plain": [
       "| 6       | 5.06s        | 0.145805          | 0.380052              | 0.0976562   |"
      ]
     },
     "metadata": {},
     "output_type": "display_data"
    },
    {
     "data": {
      "text/html": [
       "<pre>| 9       | 6.65s        | 0.0308843         | 0.171779              | 0.0976562   |</pre>"
      ],
      "text/plain": [
       "| 9       | 6.65s        | 0.0308843         | 0.171779              | 0.0976562   |"
      ]
     },
     "metadata": {},
     "output_type": "display_data"
    },
    {
     "data": {
      "text/html": [
       "<pre>| 11      | 7.77s        | 0.0207535         | 0.139204              | 0.0976562   |</pre>"
      ],
      "text/plain": [
       "| 11      | 7.77s        | 0.0207535         | 0.139204              | 0.0976562   |"
      ]
     },
     "metadata": {},
     "output_type": "display_data"
    },
    {
     "data": {
      "text/html": [
       "<pre>| 14      | 9.30s        | 0.0385877         | 0.19292               | 0.0976562   |</pre>"
      ],
      "text/plain": [
       "| 14      | 9.30s        | 0.0385877         | 0.19292               | 0.0976562   |"
      ]
     },
     "metadata": {},
     "output_type": "display_data"
    },
    {
     "data": {
      "text/html": [
       "<pre>| 19      | 12.06s       | 0.132207          | 0.361722              | 0.0976562   |</pre>"
      ],
      "text/plain": [
       "| 19      | 12.06s       | 0.132207          | 0.361722              | 0.0976562   |"
      ]
     },
     "metadata": {},
     "output_type": "display_data"
    },
    {
     "data": {
      "text/html": [
       "<pre>| 24      | 14.71s       | 0.0264909         | 0.15851               | 0.0976562   |</pre>"
      ],
      "text/plain": [
       "| 24      | 14.71s       | 0.0264909         | 0.15851               | 0.0976562   |"
      ]
     },
     "metadata": {},
     "output_type": "display_data"
    },
    {
     "data": {
      "text/html": [
       "<pre>| 29      | 17.70s       | 0.0342093         | 0.181234              | 0.0976562   |</pre>"
      ],
      "text/plain": [
       "| 29      | 17.70s       | 0.0342093         | 0.181234              | 0.0976562   |"
      ]
     },
     "metadata": {},
     "output_type": "display_data"
    },
    {
     "data": {
      "text/html": [
       "<pre>| 34      | 20.46s       | 0.0804862         | 0.281291              | 0.0976562   |</pre>"
      ],
      "text/plain": [
       "| 34      | 20.46s       | 0.0804862         | 0.281291              | 0.0976562   |"
      ]
     },
     "metadata": {},
     "output_type": "display_data"
    },
    {
     "data": {
      "text/html": [
       "<pre>| 39      | 23.26s       | 0.0250398         | 0.153852              | 0.0976562   |</pre>"
      ],
      "text/plain": [
       "| 39      | 23.26s       | 0.0250398         | 0.153852              | 0.0976562   |"
      ]
     },
     "metadata": {},
     "output_type": "display_data"
    },
    {
     "data": {
      "text/html": [
       "<pre>| 44      | 26.21s       | 0.392427          | 0.625339              | 0.0976562   |</pre>"
      ],
      "text/plain": [
       "| 44      | 26.21s       | 0.392427          | 0.625339              | 0.0976562   |"
      ]
     },
     "metadata": {},
     "output_type": "display_data"
    },
    {
     "data": {
      "text/html": [
       "<pre>| 49      | 29.12s       | 0.309993          | 0.55554               | 0.0976562   |</pre>"
      ],
      "text/plain": [
       "| 49      | 29.12s       | 0.309993          | 0.55554               | 0.0976562   |"
      ]
     },
     "metadata": {},
     "output_type": "display_data"
    },
    {
     "data": {
      "text/html": [
       "<pre>+---------+--------------+-------------------+-----------------------+-------------+</pre>"
      ],
      "text/plain": [
       "+---------+--------------+-------------------+-----------------------+-------------+"
      ]
     },
     "metadata": {},
     "output_type": "display_data"
    },
    {
     "data": {
      "text/html": [
       "<pre>Optimization Complete: Maximum number of passes through the data reached.</pre>"
      ],
      "text/plain": [
       "Optimization Complete: Maximum number of passes through the data reached."
      ]
     },
     "metadata": {},
     "output_type": "display_data"
    },
    {
     "data": {
      "text/html": [
       "<pre>Computing final objective value and training RMSE.</pre>"
      ],
      "text/plain": [
       "Computing final objective value and training RMSE."
      ]
     },
     "metadata": {},
     "output_type": "display_data"
    },
    {
     "data": {
      "text/html": [
       "<pre>       Final objective value: 0.109848</pre>"
      ],
      "text/plain": [
       "       Final objective value: 0.109848"
      ]
     },
     "metadata": {},
     "output_type": "display_data"
    },
    {
     "data": {
      "text/html": [
       "<pre>       Final training RMSE: 0.329363</pre>"
      ],
      "text/plain": [
       "       Final training RMSE: 0.329363"
      ]
     },
     "metadata": {},
     "output_type": "display_data"
    }
   ],
   "source": [
    "m4 = gl.factorization_recommender.create(train, user_id='User_ID', item_id='Article_ID', \n",
    "                                         target='Rating', user_data = user, item_data = article)"
   ]
  },
  {
   "cell_type": "code",
   "execution_count": 55,
   "metadata": {
    "collapsed": true
   },
   "outputs": [],
   "source": [
    "scores4 = m4.predict(pairs_to_inspect3)"
   ]
  },
  {
   "cell_type": "code",
   "execution_count": 56,
   "metadata": {
    "collapsed": false
   },
   "outputs": [
    {
     "data": {
      "text/plain": [
       "(-10.945291348945766, 20.045480425933476)"
      ]
     },
     "execution_count": 56,
     "metadata": {},
     "output_type": "execute_result"
    }
   ],
   "source": [
    "min(scores4), max(scores4)"
   ]
  },
  {
   "cell_type": "code",
   "execution_count": 57,
   "metadata": {
    "collapsed": true
   },
   "outputs": [],
   "source": [
    "submit4 = pairs_to_inspect3.select_columns(['ID'])\n",
    "submit4['Rating'] = scores4\n",
    "submit4['Rating'] = submit4['Rating'].apply(lambda x : 0 if x < 0 else 6 if x > 0 else x)\n",
    "submit4.save('submit_gl_4.csv', format='csv')"
   ]
  },
  {
   "cell_type": "code",
   "execution_count": 58,
   "metadata": {
    "collapsed": true
   },
   "outputs": [],
   "source": [
    "submit4_1 = pairs_to_inspect3.select_columns(['ID'])\n",
    "submit4_1['Rating'] = scores4\n",
    "min4 = min(scores4)\n",
    "width4 = max(scores4) - min(scores4)\n",
    "submit4_1['Rating'] = submit4_1['Rating'] - min4\n",
    "submit4_1['Rating'] = submit4_1['Rating'] * 6 / width4\n",
    "submit4_1.save('submit_gl_4_1.csv', format='csv')"
   ]
  },
  {
   "cell_type": "code",
   "execution_count": 59,
   "metadata": {
    "collapsed": true
   },
   "outputs": [],
   "source": [
    "submit3_1 = pairs_to_inspect3.select_columns(['ID'])\n",
    "submit3_1['Rating'] = scores3\n",
    "min3 = min(scores3)\n",
    "width3 = max(scores3) - min(scores3)\n",
    "submit3_1['Rating'] = submit3_1['Rating'] - min3\n",
    "submit3_1['Rating'] = submit3_1['Rating'] * 6 / width3\n",
    "submit3_1.save('submit_gl_3_1.csv', format='csv')"
   ]
  },
  {
   "cell_type": "code",
   "execution_count": 60,
   "metadata": {
    "collapsed": false
   },
   "outputs": [
    {
     "data": {
      "text/html": [
       "<pre>Recsys training: model = factorization_recommender</pre>"
      ],
      "text/plain": [
       "Recsys training: model = factorization_recommender"
      ]
     },
     "metadata": {},
     "output_type": "display_data"
    },
    {
     "data": {
      "text/html": [
       "<pre>Preparing data set.</pre>"
      ],
      "text/plain": [
       "Preparing data set."
      ]
     },
     "metadata": {},
     "output_type": "display_data"
    },
    {
     "data": {
      "text/html": [
       "<pre>    Data has 679051 observations with 89502 users and 261758 items.</pre>"
      ],
      "text/plain": [
       "    Data has 679051 observations with 89502 users and 261758 items."
      ]
     },
     "metadata": {},
     "output_type": "display_data"
    },
    {
     "data": {
      "text/html": [
       "<pre>    Data prepared in: 1.46943s</pre>"
      ],
      "text/plain": [
       "    Data prepared in: 1.46943s"
      ]
     },
     "metadata": {},
     "output_type": "display_data"
    },
    {
     "data": {
      "text/html": [
       "<pre>Training factorization_recommender for recommendations.</pre>"
      ],
      "text/plain": [
       "Training factorization_recommender for recommendations."
      ]
     },
     "metadata": {},
     "output_type": "display_data"
    },
    {
     "data": {
      "text/html": [
       "<pre>+--------------------------------+--------------------------------------------------+----------+</pre>"
      ],
      "text/plain": [
       "+--------------------------------+--------------------------------------------------+----------+"
      ]
     },
     "metadata": {},
     "output_type": "display_data"
    },
    {
     "data": {
      "text/html": [
       "<pre>| Parameter                      | Description                                      | Value    |</pre>"
      ],
      "text/plain": [
       "| Parameter                      | Description                                      | Value    |"
      ]
     },
     "metadata": {},
     "output_type": "display_data"
    },
    {
     "data": {
      "text/html": [
       "<pre>+--------------------------------+--------------------------------------------------+----------+</pre>"
      ],
      "text/plain": [
       "+--------------------------------+--------------------------------------------------+----------+"
      ]
     },
     "metadata": {},
     "output_type": "display_data"
    },
    {
     "data": {
      "text/html": [
       "<pre>| num_factors                    | Factor Dimension                                 | 8        |</pre>"
      ],
      "text/plain": [
       "| num_factors                    | Factor Dimension                                 | 8        |"
      ]
     },
     "metadata": {},
     "output_type": "display_data"
    },
    {
     "data": {
      "text/html": [
       "<pre>| regularization                 | L2 Regularization on Factors                     | 1e-008   |</pre>"
      ],
      "text/plain": [
       "| regularization                 | L2 Regularization on Factors                     | 1e-008   |"
      ]
     },
     "metadata": {},
     "output_type": "display_data"
    },
    {
     "data": {
      "text/html": [
       "<pre>| solver                         | Solver used for training                         | adagrad  |</pre>"
      ],
      "text/plain": [
       "| solver                         | Solver used for training                         | adagrad  |"
      ]
     },
     "metadata": {},
     "output_type": "display_data"
    },
    {
     "data": {
      "text/html": [
       "<pre>| linear_regularization          | L2 Regularization on Linear Coefficients         | 1e-010   |</pre>"
      ],
      "text/plain": [
       "| linear_regularization          | L2 Regularization on Linear Coefficients         | 1e-010   |"
      ]
     },
     "metadata": {},
     "output_type": "display_data"
    },
    {
     "data": {
      "text/html": [
       "<pre>| nmf                            | Use Non-Negative Factors                         | True     |</pre>"
      ],
      "text/plain": [
       "| nmf                            | Use Non-Negative Factors                         | True     |"
      ]
     },
     "metadata": {},
     "output_type": "display_data"
    },
    {
     "data": {
      "text/html": [
       "<pre>| side_data_factorization        | Assign Factors for Side Data                     | True     |</pre>"
      ],
      "text/plain": [
       "| side_data_factorization        | Assign Factors for Side Data                     | True     |"
      ]
     },
     "metadata": {},
     "output_type": "display_data"
    },
    {
     "data": {
      "text/html": [
       "<pre>| max_iterations                 | Maximum Number of Iterations                     | 50       |</pre>"
      ],
      "text/plain": [
       "| max_iterations                 | Maximum Number of Iterations                     | 50       |"
      ]
     },
     "metadata": {},
     "output_type": "display_data"
    },
    {
     "data": {
      "text/html": [
       "<pre>+--------------------------------+--------------------------------------------------+----------+</pre>"
      ],
      "text/plain": [
       "+--------------------------------+--------------------------------------------------+----------+"
      ]
     },
     "metadata": {},
     "output_type": "display_data"
    },
    {
     "data": {
      "text/html": [
       "<pre>  Optimizing model using SGD; tuning step size.</pre>"
      ],
      "text/plain": [
       "  Optimizing model using SGD; tuning step size."
      ]
     },
     "metadata": {},
     "output_type": "display_data"
    },
    {
     "data": {
      "text/html": [
       "<pre>  Using 84881 / 679051 points for tuning the step size.</pre>"
      ],
      "text/plain": [
       "  Using 84881 / 679051 points for tuning the step size."
      ]
     },
     "metadata": {},
     "output_type": "display_data"
    },
    {
     "data": {
      "text/html": [
       "<pre>+---------+-------------------+------------------------------------------+</pre>"
      ],
      "text/plain": [
       "+---------+-------------------+------------------------------------------+"
      ]
     },
     "metadata": {},
     "output_type": "display_data"
    },
    {
     "data": {
      "text/html": [
       "<pre>| Attempt | Initial Step Size | Estimated Objective Value                |</pre>"
      ],
      "text/plain": [
       "| Attempt | Initial Step Size | Estimated Objective Value                |"
      ]
     },
     "metadata": {},
     "output_type": "display_data"
    },
    {
     "data": {
      "text/html": [
       "<pre>+---------+-------------------+------------------------------------------+</pre>"
      ],
      "text/plain": [
       "+---------+-------------------+------------------------------------------+"
      ]
     },
     "metadata": {},
     "output_type": "display_data"
    },
    {
     "data": {
      "text/html": [
       "<pre>| 0       | 6.25              | Not Viable                               |</pre>"
      ],
      "text/plain": [
       "| 0       | 6.25              | Not Viable                               |"
      ]
     },
     "metadata": {},
     "output_type": "display_data"
    },
    {
     "data": {
      "text/html": [
       "<pre>| 1       | 1.5625            | Not Viable                               |</pre>"
      ],
      "text/plain": [
       "| 1       | 1.5625            | Not Viable                               |"
      ]
     },
     "metadata": {},
     "output_type": "display_data"
    },
    {
     "data": {
      "text/html": [
       "<pre>| 2       | 0.390625          | 6.8559                                   |</pre>"
      ],
      "text/plain": [
       "| 2       | 0.390625          | 6.8559                                   |"
      ]
     },
     "metadata": {},
     "output_type": "display_data"
    },
    {
     "data": {
      "text/html": [
       "<pre>| 3       | 0.195312          | 7.19367                                  |</pre>"
      ],
      "text/plain": [
       "| 3       | 0.195312          | 7.19367                                  |"
      ]
     },
     "metadata": {},
     "output_type": "display_data"
    },
    {
     "data": {
      "text/html": [
       "<pre>| 4       | 0.0976562         | 7.33432                                  |</pre>"
      ],
      "text/plain": [
       "| 4       | 0.0976562         | 7.33432                                  |"
      ]
     },
     "metadata": {},
     "output_type": "display_data"
    },
    {
     "data": {
      "text/html": [
       "<pre>| 5       | 0.0488281         | 7.41528                                  |</pre>"
      ],
      "text/plain": [
       "| 5       | 0.0488281         | 7.41528                                  |"
      ]
     },
     "metadata": {},
     "output_type": "display_data"
    },
    {
     "data": {
      "text/html": [
       "<pre>+---------+-------------------+------------------------------------------+</pre>"
      ],
      "text/plain": [
       "+---------+-------------------+------------------------------------------+"
      ]
     },
     "metadata": {},
     "output_type": "display_data"
    },
    {
     "data": {
      "text/html": [
       "<pre>| Final   | 0.390625          | 6.8559                                   |</pre>"
      ],
      "text/plain": [
       "| Final   | 0.390625          | 6.8559                                   |"
      ]
     },
     "metadata": {},
     "output_type": "display_data"
    },
    {
     "data": {
      "text/html": [
       "<pre>+---------+-------------------+------------------------------------------+</pre>"
      ],
      "text/plain": [
       "+---------+-------------------+------------------------------------------+"
      ]
     },
     "metadata": {},
     "output_type": "display_data"
    },
    {
     "data": {
      "text/html": [
       "<pre>Starting Optimization.</pre>"
      ],
      "text/plain": [
       "Starting Optimization."
      ]
     },
     "metadata": {},
     "output_type": "display_data"
    },
    {
     "data": {
      "text/html": [
       "<pre>+---------+--------------+-------------------+-----------------------+-------------+</pre>"
      ],
      "text/plain": [
       "+---------+--------------+-------------------+-----------------------+-------------+"
      ]
     },
     "metadata": {},
     "output_type": "display_data"
    },
    {
     "data": {
      "text/html": [
       "<pre>| Iter.   | Elapsed Time | Approx. Objective | Approx. Training RMSE | Step Size   |</pre>"
      ],
      "text/plain": [
       "| Iter.   | Elapsed Time | Approx. Objective | Approx. Training RMSE | Step Size   |"
      ]
     },
     "metadata": {},
     "output_type": "display_data"
    },
    {
     "data": {
      "text/html": [
       "<pre>+---------+--------------+-------------------+-----------------------+-------------+</pre>"
      ],
      "text/plain": [
       "+---------+--------------+-------------------+-----------------------+-------------+"
      ]
     },
     "metadata": {},
     "output_type": "display_data"
    },
    {
     "data": {
      "text/html": [
       "<pre>| Initial | 0us          | 9.8062            | 3.13149               |             |</pre>"
      ],
      "text/plain": [
       "| Initial | 0us          | 9.8062            | 3.13149               |             |"
      ]
     },
     "metadata": {},
     "output_type": "display_data"
    },
    {
     "data": {
      "text/html": [
       "<pre>+---------+--------------+-------------------+-----------------------+-------------+</pre>"
      ],
      "text/plain": [
       "+---------+--------------+-------------------+-----------------------+-------------+"
      ]
     },
     "metadata": {},
     "output_type": "display_data"
    },
    {
     "data": {
      "text/html": [
       "<pre>| 1       | 552.613ms    | 15.1033           | 3.88589               | 0.390625    |</pre>"
      ],
      "text/plain": [
       "| 1       | 552.613ms    | 15.1033           | 3.88589               | 0.390625    |"
      ]
     },
     "metadata": {},
     "output_type": "display_data"
    },
    {
     "data": {
      "text/html": [
       "<pre>| 2       | 1.06s        | 8.6826            | 2.94612               | 0.390625    |</pre>"
      ],
      "text/plain": [
       "| 2       | 1.06s        | 8.6826            | 2.94612               | 0.390625    |"
      ]
     },
     "metadata": {},
     "output_type": "display_data"
    },
    {
     "data": {
      "text/html": [
       "<pre>| 3       | 1.58s        | 7.81029           | 2.79418               | 0.390625    |</pre>"
      ],
      "text/plain": [
       "| 3       | 1.58s        | 7.81029           | 2.79418               | 0.390625    |"
      ]
     },
     "metadata": {},
     "output_type": "display_data"
    },
    {
     "data": {
      "text/html": [
       "<pre>| 4       | 2.12s        | 7.42137           | 2.7237                | 0.390625    |</pre>"
      ],
      "text/plain": [
       "| 4       | 2.12s        | 7.42137           | 2.7237                | 0.390625    |"
      ]
     },
     "metadata": {},
     "output_type": "display_data"
    },
    {
     "data": {
      "text/html": [
       "<pre>| 5       | 2.63s        | 7.20161           | 2.68306               | 0.390625    |</pre>"
      ],
      "text/plain": [
       "| 5       | 2.63s        | 7.20161           | 2.68306               | 0.390625    |"
      ]
     },
     "metadata": {},
     "output_type": "display_data"
    },
    {
     "data": {
      "text/html": [
       "<pre>| 6       | 3.17s        | 7.06816           | 2.65808               | 0.390625    |</pre>"
      ],
      "text/plain": [
       "| 6       | 3.17s        | 7.06816           | 2.65808               | 0.390625    |"
      ]
     },
     "metadata": {},
     "output_type": "display_data"
    },
    {
     "data": {
      "text/html": [
       "<pre>| 10      | 5.27s        | 6.77291           | 2.60195               | 0.390625    |</pre>"
      ],
      "text/plain": [
       "| 10      | 5.27s        | 6.77291           | 2.60195               | 0.390625    |"
      ]
     },
     "metadata": {},
     "output_type": "display_data"
    },
    {
     "data": {
      "text/html": [
       "<pre>| 11      | 5.78s        | 6.72945           | 2.59358               | 0.390625    |</pre>"
      ],
      "text/plain": [
       "| 11      | 5.78s        | 6.72945           | 2.59358               | 0.390625    |"
      ]
     },
     "metadata": {},
     "output_type": "display_data"
    },
    {
     "data": {
      "text/html": [
       "<pre>| 15      | 8.22s        | 6.6223            | 2.57284               | 0.390625    |</pre>"
      ],
      "text/plain": [
       "| 15      | 8.22s        | 6.6223            | 2.57284               | 0.390625    |"
      ]
     },
     "metadata": {},
     "output_type": "display_data"
    },
    {
     "data": {
      "text/html": [
       "<pre>| 20      | 11.08s       | 6.54527           | 2.55782               | 0.390625    |</pre>"
      ],
      "text/plain": [
       "| 20      | 11.08s       | 6.54527           | 2.55782               | 0.390625    |"
      ]
     },
     "metadata": {},
     "output_type": "display_data"
    },
    {
     "data": {
      "text/html": [
       "<pre>| 25      | 13.75s       | 6.50851           | 2.55062               | 0.390625    |</pre>"
      ],
      "text/plain": [
       "| 25      | 13.75s       | 6.50851           | 2.55062               | 0.390625    |"
      ]
     },
     "metadata": {},
     "output_type": "display_data"
    },
    {
     "data": {
      "text/html": [
       "<pre>| 30      | 16.50s       | 6.49496           | 2.54796               | 0.390625    |</pre>"
      ],
      "text/plain": [
       "| 30      | 16.50s       | 6.49496           | 2.54796               | 0.390625    |"
      ]
     },
     "metadata": {},
     "output_type": "display_data"
    },
    {
     "data": {
      "text/html": [
       "<pre>| 35      | 19.32s       | 6.47861           | 2.54475               | 0.390625    |</pre>"
      ],
      "text/plain": [
       "| 35      | 19.32s       | 6.47861           | 2.54475               | 0.390625    |"
      ]
     },
     "metadata": {},
     "output_type": "display_data"
    },
    {
     "data": {
      "text/html": [
       "<pre>| 40      | 22.35s       | 6.45748           | 2.54059               | 0.390625    |</pre>"
      ],
      "text/plain": [
       "| 40      | 22.35s       | 6.45748           | 2.54059               | 0.390625    |"
      ]
     },
     "metadata": {},
     "output_type": "display_data"
    },
    {
     "data": {
      "text/html": [
       "<pre>| 45      | 25.27s       | 6.45261           | 2.53963               | 0.390625    |</pre>"
      ],
      "text/plain": [
       "| 45      | 25.27s       | 6.45261           | 2.53963               | 0.390625    |"
      ]
     },
     "metadata": {},
     "output_type": "display_data"
    },
    {
     "data": {
      "text/html": [
       "<pre>| 50      | 28.29s       | 6.43771           | 2.5367                | 0.390625    |</pre>"
      ],
      "text/plain": [
       "| 50      | 28.29s       | 6.43771           | 2.5367                | 0.390625    |"
      ]
     },
     "metadata": {},
     "output_type": "display_data"
    },
    {
     "data": {
      "text/html": [
       "<pre>+---------+--------------+-------------------+-----------------------+-------------+</pre>"
      ],
      "text/plain": [
       "+---------+--------------+-------------------+-----------------------+-------------+"
      ]
     },
     "metadata": {},
     "output_type": "display_data"
    },
    {
     "data": {
      "text/html": [
       "<pre>Optimization Complete: Maximum number of passes through the data reached.</pre>"
      ],
      "text/plain": [
       "Optimization Complete: Maximum number of passes through the data reached."
      ]
     },
     "metadata": {},
     "output_type": "display_data"
    },
    {
     "data": {
      "text/html": [
       "<pre>Computing final objective value and training RMSE.</pre>"
      ],
      "text/plain": [
       "Computing final objective value and training RMSE."
      ]
     },
     "metadata": {},
     "output_type": "display_data"
    },
    {
     "data": {
      "text/html": [
       "<pre>       Final objective value: 6.43545</pre>"
      ],
      "text/plain": [
       "       Final objective value: 6.43545"
      ]
     },
     "metadata": {},
     "output_type": "display_data"
    },
    {
     "data": {
      "text/html": [
       "<pre>       Final training RMSE: 2.53625</pre>"
      ],
      "text/plain": [
       "       Final training RMSE: 2.53625"
      ]
     },
     "metadata": {},
     "output_type": "display_data"
    }
   ],
   "source": [
    "m5 = gl.factorization_recommender.create(train, user_id='User_ID', item_id='Article_ID', \n",
    "                                         target='Rating', user_data = user, item_data = article,\n",
    "                                         nmf = True)"
   ]
  },
  {
   "cell_type": "code",
   "execution_count": 61,
   "metadata": {
    "collapsed": false
   },
   "outputs": [
    {
     "data": {
      "text/plain": [
       "(-9.870719901125995, 20.95850896416232)"
      ]
     },
     "execution_count": 61,
     "metadata": {},
     "output_type": "execute_result"
    }
   ],
   "source": [
    "scores5 = m5.predict(pairs_to_inspect3)\n",
    "min(scores5), max(scores5)"
   ]
  },
  {
   "cell_type": "code",
   "execution_count": 63,
   "metadata": {
    "collapsed": true
   },
   "outputs": [],
   "source": [
    "submit5_1 = pairs_to_inspect3.select_columns(['ID'])\n",
    "submit5_1['Rating'] = scores5\n",
    "min5 = min(scores5)\n",
    "width5 = max(scores5) - min(scores5)\n",
    "submit5_1['Rating'] = submit5_1['Rating'] - min5\n",
    "submit5_1['Rating'] = submit5_1['Rating'] * 6 / width5\n",
    "submit5_1.save('submit_gl_5_1.csv', format='csv')"
   ]
  },
  {
   "cell_type": "code",
   "execution_count": 64,
   "metadata": {
    "collapsed": false
   },
   "outputs": [
    {
     "data": {
      "text/html": [
       "<pre>Recsys training: model = factorization_recommender</pre>"
      ],
      "text/plain": [
       "Recsys training: model = factorization_recommender"
      ]
     },
     "metadata": {},
     "output_type": "display_data"
    },
    {
     "data": {
      "text/html": [
       "<pre>Preparing data set.</pre>"
      ],
      "text/plain": [
       "Preparing data set."
      ]
     },
     "metadata": {},
     "output_type": "display_data"
    },
    {
     "data": {
      "text/html": [
       "<pre>    Data has 679051 observations with 89502 users and 261758 items.</pre>"
      ],
      "text/plain": [
       "    Data has 679051 observations with 89502 users and 261758 items."
      ]
     },
     "metadata": {},
     "output_type": "display_data"
    },
    {
     "data": {
      "text/html": [
       "<pre>    Data prepared in: 1.42484s</pre>"
      ],
      "text/plain": [
       "    Data prepared in: 1.42484s"
      ]
     },
     "metadata": {},
     "output_type": "display_data"
    },
    {
     "data": {
      "text/html": [
       "<pre>Training factorization_recommender for recommendations.</pre>"
      ],
      "text/plain": [
       "Training factorization_recommender for recommendations."
      ]
     },
     "metadata": {},
     "output_type": "display_data"
    },
    {
     "data": {
      "text/html": [
       "<pre>+--------------------------------+--------------------------------------------------+----------+</pre>"
      ],
      "text/plain": [
       "+--------------------------------+--------------------------------------------------+----------+"
      ]
     },
     "metadata": {},
     "output_type": "display_data"
    },
    {
     "data": {
      "text/html": [
       "<pre>| Parameter                      | Description                                      | Value    |</pre>"
      ],
      "text/plain": [
       "| Parameter                      | Description                                      | Value    |"
      ]
     },
     "metadata": {},
     "output_type": "display_data"
    },
    {
     "data": {
      "text/html": [
       "<pre>+--------------------------------+--------------------------------------------------+----------+</pre>"
      ],
      "text/plain": [
       "+--------------------------------+--------------------------------------------------+----------+"
      ]
     },
     "metadata": {},
     "output_type": "display_data"
    },
    {
     "data": {
      "text/html": [
       "<pre>| num_factors                    | Factor Dimension                                 | 8        |</pre>"
      ],
      "text/plain": [
       "| num_factors                    | Factor Dimension                                 | 8        |"
      ]
     },
     "metadata": {},
     "output_type": "display_data"
    },
    {
     "data": {
      "text/html": [
       "<pre>| regularization                 | L2 Regularization on Factors                     | 1e-008   |</pre>"
      ],
      "text/plain": [
       "| regularization                 | L2 Regularization on Factors                     | 1e-008   |"
      ]
     },
     "metadata": {},
     "output_type": "display_data"
    },
    {
     "data": {
      "text/html": [
       "<pre>| solver                         | Solver used for training                         | adagrad  |</pre>"
      ],
      "text/plain": [
       "| solver                         | Solver used for training                         | adagrad  |"
      ]
     },
     "metadata": {},
     "output_type": "display_data"
    },
    {
     "data": {
      "text/html": [
       "<pre>| linear_regularization          | L2 Regularization on Linear Coefficients         | 1e-010   |</pre>"
      ],
      "text/plain": [
       "| linear_regularization          | L2 Regularization on Linear Coefficients         | 1e-010   |"
      ]
     },
     "metadata": {},
     "output_type": "display_data"
    },
    {
     "data": {
      "text/html": [
       "<pre>| nmf                            | Use Non-Negative Factors                         | True     |</pre>"
      ],
      "text/plain": [
       "| nmf                            | Use Non-Negative Factors                         | True     |"
      ]
     },
     "metadata": {},
     "output_type": "display_data"
    },
    {
     "data": {
      "text/html": [
       "<pre>| side_data_factorization        | Assign Factors for Side Data                     | True     |</pre>"
      ],
      "text/plain": [
       "| side_data_factorization        | Assign Factors for Side Data                     | True     |"
      ]
     },
     "metadata": {},
     "output_type": "display_data"
    },
    {
     "data": {
      "text/html": [
       "<pre>| max_iterations                 | Maximum Number of Iterations                     | 500      |</pre>"
      ],
      "text/plain": [
       "| max_iterations                 | Maximum Number of Iterations                     | 500      |"
      ]
     },
     "metadata": {},
     "output_type": "display_data"
    },
    {
     "data": {
      "text/html": [
       "<pre>+--------------------------------+--------------------------------------------------+----------+</pre>"
      ],
      "text/plain": [
       "+--------------------------------+--------------------------------------------------+----------+"
      ]
     },
     "metadata": {},
     "output_type": "display_data"
    },
    {
     "data": {
      "text/html": [
       "<pre>  Optimizing model using SGD; tuning step size.</pre>"
      ],
      "text/plain": [
       "  Optimizing model using SGD; tuning step size."
      ]
     },
     "metadata": {},
     "output_type": "display_data"
    },
    {
     "data": {
      "text/html": [
       "<pre>  Using 84881 / 679051 points for tuning the step size.</pre>"
      ],
      "text/plain": [
       "  Using 84881 / 679051 points for tuning the step size."
      ]
     },
     "metadata": {},
     "output_type": "display_data"
    },
    {
     "data": {
      "text/html": [
       "<pre>+---------+-------------------+------------------------------------------+</pre>"
      ],
      "text/plain": [
       "+---------+-------------------+------------------------------------------+"
      ]
     },
     "metadata": {},
     "output_type": "display_data"
    },
    {
     "data": {
      "text/html": [
       "<pre>| Attempt | Initial Step Size | Estimated Objective Value                |</pre>"
      ],
      "text/plain": [
       "| Attempt | Initial Step Size | Estimated Objective Value                |"
      ]
     },
     "metadata": {},
     "output_type": "display_data"
    },
    {
     "data": {
      "text/html": [
       "<pre>+---------+-------------------+------------------------------------------+</pre>"
      ],
      "text/plain": [
       "+---------+-------------------+------------------------------------------+"
      ]
     },
     "metadata": {},
     "output_type": "display_data"
    },
    {
     "data": {
      "text/html": [
       "<pre>| 0       | 6.25              | Not Viable                               |</pre>"
      ],
      "text/plain": [
       "| 0       | 6.25              | Not Viable                               |"
      ]
     },
     "metadata": {},
     "output_type": "display_data"
    },
    {
     "data": {
      "text/html": [
       "<pre>| 1       | 1.5625            | 6.51816                                  |</pre>"
      ],
      "text/plain": [
       "| 1       | 1.5625            | 6.51816                                  |"
      ]
     },
     "metadata": {},
     "output_type": "display_data"
    },
    {
     "data": {
      "text/html": [
       "<pre>| 2       | 0.78125           | 7.37913                                  |</pre>"
      ],
      "text/plain": [
       "| 2       | 0.78125           | 7.37913                                  |"
      ]
     },
     "metadata": {},
     "output_type": "display_data"
    },
    {
     "data": {
      "text/html": [
       "<pre>| 3       | 0.390625          | 7.0217                                   |</pre>"
      ],
      "text/plain": [
       "| 3       | 0.390625          | 7.0217                                   |"
      ]
     },
     "metadata": {},
     "output_type": "display_data"
    },
    {
     "data": {
      "text/html": [
       "<pre>| 4       | 0.195312          | 7.08655                                  |</pre>"
      ],
      "text/plain": [
       "| 4       | 0.195312          | 7.08655                                  |"
      ]
     },
     "metadata": {},
     "output_type": "display_data"
    },
    {
     "data": {
      "text/html": [
       "<pre>+---------+-------------------+------------------------------------------+</pre>"
      ],
      "text/plain": [
       "+---------+-------------------+------------------------------------------+"
      ]
     },
     "metadata": {},
     "output_type": "display_data"
    },
    {
     "data": {
      "text/html": [
       "<pre>| Final   | 1.5625            | 6.51816                                  |</pre>"
      ],
      "text/plain": [
       "| Final   | 1.5625            | 6.51816                                  |"
      ]
     },
     "metadata": {},
     "output_type": "display_data"
    },
    {
     "data": {
      "text/html": [
       "<pre>+---------+-------------------+------------------------------------------+</pre>"
      ],
      "text/plain": [
       "+---------+-------------------+------------------------------------------+"
      ]
     },
     "metadata": {},
     "output_type": "display_data"
    },
    {
     "data": {
      "text/html": [
       "<pre>Starting Optimization.</pre>"
      ],
      "text/plain": [
       "Starting Optimization."
      ]
     },
     "metadata": {},
     "output_type": "display_data"
    },
    {
     "data": {
      "text/html": [
       "<pre>+---------+--------------+-------------------+-----------------------+-------------+</pre>"
      ],
      "text/plain": [
       "+---------+--------------+-------------------+-----------------------+-------------+"
      ]
     },
     "metadata": {},
     "output_type": "display_data"
    },
    {
     "data": {
      "text/html": [
       "<pre>| Iter.   | Elapsed Time | Approx. Objective | Approx. Training RMSE | Step Size   |</pre>"
      ],
      "text/plain": [
       "| Iter.   | Elapsed Time | Approx. Objective | Approx. Training RMSE | Step Size   |"
      ]
     },
     "metadata": {},
     "output_type": "display_data"
    },
    {
     "data": {
      "text/html": [
       "<pre>+---------+--------------+-------------------+-----------------------+-------------+</pre>"
      ],
      "text/plain": [
       "+---------+--------------+-------------------+-----------------------+-------------+"
      ]
     },
     "metadata": {},
     "output_type": "display_data"
    },
    {
     "data": {
      "text/html": [
       "<pre>| Initial | 0us          | 9.8062            | 3.13149               |             |</pre>"
      ],
      "text/plain": [
       "| Initial | 0us          | 9.8062            | 3.13149               |             |"
      ]
     },
     "metadata": {},
     "output_type": "display_data"
    },
    {
     "data": {
      "text/html": [
       "<pre>+---------+--------------+-------------------+-----------------------+-------------+</pre>"
      ],
      "text/plain": [
       "+---------+--------------+-------------------+-----------------------+-------------+"
      ]
     },
     "metadata": {},
     "output_type": "display_data"
    },
    {
     "data": {
      "text/html": [
       "<pre>| 1       | 686.828ms    | DIVERGED          | DIVERGED              | 1.5625      |</pre>"
      ],
      "text/plain": [
       "| 1       | 686.828ms    | DIVERGED          | DIVERGED              | 1.5625      |"
      ]
     },
     "metadata": {},
     "output_type": "display_data"
    },
    {
     "data": {
      "text/html": [
       "<pre>| RESET   | 979.836ms    | 9.8062            | 3.13149               |             |</pre>"
      ],
      "text/plain": [
       "| RESET   | 979.836ms    | 9.8062            | 3.13149               |             |"
      ]
     },
     "metadata": {},
     "output_type": "display_data"
    },
    {
     "data": {
      "text/html": [
       "<pre>| 1       | 1.49s        | 13.9821           | 3.73746               | 0.78125     |</pre>"
      ],
      "text/plain": [
       "| 1       | 1.49s        | 13.9821           | 3.73746               | 0.78125     |"
      ]
     },
     "metadata": {},
     "output_type": "display_data"
    },
    {
     "data": {
      "text/html": [
       "<pre>| 2       | 1.99s        | 10.8724           | 3.29605               | 0.78125     |</pre>"
      ],
      "text/plain": [
       "| 2       | 1.99s        | 10.8724           | 3.29605               | 0.78125     |"
      ]
     },
     "metadata": {},
     "output_type": "display_data"
    },
    {
     "data": {
      "text/html": [
       "<pre>| 3       | 2.55s        | 9.16851           | 3.0268                | 0.78125     |</pre>"
      ],
      "text/plain": [
       "| 3       | 2.55s        | 9.16851           | 3.0268                | 0.78125     |"
      ]
     },
     "metadata": {},
     "output_type": "display_data"
    },
    {
     "data": {
      "text/html": [
       "<pre>| 4       | 3.15s        | 10.9059           | 3.30157               | 0.78125     |</pre>"
      ],
      "text/plain": [
       "| 4       | 3.15s        | 10.9059           | 3.30157               | 0.78125     |"
      ]
     },
     "metadata": {},
     "output_type": "display_data"
    },
    {
     "data": {
      "text/html": [
       "<pre>| 5       | 3.67s        | 16.4556           | 4.05605               | 0.78125     |</pre>"
      ],
      "text/plain": [
       "| 5       | 3.67s        | 16.4556           | 4.05605               | 0.78125     |"
      ]
     },
     "metadata": {},
     "output_type": "display_data"
    },
    {
     "data": {
      "text/html": [
       "<pre>| 6       | 4.18s        | 14.188            | 3.76616               | 0.78125     |</pre>"
      ],
      "text/plain": [
       "| 6       | 4.18s        | 14.188            | 3.76616               | 0.78125     |"
      ]
     },
     "metadata": {},
     "output_type": "display_data"
    },
    {
     "data": {
      "text/html": [
       "<pre>| 8       | 5.35s        | DIVERGED          | DIVERGED              | 0.78125     |</pre>"
      ],
      "text/plain": [
       "| 8       | 5.35s        | DIVERGED          | DIVERGED              | 0.78125     |"
      ]
     },
     "metadata": {},
     "output_type": "display_data"
    },
    {
     "data": {
      "text/html": [
       "<pre>| RESET   | 5.66s        | 9.8062            | 3.13149               |             |</pre>"
      ],
      "text/plain": [
       "| RESET   | 5.66s        | 9.8062            | 3.13149               |             |"
      ]
     },
     "metadata": {},
     "output_type": "display_data"
    },
    {
     "data": {
      "text/html": [
       "<pre>| 1       | 6.16s        | 16.7603           | 4.09355               | 0.390625    |</pre>"
      ],
      "text/plain": [
       "| 1       | 6.16s        | 16.7603           | 4.09355               | 0.390625    |"
      ]
     },
     "metadata": {},
     "output_type": "display_data"
    },
    {
     "data": {
      "text/html": [
       "<pre>| 4       | 7.62s        | 7.58739           | 2.754                 | 0.390625    |</pre>"
      ],
      "text/plain": [
       "| 4       | 7.62s        | 7.58739           | 2.754                 | 0.390625    |"
      ]
     },
     "metadata": {},
     "output_type": "display_data"
    },
    {
     "data": {
      "text/html": [
       "<pre>| 6       | 8.66s        | 7.2429            | 2.69074               | 0.390625    |</pre>"
      ],
      "text/plain": [
       "| 6       | 8.66s        | 7.2429            | 2.69074               | 0.390625    |"
      ]
     },
     "metadata": {},
     "output_type": "display_data"
    },
    {
     "data": {
      "text/html": [
       "<pre>| 11      | 11.41s       | 6.88142           | 2.62272               | 0.390625    |</pre>"
      ],
      "text/plain": [
       "| 11      | 11.41s       | 6.88142           | 2.62272               | 0.390625    |"
      ]
     },
     "metadata": {},
     "output_type": "display_data"
    },
    {
     "data": {
      "text/html": [
       "<pre>| 16      | 14.09s       | 6.72208           | 2.59216               | 0.390625    |</pre>"
      ],
      "text/plain": [
       "| 16      | 14.09s       | 6.72208           | 2.59216               | 0.390625    |"
      ]
     },
     "metadata": {},
     "output_type": "display_data"
    },
    {
     "data": {
      "text/html": [
       "<pre>| 21      | 16.94s       | 6.63674           | 2.57564               | 0.390625    |</pre>"
      ],
      "text/plain": [
       "| 21      | 16.94s       | 6.63674           | 2.57564               | 0.390625    |"
      ]
     },
     "metadata": {},
     "output_type": "display_data"
    },
    {
     "data": {
      "text/html": [
       "<pre>| 26      | 19.77s       | 6.5857            | 2.56571               | 0.390625    |</pre>"
      ],
      "text/plain": [
       "| 26      | 19.77s       | 6.5857            | 2.56571               | 0.390625    |"
      ]
     },
     "metadata": {},
     "output_type": "display_data"
    },
    {
     "data": {
      "text/html": [
       "<pre>| 31      | 22.58s       | 6.55076           | 2.55889               | 0.390625    |</pre>"
      ],
      "text/plain": [
       "| 31      | 22.58s       | 6.55076           | 2.55889               | 0.390625    |"
      ]
     },
     "metadata": {},
     "output_type": "display_data"
    },
    {
     "data": {
      "text/html": [
       "<pre>| 36      | 25.49s       | 6.52455           | 2.55376               | 0.390625    |</pre>"
      ],
      "text/plain": [
       "| 36      | 25.49s       | 6.52455           | 2.55376               | 0.390625    |"
      ]
     },
     "metadata": {},
     "output_type": "display_data"
    },
    {
     "data": {
      "text/html": [
       "<pre>| 41      | 28.49s       | 6.50538           | 2.55                  | 0.390625    |</pre>"
      ],
      "text/plain": [
       "| 41      | 28.49s       | 6.50538           | 2.55                  | 0.390625    |"
      ]
     },
     "metadata": {},
     "output_type": "display_data"
    },
    {
     "data": {
      "text/html": [
       "<pre>| 44      | 30.22s       | 6.49728           | 2.54841               | 0.390625    |</pre>"
      ],
      "text/plain": [
       "| 44      | 30.22s       | 6.49728           | 2.54841               | 0.390625    |"
      ]
     },
     "metadata": {},
     "output_type": "display_data"
    },
    {
     "data": {
      "text/html": [
       "<pre>| 46      | 31.37s       | 6.49243           | 2.54746               | 0.390625    |</pre>"
      ],
      "text/plain": [
       "| 46      | 31.37s       | 6.49243           | 2.54746               | 0.390625    |"
      ]
     },
     "metadata": {},
     "output_type": "display_data"
    },
    {
     "data": {
      "text/html": [
       "<pre>| 51      | 34.47s       | 6.48519           | 2.54603               | 0.390625    |</pre>"
      ],
      "text/plain": [
       "| 51      | 34.47s       | 6.48519           | 2.54603               | 0.390625    |"
      ]
     },
     "metadata": {},
     "output_type": "display_data"
    },
    {
     "data": {
      "text/html": [
       "<pre>| 56      | 37.68s       | 6.47994           | 2.545                 | 0.390625    |</pre>"
      ],
      "text/plain": [
       "| 56      | 37.68s       | 6.47994           | 2.545                 | 0.390625    |"
      ]
     },
     "metadata": {},
     "output_type": "display_data"
    },
    {
     "data": {
      "text/html": [
       "<pre>| 61      | 40.79s       | 6.47892           | 2.5448                | 0.390625    |</pre>"
      ],
      "text/plain": [
       "| 61      | 40.79s       | 6.47892           | 2.5448                | 0.390625    |"
      ]
     },
     "metadata": {},
     "output_type": "display_data"
    },
    {
     "data": {
      "text/html": [
       "<pre>| 66      | 43.75s       | 6.46765           | 2.54258               | 0.390625    |</pre>"
      ],
      "text/plain": [
       "| 66      | 43.75s       | 6.46765           | 2.54258               | 0.390625    |"
      ]
     },
     "metadata": {},
     "output_type": "display_data"
    },
    {
     "data": {
      "text/html": [
       "<pre>| 71      | 46.77s       | 6.45838           | 2.54076               | 0.390625    |</pre>"
      ],
      "text/plain": [
       "| 71      | 46.77s       | 6.45838           | 2.54076               | 0.390625    |"
      ]
     },
     "metadata": {},
     "output_type": "display_data"
    },
    {
     "data": {
      "text/html": [
       "<pre>| 76      | 49.82s       | 6.45261           | 2.53962               | 0.390625    |</pre>"
      ],
      "text/plain": [
       "| 76      | 49.82s       | 6.45261           | 2.53962               | 0.390625    |"
      ]
     },
     "metadata": {},
     "output_type": "display_data"
    },
    {
     "data": {
      "text/html": [
       "<pre>| 81      | 52.86s       | 6.45181           | 2.53946               | 0.390625    |</pre>"
      ],
      "text/plain": [
       "| 81      | 52.86s       | 6.45181           | 2.53946               | 0.390625    |"
      ]
     },
     "metadata": {},
     "output_type": "display_data"
    },
    {
     "data": {
      "text/html": [
       "<pre>| 86      | 55.83s       | 6.43965           | 2.53707               | 0.390625    |</pre>"
      ],
      "text/plain": [
       "| 86      | 55.83s       | 6.43965           | 2.53707               | 0.390625    |"
      ]
     },
     "metadata": {},
     "output_type": "display_data"
    },
    {
     "data": {
      "text/html": [
       "<pre>| 91      | 58.87s       | 6.43345           | 2.53584               | 0.390625    |</pre>"
      ],
      "text/plain": [
       "| 91      | 58.87s       | 6.43345           | 2.53584               | 0.390625    |"
      ]
     },
     "metadata": {},
     "output_type": "display_data"
    },
    {
     "data": {
      "text/html": [
       "<pre>| 94      | 1m 0s        | 6.4313            | 2.53542               | 0.390625    |</pre>"
      ],
      "text/plain": [
       "| 94      | 1m 0s        | 6.4313            | 2.53542               | 0.390625    |"
      ]
     },
     "metadata": {},
     "output_type": "display_data"
    },
    {
     "data": {
      "text/html": [
       "<pre>| 96      | 1m 2s        | 6.43084           | 2.53533               | 0.390625    |</pre>"
      ],
      "text/plain": [
       "| 96      | 1m 2s        | 6.43084           | 2.53533               | 0.390625    |"
      ]
     },
     "metadata": {},
     "output_type": "display_data"
    },
    {
     "data": {
      "text/html": [
       "<pre>| 101     | 1m 5s        | 6.42941           | 2.53505               | 0.390625    |</pre>"
      ],
      "text/plain": [
       "| 101     | 1m 5s        | 6.42941           | 2.53505               | 0.390625    |"
      ]
     },
     "metadata": {},
     "output_type": "display_data"
    },
    {
     "data": {
      "text/html": [
       "<pre>| 106     | 1m 8s        | 6.45986           | 2.54105               | 0.390625    |</pre>"
      ],
      "text/plain": [
       "| 106     | 1m 8s        | 6.45986           | 2.54105               | 0.390625    |"
      ]
     },
     "metadata": {},
     "output_type": "display_data"
    },
    {
     "data": {
      "text/html": [
       "<pre>| 111     | 1m 11s       | 6.43265           | 2.53569               | 0.390625    |</pre>"
      ],
      "text/plain": [
       "| 111     | 1m 11s       | 6.43265           | 2.53569               | 0.390625    |"
      ]
     },
     "metadata": {},
     "output_type": "display_data"
    },
    {
     "data": {
      "text/html": [
       "<pre>| 116     | 1m 14s       | 6.41793           | 2.53278               | 0.390625    |</pre>"
      ],
      "text/plain": [
       "| 116     | 1m 14s       | 6.41793           | 2.53278               | 0.390625    |"
      ]
     },
     "metadata": {},
     "output_type": "display_data"
    },
    {
     "data": {
      "text/html": [
       "<pre>| 121     | 1m 17s       | 6.41479           | 2.53216               | 0.390625    |</pre>"
      ],
      "text/plain": [
       "| 121     | 1m 17s       | 6.41479           | 2.53216               | 0.390625    |"
      ]
     },
     "metadata": {},
     "output_type": "display_data"
    },
    {
     "data": {
      "text/html": [
       "<pre>| 126     | 1m 20s       | 6.41239           | 2.53169               | 0.390625    |</pre>"
      ],
      "text/plain": [
       "| 126     | 1m 20s       | 6.41239           | 2.53169               | 0.390625    |"
      ]
     },
     "metadata": {},
     "output_type": "display_data"
    },
    {
     "data": {
      "text/html": [
       "<pre>| 131     | 1m 24s       | 6.43934           | 2.53701               | 0.390625    |</pre>"
      ],
      "text/plain": [
       "| 131     | 1m 24s       | 6.43934           | 2.53701               | 0.390625    |"
      ]
     },
     "metadata": {},
     "output_type": "display_data"
    },
    {
     "data": {
      "text/html": [
       "<pre>| 136     | 1m 27s       | 6.39611           | 2.52848               | 0.390625    |</pre>"
      ],
      "text/plain": [
       "| 136     | 1m 27s       | 6.39611           | 2.52848               | 0.390625    |"
      ]
     },
     "metadata": {},
     "output_type": "display_data"
    },
    {
     "data": {
      "text/html": [
       "<pre>| 141     | 1m 30s       | 6.39571           | 2.5284                | 0.390625    |</pre>"
      ],
      "text/plain": [
       "| 141     | 1m 30s       | 6.39571           | 2.5284                | 0.390625    |"
      ]
     },
     "metadata": {},
     "output_type": "display_data"
    },
    {
     "data": {
      "text/html": [
       "<pre>| 146     | 1m 33s       | 6.42262           | 2.53372               | 0.390625    |</pre>"
      ],
      "text/plain": [
       "| 146     | 1m 33s       | 6.42262           | 2.53372               | 0.390625    |"
      ]
     },
     "metadata": {},
     "output_type": "display_data"
    },
    {
     "data": {
      "text/html": [
       "<pre>| 151     | 1m 36s       | 6.38666           | 2.52661               | 0.390625    |</pre>"
      ],
      "text/plain": [
       "| 151     | 1m 36s       | 6.38666           | 2.52661               | 0.390625    |"
      ]
     },
     "metadata": {},
     "output_type": "display_data"
    },
    {
     "data": {
      "text/html": [
       "<pre>| 156     | 1m 40s       | 6.37507           | 2.52432               | 0.390625    |</pre>"
      ],
      "text/plain": [
       "| 156     | 1m 40s       | 6.37507           | 2.52432               | 0.390625    |"
      ]
     },
     "metadata": {},
     "output_type": "display_data"
    },
    {
     "data": {
      "text/html": [
       "<pre>| 161     | 1m 43s       | 6.39468           | 2.52821               | 0.390625    |</pre>"
      ],
      "text/plain": [
       "| 161     | 1m 43s       | 6.39468           | 2.52821               | 0.390625    |"
      ]
     },
     "metadata": {},
     "output_type": "display_data"
    },
    {
     "data": {
      "text/html": [
       "<pre>| 166     | 1m 46s       | 6.42741           | 2.53467               | 0.390625    |</pre>"
      ],
      "text/plain": [
       "| 166     | 1m 46s       | 6.42741           | 2.53467               | 0.390625    |"
      ]
     },
     "metadata": {},
     "output_type": "display_data"
    },
    {
     "data": {
      "text/html": [
       "<pre>| 171     | 1m 49s       | 6.34586           | 2.51854               | 0.390625    |</pre>"
      ],
      "text/plain": [
       "| 171     | 1m 49s       | 6.34586           | 2.51854               | 0.390625    |"
      ]
     },
     "metadata": {},
     "output_type": "display_data"
    },
    {
     "data": {
      "text/html": [
       "<pre>| 176     | 1m 53s       | 6.32946           | 2.51528               | 0.390625    |</pre>"
      ],
      "text/plain": [
       "| 176     | 1m 53s       | 6.32946           | 2.51528               | 0.390625    |"
      ]
     },
     "metadata": {},
     "output_type": "display_data"
    },
    {
     "data": {
      "text/html": [
       "<pre>| 181     | 1m 56s       | 6.38242           | 2.52579               | 0.390625    |</pre>"
      ],
      "text/plain": [
       "| 181     | 1m 56s       | 6.38242           | 2.52579               | 0.390625    |"
      ]
     },
     "metadata": {},
     "output_type": "display_data"
    },
    {
     "data": {
      "text/html": [
       "<pre>| 186     | 1m 59s       | 6.41215           | 2.53167               | 0.390625    |</pre>"
      ],
      "text/plain": [
       "| 186     | 1m 59s       | 6.41215           | 2.53167               | 0.390625    |"
      ]
     },
     "metadata": {},
     "output_type": "display_data"
    },
    {
     "data": {
      "text/html": [
       "<pre>| 191     | 2m 3s        | 6.42214           | 2.53365               | 0.390625    |</pre>"
      ],
      "text/plain": [
       "| 191     | 2m 3s        | 6.42214           | 2.53365               | 0.390625    |"
      ]
     },
     "metadata": {},
     "output_type": "display_data"
    },
    {
     "data": {
      "text/html": [
       "<pre>| 196     | 2m 6s        | 6.32245           | 2.5139                | 0.390625    |</pre>"
      ],
      "text/plain": [
       "| 196     | 2m 6s        | 6.32245           | 2.5139                | 0.390625    |"
      ]
     },
     "metadata": {},
     "output_type": "display_data"
    },
    {
     "data": {
      "text/html": [
       "<pre>| 201     | 2m 9s        | 6.37532           | 2.5244                | 0.390625    |</pre>"
      ],
      "text/plain": [
       "| 201     | 2m 9s        | 6.37532           | 2.5244                | 0.390625    |"
      ]
     },
     "metadata": {},
     "output_type": "display_data"
    },
    {
     "data": {
      "text/html": [
       "<pre>| 206     | 2m 13s       | 6.37633           | 2.5246                | 0.390625    |</pre>"
      ],
      "text/plain": [
       "| 206     | 2m 13s       | 6.37633           | 2.5246                | 0.390625    |"
      ]
     },
     "metadata": {},
     "output_type": "display_data"
    },
    {
     "data": {
      "text/html": [
       "<pre>| 211     | 2m 16s       | 6.386             | 2.52652               | 0.390625    |</pre>"
      ],
      "text/plain": [
       "| 211     | 2m 16s       | 6.386             | 2.52652               | 0.390625    |"
      ]
     },
     "metadata": {},
     "output_type": "display_data"
    },
    {
     "data": {
      "text/html": [
       "<pre>| 216     | 2m 19s       | 6.48824           | 2.54668               | 0.390625    |</pre>"
      ],
      "text/plain": [
       "| 216     | 2m 19s       | 6.48824           | 2.54668               | 0.390625    |"
      ]
     },
     "metadata": {},
     "output_type": "display_data"
    },
    {
     "data": {
      "text/html": [
       "<pre>| 221     | 2m 23s       | 6.38825           | 2.52698               | 0.390625    |</pre>"
      ],
      "text/plain": [
       "| 221     | 2m 23s       | 6.38825           | 2.52698               | 0.390625    |"
      ]
     },
     "metadata": {},
     "output_type": "display_data"
    },
    {
     "data": {
      "text/html": [
       "<pre>| 226     | 2m 27s       | 6.34952           | 2.51931               | 0.390625    |</pre>"
      ],
      "text/plain": [
       "| 226     | 2m 27s       | 6.34952           | 2.51931               | 0.390625    |"
      ]
     },
     "metadata": {},
     "output_type": "display_data"
    },
    {
     "data": {
      "text/html": [
       "<pre>| 231     | 2m 30s       | 6.46272           | 2.54168               | 0.390625    |</pre>"
      ],
      "text/plain": [
       "| 231     | 2m 30s       | 6.46272           | 2.54168               | 0.390625    |"
      ]
     },
     "metadata": {},
     "output_type": "display_data"
    },
    {
     "data": {
      "text/html": [
       "<pre>| 236     | 2m 34s       | 6.46581           | 2.5423                | 0.390625    |</pre>"
      ],
      "text/plain": [
       "| 236     | 2m 34s       | 6.46581           | 2.5423                | 0.390625    |"
      ]
     },
     "metadata": {},
     "output_type": "display_data"
    },
    {
     "data": {
      "text/html": [
       "<pre>| 241     | 2m 37s       | 6.47754           | 2.54462               | 0.390625    |</pre>"
      ],
      "text/plain": [
       "| 241     | 2m 37s       | 6.47754           | 2.54462               | 0.390625    |"
      ]
     },
     "metadata": {},
     "output_type": "display_data"
    },
    {
     "data": {
      "text/html": [
       "<pre>| 246     | 2m 40s       | 6.51331           | 2.55164               | 0.390625    |</pre>"
      ],
      "text/plain": [
       "| 246     | 2m 40s       | 6.51331           | 2.55164               | 0.390625    |"
      ]
     },
     "metadata": {},
     "output_type": "display_data"
    },
    {
     "data": {
      "text/html": [
       "<pre>| 251     | 2m 43s       | 6.55446           | 2.5597                | 0.390625    |</pre>"
      ],
      "text/plain": [
       "| 251     | 2m 43s       | 6.55446           | 2.5597                | 0.390625    |"
      ]
     },
     "metadata": {},
     "output_type": "display_data"
    },
    {
     "data": {
      "text/html": [
       "<pre>| 256     | 2m 47s       | 6.48405           | 2.54591               | 0.390625    |</pre>"
      ],
      "text/plain": [
       "| 256     | 2m 47s       | 6.48405           | 2.54591               | 0.390625    |"
      ]
     },
     "metadata": {},
     "output_type": "display_data"
    },
    {
     "data": {
      "text/html": [
       "<pre>| 261     | 2m 50s       | 6.4469            | 2.53861               | 0.390625    |</pre>"
      ],
      "text/plain": [
       "| 261     | 2m 50s       | 6.4469            | 2.53861               | 0.390625    |"
      ]
     },
     "metadata": {},
     "output_type": "display_data"
    },
    {
     "data": {
      "text/html": [
       "<pre>| 266     | 2m 53s       | 6.56958           | 2.56267               | 0.390625    |</pre>"
      ],
      "text/plain": [
       "| 266     | 2m 53s       | 6.56958           | 2.56267               | 0.390625    |"
      ]
     },
     "metadata": {},
     "output_type": "display_data"
    },
    {
     "data": {
      "text/html": [
       "<pre>| 271     | 2m 57s       | 6.64066           | 2.57651               | 0.390625    |</pre>"
      ],
      "text/plain": [
       "| 271     | 2m 57s       | 6.64066           | 2.57651               | 0.390625    |"
      ]
     },
     "metadata": {},
     "output_type": "display_data"
    },
    {
     "data": {
      "text/html": [
       "<pre>| 276     | 3m 0s        | 6.6857            | 2.58524               | 0.390625    |</pre>"
      ],
      "text/plain": [
       "| 276     | 3m 0s        | 6.6857            | 2.58524               | 0.390625    |"
      ]
     },
     "metadata": {},
     "output_type": "display_data"
    },
    {
     "data": {
      "text/html": [
       "<pre>| 281     | 3m 3s        | 6.57219           | 2.5632                | 0.390625    |</pre>"
      ],
      "text/plain": [
       "| 281     | 3m 3s        | 6.57219           | 2.5632                | 0.390625    |"
      ]
     },
     "metadata": {},
     "output_type": "display_data"
    },
    {
     "data": {
      "text/html": [
       "<pre>| 286     | 3m 7s        | 6.68599           | 2.58531               | 0.390625    |</pre>"
      ],
      "text/plain": [
       "| 286     | 3m 7s        | 6.68599           | 2.58531               | 0.390625    |"
      ]
     },
     "metadata": {},
     "output_type": "display_data"
    },
    {
     "data": {
      "text/html": [
       "<pre>| 291     | 3m 10s       | 6.88505           | 2.62353               | 0.390625    |</pre>"
      ],
      "text/plain": [
       "| 291     | 3m 10s       | 6.88505           | 2.62353               | 0.390625    |"
      ]
     },
     "metadata": {},
     "output_type": "display_data"
    },
    {
     "data": {
      "text/html": [
       "<pre>| 296     | 3m 13s       | 6.89537           | 2.6255                | 0.390625    |</pre>"
      ],
      "text/plain": [
       "| 296     | 3m 13s       | 6.89537           | 2.6255                | 0.390625    |"
      ]
     },
     "metadata": {},
     "output_type": "display_data"
    },
    {
     "data": {
      "text/html": [
       "<pre>| 301     | 3m 17s       | 6.8805            | 2.62268               | 0.390625    |</pre>"
      ],
      "text/plain": [
       "| 301     | 3m 17s       | 6.8805            | 2.62268               | 0.390625    |"
      ]
     },
     "metadata": {},
     "output_type": "display_data"
    },
    {
     "data": {
      "text/html": [
       "<pre>| 306     | 3m 20s       | 7.17472           | 2.67819               | 0.390625    |</pre>"
      ],
      "text/plain": [
       "| 306     | 3m 20s       | 7.17472           | 2.67819               | 0.390625    |"
      ]
     },
     "metadata": {},
     "output_type": "display_data"
    },
    {
     "data": {
      "text/html": [
       "<pre>| 311     | 3m 23s       | 7.8078            | 2.7939                | 0.390625    |</pre>"
      ],
      "text/plain": [
       "| 311     | 3m 23s       | 7.8078            | 2.7939                | 0.390625    |"
      ]
     },
     "metadata": {},
     "output_type": "display_data"
    },
    {
     "data": {
      "text/html": [
       "<pre>| 316     | 3m 26s       | 8.01712           | 2.83113               | 0.390625    |</pre>"
      ],
      "text/plain": [
       "| 316     | 3m 26s       | 8.01712           | 2.83113               | 0.390625    |"
      ]
     },
     "metadata": {},
     "output_type": "display_data"
    },
    {
     "data": {
      "text/html": [
       "<pre>| 321     | 3m 30s       | 9.555             | 3.09084               | 0.390625    |</pre>"
      ],
      "text/plain": [
       "| 321     | 3m 30s       | 9.555             | 3.09084               | 0.390625    |"
      ]
     },
     "metadata": {},
     "output_type": "display_data"
    },
    {
     "data": {
      "text/html": [
       "<pre>| 326     | 3m 33s       | 12.6938           | 3.56261               | 0.390625    |</pre>"
      ],
      "text/plain": [
       "| 326     | 3m 33s       | 12.6938           | 3.56261               | 0.390625    |"
      ]
     },
     "metadata": {},
     "output_type": "display_data"
    },
    {
     "data": {
      "text/html": [
       "<pre>| 327     | 3m 34s       | DIVERGED          | DIVERGED              | 0.390625    |</pre>"
      ],
      "text/plain": [
       "| 327     | 3m 34s       | DIVERGED          | DIVERGED              | 0.390625    |"
      ]
     },
     "metadata": {},
     "output_type": "display_data"
    },
    {
     "data": {
      "text/html": [
       "<pre>| RESET   | 3m 34s       | 9.8062            | 3.13149               |             |</pre>"
      ],
      "text/plain": [
       "| RESET   | 3m 34s       | 9.8062            | 3.13149               |             |"
      ]
     },
     "metadata": {},
     "output_type": "display_data"
    },
    {
     "data": {
      "text/html": [
       "<pre>| 4       | 3m 37s       | 7.50939           | 2.7402                | 0.195312    |</pre>"
      ],
      "text/plain": [
       "| 4       | 3m 37s       | 7.50939           | 2.7402                | 0.195312    |"
      ]
     },
     "metadata": {},
     "output_type": "display_data"
    },
    {
     "data": {
      "text/html": [
       "<pre>| 9       | 3m 40s       | 7.06275           | 2.65746               | 0.195312    |</pre>"
      ],
      "text/plain": [
       "| 9       | 3m 40s       | 7.06275           | 2.65746               | 0.195312    |"
      ]
     },
     "metadata": {},
     "output_type": "display_data"
    },
    {
     "data": {
      "text/html": [
       "<pre>| 14      | 3m 44s       | 7.04862           | 2.65481               | 0.195312    |</pre>"
      ],
      "text/plain": [
       "| 14      | 3m 44s       | 7.04862           | 2.65481               | 0.195312    |"
      ]
     },
     "metadata": {},
     "output_type": "display_data"
    },
    {
     "data": {
      "text/html": [
       "<pre>| 19      | 3m 47s       | 7.09119           | 2.66282               | 0.195312    |</pre>"
      ],
      "text/plain": [
       "| 19      | 3m 47s       | 7.09119           | 2.66282               | 0.195312    |"
      ]
     },
     "metadata": {},
     "output_type": "display_data"
    },
    {
     "data": {
      "text/html": [
       "<pre>| 24      | 3m 50s       | 7.11099           | 2.66653               | 0.195312    |</pre>"
      ],
      "text/plain": [
       "| 24      | 3m 50s       | 7.11099           | 2.66653               | 0.195312    |"
      ]
     },
     "metadata": {},
     "output_type": "display_data"
    },
    {
     "data": {
      "text/html": [
       "<pre>| 29      | 3m 53s       | 7.13326           | 2.67071               | 0.195312    |</pre>"
      ],
      "text/plain": [
       "| 29      | 3m 53s       | 7.13326           | 2.67071               | 0.195312    |"
      ]
     },
     "metadata": {},
     "output_type": "display_data"
    },
    {
     "data": {
      "text/html": [
       "<pre>| 34      | 3m 57s       | 7.12518           | 2.66919               | 0.195312    |</pre>"
      ],
      "text/plain": [
       "| 34      | 3m 57s       | 7.12518           | 2.66919               | 0.195312    |"
      ]
     },
     "metadata": {},
     "output_type": "display_data"
    },
    {
     "data": {
      "text/html": [
       "<pre>| 39      | 4m 0s        | 7.13337           | 2.67073               | 0.195312    |</pre>"
      ],
      "text/plain": [
       "| 39      | 4m 0s        | 7.13337           | 2.67073               | 0.195312    |"
      ]
     },
     "metadata": {},
     "output_type": "display_data"
    },
    {
     "data": {
      "text/html": [
       "<pre>| 44      | 4m 4s        | 7.13127           | 2.67034               | 0.195312    |</pre>"
      ],
      "text/plain": [
       "| 44      | 4m 4s        | 7.13127           | 2.67034               | 0.195312    |"
      ]
     },
     "metadata": {},
     "output_type": "display_data"
    },
    {
     "data": {
      "text/html": [
       "<pre>| 49      | 4m 7s        | 7.12156           | 2.66852               | 0.195312    |</pre>"
      ],
      "text/plain": [
       "| 49      | 4m 7s        | 7.12156           | 2.66852               | 0.195312    |"
      ]
     },
     "metadata": {},
     "output_type": "display_data"
    },
    {
     "data": {
      "text/html": [
       "<pre>| 54      | 4m 10s       | 7.14255           | 2.67245               | 0.195312    |</pre>"
      ],
      "text/plain": [
       "| 54      | 4m 10s       | 7.14255           | 2.67245               | 0.195312    |"
      ]
     },
     "metadata": {},
     "output_type": "display_data"
    },
    {
     "data": {
      "text/html": [
       "<pre>| 59      | 4m 13s       | 7.13993           | 2.67196               | 0.195312    |</pre>"
      ],
      "text/plain": [
       "| 59      | 4m 13s       | 7.13993           | 2.67196               | 0.195312    |"
      ]
     },
     "metadata": {},
     "output_type": "display_data"
    },
    {
     "data": {
      "text/html": [
       "<pre>| 64      | 4m 17s       | 7.12505           | 2.66918               | 0.195312    |</pre>"
      ],
      "text/plain": [
       "| 64      | 4m 17s       | 7.12505           | 2.66918               | 0.195312    |"
      ]
     },
     "metadata": {},
     "output_type": "display_data"
    },
    {
     "data": {
      "text/html": [
       "<pre>| 69      | 4m 20s       | 7.12506           | 2.66918               | 0.195312    |</pre>"
      ],
      "text/plain": [
       "| 69      | 4m 20s       | 7.12506           | 2.66918               | 0.195312    |"
      ]
     },
     "metadata": {},
     "output_type": "display_data"
    },
    {
     "data": {
      "text/html": [
       "<pre>| 74      | 4m 23s       | 7.11978           | 2.66819               | 0.195312    |</pre>"
      ],
      "text/plain": [
       "| 74      | 4m 23s       | 7.11978           | 2.66819               | 0.195312    |"
      ]
     },
     "metadata": {},
     "output_type": "display_data"
    },
    {
     "data": {
      "text/html": [
       "<pre>| 79      | 4m 27s       | 7.1181            | 2.66787               | 0.195312    |</pre>"
      ],
      "text/plain": [
       "| 79      | 4m 27s       | 7.1181            | 2.66787               | 0.195312    |"
      ]
     },
     "metadata": {},
     "output_type": "display_data"
    },
    {
     "data": {
      "text/html": [
       "<pre>| 84      | 4m 30s       | 7.13089           | 2.67027               | 0.195312    |</pre>"
      ],
      "text/plain": [
       "| 84      | 4m 30s       | 7.13089           | 2.67027               | 0.195312    |"
      ]
     },
     "metadata": {},
     "output_type": "display_data"
    },
    {
     "data": {
      "text/html": [
       "<pre>| 89      | 4m 33s       | 7.1202            | 2.66827               | 0.195312    |</pre>"
      ],
      "text/plain": [
       "| 89      | 4m 33s       | 7.1202            | 2.66827               | 0.195312    |"
      ]
     },
     "metadata": {},
     "output_type": "display_data"
    },
    {
     "data": {
      "text/html": [
       "<pre>| 94      | 4m 36s       | 7.12679           | 2.6695                | 0.195312    |</pre>"
      ],
      "text/plain": [
       "| 94      | 4m 36s       | 7.12679           | 2.6695                | 0.195312    |"
      ]
     },
     "metadata": {},
     "output_type": "display_data"
    },
    {
     "data": {
      "text/html": [
       "<pre>| 99      | 4m 40s       | 7.10716           | 2.66583               | 0.195312    |</pre>"
      ],
      "text/plain": [
       "| 99      | 4m 40s       | 7.10716           | 2.66583               | 0.195312    |"
      ]
     },
     "metadata": {},
     "output_type": "display_data"
    },
    {
     "data": {
      "text/html": [
       "<pre>| 104     | 4m 43s       | 7.12064           | 2.66835               | 0.195312    |</pre>"
      ],
      "text/plain": [
       "| 104     | 4m 43s       | 7.12064           | 2.66835               | 0.195312    |"
      ]
     },
     "metadata": {},
     "output_type": "display_data"
    },
    {
     "data": {
      "text/html": [
       "<pre>| 109     | 4m 47s       | 7.11403           | 2.66711               | 0.195312    |</pre>"
      ],
      "text/plain": [
       "| 109     | 4m 47s       | 7.11403           | 2.66711               | 0.195312    |"
      ]
     },
     "metadata": {},
     "output_type": "display_data"
    },
    {
     "data": {
      "text/html": [
       "<pre>| 114     | 4m 51s       | 7.11189           | 2.66671               | 0.195312    |</pre>"
      ],
      "text/plain": [
       "| 114     | 4m 51s       | 7.11189           | 2.66671               | 0.195312    |"
      ]
     },
     "metadata": {},
     "output_type": "display_data"
    },
    {
     "data": {
      "text/html": [
       "<pre>| 119     | 4m 55s       | 7.12048           | 2.66832               | 0.195312    |</pre>"
      ],
      "text/plain": [
       "| 119     | 4m 55s       | 7.12048           | 2.66832               | 0.195312    |"
      ]
     },
     "metadata": {},
     "output_type": "display_data"
    },
    {
     "data": {
      "text/html": [
       "<pre>| 124     | 4m 59s       | 7.10868           | 2.66611               | 0.195312    |</pre>"
      ],
      "text/plain": [
       "| 124     | 4m 59s       | 7.10868           | 2.66611               | 0.195312    |"
      ]
     },
     "metadata": {},
     "output_type": "display_data"
    },
    {
     "data": {
      "text/html": [
       "<pre>| 129     | 5m 2s        | 7.09832           | 2.66417               | 0.195312    |</pre>"
      ],
      "text/plain": [
       "| 129     | 5m 2s        | 7.09832           | 2.66417               | 0.195312    |"
      ]
     },
     "metadata": {},
     "output_type": "display_data"
    },
    {
     "data": {
      "text/html": [
       "<pre>| 134     | 5m 6s        | 7.10253           | 2.66496               | 0.195312    |</pre>"
      ],
      "text/plain": [
       "| 134     | 5m 6s        | 7.10253           | 2.66496               | 0.195312    |"
      ]
     },
     "metadata": {},
     "output_type": "display_data"
    },
    {
     "data": {
      "text/html": [
       "<pre>| 139     | 5m 9s        | 7.10495           | 2.66541               | 0.195312    |</pre>"
      ],
      "text/plain": [
       "| 139     | 5m 9s        | 7.10495           | 2.66541               | 0.195312    |"
      ]
     },
     "metadata": {},
     "output_type": "display_data"
    },
    {
     "data": {
      "text/html": [
       "<pre>| 144     | 5m 13s       | 7.08829           | 2.66228               | 0.195312    |</pre>"
      ],
      "text/plain": [
       "| 144     | 5m 13s       | 7.08829           | 2.66228               | 0.195312    |"
      ]
     },
     "metadata": {},
     "output_type": "display_data"
    },
    {
     "data": {
      "text/html": [
       "<pre>| 149     | 5m 16s       | 7.08959           | 2.66253               | 0.195312    |</pre>"
      ],
      "text/plain": [
       "| 149     | 5m 16s       | 7.08959           | 2.66253               | 0.195312    |"
      ]
     },
     "metadata": {},
     "output_type": "display_data"
    },
    {
     "data": {
      "text/html": [
       "<pre>| 154     | 5m 20s       | 7.08967           | 2.66254               | 0.195312    |</pre>"
      ],
      "text/plain": [
       "| 154     | 5m 20s       | 7.08967           | 2.66254               | 0.195312    |"
      ]
     },
     "metadata": {},
     "output_type": "display_data"
    },
    {
     "data": {
      "text/html": [
       "<pre>| 159     | 5m 23s       | 7.08919           | 2.66245               | 0.195312    |</pre>"
      ],
      "text/plain": [
       "| 159     | 5m 23s       | 7.08919           | 2.66245               | 0.195312    |"
      ]
     },
     "metadata": {},
     "output_type": "display_data"
    },
    {
     "data": {
      "text/html": [
       "<pre>| 164     | 5m 26s       | 7.08008           | 2.66074               | 0.195312    |</pre>"
      ],
      "text/plain": [
       "| 164     | 5m 26s       | 7.08008           | 2.66074               | 0.195312    |"
      ]
     },
     "metadata": {},
     "output_type": "display_data"
    },
    {
     "data": {
      "text/html": [
       "<pre>| 168     | 5m 29s       | 7.09208           | 2.663                 | 0.195312    |</pre>"
      ],
      "text/plain": [
       "| 168     | 5m 29s       | 7.09208           | 2.663                 | 0.195312    |"
      ]
     },
     "metadata": {},
     "output_type": "display_data"
    },
    {
     "data": {
      "text/html": [
       "<pre>| 169     | 5m 30s       | 7.0887            | 2.66236               | 0.195312    |</pre>"
      ],
      "text/plain": [
       "| 169     | 5m 30s       | 7.0887            | 2.66236               | 0.195312    |"
      ]
     },
     "metadata": {},
     "output_type": "display_data"
    },
    {
     "data": {
      "text/html": [
       "<pre>+---------+--------------+-------------------+-----------------------+-------------+</pre>"
      ],
      "text/plain": [
       "+---------+--------------+-------------------+-----------------------+-------------+"
      ]
     },
     "metadata": {},
     "output_type": "display_data"
    },
    {
     "data": {
      "text/html": [
       "<pre>Optimization Complete: Maximum number of passes through the data reached (hard limit).</pre>"
      ],
      "text/plain": [
       "Optimization Complete: Maximum number of passes through the data reached (hard limit)."
      ]
     },
     "metadata": {},
     "output_type": "display_data"
    },
    {
     "data": {
      "text/html": [
       "<pre>Computing final objective value and training RMSE.</pre>"
      ],
      "text/plain": [
       "Computing final objective value and training RMSE."
      ]
     },
     "metadata": {},
     "output_type": "display_data"
    },
    {
     "data": {
      "text/html": [
       "<pre>       Final objective value: 7.10116</pre>"
      ],
      "text/plain": [
       "       Final objective value: 7.10116"
      ]
     },
     "metadata": {},
     "output_type": "display_data"
    },
    {
     "data": {
      "text/html": [
       "<pre>       Final training RMSE: 2.6647</pre>"
      ],
      "text/plain": [
       "       Final training RMSE: 2.6647"
      ]
     },
     "metadata": {},
     "output_type": "display_data"
    }
   ],
   "source": [
    "m5 = gl.factorization_recommender.create(train, user_id='User_ID', item_id='Article_ID', \n",
    "                                         target='Rating', user_data = user, item_data = article,\n",
    "                                         nmf = True, max_iterations = 500)"
   ]
  },
  {
   "cell_type": "code",
   "execution_count": 66,
   "metadata": {
    "collapsed": false
   },
   "outputs": [
    {
     "data": {
      "text/plain": [
       "(-89.82091863960522, 87.8320696898736)"
      ]
     },
     "execution_count": 66,
     "metadata": {},
     "output_type": "execute_result"
    }
   ],
   "source": [
    "scores6 = m5.predict(pairs_to_inspect3)\n",
    "min(scores6), max(scores6)"
   ]
  },
  {
   "cell_type": "code",
   "execution_count": 71,
   "metadata": {
    "collapsed": true
   },
   "outputs": [],
   "source": [
    "submit6_1 = pairs_to_inspect3.select_columns(['ID'])\n",
    "submit6_1['Rating'] = scores6\n",
    "min6 = min(scores6)\n",
    "width6 = max(scores6) - min(scores6)\n",
    "submit6_1['Rating'] = submit6_1['Rating'] - min6\n",
    "submit6_1['Rating'] = submit6_1['Rating'] * 6 / width6\n",
    "submit6_1.save('submit_gl_6_1.csv', format='csv')"
   ]
  },
  {
   "cell_type": "code",
   "execution_count": 68,
   "metadata": {
    "collapsed": false
   },
   "outputs": [
    {
     "data": {
      "text/html": [
       "<pre>Recsys training: model = factorization_recommender</pre>"
      ],
      "text/plain": [
       "Recsys training: model = factorization_recommender"
      ]
     },
     "metadata": {},
     "output_type": "display_data"
    },
    {
     "data": {
      "text/html": [
       "<pre>Preparing data set.</pre>"
      ],
      "text/plain": [
       "Preparing data set."
      ]
     },
     "metadata": {},
     "output_type": "display_data"
    },
    {
     "data": {
      "text/html": [
       "<pre>    Data has 679051 observations with 89502 users and 261758 items.</pre>"
      ],
      "text/plain": [
       "    Data has 679051 observations with 89502 users and 261758 items."
      ]
     },
     "metadata": {},
     "output_type": "display_data"
    },
    {
     "data": {
      "text/html": [
       "<pre>    Data prepared in: 1.44583s</pre>"
      ],
      "text/plain": [
       "    Data prepared in: 1.44583s"
      ]
     },
     "metadata": {},
     "output_type": "display_data"
    },
    {
     "data": {
      "text/html": [
       "<pre>Training factorization_recommender for recommendations.</pre>"
      ],
      "text/plain": [
       "Training factorization_recommender for recommendations."
      ]
     },
     "metadata": {},
     "output_type": "display_data"
    },
    {
     "data": {
      "text/html": [
       "<pre>+--------------------------------+--------------------------------------------------+----------+</pre>"
      ],
      "text/plain": [
       "+--------------------------------+--------------------------------------------------+----------+"
      ]
     },
     "metadata": {},
     "output_type": "display_data"
    },
    {
     "data": {
      "text/html": [
       "<pre>| Parameter                      | Description                                      | Value    |</pre>"
      ],
      "text/plain": [
       "| Parameter                      | Description                                      | Value    |"
      ]
     },
     "metadata": {},
     "output_type": "display_data"
    },
    {
     "data": {
      "text/html": [
       "<pre>+--------------------------------+--------------------------------------------------+----------+</pre>"
      ],
      "text/plain": [
       "+--------------------------------+--------------------------------------------------+----------+"
      ]
     },
     "metadata": {},
     "output_type": "display_data"
    },
    {
     "data": {
      "text/html": [
       "<pre>| num_factors                    | Factor Dimension                                 | 8        |</pre>"
      ],
      "text/plain": [
       "| num_factors                    | Factor Dimension                                 | 8        |"
      ]
     },
     "metadata": {},
     "output_type": "display_data"
    },
    {
     "data": {
      "text/html": [
       "<pre>| regularization                 | L2 Regularization on Factors                     | 1e-008   |</pre>"
      ],
      "text/plain": [
       "| regularization                 | L2 Regularization on Factors                     | 1e-008   |"
      ]
     },
     "metadata": {},
     "output_type": "display_data"
    },
    {
     "data": {
      "text/html": [
       "<pre>| solver                         | Solver used for training                         | adagrad  |</pre>"
      ],
      "text/plain": [
       "| solver                         | Solver used for training                         | adagrad  |"
      ]
     },
     "metadata": {},
     "output_type": "display_data"
    },
    {
     "data": {
      "text/html": [
       "<pre>| linear_regularization          | L2 Regularization on Linear Coefficients         | 1e-010   |</pre>"
      ],
      "text/plain": [
       "| linear_regularization          | L2 Regularization on Linear Coefficients         | 1e-010   |"
      ]
     },
     "metadata": {},
     "output_type": "display_data"
    },
    {
     "data": {
      "text/html": [
       "<pre>| nmf                            | Use Non-Negative Factors                         | True     |</pre>"
      ],
      "text/plain": [
       "| nmf                            | Use Non-Negative Factors                         | True     |"
      ]
     },
     "metadata": {},
     "output_type": "display_data"
    },
    {
     "data": {
      "text/html": [
       "<pre>| side_data_factorization        | Assign Factors for Side Data                     | True     |</pre>"
      ],
      "text/plain": [
       "| side_data_factorization        | Assign Factors for Side Data                     | True     |"
      ]
     },
     "metadata": {},
     "output_type": "display_data"
    },
    {
     "data": {
      "text/html": [
       "<pre>| sgd_step_size                  | Starting SGD Step Size                           | 0.01     |</pre>"
      ],
      "text/plain": [
       "| sgd_step_size                  | Starting SGD Step Size                           | 0.01     |"
      ]
     },
     "metadata": {},
     "output_type": "display_data"
    },
    {
     "data": {
      "text/html": [
       "<pre>| max_iterations                 | Maximum Number of Iterations                     | 500      |</pre>"
      ],
      "text/plain": [
       "| max_iterations                 | Maximum Number of Iterations                     | 500      |"
      ]
     },
     "metadata": {},
     "output_type": "display_data"
    },
    {
     "data": {
      "text/html": [
       "<pre>+--------------------------------+--------------------------------------------------+----------+</pre>"
      ],
      "text/plain": [
       "+--------------------------------+--------------------------------------------------+----------+"
      ]
     },
     "metadata": {},
     "output_type": "display_data"
    },
    {
     "data": {
      "text/html": [
       "<pre>  Optimizing model using SGD (step size tuning: OFF).</pre>"
      ],
      "text/plain": [
       "  Optimizing model using SGD (step size tuning: OFF)."
      ]
     },
     "metadata": {},
     "output_type": "display_data"
    },
    {
     "data": {
      "text/html": [
       "<pre>Starting Optimization.</pre>"
      ],
      "text/plain": [
       "Starting Optimization."
      ]
     },
     "metadata": {},
     "output_type": "display_data"
    },
    {
     "data": {
      "text/html": [
       "<pre>+---------+--------------+-------------------+-----------------------+-------------+</pre>"
      ],
      "text/plain": [
       "+---------+--------------+-------------------+-----------------------+-------------+"
      ]
     },
     "metadata": {},
     "output_type": "display_data"
    },
    {
     "data": {
      "text/html": [
       "<pre>| Iter.   | Elapsed Time | Approx. Objective | Approx. Training RMSE | Step Size   |</pre>"
      ],
      "text/plain": [
       "| Iter.   | Elapsed Time | Approx. Objective | Approx. Training RMSE | Step Size   |"
      ]
     },
     "metadata": {},
     "output_type": "display_data"
    },
    {
     "data": {
      "text/html": [
       "<pre>+---------+--------------+-------------------+-----------------------+-------------+</pre>"
      ],
      "text/plain": [
       "+---------+--------------+-------------------+-----------------------+-------------+"
      ]
     },
     "metadata": {},
     "output_type": "display_data"
    },
    {
     "data": {
      "text/html": [
       "<pre>| Initial | 0us          | 9.8062            | 3.13149               |             |</pre>"
      ],
      "text/plain": [
       "| Initial | 0us          | 9.8062            | 3.13149               |             |"
      ]
     },
     "metadata": {},
     "output_type": "display_data"
    },
    {
     "data": {
      "text/html": [
       "<pre>+---------+--------------+-------------------+-----------------------+-------------+</pre>"
      ],
      "text/plain": [
       "+---------+--------------+-------------------+-----------------------+-------------+"
      ]
     },
     "metadata": {},
     "output_type": "display_data"
    },
    {
     "data": {
      "text/html": [
       "<pre>| 1       | 555.217ms    | 9.67707           | 3.1108                | 0.01        |</pre>"
      ],
      "text/plain": [
       "| 1       | 555.217ms    | 9.67707           | 3.1108                | 0.01        |"
      ]
     },
     "metadata": {},
     "output_type": "display_data"
    },
    {
     "data": {
      "text/html": [
       "<pre>| 2       | 1.05s        | 9.20694           | 3.03429               | 0.01        |</pre>"
      ],
      "text/plain": [
       "| 2       | 1.05s        | 9.20694           | 3.03429               | 0.01        |"
      ]
     },
     "metadata": {},
     "output_type": "display_data"
    },
    {
     "data": {
      "text/html": [
       "<pre>| 3       | 1.56s        | 8.86266           | 2.97702               | 0.01        |</pre>"
      ],
      "text/plain": [
       "| 3       | 1.56s        | 8.86266           | 2.97702               | 0.01        |"
      ]
     },
     "metadata": {},
     "output_type": "display_data"
    },
    {
     "data": {
      "text/html": [
       "<pre>| 4       | 2.06s        | 8.59562           | 2.93183               | 0.01        |</pre>"
      ],
      "text/plain": [
       "| 4       | 2.06s        | 8.59562           | 2.93183               | 0.01        |"
      ]
     },
     "metadata": {},
     "output_type": "display_data"
    },
    {
     "data": {
      "text/html": [
       "<pre>| 5       | 2.58s        | 8.386             | 2.89586               | 0.01        |</pre>"
      ],
      "text/plain": [
       "| 5       | 2.58s        | 8.386             | 2.89586               | 0.01        |"
      ]
     },
     "metadata": {},
     "output_type": "display_data"
    },
    {
     "data": {
      "text/html": [
       "<pre>| 6       | 3.07s        | 8.22363           | 2.86768               | 0.01        |</pre>"
      ],
      "text/plain": [
       "| 6       | 3.07s        | 8.22363           | 2.86768               | 0.01        |"
      ]
     },
     "metadata": {},
     "output_type": "display_data"
    },
    {
     "data": {
      "text/html": [
       "<pre>| 10      | 5.21s        | 7.83276           | 2.7987                | 0.01        |</pre>"
      ],
      "text/plain": [
       "| 10      | 5.21s        | 7.83276           | 2.7987                | 0.01        |"
      ]
     },
     "metadata": {},
     "output_type": "display_data"
    },
    {
     "data": {
      "text/html": [
       "<pre>| 11      | 5.72s        | 7.77373           | 2.78814               | 0.01        |</pre>"
      ],
      "text/plain": [
       "| 11      | 5.72s        | 7.77373           | 2.78814               | 0.01        |"
      ]
     },
     "metadata": {},
     "output_type": "display_data"
    },
    {
     "data": {
      "text/html": [
       "<pre>| 15      | 7.66s        | 7.60759           | 2.75818               | 0.01        |</pre>"
      ],
      "text/plain": [
       "| 15      | 7.66s        | 7.60759           | 2.75818               | 0.01        |"
      ]
     },
     "metadata": {},
     "output_type": "display_data"
    },
    {
     "data": {
      "text/html": [
       "<pre>| 20      | 10.06s       | 7.48396           | 2.73568               | 0.01        |</pre>"
      ],
      "text/plain": [
       "| 20      | 10.06s       | 7.48396           | 2.73568               | 0.01        |"
      ]
     },
     "metadata": {},
     "output_type": "display_data"
    },
    {
     "data": {
      "text/html": [
       "<pre>| 25      | 12.50s       | 7.40491           | 2.72119               | 0.01        |</pre>"
      ],
      "text/plain": [
       "| 25      | 12.50s       | 7.40491           | 2.72119               | 0.01        |"
      ]
     },
     "metadata": {},
     "output_type": "display_data"
    },
    {
     "data": {
      "text/html": [
       "<pre>| 30      | 15.09s       | 7.3493            | 2.71095               | 0.01        |</pre>"
      ],
      "text/plain": [
       "| 30      | 15.09s       | 7.3493            | 2.71095               | 0.01        |"
      ]
     },
     "metadata": {},
     "output_type": "display_data"
    },
    {
     "data": {
      "text/html": [
       "<pre>| 35      | 17.76s       | 7.30758           | 2.70325               | 0.01        |</pre>"
      ],
      "text/plain": [
       "| 35      | 17.76s       | 7.30758           | 2.70325               | 0.01        |"
      ]
     },
     "metadata": {},
     "output_type": "display_data"
    },
    {
     "data": {
      "text/html": [
       "<pre>| 40      | 20.31s       | 7.27489           | 2.69719               | 0.01        |</pre>"
      ],
      "text/plain": [
       "| 40      | 20.31s       | 7.27489           | 2.69719               | 0.01        |"
      ]
     },
     "metadata": {},
     "output_type": "display_data"
    },
    {
     "data": {
      "text/html": [
       "<pre>| 45      | 22.95s       | 7.24828           | 2.69226               | 0.01        |</pre>"
      ],
      "text/plain": [
       "| 45      | 22.95s       | 7.24828           | 2.69226               | 0.01        |"
      ]
     },
     "metadata": {},
     "output_type": "display_data"
    },
    {
     "data": {
      "text/html": [
       "<pre>| 50      | 25.60s       | 7.22613           | 2.68814               | 0.01        |</pre>"
      ],
      "text/plain": [
       "| 50      | 25.60s       | 7.22613           | 2.68814               | 0.01        |"
      ]
     },
     "metadata": {},
     "output_type": "display_data"
    },
    {
     "data": {
      "text/html": [
       "<pre>| 51      | 26.16s       | 7.22226           | 2.68742               | 0.01        |</pre>"
      ],
      "text/plain": [
       "| 51      | 26.16s       | 7.22226           | 2.68742               | 0.01        |"
      ]
     },
     "metadata": {},
     "output_type": "display_data"
    },
    {
     "data": {
      "text/html": [
       "<pre>| 55      | 28.32s       | 7.20734           | 2.68464               | 0.01        |</pre>"
      ],
      "text/plain": [
       "| 55      | 28.32s       | 7.20734           | 2.68464               | 0.01        |"
      ]
     },
     "metadata": {},
     "output_type": "display_data"
    },
    {
     "data": {
      "text/html": [
       "<pre>| 60      | 31.04s       | 7.19083           | 2.68157               | 0.01        |</pre>"
      ],
      "text/plain": [
       "| 60      | 31.04s       | 7.19083           | 2.68157               | 0.01        |"
      ]
     },
     "metadata": {},
     "output_type": "display_data"
    },
    {
     "data": {
      "text/html": [
       "<pre>| 65      | 33.89s       | 7.17654           | 2.6789                | 0.01        |</pre>"
      ],
      "text/plain": [
       "| 65      | 33.89s       | 7.17654           | 2.6789                | 0.01        |"
      ]
     },
     "metadata": {},
     "output_type": "display_data"
    },
    {
     "data": {
      "text/html": [
       "<pre>| 70      | 36.64s       | 7.16335           | 2.67644               | 0.01        |</pre>"
      ],
      "text/plain": [
       "| 70      | 36.64s       | 7.16335           | 2.67644               | 0.01        |"
      ]
     },
     "metadata": {},
     "output_type": "display_data"
    },
    {
     "data": {
      "text/html": [
       "<pre>| 75      | 39.41s       | 7.15185           | 2.67429               | 0.01        |</pre>"
      ],
      "text/plain": [
       "| 75      | 39.41s       | 7.15185           | 2.67429               | 0.01        |"
      ]
     },
     "metadata": {},
     "output_type": "display_data"
    },
    {
     "data": {
      "text/html": [
       "<pre>| 80      | 42.21s       | 7.1413            | 2.67231               | 0.01        |</pre>"
      ],
      "text/plain": [
       "| 80      | 42.21s       | 7.1413            | 2.67231               | 0.01        |"
      ]
     },
     "metadata": {},
     "output_type": "display_data"
    },
    {
     "data": {
      "text/html": [
       "<pre>| 85      | 45.03s       | 7.1315            | 2.67048               | 0.01        |</pre>"
      ],
      "text/plain": [
       "| 85      | 45.03s       | 7.1315            | 2.67048               | 0.01        |"
      ]
     },
     "metadata": {},
     "output_type": "display_data"
    },
    {
     "data": {
      "text/html": [
       "<pre>| 90      | 47.86s       | 7.12282           | 2.66885               | 0.01        |</pre>"
      ],
      "text/plain": [
       "| 90      | 47.86s       | 7.12282           | 2.66885               | 0.01        |"
      ]
     },
     "metadata": {},
     "output_type": "display_data"
    },
    {
     "data": {
      "text/html": [
       "<pre>| 95      | 50.71s       | 7.11468           | 2.66733               | 0.01        |</pre>"
      ],
      "text/plain": [
       "| 95      | 50.71s       | 7.11468           | 2.66733               | 0.01        |"
      ]
     },
     "metadata": {},
     "output_type": "display_data"
    },
    {
     "data": {
      "text/html": [
       "<pre>| 100     | 53.57s       | 7.10701           | 2.66589               | 0.01        |</pre>"
      ],
      "text/plain": [
       "| 100     | 53.57s       | 7.10701           | 2.66589               | 0.01        |"
      ]
     },
     "metadata": {},
     "output_type": "display_data"
    },
    {
     "data": {
      "text/html": [
       "<pre>| 101     | 54.18s       | 7.10547           | 2.6656                | 0.01        |</pre>"
      ],
      "text/plain": [
       "| 101     | 54.18s       | 7.10547           | 2.6656                | 0.01        |"
      ]
     },
     "metadata": {},
     "output_type": "display_data"
    },
    {
     "data": {
      "text/html": [
       "<pre>| 105     | 56.51s       | 7.09992           | 2.66456               | 0.01        |</pre>"
      ],
      "text/plain": [
       "| 105     | 56.51s       | 7.09992           | 2.66456               | 0.01        |"
      ]
     },
     "metadata": {},
     "output_type": "display_data"
    },
    {
     "data": {
      "text/html": [
       "<pre>| 110     | 59.42s       | 7.09331           | 2.66332               | 0.01        |</pre>"
      ],
      "text/plain": [
       "| 110     | 59.42s       | 7.09331           | 2.66332               | 0.01        |"
      ]
     },
     "metadata": {},
     "output_type": "display_data"
    },
    {
     "data": {
      "text/html": [
       "<pre>| 115     | 1m 2s        | 7.08699           | 2.66213               | 0.01        |</pre>"
      ],
      "text/plain": [
       "| 115     | 1m 2s        | 7.08699           | 2.66213               | 0.01        |"
      ]
     },
     "metadata": {},
     "output_type": "display_data"
    },
    {
     "data": {
      "text/html": [
       "<pre>| 120     | 1m 5s        | 7.08127           | 2.66106               | 0.01        |</pre>"
      ],
      "text/plain": [
       "| 120     | 1m 5s        | 7.08127           | 2.66106               | 0.01        |"
      ]
     },
     "metadata": {},
     "output_type": "display_data"
    },
    {
     "data": {
      "text/html": [
       "<pre>| 125     | 1m 8s        | 7.07575           | 2.66002               | 0.01        |</pre>"
      ],
      "text/plain": [
       "| 125     | 1m 8s        | 7.07575           | 2.66002               | 0.01        |"
      ]
     },
     "metadata": {},
     "output_type": "display_data"
    },
    {
     "data": {
      "text/html": [
       "<pre>| 130     | 1m 11s       | 7.07083           | 2.65909               | 0.01        |</pre>"
      ],
      "text/plain": [
       "| 130     | 1m 11s       | 7.07083           | 2.65909               | 0.01        |"
      ]
     },
     "metadata": {},
     "output_type": "display_data"
    },
    {
     "data": {
      "text/html": [
       "<pre>| 135     | 1m 14s       | 7.06591           | 2.65817               | 0.01        |</pre>"
      ],
      "text/plain": [
       "| 135     | 1m 14s       | 7.06591           | 2.65817               | 0.01        |"
      ]
     },
     "metadata": {},
     "output_type": "display_data"
    },
    {
     "data": {
      "text/html": [
       "<pre>| 140     | 1m 17s       | 7.06126           | 2.65729               | 0.01        |</pre>"
      ],
      "text/plain": [
       "| 140     | 1m 17s       | 7.06126           | 2.65729               | 0.01        |"
      ]
     },
     "metadata": {},
     "output_type": "display_data"
    },
    {
     "data": {
      "text/html": [
       "<pre>| 145     | 1m 20s       | 7.05719           | 2.65653               | 0.01        |</pre>"
      ],
      "text/plain": [
       "| 145     | 1m 20s       | 7.05719           | 2.65653               | 0.01        |"
      ]
     },
     "metadata": {},
     "output_type": "display_data"
    },
    {
     "data": {
      "text/html": [
       "<pre>| 150     | 1m 23s       | 7.05287           | 2.65572               | 0.01        |</pre>"
      ],
      "text/plain": [
       "| 150     | 1m 23s       | 7.05287           | 2.65572               | 0.01        |"
      ]
     },
     "metadata": {},
     "output_type": "display_data"
    },
    {
     "data": {
      "text/html": [
       "<pre>| 155     | 1m 26s       | 7.04894           | 2.65498               | 0.01        |</pre>"
      ],
      "text/plain": [
       "| 155     | 1m 26s       | 7.04894           | 2.65498               | 0.01        |"
      ]
     },
     "metadata": {},
     "output_type": "display_data"
    },
    {
     "data": {
      "text/html": [
       "<pre>| 160     | 1m 29s       | 7.04517           | 2.65427               | 0.01        |</pre>"
      ],
      "text/plain": [
       "| 160     | 1m 29s       | 7.04517           | 2.65427               | 0.01        |"
      ]
     },
     "metadata": {},
     "output_type": "display_data"
    },
    {
     "data": {
      "text/html": [
       "<pre>| 165     | 1m 32s       | 7.04159           | 2.65359               | 0.01        |</pre>"
      ],
      "text/plain": [
       "| 165     | 1m 32s       | 7.04159           | 2.65359               | 0.01        |"
      ]
     },
     "metadata": {},
     "output_type": "display_data"
    },
    {
     "data": {
      "text/html": [
       "<pre>| 170     | 1m 35s       | 7.03808           | 2.65293               | 0.01        |</pre>"
      ],
      "text/plain": [
       "| 170     | 1m 35s       | 7.03808           | 2.65293               | 0.01        |"
      ]
     },
     "metadata": {},
     "output_type": "display_data"
    },
    {
     "data": {
      "text/html": [
       "<pre>| 175     | 1m 38s       | 7.03481           | 2.65231               | 0.01        |</pre>"
      ],
      "text/plain": [
       "| 175     | 1m 38s       | 7.03481           | 2.65231               | 0.01        |"
      ]
     },
     "metadata": {},
     "output_type": "display_data"
    },
    {
     "data": {
      "text/html": [
       "<pre>| 180     | 1m 41s       | 7.03128           | 2.65165               | 0.01        |</pre>"
      ],
      "text/plain": [
       "| 180     | 1m 41s       | 7.03128           | 2.65165               | 0.01        |"
      ]
     },
     "metadata": {},
     "output_type": "display_data"
    },
    {
     "data": {
      "text/html": [
       "<pre>| 185     | 1m 44s       | 7.02806           | 2.65104               | 0.01        |</pre>"
      ],
      "text/plain": [
       "| 185     | 1m 44s       | 7.02806           | 2.65104               | 0.01        |"
      ]
     },
     "metadata": {},
     "output_type": "display_data"
    },
    {
     "data": {
      "text/html": [
       "<pre>| 190     | 1m 47s       | 7.02514           | 2.65049               | 0.01        |</pre>"
      ],
      "text/plain": [
       "| 190     | 1m 47s       | 7.02514           | 2.65049               | 0.01        |"
      ]
     },
     "metadata": {},
     "output_type": "display_data"
    },
    {
     "data": {
      "text/html": [
       "<pre>| 195     | 1m 50s       | 7.02205           | 2.64991               | 0.01        |</pre>"
      ],
      "text/plain": [
       "| 195     | 1m 50s       | 7.02205           | 2.64991               | 0.01        |"
      ]
     },
     "metadata": {},
     "output_type": "display_data"
    },
    {
     "data": {
      "text/html": [
       "<pre>| 200     | 1m 53s       | 7.01935           | 2.6494                | 0.01        |</pre>"
      ],
      "text/plain": [
       "| 200     | 1m 53s       | 7.01935           | 2.6494                | 0.01        |"
      ]
     },
     "metadata": {},
     "output_type": "display_data"
    },
    {
     "data": {
      "text/html": [
       "<pre>| 205     | 1m 56s       | 7.01645           | 2.64885               | 0.01        |</pre>"
      ],
      "text/plain": [
       "| 205     | 1m 56s       | 7.01645           | 2.64885               | 0.01        |"
      ]
     },
     "metadata": {},
     "output_type": "display_data"
    },
    {
     "data": {
      "text/html": [
       "<pre>| 210     | 1m 59s       | 7.01392           | 2.64837               | 0.01        |</pre>"
      ],
      "text/plain": [
       "| 210     | 1m 59s       | 7.01392           | 2.64837               | 0.01        |"
      ]
     },
     "metadata": {},
     "output_type": "display_data"
    },
    {
     "data": {
      "text/html": [
       "<pre>| 215     | 2m 2s        | 7.01143           | 2.6479                | 0.01        |</pre>"
      ],
      "text/plain": [
       "| 215     | 2m 2s        | 7.01143           | 2.6479                | 0.01        |"
      ]
     },
     "metadata": {},
     "output_type": "display_data"
    },
    {
     "data": {
      "text/html": [
       "<pre>| 220     | 2m 5s        | 7.00884           | 2.64741               | 0.01        |</pre>"
      ],
      "text/plain": [
       "| 220     | 2m 5s        | 7.00884           | 2.64741               | 0.01        |"
      ]
     },
     "metadata": {},
     "output_type": "display_data"
    },
    {
     "data": {
      "text/html": [
       "<pre>| 225     | 2m 8s        | 7.00658           | 2.64699               | 0.01        |</pre>"
      ],
      "text/plain": [
       "| 225     | 2m 8s        | 7.00658           | 2.64699               | 0.01        |"
      ]
     },
     "metadata": {},
     "output_type": "display_data"
    },
    {
     "data": {
      "text/html": [
       "<pre>| 230     | 2m 11s       | 7.00463           | 2.64662               | 0.01        |</pre>"
      ],
      "text/plain": [
       "| 230     | 2m 11s       | 7.00463           | 2.64662               | 0.01        |"
      ]
     },
     "metadata": {},
     "output_type": "display_data"
    },
    {
     "data": {
      "text/html": [
       "<pre>| 235     | 2m 15s       | 7.00235           | 2.64619               | 0.01        |</pre>"
      ],
      "text/plain": [
       "| 235     | 2m 15s       | 7.00235           | 2.64619               | 0.01        |"
      ]
     },
     "metadata": {},
     "output_type": "display_data"
    },
    {
     "data": {
      "text/html": [
       "<pre>| 240     | 2m 18s       | 7.00002           | 2.64575               | 0.01        |</pre>"
      ],
      "text/plain": [
       "| 240     | 2m 18s       | 7.00002           | 2.64575               | 0.01        |"
      ]
     },
     "metadata": {},
     "output_type": "display_data"
    },
    {
     "data": {
      "text/html": [
       "<pre>| 245     | 2m 21s       | 6.99795           | 2.64535               | 0.01        |</pre>"
      ],
      "text/plain": [
       "| 245     | 2m 21s       | 6.99795           | 2.64535               | 0.01        |"
      ]
     },
     "metadata": {},
     "output_type": "display_data"
    },
    {
     "data": {
      "text/html": [
       "<pre>| 250     | 2m 24s       | 6.99603           | 2.64499               | 0.01        |</pre>"
      ],
      "text/plain": [
       "| 250     | 2m 24s       | 6.99603           | 2.64499               | 0.01        |"
      ]
     },
     "metadata": {},
     "output_type": "display_data"
    },
    {
     "data": {
      "text/html": [
       "<pre>| 255     | 2m 27s       | 6.99395           | 2.6446                | 0.01        |</pre>"
      ],
      "text/plain": [
       "| 255     | 2m 27s       | 6.99395           | 2.6446                | 0.01        |"
      ]
     },
     "metadata": {},
     "output_type": "display_data"
    },
    {
     "data": {
      "text/html": [
       "<pre>| 260     | 2m 30s       | 6.99188           | 2.64421               | 0.01        |</pre>"
      ],
      "text/plain": [
       "| 260     | 2m 30s       | 6.99188           | 2.64421               | 0.01        |"
      ]
     },
     "metadata": {},
     "output_type": "display_data"
    },
    {
     "data": {
      "text/html": [
       "<pre>| 265     | 2m 33s       | 6.9902            | 2.64389               | 0.01        |</pre>"
      ],
      "text/plain": [
       "| 265     | 2m 33s       | 6.9902            | 2.64389               | 0.01        |"
      ]
     },
     "metadata": {},
     "output_type": "display_data"
    },
    {
     "data": {
      "text/html": [
       "<pre>| 270     | 2m 36s       | 6.98843           | 2.64356               | 0.01        |</pre>"
      ],
      "text/plain": [
       "| 270     | 2m 36s       | 6.98843           | 2.64356               | 0.01        |"
      ]
     },
     "metadata": {},
     "output_type": "display_data"
    },
    {
     "data": {
      "text/html": [
       "<pre>| 275     | 2m 39s       | 6.98654           | 2.6432                | 0.01        |</pre>"
      ],
      "text/plain": [
       "| 275     | 2m 39s       | 6.98654           | 2.6432                | 0.01        |"
      ]
     },
     "metadata": {},
     "output_type": "display_data"
    },
    {
     "data": {
      "text/html": [
       "<pre>| 280     | 2m 42s       | 6.98475           | 2.64286               | 0.01        |</pre>"
      ],
      "text/plain": [
       "| 280     | 2m 42s       | 6.98475           | 2.64286               | 0.01        |"
      ]
     },
     "metadata": {},
     "output_type": "display_data"
    },
    {
     "data": {
      "text/html": [
       "<pre>| 285     | 2m 45s       | 6.98308           | 2.64254               | 0.01        |</pre>"
      ],
      "text/plain": [
       "| 285     | 2m 45s       | 6.98308           | 2.64254               | 0.01        |"
      ]
     },
     "metadata": {},
     "output_type": "display_data"
    },
    {
     "data": {
      "text/html": [
       "<pre>| 290     | 2m 48s       | 6.98145           | 2.64223               | 0.01        |</pre>"
      ],
      "text/plain": [
       "| 290     | 2m 48s       | 6.98145           | 2.64223               | 0.01        |"
      ]
     },
     "metadata": {},
     "output_type": "display_data"
    },
    {
     "data": {
      "text/html": [
       "<pre>| 295     | 2m 52s       | 6.97995           | 2.64195               | 0.01        |</pre>"
      ],
      "text/plain": [
       "| 295     | 2m 52s       | 6.97995           | 2.64195               | 0.01        |"
      ]
     },
     "metadata": {},
     "output_type": "display_data"
    },
    {
     "data": {
      "text/html": [
       "<pre>| 300     | 2m 55s       | 6.97826           | 2.64163               | 0.01        |</pre>"
      ],
      "text/plain": [
       "| 300     | 2m 55s       | 6.97826           | 2.64163               | 0.01        |"
      ]
     },
     "metadata": {},
     "output_type": "display_data"
    },
    {
     "data": {
      "text/html": [
       "<pre>| 305     | 2m 58s       | 6.97672           | 2.64134               | 0.01        |</pre>"
      ],
      "text/plain": [
       "| 305     | 2m 58s       | 6.97672           | 2.64134               | 0.01        |"
      ]
     },
     "metadata": {},
     "output_type": "display_data"
    },
    {
     "data": {
      "text/html": [
       "<pre>| 310     | 3m 1s        | 6.97517           | 2.64105               | 0.01        |</pre>"
      ],
      "text/plain": [
       "| 310     | 3m 1s        | 6.97517           | 2.64105               | 0.01        |"
      ]
     },
     "metadata": {},
     "output_type": "display_data"
    },
    {
     "data": {
      "text/html": [
       "<pre>| 315     | 3m 4s        | 6.9739            | 2.6408                | 0.01        |</pre>"
      ],
      "text/plain": [
       "| 315     | 3m 4s        | 6.9739            | 2.6408                | 0.01        |"
      ]
     },
     "metadata": {},
     "output_type": "display_data"
    },
    {
     "data": {
      "text/html": [
       "<pre>| 320     | 3m 7s        | 6.97237           | 2.64051               | 0.01        |</pre>"
      ],
      "text/plain": [
       "| 320     | 3m 7s        | 6.97237           | 2.64051               | 0.01        |"
      ]
     },
     "metadata": {},
     "output_type": "display_data"
    },
    {
     "data": {
      "text/html": [
       "<pre>| 325     | 3m 10s       | 6.97098           | 2.64025               | 0.01        |</pre>"
      ],
      "text/plain": [
       "| 325     | 3m 10s       | 6.97098           | 2.64025               | 0.01        |"
      ]
     },
     "metadata": {},
     "output_type": "display_data"
    },
    {
     "data": {
      "text/html": [
       "<pre>| 330     | 3m 13s       | 6.96956           | 2.63998               | 0.01        |</pre>"
      ],
      "text/plain": [
       "| 330     | 3m 13s       | 6.96956           | 2.63998               | 0.01        |"
      ]
     },
     "metadata": {},
     "output_type": "display_data"
    },
    {
     "data": {
      "text/html": [
       "<pre>| 335     | 3m 16s       | 6.96813           | 2.63971               | 0.01        |</pre>"
      ],
      "text/plain": [
       "| 335     | 3m 16s       | 6.96813           | 2.63971               | 0.01        |"
      ]
     },
     "metadata": {},
     "output_type": "display_data"
    },
    {
     "data": {
      "text/html": [
       "<pre>| 340     | 3m 20s       | 6.96705           | 2.63951               | 0.01        |</pre>"
      ],
      "text/plain": [
       "| 340     | 3m 20s       | 6.96705           | 2.63951               | 0.01        |"
      ]
     },
     "metadata": {},
     "output_type": "display_data"
    },
    {
     "data": {
      "text/html": [
       "<pre>| 345     | 3m 23s       | 6.96575           | 2.63926               | 0.01        |</pre>"
      ],
      "text/plain": [
       "| 345     | 3m 23s       | 6.96575           | 2.63926               | 0.01        |"
      ]
     },
     "metadata": {},
     "output_type": "display_data"
    },
    {
     "data": {
      "text/html": [
       "<pre>| 350     | 3m 26s       | 6.96435           | 2.63899               | 0.01        |</pre>"
      ],
      "text/plain": [
       "| 350     | 3m 26s       | 6.96435           | 2.63899               | 0.01        |"
      ]
     },
     "metadata": {},
     "output_type": "display_data"
    },
    {
     "data": {
      "text/html": [
       "<pre>| 355     | 3m 30s       | 6.96313           | 2.63876               | 0.01        |</pre>"
      ],
      "text/plain": [
       "| 355     | 3m 30s       | 6.96313           | 2.63876               | 0.01        |"
      ]
     },
     "metadata": {},
     "output_type": "display_data"
    },
    {
     "data": {
      "text/html": [
       "<pre>| 360     | 3m 33s       | 6.96202           | 2.63855               | 0.01        |</pre>"
      ],
      "text/plain": [
       "| 360     | 3m 33s       | 6.96202           | 2.63855               | 0.01        |"
      ]
     },
     "metadata": {},
     "output_type": "display_data"
    },
    {
     "data": {
      "text/html": [
       "<pre>| 365     | 3m 36s       | 6.96089           | 2.63834               | 0.01        |</pre>"
      ],
      "text/plain": [
       "| 365     | 3m 36s       | 6.96089           | 2.63834               | 0.01        |"
      ]
     },
     "metadata": {},
     "output_type": "display_data"
    },
    {
     "data": {
      "text/html": [
       "<pre>| 370     | 3m 39s       | 6.9594            | 2.63806               | 0.01        |</pre>"
      ],
      "text/plain": [
       "| 370     | 3m 39s       | 6.9594            | 2.63806               | 0.01        |"
      ]
     },
     "metadata": {},
     "output_type": "display_data"
    },
    {
     "data": {
      "text/html": [
       "<pre>| 375     | 3m 42s       | 6.95819           | 2.63783               | 0.01        |</pre>"
      ],
      "text/plain": [
       "| 375     | 3m 42s       | 6.95819           | 2.63783               | 0.01        |"
      ]
     },
     "metadata": {},
     "output_type": "display_data"
    },
    {
     "data": {
      "text/html": [
       "<pre>| 380     | 3m 45s       | 6.95721           | 2.63764               | 0.01        |</pre>"
      ],
      "text/plain": [
       "| 380     | 3m 45s       | 6.95721           | 2.63764               | 0.01        |"
      ]
     },
     "metadata": {},
     "output_type": "display_data"
    },
    {
     "data": {
      "text/html": [
       "<pre>| 385     | 3m 48s       | 6.95608           | 2.63743               | 0.01        |</pre>"
      ],
      "text/plain": [
       "| 385     | 3m 48s       | 6.95608           | 2.63743               | 0.01        |"
      ]
     },
     "metadata": {},
     "output_type": "display_data"
    },
    {
     "data": {
      "text/html": [
       "<pre>| 390     | 3m 52s       | 6.95494           | 2.63721               | 0.01        |</pre>"
      ],
      "text/plain": [
       "| 390     | 3m 52s       | 6.95494           | 2.63721               | 0.01        |"
      ]
     },
     "metadata": {},
     "output_type": "display_data"
    },
    {
     "data": {
      "text/html": [
       "<pre>| 395     | 3m 55s       | 6.95377           | 2.63699               | 0.01        |</pre>"
      ],
      "text/plain": [
       "| 395     | 3m 55s       | 6.95377           | 2.63699               | 0.01        |"
      ]
     },
     "metadata": {},
     "output_type": "display_data"
    },
    {
     "data": {
      "text/html": [
       "<pre>| 400     | 3m 58s       | 6.95272           | 2.63679               | 0.01        |</pre>"
      ],
      "text/plain": [
       "| 400     | 3m 58s       | 6.95272           | 2.63679               | 0.01        |"
      ]
     },
     "metadata": {},
     "output_type": "display_data"
    },
    {
     "data": {
      "text/html": [
       "<pre>| 405     | 4m 1s        | 6.95182           | 2.63662               | 0.01        |</pre>"
      ],
      "text/plain": [
       "| 405     | 4m 1s        | 6.95182           | 2.63662               | 0.01        |"
      ]
     },
     "metadata": {},
     "output_type": "display_data"
    },
    {
     "data": {
      "text/html": [
       "<pre>| 410     | 4m 4s        | 6.95077           | 2.63642               | 0.01        |</pre>"
      ],
      "text/plain": [
       "| 410     | 4m 4s        | 6.95077           | 2.63642               | 0.01        |"
      ]
     },
     "metadata": {},
     "output_type": "display_data"
    },
    {
     "data": {
      "text/html": [
       "<pre>| 415     | 4m 7s        | 6.94951           | 2.63618               | 0.01        |</pre>"
      ],
      "text/plain": [
       "| 415     | 4m 7s        | 6.94951           | 2.63618               | 0.01        |"
      ]
     },
     "metadata": {},
     "output_type": "display_data"
    },
    {
     "data": {
      "text/html": [
       "<pre>| 420     | 4m 10s       | 6.94855           | 2.636                 | 0.01        |</pre>"
      ],
      "text/plain": [
       "| 420     | 4m 10s       | 6.94855           | 2.636                 | 0.01        |"
      ]
     },
     "metadata": {},
     "output_type": "display_data"
    },
    {
     "data": {
      "text/html": [
       "<pre>| 425     | 4m 14s       | 6.94765           | 2.63583               | 0.01        |</pre>"
      ],
      "text/plain": [
       "| 425     | 4m 14s       | 6.94765           | 2.63583               | 0.01        |"
      ]
     },
     "metadata": {},
     "output_type": "display_data"
    },
    {
     "data": {
      "text/html": [
       "<pre>| 430     | 4m 17s       | 6.94664           | 2.63564               | 0.01        |</pre>"
      ],
      "text/plain": [
       "| 430     | 4m 17s       | 6.94664           | 2.63564               | 0.01        |"
      ]
     },
     "metadata": {},
     "output_type": "display_data"
    },
    {
     "data": {
      "text/html": [
       "<pre>| 435     | 4m 20s       | 6.94553           | 2.63543               | 0.01        |</pre>"
      ],
      "text/plain": [
       "| 435     | 4m 20s       | 6.94553           | 2.63543               | 0.01        |"
      ]
     },
     "metadata": {},
     "output_type": "display_data"
    },
    {
     "data": {
      "text/html": [
       "<pre>| 440     | 4m 23s       | 6.94469           | 2.63527               | 0.01        |</pre>"
      ],
      "text/plain": [
       "| 440     | 4m 23s       | 6.94469           | 2.63527               | 0.01        |"
      ]
     },
     "metadata": {},
     "output_type": "display_data"
    },
    {
     "data": {
      "text/html": [
       "<pre>| 445     | 4m 26s       | 6.94379           | 2.6351                | 0.01        |</pre>"
      ],
      "text/plain": [
       "| 445     | 4m 26s       | 6.94379           | 2.6351                | 0.01        |"
      ]
     },
     "metadata": {},
     "output_type": "display_data"
    },
    {
     "data": {
      "text/html": [
       "<pre>| 450     | 4m 29s       | 6.9427            | 2.63489               | 0.01        |</pre>"
      ],
      "text/plain": [
       "| 450     | 4m 29s       | 6.9427            | 2.63489               | 0.01        |"
      ]
     },
     "metadata": {},
     "output_type": "display_data"
    },
    {
     "data": {
      "text/html": [
       "<pre>| 455     | 4m 33s       | 6.94172           | 2.6347                | 0.01        |</pre>"
      ],
      "text/plain": [
       "| 455     | 4m 33s       | 6.94172           | 2.6347                | 0.01        |"
      ]
     },
     "metadata": {},
     "output_type": "display_data"
    },
    {
     "data": {
      "text/html": [
       "<pre>| 460     | 4m 36s       | 6.94097           | 2.63456               | 0.01        |</pre>"
      ],
      "text/plain": [
       "| 460     | 4m 36s       | 6.94097           | 2.63456               | 0.01        |"
      ]
     },
     "metadata": {},
     "output_type": "display_data"
    },
    {
     "data": {
      "text/html": [
       "<pre>| 465     | 4m 39s       | 6.94018           | 2.63441               | 0.01        |</pre>"
      ],
      "text/plain": [
       "| 465     | 4m 39s       | 6.94018           | 2.63441               | 0.01        |"
      ]
     },
     "metadata": {},
     "output_type": "display_data"
    },
    {
     "data": {
      "text/html": [
       "<pre>| 470     | 4m 42s       | 6.93902           | 2.63419               | 0.01        |</pre>"
      ],
      "text/plain": [
       "| 470     | 4m 42s       | 6.93902           | 2.63419               | 0.01        |"
      ]
     },
     "metadata": {},
     "output_type": "display_data"
    },
    {
     "data": {
      "text/html": [
       "<pre>| 475     | 4m 45s       | 6.93827           | 2.63405               | 0.01        |</pre>"
      ],
      "text/plain": [
       "| 475     | 4m 45s       | 6.93827           | 2.63405               | 0.01        |"
      ]
     },
     "metadata": {},
     "output_type": "display_data"
    },
    {
     "data": {
      "text/html": [
       "<pre>| 480     | 4m 48s       | 6.93753           | 2.63391               | 0.01        |</pre>"
      ],
      "text/plain": [
       "| 480     | 4m 48s       | 6.93753           | 2.63391               | 0.01        |"
      ]
     },
     "metadata": {},
     "output_type": "display_data"
    },
    {
     "data": {
      "text/html": [
       "<pre>| 485     | 4m 52s       | 6.93657           | 2.63373               | 0.01        |</pre>"
      ],
      "text/plain": [
       "| 485     | 4m 52s       | 6.93657           | 2.63373               | 0.01        |"
      ]
     },
     "metadata": {},
     "output_type": "display_data"
    },
    {
     "data": {
      "text/html": [
       "<pre>| 490     | 4m 55s       | 6.93558           | 2.63354               | 0.01        |</pre>"
      ],
      "text/plain": [
       "| 490     | 4m 55s       | 6.93558           | 2.63354               | 0.01        |"
      ]
     },
     "metadata": {},
     "output_type": "display_data"
    },
    {
     "data": {
      "text/html": [
       "<pre>| 495     | 4m 58s       | 6.93485           | 2.6334                | 0.01        |</pre>"
      ],
      "text/plain": [
       "| 495     | 4m 58s       | 6.93485           | 2.6334                | 0.01        |"
      ]
     },
     "metadata": {},
     "output_type": "display_data"
    },
    {
     "data": {
      "text/html": [
       "<pre>| 500     | 5m 1s        | 6.93429           | 2.63329               | 0.01        |</pre>"
      ],
      "text/plain": [
       "| 500     | 5m 1s        | 6.93429           | 2.63329               | 0.01        |"
      ]
     },
     "metadata": {},
     "output_type": "display_data"
    },
    {
     "data": {
      "text/html": [
       "<pre>+---------+--------------+-------------------+-----------------------+-------------+</pre>"
      ],
      "text/plain": [
       "+---------+--------------+-------------------+-----------------------+-------------+"
      ]
     },
     "metadata": {},
     "output_type": "display_data"
    },
    {
     "data": {
      "text/html": [
       "<pre>Optimization Complete: Maximum number of passes through the data reached.</pre>"
      ],
      "text/plain": [
       "Optimization Complete: Maximum number of passes through the data reached."
      ]
     },
     "metadata": {},
     "output_type": "display_data"
    },
    {
     "data": {
      "text/html": [
       "<pre>Computing final objective value and training RMSE.</pre>"
      ],
      "text/plain": [
       "Computing final objective value and training RMSE."
      ]
     },
     "metadata": {},
     "output_type": "display_data"
    },
    {
     "data": {
      "text/html": [
       "<pre>       Final objective value: 6.93385</pre>"
      ],
      "text/plain": [
       "       Final objective value: 6.93385"
      ]
     },
     "metadata": {},
     "output_type": "display_data"
    },
    {
     "data": {
      "text/html": [
       "<pre>       Final training RMSE: 2.63321</pre>"
      ],
      "text/plain": [
       "       Final training RMSE: 2.63321"
      ]
     },
     "metadata": {},
     "output_type": "display_data"
    }
   ],
   "source": [
    "m7 = gl.factorization_recommender.create(train, user_id='User_ID', item_id='Article_ID', \n",
    "                                         target='Rating', user_data = user, item_data = article,\n",
    "                                         nmf = True, max_iterations = 500, random_seed = 27,\n",
    "                                         sgd_step_size = 0.01)"
   ]
  },
  {
   "cell_type": "code",
   "execution_count": 69,
   "metadata": {
    "collapsed": false
   },
   "outputs": [
    {
     "data": {
      "text/plain": [
       "(-37.09605132415891, 41.15460678562522)"
      ]
     },
     "execution_count": 69,
     "metadata": {},
     "output_type": "execute_result"
    }
   ],
   "source": [
    "scores7 = m7.predict(pairs_to_inspect3)\n",
    "min(scores7), max(scores7)"
   ]
  },
  {
   "cell_type": "code",
   "execution_count": 70,
   "metadata": {
    "collapsed": true
   },
   "outputs": [],
   "source": [
    "submit7_1 = pairs_to_inspect3.select_columns(['ID'])\n",
    "submit7_1['Rating'] = scores7\n",
    "min7 = min(scores7)\n",
    "width7 = max(scores7) - min(scores7)\n",
    "submit7_1['Rating'] = submit7_1['Rating'] - min7\n",
    "submit7_1['Rating'] = submit7_1['Rating'] * 6 / width7\n",
    "submit7_1.save('submit_gl_7_1.csv', format='csv')"
   ]
  },
  {
   "cell_type": "code",
   "execution_count": 72,
   "metadata": {
    "collapsed": false
   },
   "outputs": [
    {
     "data": {
      "text/html": [
       "<pre>Recsys training: model = factorization_recommender</pre>"
      ],
      "text/plain": [
       "Recsys training: model = factorization_recommender"
      ]
     },
     "metadata": {},
     "output_type": "display_data"
    },
    {
     "data": {
      "text/html": [
       "<pre>Preparing data set.</pre>"
      ],
      "text/plain": [
       "Preparing data set."
      ]
     },
     "metadata": {},
     "output_type": "display_data"
    },
    {
     "data": {
      "text/html": [
       "<pre>    Data has 679051 observations with 89502 users and 261758 items.</pre>"
      ],
      "text/plain": [
       "    Data has 679051 observations with 89502 users and 261758 items."
      ]
     },
     "metadata": {},
     "output_type": "display_data"
    },
    {
     "data": {
      "text/html": [
       "<pre>    Data prepared in: 1.41544s</pre>"
      ],
      "text/plain": [
       "    Data prepared in: 1.41544s"
      ]
     },
     "metadata": {},
     "output_type": "display_data"
    },
    {
     "data": {
      "text/html": [
       "<pre>Training factorization_recommender for recommendations.</pre>"
      ],
      "text/plain": [
       "Training factorization_recommender for recommendations."
      ]
     },
     "metadata": {},
     "output_type": "display_data"
    },
    {
     "data": {
      "text/html": [
       "<pre>+--------------------------------+--------------------------------------------------+----------+</pre>"
      ],
      "text/plain": [
       "+--------------------------------+--------------------------------------------------+----------+"
      ]
     },
     "metadata": {},
     "output_type": "display_data"
    },
    {
     "data": {
      "text/html": [
       "<pre>| Parameter                      | Description                                      | Value    |</pre>"
      ],
      "text/plain": [
       "| Parameter                      | Description                                      | Value    |"
      ]
     },
     "metadata": {},
     "output_type": "display_data"
    },
    {
     "data": {
      "text/html": [
       "<pre>+--------------------------------+--------------------------------------------------+----------+</pre>"
      ],
      "text/plain": [
       "+--------------------------------+--------------------------------------------------+----------+"
      ]
     },
     "metadata": {},
     "output_type": "display_data"
    },
    {
     "data": {
      "text/html": [
       "<pre>| num_factors                    | Factor Dimension                                 | 8        |</pre>"
      ],
      "text/plain": [
       "| num_factors                    | Factor Dimension                                 | 8        |"
      ]
     },
     "metadata": {},
     "output_type": "display_data"
    },
    {
     "data": {
      "text/html": [
       "<pre>| regularization                 | L2 Regularization on Factors                     | 1e-008   |</pre>"
      ],
      "text/plain": [
       "| regularization                 | L2 Regularization on Factors                     | 1e-008   |"
      ]
     },
     "metadata": {},
     "output_type": "display_data"
    },
    {
     "data": {
      "text/html": [
       "<pre>| solver                         | Solver used for training                         | adagrad  |</pre>"
      ],
      "text/plain": [
       "| solver                         | Solver used for training                         | adagrad  |"
      ]
     },
     "metadata": {},
     "output_type": "display_data"
    },
    {
     "data": {
      "text/html": [
       "<pre>| linear_regularization          | L2 Regularization on Linear Coefficients         | 1e-010   |</pre>"
      ],
      "text/plain": [
       "| linear_regularization          | L2 Regularization on Linear Coefficients         | 1e-010   |"
      ]
     },
     "metadata": {},
     "output_type": "display_data"
    },
    {
     "data": {
      "text/html": [
       "<pre>| nmf                            | Use Non-Negative Factors                         | True     |</pre>"
      ],
      "text/plain": [
       "| nmf                            | Use Non-Negative Factors                         | True     |"
      ]
     },
     "metadata": {},
     "output_type": "display_data"
    },
    {
     "data": {
      "text/html": [
       "<pre>| side_data_factorization        | Assign Factors for Side Data                     | True     |</pre>"
      ],
      "text/plain": [
       "| side_data_factorization        | Assign Factors for Side Data                     | True     |"
      ]
     },
     "metadata": {},
     "output_type": "display_data"
    },
    {
     "data": {
      "text/html": [
       "<pre>| sgd_step_size                  | Starting SGD Step Size                           | 0.01     |</pre>"
      ],
      "text/plain": [
       "| sgd_step_size                  | Starting SGD Step Size                           | 0.01     |"
      ]
     },
     "metadata": {},
     "output_type": "display_data"
    },
    {
     "data": {
      "text/html": [
       "<pre>| max_iterations                 | Maximum Number of Iterations                     | 2000     |</pre>"
      ],
      "text/plain": [
       "| max_iterations                 | Maximum Number of Iterations                     | 2000     |"
      ]
     },
     "metadata": {},
     "output_type": "display_data"
    },
    {
     "data": {
      "text/html": [
       "<pre>+--------------------------------+--------------------------------------------------+----------+</pre>"
      ],
      "text/plain": [
       "+--------------------------------+--------------------------------------------------+----------+"
      ]
     },
     "metadata": {},
     "output_type": "display_data"
    },
    {
     "data": {
      "text/html": [
       "<pre>  Optimizing model using SGD (step size tuning: OFF).</pre>"
      ],
      "text/plain": [
       "  Optimizing model using SGD (step size tuning: OFF)."
      ]
     },
     "metadata": {},
     "output_type": "display_data"
    },
    {
     "data": {
      "text/html": [
       "<pre>Starting Optimization.</pre>"
      ],
      "text/plain": [
       "Starting Optimization."
      ]
     },
     "metadata": {},
     "output_type": "display_data"
    },
    {
     "data": {
      "text/html": [
       "<pre>+---------+--------------+-------------------+-----------------------+-------------+</pre>"
      ],
      "text/plain": [
       "+---------+--------------+-------------------+-----------------------+-------------+"
      ]
     },
     "metadata": {},
     "output_type": "display_data"
    },
    {
     "data": {
      "text/html": [
       "<pre>| Iter.   | Elapsed Time | Approx. Objective | Approx. Training RMSE | Step Size   |</pre>"
      ],
      "text/plain": [
       "| Iter.   | Elapsed Time | Approx. Objective | Approx. Training RMSE | Step Size   |"
      ]
     },
     "metadata": {},
     "output_type": "display_data"
    },
    {
     "data": {
      "text/html": [
       "<pre>+---------+--------------+-------------------+-----------------------+-------------+</pre>"
      ],
      "text/plain": [
       "+---------+--------------+-------------------+-----------------------+-------------+"
      ]
     },
     "metadata": {},
     "output_type": "display_data"
    },
    {
     "data": {
      "text/html": [
       "<pre>| Initial | 0us          | 9.8062            | 3.13149               |             |</pre>"
      ],
      "text/plain": [
       "| Initial | 0us          | 9.8062            | 3.13149               |             |"
      ]
     },
     "metadata": {},
     "output_type": "display_data"
    },
    {
     "data": {
      "text/html": [
       "<pre>+---------+--------------+-------------------+-----------------------+-------------+</pre>"
      ],
      "text/plain": [
       "+---------+--------------+-------------------+-----------------------+-------------+"
      ]
     },
     "metadata": {},
     "output_type": "display_data"
    },
    {
     "data": {
      "text/html": [
       "<pre>| 1       | 670.034ms    | 9.61773           | 3.10125               | 0.01        |</pre>"
      ],
      "text/plain": [
       "| 1       | 670.034ms    | 9.61773           | 3.10125               | 0.01        |"
      ]
     },
     "metadata": {},
     "output_type": "display_data"
    },
    {
     "data": {
      "text/html": [
       "<pre>| 2       | 1.23s        | 9.10538           | 3.01751               | 0.01        |</pre>"
      ],
      "text/plain": [
       "| 2       | 1.23s        | 9.10538           | 3.01751               | 0.01        |"
      ]
     },
     "metadata": {},
     "output_type": "display_data"
    },
    {
     "data": {
      "text/html": [
       "<pre>| 3       | 1.79s        | 8.74107           | 2.95653               | 0.01        |</pre>"
      ],
      "text/plain": [
       "| 3       | 1.79s        | 8.74107           | 2.95653               | 0.01        |"
      ]
     },
     "metadata": {},
     "output_type": "display_data"
    },
    {
     "data": {
      "text/html": [
       "<pre>| 4       | 2.41s        | 8.47652           | 2.91144               | 0.01        |</pre>"
      ],
      "text/plain": [
       "| 4       | 2.41s        | 8.47652           | 2.91144               | 0.01        |"
      ]
     },
     "metadata": {},
     "output_type": "display_data"
    },
    {
     "data": {
      "text/html": [
       "<pre>| 5       | 3.07s        | 8.27753           | 2.87707               | 0.01        |</pre>"
      ],
      "text/plain": [
       "| 5       | 3.07s        | 8.27753           | 2.87707               | 0.01        |"
      ]
     },
     "metadata": {},
     "output_type": "display_data"
    },
    {
     "data": {
      "text/html": [
       "<pre>| 6       | 3.67s        | 8.12669           | 2.85073               | 0.01        |</pre>"
      ],
      "text/plain": [
       "| 6       | 3.67s        | 8.12669           | 2.85073               | 0.01        |"
      ]
     },
     "metadata": {},
     "output_type": "display_data"
    },
    {
     "data": {
      "text/html": [
       "<pre>| 10      | 6.02s        | 7.77231           | 2.78788               | 0.01        |</pre>"
      ],
      "text/plain": [
       "| 10      | 6.02s        | 7.77231           | 2.78788               | 0.01        |"
      ]
     },
     "metadata": {},
     "output_type": "display_data"
    },
    {
     "data": {
      "text/html": [
       "<pre>| 11      | 6.61s        | 7.7188            | 2.77827               | 0.01        |</pre>"
      ],
      "text/plain": [
       "| 11      | 6.61s        | 7.7188            | 2.77827               | 0.01        |"
      ]
     },
     "metadata": {},
     "output_type": "display_data"
    },
    {
     "data": {
      "text/html": [
       "<pre>| 15      | 9.01s        | 7.5664            | 2.7507                | 0.01        |</pre>"
      ],
      "text/plain": [
       "| 15      | 9.01s        | 7.5664            | 2.7507                | 0.01        |"
      ]
     },
     "metadata": {},
     "output_type": "display_data"
    },
    {
     "data": {
      "text/html": [
       "<pre>| 20      | 11.87s       | 7.45364           | 2.73013               | 0.01        |</pre>"
      ],
      "text/plain": [
       "| 20      | 11.87s       | 7.45364           | 2.73013               | 0.01        |"
      ]
     },
     "metadata": {},
     "output_type": "display_data"
    },
    {
     "data": {
      "text/html": [
       "<pre>| 25      | 14.78s       | 7.38101           | 2.7168                | 0.01        |</pre>"
      ],
      "text/plain": [
       "| 25      | 14.78s       | 7.38101           | 2.7168                | 0.01        |"
      ]
     },
     "metadata": {},
     "output_type": "display_data"
    },
    {
     "data": {
      "text/html": [
       "<pre>| 30      | 17.69s       | 7.32946           | 2.70729               | 0.01        |</pre>"
      ],
      "text/plain": [
       "| 30      | 17.69s       | 7.32946           | 2.70729               | 0.01        |"
      ]
     },
     "metadata": {},
     "output_type": "display_data"
    },
    {
     "data": {
      "text/html": [
       "<pre>| 35      | 21.26s       | 7.29025           | 2.70004               | 0.01        |</pre>"
      ],
      "text/plain": [
       "| 35      | 21.26s       | 7.29025           | 2.70004               | 0.01        |"
      ]
     },
     "metadata": {},
     "output_type": "display_data"
    },
    {
     "data": {
      "text/html": [
       "<pre>| 40      | 24.30s       | 7.25912           | 2.69427               | 0.01        |</pre>"
      ],
      "text/plain": [
       "| 40      | 24.30s       | 7.25912           | 2.69427               | 0.01        |"
      ]
     },
     "metadata": {},
     "output_type": "display_data"
    },
    {
     "data": {
      "text/html": [
       "<pre>| 45      | 27.72s       | 7.23391           | 2.68959               | 0.01        |</pre>"
      ],
      "text/plain": [
       "| 45      | 27.72s       | 7.23391           | 2.68959               | 0.01        |"
      ]
     },
     "metadata": {},
     "output_type": "display_data"
    },
    {
     "data": {
      "text/html": [
       "<pre>| 50      | 30.95s       | 7.21255           | 2.68561               | 0.01        |</pre>"
      ],
      "text/plain": [
       "| 50      | 30.95s       | 7.21255           | 2.68561               | 0.01        |"
      ]
     },
     "metadata": {},
     "output_type": "display_data"
    },
    {
     "data": {
      "text/html": [
       "<pre>| 51      | 31.65s       | 7.20861           | 2.68488               | 0.01        |</pre>"
      ],
      "text/plain": [
       "| 51      | 31.65s       | 7.20861           | 2.68488               | 0.01        |"
      ]
     },
     "metadata": {},
     "output_type": "display_data"
    },
    {
     "data": {
      "text/html": [
       "<pre>| 55      | 34.46s       | 7.19395           | 2.68215               | 0.01        |</pre>"
      ],
      "text/plain": [
       "| 55      | 34.46s       | 7.19395           | 2.68215               | 0.01        |"
      ]
     },
     "metadata": {},
     "output_type": "display_data"
    },
    {
     "data": {
      "text/html": [
       "<pre>| 60      | 37.94s       | 7.17816           | 2.6792                | 0.01        |</pre>"
      ],
      "text/plain": [
       "| 60      | 37.94s       | 7.17816           | 2.6792                | 0.01        |"
      ]
     },
     "metadata": {},
     "output_type": "display_data"
    },
    {
     "data": {
      "text/html": [
       "<pre>| 65      | 41.18s       | 7.1645            | 2.67665               | 0.01        |</pre>"
      ],
      "text/plain": [
       "| 65      | 41.18s       | 7.1645            | 2.67665               | 0.01        |"
      ]
     },
     "metadata": {},
     "output_type": "display_data"
    },
    {
     "data": {
      "text/html": [
       "<pre>| 70      | 44.82s       | 7.15199           | 2.67431               | 0.01        |</pre>"
      ],
      "text/plain": [
       "| 70      | 44.82s       | 7.15199           | 2.67431               | 0.01        |"
      ]
     },
     "metadata": {},
     "output_type": "display_data"
    },
    {
     "data": {
      "text/html": [
       "<pre>| 75      | 48.45s       | 7.14073           | 2.67221               | 0.01        |</pre>"
      ],
      "text/plain": [
       "| 75      | 48.45s       | 7.14073           | 2.67221               | 0.01        |"
      ]
     },
     "metadata": {},
     "output_type": "display_data"
    },
    {
     "data": {
      "text/html": [
       "<pre>| 80      | 51.96s       | 7.13033           | 2.67026               | 0.01        |</pre>"
      ],
      "text/plain": [
       "| 80      | 51.96s       | 7.13033           | 2.67026               | 0.01        |"
      ]
     },
     "metadata": {},
     "output_type": "display_data"
    },
    {
     "data": {
      "text/html": [
       "<pre>| 85      | 55.86s       | 7.12104           | 2.66852               | 0.01        |</pre>"
      ],
      "text/plain": [
       "| 85      | 55.86s       | 7.12104           | 2.66852               | 0.01        |"
      ]
     },
     "metadata": {},
     "output_type": "display_data"
    },
    {
     "data": {
      "text/html": [
       "<pre>| 90      | 59.70s       | 7.11252           | 2.66692               | 0.01        |</pre>"
      ],
      "text/plain": [
       "| 90      | 59.70s       | 7.11252           | 2.66692               | 0.01        |"
      ]
     },
     "metadata": {},
     "output_type": "display_data"
    },
    {
     "data": {
      "text/html": [
       "<pre>| 95      | 1m 3s        | 7.10451           | 2.66542               | 0.01        |</pre>"
      ],
      "text/plain": [
       "| 95      | 1m 3s        | 7.10451           | 2.66542               | 0.01        |"
      ]
     },
     "metadata": {},
     "output_type": "display_data"
    },
    {
     "data": {
      "text/html": [
       "<pre>| 100     | 1m 7s        | 7.09727           | 2.66406               | 0.01        |</pre>"
      ],
      "text/plain": [
       "| 100     | 1m 7s        | 7.09727           | 2.66406               | 0.01        |"
      ]
     },
     "metadata": {},
     "output_type": "display_data"
    },
    {
     "data": {
      "text/html": [
       "<pre>| 101     | 1m 8s        | 7.09588           | 2.6638                | 0.01        |</pre>"
      ],
      "text/plain": [
       "| 101     | 1m 8s        | 7.09588           | 2.6638                | 0.01        |"
      ]
     },
     "metadata": {},
     "output_type": "display_data"
    },
    {
     "data": {
      "text/html": [
       "<pre>| 105     | 1m 11s       | 7.09058           | 2.66281               | 0.01        |</pre>"
      ],
      "text/plain": [
       "| 105     | 1m 11s       | 7.09058           | 2.66281               | 0.01        |"
      ]
     },
     "metadata": {},
     "output_type": "display_data"
    },
    {
     "data": {
      "text/html": [
       "<pre>| 110     | 1m 15s       | 7.08421           | 2.66161               | 0.01        |</pre>"
      ],
      "text/plain": [
       "| 110     | 1m 15s       | 7.08421           | 2.66161               | 0.01        |"
      ]
     },
     "metadata": {},
     "output_type": "display_data"
    },
    {
     "data": {
      "text/html": [
       "<pre>| 115     | 1m 18s       | 7.07817           | 2.66047               | 0.01        |</pre>"
      ],
      "text/plain": [
       "| 115     | 1m 18s       | 7.07817           | 2.66047               | 0.01        |"
      ]
     },
     "metadata": {},
     "output_type": "display_data"
    },
    {
     "data": {
      "text/html": [
       "<pre>| 120     | 1m 22s       | 7.07239           | 2.65939               | 0.01        |</pre>"
      ],
      "text/plain": [
       "| 120     | 1m 22s       | 7.07239           | 2.65939               | 0.01        |"
      ]
     },
     "metadata": {},
     "output_type": "display_data"
    },
    {
     "data": {
      "text/html": [
       "<pre>| 125     | 1m 26s       | 7.06723           | 2.65842               | 0.01        |</pre>"
      ],
      "text/plain": [
       "| 125     | 1m 26s       | 7.06723           | 2.65842               | 0.01        |"
      ]
     },
     "metadata": {},
     "output_type": "display_data"
    },
    {
     "data": {
      "text/html": [
       "<pre>| 130     | 1m 29s       | 7.06204           | 2.65744               | 0.01        |</pre>"
      ],
      "text/plain": [
       "| 130     | 1m 29s       | 7.06204           | 2.65744               | 0.01        |"
      ]
     },
     "metadata": {},
     "output_type": "display_data"
    },
    {
     "data": {
      "text/html": [
       "<pre>| 135     | 1m 33s       | 7.05751           | 2.65659               | 0.01        |</pre>"
      ],
      "text/plain": [
       "| 135     | 1m 33s       | 7.05751           | 2.65659               | 0.01        |"
      ]
     },
     "metadata": {},
     "output_type": "display_data"
    },
    {
     "data": {
      "text/html": [
       "<pre>| 140     | 1m 37s       | 7.05288           | 2.65572               | 0.01        |</pre>"
      ],
      "text/plain": [
       "| 140     | 1m 37s       | 7.05288           | 2.65572               | 0.01        |"
      ]
     },
     "metadata": {},
     "output_type": "display_data"
    },
    {
     "data": {
      "text/html": [
       "<pre>| 145     | 1m 40s       | 7.04864           | 2.65492               | 0.01        |</pre>"
      ],
      "text/plain": [
       "| 145     | 1m 40s       | 7.04864           | 2.65492               | 0.01        |"
      ]
     },
     "metadata": {},
     "output_type": "display_data"
    },
    {
     "data": {
      "text/html": [
       "<pre>| 150     | 1m 44s       | 7.04458           | 2.65416               | 0.01        |</pre>"
      ],
      "text/plain": [
       "| 150     | 1m 44s       | 7.04458           | 2.65416               | 0.01        |"
      ]
     },
     "metadata": {},
     "output_type": "display_data"
    },
    {
     "data": {
      "text/html": [
       "<pre>| 155     | 1m 48s       | 7.04079           | 2.65344               | 0.01        |</pre>"
      ],
      "text/plain": [
       "| 155     | 1m 48s       | 7.04079           | 2.65344               | 0.01        |"
      ]
     },
     "metadata": {},
     "output_type": "display_data"
    },
    {
     "data": {
      "text/html": [
       "<pre>| 160     | 1m 51s       | 7.03728           | 2.65278               | 0.01        |</pre>"
      ],
      "text/plain": [
       "| 160     | 1m 51s       | 7.03728           | 2.65278               | 0.01        |"
      ]
     },
     "metadata": {},
     "output_type": "display_data"
    },
    {
     "data": {
      "text/html": [
       "<pre>| 165     | 1m 55s       | 7.03343           | 2.65205               | 0.01        |</pre>"
      ],
      "text/plain": [
       "| 165     | 1m 55s       | 7.03343           | 2.65205               | 0.01        |"
      ]
     },
     "metadata": {},
     "output_type": "display_data"
    },
    {
     "data": {
      "text/html": [
       "<pre>| 170     | 1m 58s       | 7.02993           | 2.65139               | 0.01        |</pre>"
      ],
      "text/plain": [
       "| 170     | 1m 58s       | 7.02993           | 2.65139               | 0.01        |"
      ]
     },
     "metadata": {},
     "output_type": "display_data"
    },
    {
     "data": {
      "text/html": [
       "<pre>| 175     | 2m 2s        | 7.02657           | 2.65076               | 0.01        |</pre>"
      ],
      "text/plain": [
       "| 175     | 2m 2s        | 7.02657           | 2.65076               | 0.01        |"
      ]
     },
     "metadata": {},
     "output_type": "display_data"
    },
    {
     "data": {
      "text/html": [
       "<pre>| 180     | 2m 5s        | 7.02341           | 2.65016               | 0.01        |</pre>"
      ],
      "text/plain": [
       "| 180     | 2m 5s        | 7.02341           | 2.65016               | 0.01        |"
      ]
     },
     "metadata": {},
     "output_type": "display_data"
    },
    {
     "data": {
      "text/html": [
       "<pre>| 185     | 2m 8s        | 7.02013           | 2.64954               | 0.01        |</pre>"
      ],
      "text/plain": [
       "| 185     | 2m 8s        | 7.02013           | 2.64954               | 0.01        |"
      ]
     },
     "metadata": {},
     "output_type": "display_data"
    },
    {
     "data": {
      "text/html": [
       "<pre>| 190     | 2m 12s       | 7.01737           | 2.64902               | 0.01        |</pre>"
      ],
      "text/plain": [
       "| 190     | 2m 12s       | 7.01737           | 2.64902               | 0.01        |"
      ]
     },
     "metadata": {},
     "output_type": "display_data"
    },
    {
     "data": {
      "text/html": [
       "<pre>| 195     | 2m 15s       | 7.01475           | 2.64853               | 0.01        |</pre>"
      ],
      "text/plain": [
       "| 195     | 2m 15s       | 7.01475           | 2.64853               | 0.01        |"
      ]
     },
     "metadata": {},
     "output_type": "display_data"
    },
    {
     "data": {
      "text/html": [
       "<pre>| 200     | 2m 18s       | 7.01202           | 2.64801               | 0.01        |</pre>"
      ],
      "text/plain": [
       "| 200     | 2m 18s       | 7.01202           | 2.64801               | 0.01        |"
      ]
     },
     "metadata": {},
     "output_type": "display_data"
    },
    {
     "data": {
      "text/html": [
       "<pre>| 205     | 2m 22s       | 7.00947           | 2.64753               | 0.01        |</pre>"
      ],
      "text/plain": [
       "| 205     | 2m 22s       | 7.00947           | 2.64753               | 0.01        |"
      ]
     },
     "metadata": {},
     "output_type": "display_data"
    },
    {
     "data": {
      "text/html": [
       "<pre>| 210     | 2m 26s       | 7.00691           | 2.64705               | 0.01        |</pre>"
      ],
      "text/plain": [
       "| 210     | 2m 26s       | 7.00691           | 2.64705               | 0.01        |"
      ]
     },
     "metadata": {},
     "output_type": "display_data"
    },
    {
     "data": {
      "text/html": [
       "<pre>| 215     | 2m 30s       | 7.00477           | 2.64664               | 0.01        |</pre>"
      ],
      "text/plain": [
       "| 215     | 2m 30s       | 7.00477           | 2.64664               | 0.01        |"
      ]
     },
     "metadata": {},
     "output_type": "display_data"
    },
    {
     "data": {
      "text/html": [
       "<pre>| 220     | 2m 34s       | 7.0023            | 2.64618               | 0.01        |</pre>"
      ],
      "text/plain": [
       "| 220     | 2m 34s       | 7.0023            | 2.64618               | 0.01        |"
      ]
     },
     "metadata": {},
     "output_type": "display_data"
    },
    {
     "data": {
      "text/html": [
       "<pre>| 225     | 2m 38s       | 6.99993           | 2.64573               | 0.01        |</pre>"
      ],
      "text/plain": [
       "| 225     | 2m 38s       | 6.99993           | 2.64573               | 0.01        |"
      ]
     },
     "metadata": {},
     "output_type": "display_data"
    },
    {
     "data": {
      "text/html": [
       "<pre>| 230     | 2m 41s       | 6.99764           | 2.6453                | 0.01        |</pre>"
      ],
      "text/plain": [
       "| 230     | 2m 41s       | 6.99764           | 2.6453                | 0.01        |"
      ]
     },
     "metadata": {},
     "output_type": "display_data"
    },
    {
     "data": {
      "text/html": [
       "<pre>| 235     | 2m 45s       | 6.99559           | 2.64491               | 0.01        |</pre>"
      ],
      "text/plain": [
       "| 235     | 2m 45s       | 6.99559           | 2.64491               | 0.01        |"
      ]
     },
     "metadata": {},
     "output_type": "display_data"
    },
    {
     "data": {
      "text/html": [
       "<pre>| 240     | 2m 49s       | 6.99343           | 2.6445                | 0.01        |</pre>"
      ],
      "text/plain": [
       "| 240     | 2m 49s       | 6.99343           | 2.6445                | 0.01        |"
      ]
     },
     "metadata": {},
     "output_type": "display_data"
    },
    {
     "data": {
      "text/html": [
       "<pre>| 245     | 2m 53s       | 6.9913            | 2.6441                | 0.01        |</pre>"
      ],
      "text/plain": [
       "| 245     | 2m 53s       | 6.9913            | 2.6441                | 0.01        |"
      ]
     },
     "metadata": {},
     "output_type": "display_data"
    },
    {
     "data": {
      "text/html": [
       "<pre>| 250     | 2m 56s       | 6.98932           | 2.64372               | 0.01        |</pre>"
      ],
      "text/plain": [
       "| 250     | 2m 56s       | 6.98932           | 2.64372               | 0.01        |"
      ]
     },
     "metadata": {},
     "output_type": "display_data"
    },
    {
     "data": {
      "text/html": [
       "<pre>| 255     | 3m 0s        | 6.98752           | 2.64338               | 0.01        |</pre>"
      ],
      "text/plain": [
       "| 255     | 3m 0s        | 6.98752           | 2.64338               | 0.01        |"
      ]
     },
     "metadata": {},
     "output_type": "display_data"
    },
    {
     "data": {
      "text/html": [
       "<pre>| 260     | 3m 4s        | 6.98552           | 2.643                 | 0.01        |</pre>"
      ],
      "text/plain": [
       "| 260     | 3m 4s        | 6.98552           | 2.643                 | 0.01        |"
      ]
     },
     "metadata": {},
     "output_type": "display_data"
    },
    {
     "data": {
      "text/html": [
       "<pre>| 265     | 3m 8s        | 6.98366           | 2.64265               | 0.01        |</pre>"
      ],
      "text/plain": [
       "| 265     | 3m 8s        | 6.98366           | 2.64265               | 0.01        |"
      ]
     },
     "metadata": {},
     "output_type": "display_data"
    },
    {
     "data": {
      "text/html": [
       "<pre>| 270     | 3m 12s       | 6.98201           | 2.64234               | 0.01        |</pre>"
      ],
      "text/plain": [
       "| 270     | 3m 12s       | 6.98201           | 2.64234               | 0.01        |"
      ]
     },
     "metadata": {},
     "output_type": "display_data"
    },
    {
     "data": {
      "text/html": [
       "<pre>| 275     | 3m 16s       | 6.9802            | 2.642                 | 0.01        |</pre>"
      ],
      "text/plain": [
       "| 275     | 3m 16s       | 6.9802            | 2.642                 | 0.01        |"
      ]
     },
     "metadata": {},
     "output_type": "display_data"
    },
    {
     "data": {
      "text/html": [
       "<pre>| 280     | 3m 20s       | 6.97868           | 2.64171               | 0.01        |</pre>"
      ],
      "text/plain": [
       "| 280     | 3m 20s       | 6.97868           | 2.64171               | 0.01        |"
      ]
     },
     "metadata": {},
     "output_type": "display_data"
    },
    {
     "data": {
      "text/html": [
       "<pre>| 285     | 3m 24s       | 6.97689           | 2.64137               | 0.01        |</pre>"
      ],
      "text/plain": [
       "| 285     | 3m 24s       | 6.97689           | 2.64137               | 0.01        |"
      ]
     },
     "metadata": {},
     "output_type": "display_data"
    },
    {
     "data": {
      "text/html": [
       "<pre>| 290     | 3m 27s       | 6.9753            | 2.64107               | 0.01        |</pre>"
      ],
      "text/plain": [
       "| 290     | 3m 27s       | 6.9753            | 2.64107               | 0.01        |"
      ]
     },
     "metadata": {},
     "output_type": "display_data"
    },
    {
     "data": {
      "text/html": [
       "<pre>| 295     | 3m 31s       | 6.97369           | 2.64077               | 0.01        |</pre>"
      ],
      "text/plain": [
       "| 295     | 3m 31s       | 6.97369           | 2.64077               | 0.01        |"
      ]
     },
     "metadata": {},
     "output_type": "display_data"
    },
    {
     "data": {
      "text/html": [
       "<pre>| 300     | 3m 35s       | 6.97201           | 2.64045               | 0.01        |</pre>"
      ],
      "text/plain": [
       "| 300     | 3m 35s       | 6.97201           | 2.64045               | 0.01        |"
      ]
     },
     "metadata": {},
     "output_type": "display_data"
    },
    {
     "data": {
      "text/html": [
       "<pre>| 305     | 3m 38s       | 6.97077           | 2.64021               | 0.01        |</pre>"
      ],
      "text/plain": [
       "| 305     | 3m 38s       | 6.97077           | 2.64021               | 0.01        |"
      ]
     },
     "metadata": {},
     "output_type": "display_data"
    },
    {
     "data": {
      "text/html": [
       "<pre>| 310     | 3m 42s       | 6.96925           | 2.63992               | 0.01        |</pre>"
      ],
      "text/plain": [
       "| 310     | 3m 42s       | 6.96925           | 2.63992               | 0.01        |"
      ]
     },
     "metadata": {},
     "output_type": "display_data"
    },
    {
     "data": {
      "text/html": [
       "<pre>| 315     | 3m 45s       | 6.96768           | 2.63963               | 0.01        |</pre>"
      ],
      "text/plain": [
       "| 315     | 3m 45s       | 6.96768           | 2.63963               | 0.01        |"
      ]
     },
     "metadata": {},
     "output_type": "display_data"
    },
    {
     "data": {
      "text/html": [
       "<pre>| 320     | 3m 48s       | 6.96623           | 2.63935               | 0.01        |</pre>"
      ],
      "text/plain": [
       "| 320     | 3m 48s       | 6.96623           | 2.63935               | 0.01        |"
      ]
     },
     "metadata": {},
     "output_type": "display_data"
    },
    {
     "data": {
      "text/html": [
       "<pre>| 325     | 3m 52s       | 6.9648            | 2.63908               | 0.01        |</pre>"
      ],
      "text/plain": [
       "| 325     | 3m 52s       | 6.9648            | 2.63908               | 0.01        |"
      ]
     },
     "metadata": {},
     "output_type": "display_data"
    },
    {
     "data": {
      "text/html": [
       "<pre>| 330     | 3m 55s       | 6.96361           | 2.63885               | 0.01        |</pre>"
      ],
      "text/plain": [
       "| 330     | 3m 55s       | 6.96361           | 2.63885               | 0.01        |"
      ]
     },
     "metadata": {},
     "output_type": "display_data"
    },
    {
     "data": {
      "text/html": [
       "<pre>| 335     | 3m 58s       | 6.96206           | 2.63856               | 0.01        |</pre>"
      ],
      "text/plain": [
       "| 335     | 3m 58s       | 6.96206           | 2.63856               | 0.01        |"
      ]
     },
     "metadata": {},
     "output_type": "display_data"
    },
    {
     "data": {
      "text/html": [
       "<pre>| 340     | 4m 1s        | 6.96063           | 2.63829               | 0.01        |</pre>"
      ],
      "text/plain": [
       "| 340     | 4m 1s        | 6.96063           | 2.63829               | 0.01        |"
      ]
     },
     "metadata": {},
     "output_type": "display_data"
    },
    {
     "data": {
      "text/html": [
       "<pre>| 345     | 4m 4s        | 6.95951           | 2.63808               | 0.01        |</pre>"
      ],
      "text/plain": [
       "| 345     | 4m 4s        | 6.95951           | 2.63808               | 0.01        |"
      ]
     },
     "metadata": {},
     "output_type": "display_data"
    },
    {
     "data": {
      "text/html": [
       "<pre>| 350     | 4m 8s        | 6.95819           | 2.63783               | 0.01        |</pre>"
      ],
      "text/plain": [
       "| 350     | 4m 8s        | 6.95819           | 2.63783               | 0.01        |"
      ]
     },
     "metadata": {},
     "output_type": "display_data"
    },
    {
     "data": {
      "text/html": [
       "<pre>| 355     | 4m 11s       | 6.95688           | 2.63758               | 0.01        |</pre>"
      ],
      "text/plain": [
       "| 355     | 4m 11s       | 6.95688           | 2.63758               | 0.01        |"
      ]
     },
     "metadata": {},
     "output_type": "display_data"
    },
    {
     "data": {
      "text/html": [
       "<pre>| 360     | 4m 14s       | 6.95571           | 2.63736               | 0.01        |</pre>"
      ],
      "text/plain": [
       "| 360     | 4m 14s       | 6.95571           | 2.63736               | 0.01        |"
      ]
     },
     "metadata": {},
     "output_type": "display_data"
    },
    {
     "data": {
      "text/html": [
       "<pre>| 365     | 4m 18s       | 6.95446           | 2.63712               | 0.01        |</pre>"
      ],
      "text/plain": [
       "| 365     | 4m 18s       | 6.95446           | 2.63712               | 0.01        |"
      ]
     },
     "metadata": {},
     "output_type": "display_data"
    },
    {
     "data": {
      "text/html": [
       "<pre>| 370     | 4m 21s       | 6.95332           | 2.6369                | 0.01        |</pre>"
      ],
      "text/plain": [
       "| 370     | 4m 21s       | 6.95332           | 2.6369                | 0.01        |"
      ]
     },
     "metadata": {},
     "output_type": "display_data"
    },
    {
     "data": {
      "text/html": [
       "<pre>| 375     | 4m 24s       | 6.95212           | 2.63668               | 0.01        |</pre>"
      ],
      "text/plain": [
       "| 375     | 4m 24s       | 6.95212           | 2.63668               | 0.01        |"
      ]
     },
     "metadata": {},
     "output_type": "display_data"
    },
    {
     "data": {
      "text/html": [
       "<pre>| 380     | 4m 28s       | 6.95101           | 2.63647               | 0.01        |</pre>"
      ],
      "text/plain": [
       "| 380     | 4m 28s       | 6.95101           | 2.63647               | 0.01        |"
      ]
     },
     "metadata": {},
     "output_type": "display_data"
    },
    {
     "data": {
      "text/html": [
       "<pre>| 385     | 4m 31s       | 6.94985           | 2.63625               | 0.01        |</pre>"
      ],
      "text/plain": [
       "| 385     | 4m 31s       | 6.94985           | 2.63625               | 0.01        |"
      ]
     },
     "metadata": {},
     "output_type": "display_data"
    },
    {
     "data": {
      "text/html": [
       "<pre>| 390     | 4m 34s       | 6.94883           | 2.63605               | 0.01        |</pre>"
      ],
      "text/plain": [
       "| 390     | 4m 34s       | 6.94883           | 2.63605               | 0.01        |"
      ]
     },
     "metadata": {},
     "output_type": "display_data"
    },
    {
     "data": {
      "text/html": [
       "<pre>| 395     | 4m 37s       | 6.94783           | 2.63586               | 0.01        |</pre>"
      ],
      "text/plain": [
       "| 395     | 4m 37s       | 6.94783           | 2.63586               | 0.01        |"
      ]
     },
     "metadata": {},
     "output_type": "display_data"
    },
    {
     "data": {
      "text/html": [
       "<pre>| 400     | 4m 40s       | 6.94681           | 2.63567               | 0.01        |</pre>"
      ],
      "text/plain": [
       "| 400     | 4m 40s       | 6.94681           | 2.63567               | 0.01        |"
      ]
     },
     "metadata": {},
     "output_type": "display_data"
    },
    {
     "data": {
      "text/html": [
       "<pre>| 405     | 4m 44s       | 6.94564           | 2.63545               | 0.01        |</pre>"
      ],
      "text/plain": [
       "| 405     | 4m 44s       | 6.94564           | 2.63545               | 0.01        |"
      ]
     },
     "metadata": {},
     "output_type": "display_data"
    },
    {
     "data": {
      "text/html": [
       "<pre>| 410     | 4m 47s       | 6.94454           | 2.63524               | 0.01        |</pre>"
      ],
      "text/plain": [
       "| 410     | 4m 47s       | 6.94454           | 2.63524               | 0.01        |"
      ]
     },
     "metadata": {},
     "output_type": "display_data"
    },
    {
     "data": {
      "text/html": [
       "<pre>| 415     | 4m 50s       | 6.9436            | 2.63506               | 0.01        |</pre>"
      ],
      "text/plain": [
       "| 415     | 4m 50s       | 6.9436            | 2.63506               | 0.01        |"
      ]
     },
     "metadata": {},
     "output_type": "display_data"
    },
    {
     "data": {
      "text/html": [
       "<pre>| 420     | 4m 53s       | 6.94276           | 2.6349                | 0.01        |</pre>"
      ],
      "text/plain": [
       "| 420     | 4m 53s       | 6.94276           | 2.6349                | 0.01        |"
      ]
     },
     "metadata": {},
     "output_type": "display_data"
    },
    {
     "data": {
      "text/html": [
       "<pre>| 425     | 4m 56s       | 6.94152           | 2.63466               | 0.01        |</pre>"
      ],
      "text/plain": [
       "| 425     | 4m 56s       | 6.94152           | 2.63466               | 0.01        |"
      ]
     },
     "metadata": {},
     "output_type": "display_data"
    },
    {
     "data": {
      "text/html": [
       "<pre>| 430     | 5m 0s        | 6.94048           | 2.63447               | 0.01        |</pre>"
      ],
      "text/plain": [
       "| 430     | 5m 0s        | 6.94048           | 2.63447               | 0.01        |"
      ]
     },
     "metadata": {},
     "output_type": "display_data"
    },
    {
     "data": {
      "text/html": [
       "<pre>| 435     | 5m 3s        | 6.93975           | 2.63433               | 0.01        |</pre>"
      ],
      "text/plain": [
       "| 435     | 5m 3s        | 6.93975           | 2.63433               | 0.01        |"
      ]
     },
     "metadata": {},
     "output_type": "display_data"
    },
    {
     "data": {
      "text/html": [
       "<pre>| 440     | 5m 6s        | 6.93871           | 2.63413               | 0.01        |</pre>"
      ],
      "text/plain": [
       "| 440     | 5m 6s        | 6.93871           | 2.63413               | 0.01        |"
      ]
     },
     "metadata": {},
     "output_type": "display_data"
    },
    {
     "data": {
      "text/html": [
       "<pre>| 445     | 5m 9s        | 6.93794           | 2.63398               | 0.01        |</pre>"
      ],
      "text/plain": [
       "| 445     | 5m 9s        | 6.93794           | 2.63398               | 0.01        |"
      ]
     },
     "metadata": {},
     "output_type": "display_data"
    },
    {
     "data": {
      "text/html": [
       "<pre>| 450     | 5m 13s       | 6.93699           | 2.6338                | 0.01        |</pre>"
      ],
      "text/plain": [
       "| 450     | 5m 13s       | 6.93699           | 2.6338                | 0.01        |"
      ]
     },
     "metadata": {},
     "output_type": "display_data"
    },
    {
     "data": {
      "text/html": [
       "<pre>| 455     | 5m 16s       | 6.93594           | 2.6336                | 0.01        |</pre>"
      ],
      "text/plain": [
       "| 455     | 5m 16s       | 6.93594           | 2.6336                | 0.01        |"
      ]
     },
     "metadata": {},
     "output_type": "display_data"
    },
    {
     "data": {
      "text/html": [
       "<pre>| 460     | 5m 19s       | 6.93524           | 2.63347               | 0.01        |</pre>"
      ],
      "text/plain": [
       "| 460     | 5m 19s       | 6.93524           | 2.63347               | 0.01        |"
      ]
     },
     "metadata": {},
     "output_type": "display_data"
    },
    {
     "data": {
      "text/html": [
       "<pre>| 465     | 5m 22s       | 6.93447           | 2.63333               | 0.01        |</pre>"
      ],
      "text/plain": [
       "| 465     | 5m 22s       | 6.93447           | 2.63333               | 0.01        |"
      ]
     },
     "metadata": {},
     "output_type": "display_data"
    },
    {
     "data": {
      "text/html": [
       "<pre>| 470     | 5m 26s       | 6.93356           | 2.63315               | 0.01        |</pre>"
      ],
      "text/plain": [
       "| 470     | 5m 26s       | 6.93356           | 2.63315               | 0.01        |"
      ]
     },
     "metadata": {},
     "output_type": "display_data"
    },
    {
     "data": {
      "text/html": [
       "<pre>| 475     | 5m 29s       | 6.93273           | 2.633                 | 0.01        |</pre>"
      ],
      "text/plain": [
       "| 475     | 5m 29s       | 6.93273           | 2.633                 | 0.01        |"
      ]
     },
     "metadata": {},
     "output_type": "display_data"
    },
    {
     "data": {
      "text/html": [
       "<pre>| 480     | 5m 32s       | 6.93185           | 2.63283               | 0.01        |</pre>"
      ],
      "text/plain": [
       "| 480     | 5m 32s       | 6.93185           | 2.63283               | 0.01        |"
      ]
     },
     "metadata": {},
     "output_type": "display_data"
    },
    {
     "data": {
      "text/html": [
       "<pre>| 485     | 5m 36s       | 6.93108           | 2.63268               | 0.01        |</pre>"
      ],
      "text/plain": [
       "| 485     | 5m 36s       | 6.93108           | 2.63268               | 0.01        |"
      ]
     },
     "metadata": {},
     "output_type": "display_data"
    },
    {
     "data": {
      "text/html": [
       "<pre>| 490     | 5m 39s       | 6.93046           | 2.63256               | 0.01        |</pre>"
      ],
      "text/plain": [
       "| 490     | 5m 39s       | 6.93046           | 2.63256               | 0.01        |"
      ]
     },
     "metadata": {},
     "output_type": "display_data"
    },
    {
     "data": {
      "text/html": [
       "<pre>| 495     | 5m 42s       | 6.92972           | 2.63242               | 0.01        |</pre>"
      ],
      "text/plain": [
       "| 495     | 5m 42s       | 6.92972           | 2.63242               | 0.01        |"
      ]
     },
     "metadata": {},
     "output_type": "display_data"
    },
    {
     "data": {
      "text/html": [
       "<pre>| 500     | 5m 46s       | 6.92872           | 2.63223               | 0.01        |</pre>"
      ],
      "text/plain": [
       "| 500     | 5m 46s       | 6.92872           | 2.63223               | 0.01        |"
      ]
     },
     "metadata": {},
     "output_type": "display_data"
    },
    {
     "data": {
      "text/html": [
       "<pre>| 501     | 5m 46s       | 6.92856           | 2.6322                | 0.01        |</pre>"
      ],
      "text/plain": [
       "| 501     | 5m 46s       | 6.92856           | 2.6322                | 0.01        |"
      ]
     },
     "metadata": {},
     "output_type": "display_data"
    },
    {
     "data": {
      "text/html": [
       "<pre>| 505     | 5m 49s       | 6.9279            | 2.63208               | 0.01        |</pre>"
      ],
      "text/plain": [
       "| 505     | 5m 49s       | 6.9279            | 2.63208               | 0.01        |"
      ]
     },
     "metadata": {},
     "output_type": "display_data"
    },
    {
     "data": {
      "text/html": [
       "<pre>| 510     | 5m 53s       | 6.92726           | 2.63196               | 0.01        |</pre>"
      ],
      "text/plain": [
       "| 510     | 5m 53s       | 6.92726           | 2.63196               | 0.01        |"
      ]
     },
     "metadata": {},
     "output_type": "display_data"
    },
    {
     "data": {
      "text/html": [
       "<pre>| 515     | 5m 56s       | 6.92648           | 2.63181               | 0.01        |</pre>"
      ],
      "text/plain": [
       "| 515     | 5m 56s       | 6.92648           | 2.63181               | 0.01        |"
      ]
     },
     "metadata": {},
     "output_type": "display_data"
    },
    {
     "data": {
      "text/html": [
       "<pre>| 520     | 5m 59s       | 6.92579           | 2.63168               | 0.01        |</pre>"
      ],
      "text/plain": [
       "| 520     | 5m 59s       | 6.92579           | 2.63168               | 0.01        |"
      ]
     },
     "metadata": {},
     "output_type": "display_data"
    },
    {
     "data": {
      "text/html": [
       "<pre>| 525     | 6m 2s        | 6.92503           | 2.63153               | 0.01        |</pre>"
      ],
      "text/plain": [
       "| 525     | 6m 2s        | 6.92503           | 2.63153               | 0.01        |"
      ]
     },
     "metadata": {},
     "output_type": "display_data"
    },
    {
     "data": {
      "text/html": [
       "<pre>| 530     | 6m 6s        | 6.92427           | 2.63139               | 0.01        |</pre>"
      ],
      "text/plain": [
       "| 530     | 6m 6s        | 6.92427           | 2.63139               | 0.01        |"
      ]
     },
     "metadata": {},
     "output_type": "display_data"
    },
    {
     "data": {
      "text/html": [
       "<pre>| 535     | 6m 9s        | 6.9237            | 2.63128               | 0.01        |</pre>"
      ],
      "text/plain": [
       "| 535     | 6m 9s        | 6.9237            | 2.63128               | 0.01        |"
      ]
     },
     "metadata": {},
     "output_type": "display_data"
    },
    {
     "data": {
      "text/html": [
       "<pre>| 540     | 6m 12s       | 6.92277           | 2.6311                | 0.01        |</pre>"
      ],
      "text/plain": [
       "| 540     | 6m 12s       | 6.92277           | 2.6311                | 0.01        |"
      ]
     },
     "metadata": {},
     "output_type": "display_data"
    },
    {
     "data": {
      "text/html": [
       "<pre>| 545     | 6m 16s       | 6.92215           | 2.63098               | 0.01        |</pre>"
      ],
      "text/plain": [
       "| 545     | 6m 16s       | 6.92215           | 2.63098               | 0.01        |"
      ]
     },
     "metadata": {},
     "output_type": "display_data"
    },
    {
     "data": {
      "text/html": [
       "<pre>| 550     | 6m 20s       | 6.9215            | 2.63086               | 0.01        |</pre>"
      ],
      "text/plain": [
       "| 550     | 6m 20s       | 6.9215            | 2.63086               | 0.01        |"
      ]
     },
     "metadata": {},
     "output_type": "display_data"
    },
    {
     "data": {
      "text/html": [
       "<pre>| 555     | 6m 23s       | 6.92075           | 2.63072               | 0.01        |</pre>"
      ],
      "text/plain": [
       "| 555     | 6m 23s       | 6.92075           | 2.63072               | 0.01        |"
      ]
     },
     "metadata": {},
     "output_type": "display_data"
    },
    {
     "data": {
      "text/html": [
       "<pre>| 560     | 6m 27s       | 6.92021           | 2.63062               | 0.01        |</pre>"
      ],
      "text/plain": [
       "| 560     | 6m 27s       | 6.92021           | 2.63062               | 0.01        |"
      ]
     },
     "metadata": {},
     "output_type": "display_data"
    },
    {
     "data": {
      "text/html": [
       "<pre>| 565     | 6m 30s       | 6.91963           | 2.63051               | 0.01        |</pre>"
      ],
      "text/plain": [
       "| 565     | 6m 30s       | 6.91963           | 2.63051               | 0.01        |"
      ]
     },
     "metadata": {},
     "output_type": "display_data"
    },
    {
     "data": {
      "text/html": [
       "<pre>| 570     | 6m 33s       | 6.9189            | 2.63037               | 0.01        |</pre>"
      ],
      "text/plain": [
       "| 570     | 6m 33s       | 6.9189            | 2.63037               | 0.01        |"
      ]
     },
     "metadata": {},
     "output_type": "display_data"
    },
    {
     "data": {
      "text/html": [
       "<pre>| 575     | 6m 37s       | 6.91835           | 2.63026               | 0.01        |</pre>"
      ],
      "text/plain": [
       "| 575     | 6m 37s       | 6.91835           | 2.63026               | 0.01        |"
      ]
     },
     "metadata": {},
     "output_type": "display_data"
    },
    {
     "data": {
      "text/html": [
       "<pre>| 580     | 6m 40s       | 6.91783           | 2.63016               | 0.01        |</pre>"
      ],
      "text/plain": [
       "| 580     | 6m 40s       | 6.91783           | 2.63016               | 0.01        |"
      ]
     },
     "metadata": {},
     "output_type": "display_data"
    },
    {
     "data": {
      "text/html": [
       "<pre>| 585     | 6m 44s       | 6.91699           | 2.63                  | 0.01        |</pre>"
      ],
      "text/plain": [
       "| 585     | 6m 44s       | 6.91699           | 2.63                  | 0.01        |"
      ]
     },
     "metadata": {},
     "output_type": "display_data"
    },
    {
     "data": {
      "text/html": [
       "<pre>| 590     | 6m 47s       | 6.91638           | 2.62989               | 0.01        |</pre>"
      ],
      "text/plain": [
       "| 590     | 6m 47s       | 6.91638           | 2.62989               | 0.01        |"
      ]
     },
     "metadata": {},
     "output_type": "display_data"
    },
    {
     "data": {
      "text/html": [
       "<pre>| 595     | 6m 50s       | 6.91568           | 2.62975               | 0.01        |</pre>"
      ],
      "text/plain": [
       "| 595     | 6m 50s       | 6.91568           | 2.62975               | 0.01        |"
      ]
     },
     "metadata": {},
     "output_type": "display_data"
    },
    {
     "data": {
      "text/html": [
       "<pre>| 600     | 6m 54s       | 6.91518           | 2.62966               | 0.01        |</pre>"
      ],
      "text/plain": [
       "| 600     | 6m 54s       | 6.91518           | 2.62966               | 0.01        |"
      ]
     },
     "metadata": {},
     "output_type": "display_data"
    },
    {
     "data": {
      "text/html": [
       "<pre>| 605     | 6m 57s       | 6.91453           | 2.62954               | 0.01        |</pre>"
      ],
      "text/plain": [
       "| 605     | 6m 57s       | 6.91453           | 2.62954               | 0.01        |"
      ]
     },
     "metadata": {},
     "output_type": "display_data"
    },
    {
     "data": {
      "text/html": [
       "<pre>| 610     | 7m 1s        | 6.91401           | 2.62944               | 0.01        |</pre>"
      ],
      "text/plain": [
       "| 610     | 7m 1s        | 6.91401           | 2.62944               | 0.01        |"
      ]
     },
     "metadata": {},
     "output_type": "display_data"
    },
    {
     "data": {
      "text/html": [
       "<pre>| 615     | 7m 4s        | 6.91332           | 2.62931               | 0.01        |</pre>"
      ],
      "text/plain": [
       "| 615     | 7m 4s        | 6.91332           | 2.62931               | 0.01        |"
      ]
     },
     "metadata": {},
     "output_type": "display_data"
    },
    {
     "data": {
      "text/html": [
       "<pre>| 620     | 7m 7s        | 6.91286           | 2.62922               | 0.01        |</pre>"
      ],
      "text/plain": [
       "| 620     | 7m 7s        | 6.91286           | 2.62922               | 0.01        |"
      ]
     },
     "metadata": {},
     "output_type": "display_data"
    },
    {
     "data": {
      "text/html": [
       "<pre>| 625     | 7m 10s       | 6.91205           | 2.62906               | 0.01        |</pre>"
      ],
      "text/plain": [
       "| 625     | 7m 10s       | 6.91205           | 2.62906               | 0.01        |"
      ]
     },
     "metadata": {},
     "output_type": "display_data"
    },
    {
     "data": {
      "text/html": [
       "<pre>| 630     | 7m 13s       | 6.91156           | 2.62897               | 0.01        |</pre>"
      ],
      "text/plain": [
       "| 630     | 7m 13s       | 6.91156           | 2.62897               | 0.01        |"
      ]
     },
     "metadata": {},
     "output_type": "display_data"
    },
    {
     "data": {
      "text/html": [
       "<pre>| 635     | 7m 17s       | 6.9113            | 2.62892               | 0.01        |</pre>"
      ],
      "text/plain": [
       "| 635     | 7m 17s       | 6.9113            | 2.62892               | 0.01        |"
      ]
     },
     "metadata": {},
     "output_type": "display_data"
    },
    {
     "data": {
      "text/html": [
       "<pre>+---------+--------------+-------------------+-----------------------+-------------+</pre>"
      ],
      "text/plain": [
       "+---------+--------------+-------------------+-----------------------+-------------+"
      ]
     },
     "metadata": {},
     "output_type": "display_data"
    },
    {
     "data": {
      "text/html": [
       "<pre>Optimization Complete: Convergence on objective within bounds.</pre>"
      ],
      "text/plain": [
       "Optimization Complete: Convergence on objective within bounds."
      ]
     },
     "metadata": {},
     "output_type": "display_data"
    },
    {
     "data": {
      "text/html": [
       "<pre>Computing final objective value and training RMSE.</pre>"
      ],
      "text/plain": [
       "Computing final objective value and training RMSE."
      ]
     },
     "metadata": {},
     "output_type": "display_data"
    },
    {
     "data": {
      "text/html": [
       "<pre>       Final objective value: 6.91074</pre>"
      ],
      "text/plain": [
       "       Final objective value: 6.91074"
      ]
     },
     "metadata": {},
     "output_type": "display_data"
    },
    {
     "data": {
      "text/html": [
       "<pre>       Final training RMSE: 2.62881</pre>"
      ],
      "text/plain": [
       "       Final training RMSE: 2.62881"
      ]
     },
     "metadata": {},
     "output_type": "display_data"
    }
   ],
   "source": [
    "m7 = gl.factorization_recommender.create(train, user_id='User_ID', item_id='Article_ID', \n",
    "                                         target='Rating', user_data = user, item_data = article,\n",
    "                                         nmf = True, max_iterations = 2000, random_seed = 27,\n",
    "                                         sgd_step_size = 0.01)"
   ]
  },
  {
   "cell_type": "code",
   "execution_count": 73,
   "metadata": {
    "collapsed": false
   },
   "outputs": [
    {
     "data": {
      "text/plain": [
       "(-40.334249280393124, 44.48182968888432)"
      ]
     },
     "execution_count": 73,
     "metadata": {},
     "output_type": "execute_result"
    }
   ],
   "source": [
    "scores8 = m7.predict(pairs_to_inspect3)\n",
    "min(scores8), max(scores8)"
   ]
  },
  {
   "cell_type": "code",
   "execution_count": 74,
   "metadata": {
    "collapsed": true
   },
   "outputs": [],
   "source": [
    "submit8_1 = pairs_to_inspect3.select_columns(['ID'])\n",
    "submit8_1['Rating'] = scores8\n",
    "min8 = min(scores8)\n",
    "width8 = max(scores8) - min(scores8)\n",
    "submit8_1['Rating'] = submit8_1['Rating'] - min8\n",
    "submit8_1['Rating'] = submit8_1['Rating'] * 6 / width8\n",
    "submit8_1.save('submit_gl_8_1.csv', format='csv')"
   ]
  },
  {
   "cell_type": "code",
   "execution_count": 75,
   "metadata": {
    "collapsed": false
   },
   "outputs": [
    {
     "data": {
      "text/html": [
       "<pre>Recsys training: model = factorization_recommender</pre>"
      ],
      "text/plain": [
       "Recsys training: model = factorization_recommender"
      ]
     },
     "metadata": {},
     "output_type": "display_data"
    },
    {
     "data": {
      "text/html": [
       "<pre>Preparing data set.</pre>"
      ],
      "text/plain": [
       "Preparing data set."
      ]
     },
     "metadata": {},
     "output_type": "display_data"
    },
    {
     "data": {
      "text/html": [
       "<pre>    Data has 679051 observations with 89502 users and 261758 items.</pre>"
      ],
      "text/plain": [
       "    Data has 679051 observations with 89502 users and 261758 items."
      ]
     },
     "metadata": {},
     "output_type": "display_data"
    },
    {
     "data": {
      "text/html": [
       "<pre>    Data prepared in: 1.43264s</pre>"
      ],
      "text/plain": [
       "    Data prepared in: 1.43264s"
      ]
     },
     "metadata": {},
     "output_type": "display_data"
    },
    {
     "data": {
      "text/html": [
       "<pre>Training factorization_recommender for recommendations.</pre>"
      ],
      "text/plain": [
       "Training factorization_recommender for recommendations."
      ]
     },
     "metadata": {},
     "output_type": "display_data"
    },
    {
     "data": {
      "text/html": [
       "<pre>+--------------------------------+--------------------------------------------------+----------+</pre>"
      ],
      "text/plain": [
       "+--------------------------------+--------------------------------------------------+----------+"
      ]
     },
     "metadata": {},
     "output_type": "display_data"
    },
    {
     "data": {
      "text/html": [
       "<pre>| Parameter                      | Description                                      | Value    |</pre>"
      ],
      "text/plain": [
       "| Parameter                      | Description                                      | Value    |"
      ]
     },
     "metadata": {},
     "output_type": "display_data"
    },
    {
     "data": {
      "text/html": [
       "<pre>+--------------------------------+--------------------------------------------------+----------+</pre>"
      ],
      "text/plain": [
       "+--------------------------------+--------------------------------------------------+----------+"
      ]
     },
     "metadata": {},
     "output_type": "display_data"
    },
    {
     "data": {
      "text/html": [
       "<pre>| num_factors                    | Factor Dimension                                 | 8        |</pre>"
      ],
      "text/plain": [
       "| num_factors                    | Factor Dimension                                 | 8        |"
      ]
     },
     "metadata": {},
     "output_type": "display_data"
    },
    {
     "data": {
      "text/html": [
       "<pre>| regularization                 | L2 Regularization on Factors                     | 1e-008   |</pre>"
      ],
      "text/plain": [
       "| regularization                 | L2 Regularization on Factors                     | 1e-008   |"
      ]
     },
     "metadata": {},
     "output_type": "display_data"
    },
    {
     "data": {
      "text/html": [
       "<pre>| solver                         | Solver used for training                         | adagrad  |</pre>"
      ],
      "text/plain": [
       "| solver                         | Solver used for training                         | adagrad  |"
      ]
     },
     "metadata": {},
     "output_type": "display_data"
    },
    {
     "data": {
      "text/html": [
       "<pre>| linear_regularization          | L2 Regularization on Linear Coefficients         | 1e-010   |</pre>"
      ],
      "text/plain": [
       "| linear_regularization          | L2 Regularization on Linear Coefficients         | 1e-010   |"
      ]
     },
     "metadata": {},
     "output_type": "display_data"
    },
    {
     "data": {
      "text/html": [
       "<pre>| nmf                            | Use Non-Negative Factors                         | True     |</pre>"
      ],
      "text/plain": [
       "| nmf                            | Use Non-Negative Factors                         | True     |"
      ]
     },
     "metadata": {},
     "output_type": "display_data"
    },
    {
     "data": {
      "text/html": [
       "<pre>| side_data_factorization        | Assign Factors for Side Data                     | True     |</pre>"
      ],
      "text/plain": [
       "| side_data_factorization        | Assign Factors for Side Data                     | True     |"
      ]
     },
     "metadata": {},
     "output_type": "display_data"
    },
    {
     "data": {
      "text/html": [
       "<pre>| sgd_step_size                  | Starting SGD Step Size                           | 0.001    |</pre>"
      ],
      "text/plain": [
       "| sgd_step_size                  | Starting SGD Step Size                           | 0.001    |"
      ]
     },
     "metadata": {},
     "output_type": "display_data"
    },
    {
     "data": {
      "text/html": [
       "<pre>| max_iterations                 | Maximum Number of Iterations                     | 2000     |</pre>"
      ],
      "text/plain": [
       "| max_iterations                 | Maximum Number of Iterations                     | 2000     |"
      ]
     },
     "metadata": {},
     "output_type": "display_data"
    },
    {
     "data": {
      "text/html": [
       "<pre>+--------------------------------+--------------------------------------------------+----------+</pre>"
      ],
      "text/plain": [
       "+--------------------------------+--------------------------------------------------+----------+"
      ]
     },
     "metadata": {},
     "output_type": "display_data"
    },
    {
     "data": {
      "text/html": [
       "<pre>  Optimizing model using SGD (step size tuning: OFF).</pre>"
      ],
      "text/plain": [
       "  Optimizing model using SGD (step size tuning: OFF)."
      ]
     },
     "metadata": {},
     "output_type": "display_data"
    },
    {
     "data": {
      "text/html": [
       "<pre>Starting Optimization.</pre>"
      ],
      "text/plain": [
       "Starting Optimization."
      ]
     },
     "metadata": {},
     "output_type": "display_data"
    },
    {
     "data": {
      "text/html": [
       "<pre>+---------+--------------+-------------------+-----------------------+-------------+</pre>"
      ],
      "text/plain": [
       "+---------+--------------+-------------------+-----------------------+-------------+"
      ]
     },
     "metadata": {},
     "output_type": "display_data"
    },
    {
     "data": {
      "text/html": [
       "<pre>| Iter.   | Elapsed Time | Approx. Objective | Approx. Training RMSE | Step Size   |</pre>"
      ],
      "text/plain": [
       "| Iter.   | Elapsed Time | Approx. Objective | Approx. Training RMSE | Step Size   |"
      ]
     },
     "metadata": {},
     "output_type": "display_data"
    },
    {
     "data": {
      "text/html": [
       "<pre>+---------+--------------+-------------------+-----------------------+-------------+</pre>"
      ],
      "text/plain": [
       "+---------+--------------+-------------------+-----------------------+-------------+"
      ]
     },
     "metadata": {},
     "output_type": "display_data"
    },
    {
     "data": {
      "text/html": [
       "<pre>| Initial | 0us          | 9.8062            | 3.13149               |             |</pre>"
      ],
      "text/plain": [
       "| Initial | 0us          | 9.8062            | 3.13149               |             |"
      ]
     },
     "metadata": {},
     "output_type": "display_data"
    },
    {
     "data": {
      "text/html": [
       "<pre>+---------+--------------+-------------------+-----------------------+-------------+</pre>"
      ],
      "text/plain": [
       "+---------+--------------+-------------------+-----------------------+-------------+"
      ]
     },
     "metadata": {},
     "output_type": "display_data"
    },
    {
     "data": {
      "text/html": [
       "<pre>| 1       | 540.018ms    | 8.33764           | 2.8875                | 0.001       |</pre>"
      ],
      "text/plain": [
       "| 1       | 540.018ms    | 8.33764           | 2.8875                | 0.001       |"
      ]
     },
     "metadata": {},
     "output_type": "display_data"
    },
    {
     "data": {
      "text/html": [
       "<pre>| 2       | 1.07s        | 10.7822           | 3.28362               | 0.001       |</pre>"
      ],
      "text/plain": [
       "| 2       | 1.07s        | 10.7822           | 3.28362               | 0.001       |"
      ]
     },
     "metadata": {},
     "output_type": "display_data"
    },
    {
     "data": {
      "text/html": [
       "<pre>| 3       | 1.57s        | 12.1904           | 3.49147               | 0.001       |</pre>"
      ],
      "text/plain": [
       "| 3       | 1.57s        | 12.1904           | 3.49147               | 0.001       |"
      ]
     },
     "metadata": {},
     "output_type": "display_data"
    },
    {
     "data": {
      "text/html": [
       "<pre>| 4       | 2.11s        | 12.5779           | 3.54654               | 0.001       |</pre>"
      ],
      "text/plain": [
       "| 4       | 2.11s        | 12.5779           | 3.54654               | 0.001       |"
      ]
     },
     "metadata": {},
     "output_type": "display_data"
    },
    {
     "data": {
      "text/html": [
       "<pre>| 5       | 2.62s        | 11.8656           | 3.44464               | 0.001       |</pre>"
      ],
      "text/plain": [
       "| 5       | 2.62s        | 11.8656           | 3.44464               | 0.001       |"
      ]
     },
     "metadata": {},
     "output_type": "display_data"
    },
    {
     "data": {
      "text/html": [
       "<pre>| 6       | 3.14s        | 10.8499           | 3.29392               | 0.001       |</pre>"
      ],
      "text/plain": [
       "| 6       | 3.14s        | 10.8499           | 3.29392               | 0.001       |"
      ]
     },
     "metadata": {},
     "output_type": "display_data"
    },
    {
     "data": {
      "text/html": [
       "<pre>| 10      | 5.61s        | 9.77314           | 3.1262                | 0.001       |</pre>"
      ],
      "text/plain": [
       "| 10      | 5.61s        | 9.77314           | 3.1262                | 0.001       |"
      ]
     },
     "metadata": {},
     "output_type": "display_data"
    },
    {
     "data": {
      "text/html": [
       "<pre>| 11      | 6.16s        | 9.74795           | 3.12217               | 0.001       |</pre>"
      ],
      "text/plain": [
       "| 11      | 6.16s        | 9.74795           | 3.12217               | 0.001       |"
      ]
     },
     "metadata": {},
     "output_type": "display_data"
    },
    {
     "data": {
      "text/html": [
       "<pre>| 15      | 8.51s        | 9.69168           | 3.11315               | 0.001       |</pre>"
      ],
      "text/plain": [
       "| 15      | 8.51s        | 9.69168           | 3.11315               | 0.001       |"
      ]
     },
     "metadata": {},
     "output_type": "display_data"
    },
    {
     "data": {
      "text/html": [
       "<pre>| 20      | 11.91s       | 9.64297           | 3.10531               | 0.001       |</pre>"
      ],
      "text/plain": [
       "| 20      | 11.91s       | 9.64297           | 3.10531               | 0.001       |"
      ]
     },
     "metadata": {},
     "output_type": "display_data"
    },
    {
     "data": {
      "text/html": [
       "<pre>| 25      | 14.75s       | 9.59991           | 3.09837               | 0.001       |</pre>"
      ],
      "text/plain": [
       "| 25      | 14.75s       | 9.59991           | 3.09837               | 0.001       |"
      ]
     },
     "metadata": {},
     "output_type": "display_data"
    },
    {
     "data": {
      "text/html": [
       "<pre>| 30      | 17.45s       | 9.55664           | 3.09138               | 0.001       |</pre>"
      ],
      "text/plain": [
       "| 30      | 17.45s       | 9.55664           | 3.09138               | 0.001       |"
      ]
     },
     "metadata": {},
     "output_type": "display_data"
    },
    {
     "data": {
      "text/html": [
       "<pre>| 35      | 20.23s       | 9.51105           | 3.084                 | 0.001       |</pre>"
      ],
      "text/plain": [
       "| 35      | 20.23s       | 9.51105           | 3.084                 | 0.001       |"
      ]
     },
     "metadata": {},
     "output_type": "display_data"
    },
    {
     "data": {
      "text/html": [
       "<pre>| 40      | 23.35s       | 9.46016           | 3.07574               | 0.001       |</pre>"
      ],
      "text/plain": [
       "| 40      | 23.35s       | 9.46016           | 3.07574               | 0.001       |"
      ]
     },
     "metadata": {},
     "output_type": "display_data"
    },
    {
     "data": {
      "text/html": [
       "<pre>| 45      | 26.40s       | 9.40317           | 3.06646               | 0.001       |</pre>"
      ],
      "text/plain": [
       "| 45      | 26.40s       | 9.40317           | 3.06646               | 0.001       |"
      ]
     },
     "metadata": {},
     "output_type": "display_data"
    },
    {
     "data": {
      "text/html": [
       "<pre>| 50      | 29.68s       | 9.34171           | 3.05642               | 0.001       |</pre>"
      ],
      "text/plain": [
       "| 50      | 29.68s       | 9.34171           | 3.05642               | 0.001       |"
      ]
     },
     "metadata": {},
     "output_type": "display_data"
    },
    {
     "data": {
      "text/html": [
       "<pre>| 51      | 30.28s       | 9.32894           | 3.05433               | 0.001       |</pre>"
      ],
      "text/plain": [
       "| 51      | 30.28s       | 9.32894           | 3.05433               | 0.001       |"
      ]
     },
     "metadata": {},
     "output_type": "display_data"
    },
    {
     "data": {
      "text/html": [
       "<pre>| 55      | 32.82s       | 9.27684           | 3.04579               | 0.001       |</pre>"
      ],
      "text/plain": [
       "| 55      | 32.82s       | 9.27684           | 3.04579               | 0.001       |"
      ]
     },
     "metadata": {},
     "output_type": "display_data"
    },
    {
     "data": {
      "text/html": [
       "<pre>| 60      | 35.86s       | 9.21167           | 3.03507               | 0.001       |</pre>"
      ],
      "text/plain": [
       "| 60      | 35.86s       | 9.21167           | 3.03507               | 0.001       |"
      ]
     },
     "metadata": {},
     "output_type": "display_data"
    },
    {
     "data": {
      "text/html": [
       "<pre>| 65      | 38.98s       | 9.14794           | 3.02456               | 0.001       |</pre>"
      ],
      "text/plain": [
       "| 65      | 38.98s       | 9.14794           | 3.02456               | 0.001       |"
      ]
     },
     "metadata": {},
     "output_type": "display_data"
    },
    {
     "data": {
      "text/html": [
       "<pre>| 70      | 42.16s       | 9.08557           | 3.01423               | 0.001       |</pre>"
      ],
      "text/plain": [
       "| 70      | 42.16s       | 9.08557           | 3.01423               | 0.001       |"
      ]
     },
     "metadata": {},
     "output_type": "display_data"
    },
    {
     "data": {
      "text/html": [
       "<pre>| 75      | 45.29s       | 9.02649           | 3.00441               | 0.001       |</pre>"
      ],
      "text/plain": [
       "| 75      | 45.29s       | 9.02649           | 3.00441               | 0.001       |"
      ]
     },
     "metadata": {},
     "output_type": "display_data"
    },
    {
     "data": {
      "text/html": [
       "<pre>| 80      | 48.30s       | 8.97115           | 2.99519               | 0.001       |</pre>"
      ],
      "text/plain": [
       "| 80      | 48.30s       | 8.97115           | 2.99519               | 0.001       |"
      ]
     },
     "metadata": {},
     "output_type": "display_data"
    },
    {
     "data": {
      "text/html": [
       "<pre>| 85      | 51.28s       | 8.91859           | 2.9864                | 0.001       |</pre>"
      ],
      "text/plain": [
       "| 85      | 51.28s       | 8.91859           | 2.9864                | 0.001       |"
      ]
     },
     "metadata": {},
     "output_type": "display_data"
    },
    {
     "data": {
      "text/html": [
       "<pre>| 90      | 54.32s       | 8.87085           | 2.9784                | 0.001       |</pre>"
      ],
      "text/plain": [
       "| 90      | 54.32s       | 8.87085           | 2.9784                | 0.001       |"
      ]
     },
     "metadata": {},
     "output_type": "display_data"
    },
    {
     "data": {
      "text/html": [
       "<pre>| 95      | 57.33s       | 8.82461           | 2.97062               | 0.001       |</pre>"
      ],
      "text/plain": [
       "| 95      | 57.33s       | 8.82461           | 2.97062               | 0.001       |"
      ]
     },
     "metadata": {},
     "output_type": "display_data"
    },
    {
     "data": {
      "text/html": [
       "<pre>| 100     | 1m 0s        | 8.78166           | 2.96339               | 0.001       |</pre>"
      ],
      "text/plain": [
       "| 100     | 1m 0s        | 8.78166           | 2.96339               | 0.001       |"
      ]
     },
     "metadata": {},
     "output_type": "display_data"
    },
    {
     "data": {
      "text/html": [
       "<pre>| 101     | 1m 0s        | 8.7734            | 2.96199               | 0.001       |</pre>"
      ],
      "text/plain": [
       "| 101     | 1m 0s        | 8.7734            | 2.96199               | 0.001       |"
      ]
     },
     "metadata": {},
     "output_type": "display_data"
    },
    {
     "data": {
      "text/html": [
       "<pre>| 105     | 1m 3s        | 8.74115           | 2.95654               | 0.001       |</pre>"
      ],
      "text/plain": [
       "| 105     | 1m 3s        | 8.74115           | 2.95654               | 0.001       |"
      ]
     },
     "metadata": {},
     "output_type": "display_data"
    },
    {
     "data": {
      "text/html": [
       "<pre>| 110     | 1m 6s        | 8.70194           | 2.9499                | 0.001       |</pre>"
      ],
      "text/plain": [
       "| 110     | 1m 6s        | 8.70194           | 2.9499                | 0.001       |"
      ]
     },
     "metadata": {},
     "output_type": "display_data"
    },
    {
     "data": {
      "text/html": [
       "<pre>| 115     | 1m 10s       | 8.66476           | 2.9436                | 0.001       |</pre>"
      ],
      "text/plain": [
       "| 115     | 1m 10s       | 8.66476           | 2.9436                | 0.001       |"
      ]
     },
     "metadata": {},
     "output_type": "display_data"
    },
    {
     "data": {
      "text/html": [
       "<pre>| 120     | 1m 13s       | 8.62965           | 2.93763               | 0.001       |</pre>"
      ],
      "text/plain": [
       "| 120     | 1m 13s       | 8.62965           | 2.93763               | 0.001       |"
      ]
     },
     "metadata": {},
     "output_type": "display_data"
    },
    {
     "data": {
      "text/html": [
       "<pre>| 125     | 1m 17s       | 8.59623           | 2.93193               | 0.001       |</pre>"
      ],
      "text/plain": [
       "| 125     | 1m 17s       | 8.59623           | 2.93193               | 0.001       |"
      ]
     },
     "metadata": {},
     "output_type": "display_data"
    },
    {
     "data": {
      "text/html": [
       "<pre>| 130     | 1m 20s       | 8.56425           | 2.92647               | 0.001       |</pre>"
      ],
      "text/plain": [
       "| 130     | 1m 20s       | 8.56425           | 2.92647               | 0.001       |"
      ]
     },
     "metadata": {},
     "output_type": "display_data"
    },
    {
     "data": {
      "text/html": [
       "<pre>| 135     | 1m 23s       | 8.53407           | 2.92131               | 0.001       |</pre>"
      ],
      "text/plain": [
       "| 135     | 1m 23s       | 8.53407           | 2.92131               | 0.001       |"
      ]
     },
     "metadata": {},
     "output_type": "display_data"
    },
    {
     "data": {
      "text/html": [
       "<pre>| 140     | 1m 27s       | 8.50497           | 2.91633               | 0.001       |</pre>"
      ],
      "text/plain": [
       "| 140     | 1m 27s       | 8.50497           | 2.91633               | 0.001       |"
      ]
     },
     "metadata": {},
     "output_type": "display_data"
    },
    {
     "data": {
      "text/html": [
       "<pre>| 145     | 1m 30s       | 8.47728           | 2.91158               | 0.001       |</pre>"
      ],
      "text/plain": [
       "| 145     | 1m 30s       | 8.47728           | 2.91158               | 0.001       |"
      ]
     },
     "metadata": {},
     "output_type": "display_data"
    },
    {
     "data": {
      "text/html": [
       "<pre>| 150     | 1m 33s       | 8.45111           | 2.90708               | 0.001       |</pre>"
      ],
      "text/plain": [
       "| 150     | 1m 33s       | 8.45111           | 2.90708               | 0.001       |"
      ]
     },
     "metadata": {},
     "output_type": "display_data"
    },
    {
     "data": {
      "text/html": [
       "<pre>| 155     | 1m 36s       | 8.42638           | 2.90282               | 0.001       |</pre>"
      ],
      "text/plain": [
       "| 155     | 1m 36s       | 8.42638           | 2.90282               | 0.001       |"
      ]
     },
     "metadata": {},
     "output_type": "display_data"
    },
    {
     "data": {
      "text/html": [
       "<pre>| 160     | 1m 40s       | 8.40228           | 2.89867               | 0.001       |</pre>"
      ],
      "text/plain": [
       "| 160     | 1m 40s       | 8.40228           | 2.89867               | 0.001       |"
      ]
     },
     "metadata": {},
     "output_type": "display_data"
    },
    {
     "data": {
      "text/html": [
       "<pre>| 165     | 1m 43s       | 8.37946           | 2.89473               | 0.001       |</pre>"
      ],
      "text/plain": [
       "| 165     | 1m 43s       | 8.37946           | 2.89473               | 0.001       |"
      ]
     },
     "metadata": {},
     "output_type": "display_data"
    },
    {
     "data": {
      "text/html": [
       "<pre>| 170     | 1m 47s       | 8.35757           | 2.89094               | 0.001       |</pre>"
      ],
      "text/plain": [
       "| 170     | 1m 47s       | 8.35757           | 2.89094               | 0.001       |"
      ]
     },
     "metadata": {},
     "output_type": "display_data"
    },
    {
     "data": {
      "text/html": [
       "<pre>| 175     | 1m 50s       | 8.33633           | 2.88727               | 0.001       |</pre>"
      ],
      "text/plain": [
       "| 175     | 1m 50s       | 8.33633           | 2.88727               | 0.001       |"
      ]
     },
     "metadata": {},
     "output_type": "display_data"
    },
    {
     "data": {
      "text/html": [
       "<pre>| 180     | 1m 54s       | 8.31598           | 2.88374               | 0.001       |</pre>"
      ],
      "text/plain": [
       "| 180     | 1m 54s       | 8.31598           | 2.88374               | 0.001       |"
      ]
     },
     "metadata": {},
     "output_type": "display_data"
    },
    {
     "data": {
      "text/html": [
       "<pre>| 185     | 1m 57s       | 8.2971            | 2.88047               | 0.001       |</pre>"
      ],
      "text/plain": [
       "| 185     | 1m 57s       | 8.2971            | 2.88047               | 0.001       |"
      ]
     },
     "metadata": {},
     "output_type": "display_data"
    },
    {
     "data": {
      "text/html": [
       "<pre>| 190     | 2m 1s        | 8.27876           | 2.87728               | 0.001       |</pre>"
      ],
      "text/plain": [
       "| 190     | 2m 1s        | 8.27876           | 2.87728               | 0.001       |"
      ]
     },
     "metadata": {},
     "output_type": "display_data"
    },
    {
     "data": {
      "text/html": [
       "<pre>| 195     | 2m 4s        | 8.26098           | 2.87419               | 0.001       |</pre>"
      ],
      "text/plain": [
       "| 195     | 2m 4s        | 8.26098           | 2.87419               | 0.001       |"
      ]
     },
     "metadata": {},
     "output_type": "display_data"
    },
    {
     "data": {
      "text/html": [
       "<pre>| 200     | 2m 8s        | 8.24413           | 2.87126               | 0.001       |</pre>"
      ],
      "text/plain": [
       "| 200     | 2m 8s        | 8.24413           | 2.87126               | 0.001       |"
      ]
     },
     "metadata": {},
     "output_type": "display_data"
    },
    {
     "data": {
      "text/html": [
       "<pre>| 205     | 2m 12s       | 8.2279            | 2.86843               | 0.001       |</pre>"
      ],
      "text/plain": [
       "| 205     | 2m 12s       | 8.2279            | 2.86843               | 0.001       |"
      ]
     },
     "metadata": {},
     "output_type": "display_data"
    },
    {
     "data": {
      "text/html": [
       "<pre>| 210     | 2m 16s       | 8.21217           | 2.86569               | 0.001       |</pre>"
      ],
      "text/plain": [
       "| 210     | 2m 16s       | 8.21217           | 2.86569               | 0.001       |"
      ]
     },
     "metadata": {},
     "output_type": "display_data"
    },
    {
     "data": {
      "text/html": [
       "<pre>| 215     | 2m 19s       | 8.19701           | 2.86304               | 0.001       |</pre>"
      ],
      "text/plain": [
       "| 215     | 2m 19s       | 8.19701           | 2.86304               | 0.001       |"
      ]
     },
     "metadata": {},
     "output_type": "display_data"
    },
    {
     "data": {
      "text/html": [
       "<pre>| 220     | 2m 23s       | 8.1823            | 2.86047               | 0.001       |</pre>"
      ],
      "text/plain": [
       "| 220     | 2m 23s       | 8.1823            | 2.86047               | 0.001       |"
      ]
     },
     "metadata": {},
     "output_type": "display_data"
    },
    {
     "data": {
      "text/html": [
       "<pre>| 225     | 2m 26s       | 8.16839           | 2.85804               | 0.001       |</pre>"
      ],
      "text/plain": [
       "| 225     | 2m 26s       | 8.16839           | 2.85804               | 0.001       |"
      ]
     },
     "metadata": {},
     "output_type": "display_data"
    },
    {
     "data": {
      "text/html": [
       "<pre>| 230     | 2m 30s       | 8.15488           | 2.85567               | 0.001       |</pre>"
      ],
      "text/plain": [
       "| 230     | 2m 30s       | 8.15488           | 2.85567               | 0.001       |"
      ]
     },
     "metadata": {},
     "output_type": "display_data"
    },
    {
     "data": {
      "text/html": [
       "<pre>| 235     | 2m 33s       | 8.14198           | 2.85341               | 0.001       |</pre>"
      ],
      "text/plain": [
       "| 235     | 2m 33s       | 8.14198           | 2.85341               | 0.001       |"
      ]
     },
     "metadata": {},
     "output_type": "display_data"
    },
    {
     "data": {
      "text/html": [
       "<pre>| 240     | 2m 37s       | 8.12948           | 2.85122               | 0.001       |</pre>"
      ],
      "text/plain": [
       "| 240     | 2m 37s       | 8.12948           | 2.85122               | 0.001       |"
      ]
     },
     "metadata": {},
     "output_type": "display_data"
    },
    {
     "data": {
      "text/html": [
       "<pre>| 245     | 2m 40s       | 8.11746           | 2.84911               | 0.001       |</pre>"
      ],
      "text/plain": [
       "| 245     | 2m 40s       | 8.11746           | 2.84911               | 0.001       |"
      ]
     },
     "metadata": {},
     "output_type": "display_data"
    },
    {
     "data": {
      "text/html": [
       "<pre>| 250     | 2m 43s       | 8.1058            | 2.84707               | 0.001       |</pre>"
      ],
      "text/plain": [
       "| 250     | 2m 43s       | 8.1058            | 2.84707               | 0.001       |"
      ]
     },
     "metadata": {},
     "output_type": "display_data"
    },
    {
     "data": {
      "text/html": [
       "<pre>| 255     | 2m 47s       | 8.09431           | 2.84505               | 0.001       |</pre>"
      ],
      "text/plain": [
       "| 255     | 2m 47s       | 8.09431           | 2.84505               | 0.001       |"
      ]
     },
     "metadata": {},
     "output_type": "display_data"
    },
    {
     "data": {
      "text/html": [
       "<pre>| 260     | 2m 50s       | 8.08321           | 2.8431                | 0.001       |</pre>"
      ],
      "text/plain": [
       "| 260     | 2m 50s       | 8.08321           | 2.8431                | 0.001       |"
      ]
     },
     "metadata": {},
     "output_type": "display_data"
    },
    {
     "data": {
      "text/html": [
       "<pre>| 265     | 2m 54s       | 8.07248           | 2.84121               | 0.001       |</pre>"
      ],
      "text/plain": [
       "| 265     | 2m 54s       | 8.07248           | 2.84121               | 0.001       |"
      ]
     },
     "metadata": {},
     "output_type": "display_data"
    },
    {
     "data": {
      "text/html": [
       "<pre>| 270     | 2m 58s       | 8.06205           | 2.83937               | 0.001       |</pre>"
      ],
      "text/plain": [
       "| 270     | 2m 58s       | 8.06205           | 2.83937               | 0.001       |"
      ]
     },
     "metadata": {},
     "output_type": "display_data"
    },
    {
     "data": {
      "text/html": [
       "<pre>| 275     | 3m 1s        | 8.05205           | 2.83761               | 0.001       |</pre>"
      ],
      "text/plain": [
       "| 275     | 3m 1s        | 8.05205           | 2.83761               | 0.001       |"
      ]
     },
     "metadata": {},
     "output_type": "display_data"
    },
    {
     "data": {
      "text/html": [
       "<pre>| 280     | 3m 4s        | 8.04224           | 2.83588               | 0.001       |</pre>"
      ],
      "text/plain": [
       "| 280     | 3m 4s        | 8.04224           | 2.83588               | 0.001       |"
      ]
     },
     "metadata": {},
     "output_type": "display_data"
    },
    {
     "data": {
      "text/html": [
       "<pre>| 285     | 3m 8s        | 8.03279           | 2.83422               | 0.001       |</pre>"
      ],
      "text/plain": [
       "| 285     | 3m 8s        | 8.03279           | 2.83422               | 0.001       |"
      ]
     },
     "metadata": {},
     "output_type": "display_data"
    },
    {
     "data": {
      "text/html": [
       "<pre>| 290     | 3m 11s       | 8.02351           | 2.83258               | 0.001       |</pre>"
      ],
      "text/plain": [
       "| 290     | 3m 11s       | 8.02351           | 2.83258               | 0.001       |"
      ]
     },
     "metadata": {},
     "output_type": "display_data"
    },
    {
     "data": {
      "text/html": [
       "<pre>| 295     | 3m 14s       | 8.01453           | 2.83099               | 0.001       |</pre>"
      ],
      "text/plain": [
       "| 295     | 3m 14s       | 8.01453           | 2.83099               | 0.001       |"
      ]
     },
     "metadata": {},
     "output_type": "display_data"
    },
    {
     "data": {
      "text/html": [
       "<pre>| 300     | 3m 18s       | 8.00575           | 2.82944               | 0.001       |</pre>"
      ],
      "text/plain": [
       "| 300     | 3m 18s       | 8.00575           | 2.82944               | 0.001       |"
      ]
     },
     "metadata": {},
     "output_type": "display_data"
    },
    {
     "data": {
      "text/html": [
       "<pre>| 305     | 3m 21s       | 7.99727           | 2.82794               | 0.001       |</pre>"
      ],
      "text/plain": [
       "| 305     | 3m 21s       | 7.99727           | 2.82794               | 0.001       |"
      ]
     },
     "metadata": {},
     "output_type": "display_data"
    },
    {
     "data": {
      "text/html": [
       "<pre>| 310     | 3m 25s       | 7.98907           | 2.82649               | 0.001       |</pre>"
      ],
      "text/plain": [
       "| 310     | 3m 25s       | 7.98907           | 2.82649               | 0.001       |"
      ]
     },
     "metadata": {},
     "output_type": "display_data"
    },
    {
     "data": {
      "text/html": [
       "<pre>| 315     | 3m 28s       | 7.98086           | 2.82504               | 0.001       |</pre>"
      ],
      "text/plain": [
       "| 315     | 3m 28s       | 7.98086           | 2.82504               | 0.001       |"
      ]
     },
     "metadata": {},
     "output_type": "display_data"
    },
    {
     "data": {
      "text/html": [
       "<pre>| 320     | 3m 31s       | 7.97297           | 2.82364               | 0.001       |</pre>"
      ],
      "text/plain": [
       "| 320     | 3m 31s       | 7.97297           | 2.82364               | 0.001       |"
      ]
     },
     "metadata": {},
     "output_type": "display_data"
    },
    {
     "data": {
      "text/html": [
       "<pre>| 325     | 3m 35s       | 7.9653            | 2.82228               | 0.001       |</pre>"
      ],
      "text/plain": [
       "| 325     | 3m 35s       | 7.9653            | 2.82228               | 0.001       |"
      ]
     },
     "metadata": {},
     "output_type": "display_data"
    },
    {
     "data": {
      "text/html": [
       "<pre>| 330     | 3m 38s       | 7.95786           | 2.82097               | 0.001       |</pre>"
      ],
      "text/plain": [
       "| 330     | 3m 38s       | 7.95786           | 2.82097               | 0.001       |"
      ]
     },
     "metadata": {},
     "output_type": "display_data"
    },
    {
     "data": {
      "text/html": [
       "<pre>| 335     | 3m 41s       | 7.95052           | 2.81966               | 0.001       |</pre>"
      ],
      "text/plain": [
       "| 335     | 3m 41s       | 7.95052           | 2.81966               | 0.001       |"
      ]
     },
     "metadata": {},
     "output_type": "display_data"
    },
    {
     "data": {
      "text/html": [
       "<pre>| 340     | 3m 45s       | 7.94344           | 2.81841               | 0.001       |</pre>"
      ],
      "text/plain": [
       "| 340     | 3m 45s       | 7.94344           | 2.81841               | 0.001       |"
      ]
     },
     "metadata": {},
     "output_type": "display_data"
    },
    {
     "data": {
      "text/html": [
       "<pre>| 345     | 3m 48s       | 7.93651           | 2.81718               | 0.001       |</pre>"
      ],
      "text/plain": [
       "| 345     | 3m 48s       | 7.93651           | 2.81718               | 0.001       |"
      ]
     },
     "metadata": {},
     "output_type": "display_data"
    },
    {
     "data": {
      "text/html": [
       "<pre>| 350     | 3m 52s       | 7.92971           | 2.81597               | 0.001       |</pre>"
      ],
      "text/plain": [
       "| 350     | 3m 52s       | 7.92971           | 2.81597               | 0.001       |"
      ]
     },
     "metadata": {},
     "output_type": "display_data"
    },
    {
     "data": {
      "text/html": [
       "<pre>| 355     | 3m 55s       | 7.923             | 2.81478               | 0.001       |</pre>"
      ],
      "text/plain": [
       "| 355     | 3m 55s       | 7.923             | 2.81478               | 0.001       |"
      ]
     },
     "metadata": {},
     "output_type": "display_data"
    },
    {
     "data": {
      "text/html": [
       "<pre>| 360     | 3m 59s       | 7.91647           | 2.81362               | 0.001       |</pre>"
      ],
      "text/plain": [
       "| 360     | 3m 59s       | 7.91647           | 2.81362               | 0.001       |"
      ]
     },
     "metadata": {},
     "output_type": "display_data"
    },
    {
     "data": {
      "text/html": [
       "<pre>| 365     | 4m 2s        | 7.91008           | 2.81249               | 0.001       |</pre>"
      ],
      "text/plain": [
       "| 365     | 4m 2s        | 7.91008           | 2.81249               | 0.001       |"
      ]
     },
     "metadata": {},
     "output_type": "display_data"
    },
    {
     "data": {
      "text/html": [
       "<pre>| 370     | 4m 6s        | 7.90389           | 2.81138               | 0.001       |</pre>"
      ],
      "text/plain": [
       "| 370     | 4m 6s        | 7.90389           | 2.81138               | 0.001       |"
      ]
     },
     "metadata": {},
     "output_type": "display_data"
    },
    {
     "data": {
      "text/html": [
       "<pre>| 375     | 4m 10s       | 7.89772           | 2.81029               | 0.001       |</pre>"
      ],
      "text/plain": [
       "| 375     | 4m 10s       | 7.89772           | 2.81029               | 0.001       |"
      ]
     },
     "metadata": {},
     "output_type": "display_data"
    },
    {
     "data": {
      "text/html": [
       "<pre>| 380     | 4m 14s       | 7.89159           | 2.8092                | 0.001       |</pre>"
      ],
      "text/plain": [
       "| 380     | 4m 14s       | 7.89159           | 2.8092                | 0.001       |"
      ]
     },
     "metadata": {},
     "output_type": "display_data"
    },
    {
     "data": {
      "text/html": [
       "<pre>| 385     | 4m 17s       | 7.88561           | 2.80813               | 0.001       |</pre>"
      ],
      "text/plain": [
       "| 385     | 4m 17s       | 7.88561           | 2.80813               | 0.001       |"
      ]
     },
     "metadata": {},
     "output_type": "display_data"
    },
    {
     "data": {
      "text/html": [
       "<pre>| 390     | 4m 21s       | 7.87988           | 2.80711               | 0.001       |</pre>"
      ],
      "text/plain": [
       "| 390     | 4m 21s       | 7.87988           | 2.80711               | 0.001       |"
      ]
     },
     "metadata": {},
     "output_type": "display_data"
    },
    {
     "data": {
      "text/html": [
       "<pre>| 395     | 4m 24s       | 7.87422           | 2.8061                | 0.001       |</pre>"
      ],
      "text/plain": [
       "| 395     | 4m 24s       | 7.87422           | 2.8061                | 0.001       |"
      ]
     },
     "metadata": {},
     "output_type": "display_data"
    },
    {
     "data": {
      "text/html": [
       "<pre>| 400     | 4m 28s       | 7.86868           | 2.80511               | 0.001       |</pre>"
      ],
      "text/plain": [
       "| 400     | 4m 28s       | 7.86868           | 2.80511               | 0.001       |"
      ]
     },
     "metadata": {},
     "output_type": "display_data"
    },
    {
     "data": {
      "text/html": [
       "<pre>| 405     | 4m 32s       | 7.86332           | 2.80416               | 0.001       |</pre>"
      ],
      "text/plain": [
       "| 405     | 4m 32s       | 7.86332           | 2.80416               | 0.001       |"
      ]
     },
     "metadata": {},
     "output_type": "display_data"
    },
    {
     "data": {
      "text/html": [
       "<pre>| 410     | 4m 35s       | 7.85806           | 2.80322               | 0.001       |</pre>"
      ],
      "text/plain": [
       "| 410     | 4m 35s       | 7.85806           | 2.80322               | 0.001       |"
      ]
     },
     "metadata": {},
     "output_type": "display_data"
    },
    {
     "data": {
      "text/html": [
       "<pre>| 415     | 4m 39s       | 7.85293           | 2.80231               | 0.001       |</pre>"
      ],
      "text/plain": [
       "| 415     | 4m 39s       | 7.85293           | 2.80231               | 0.001       |"
      ]
     },
     "metadata": {},
     "output_type": "display_data"
    },
    {
     "data": {
      "text/html": [
       "<pre>| 420     | 4m 42s       | 7.84776           | 2.80138               | 0.001       |</pre>"
      ],
      "text/plain": [
       "| 420     | 4m 42s       | 7.84776           | 2.80138               | 0.001       |"
      ]
     },
     "metadata": {},
     "output_type": "display_data"
    },
    {
     "data": {
      "text/html": [
       "<pre>| 425     | 4m 46s       | 7.84277           | 2.80049               | 0.001       |</pre>"
      ],
      "text/plain": [
       "| 425     | 4m 46s       | 7.84277           | 2.80049               | 0.001       |"
      ]
     },
     "metadata": {},
     "output_type": "display_data"
    },
    {
     "data": {
      "text/html": [
       "<pre>| 430     | 4m 49s       | 7.8378            | 2.79961               | 0.001       |</pre>"
      ],
      "text/plain": [
       "| 430     | 4m 49s       | 7.8378            | 2.79961               | 0.001       |"
      ]
     },
     "metadata": {},
     "output_type": "display_data"
    },
    {
     "data": {
      "text/html": [
       "<pre>| 435     | 4m 53s       | 7.83289           | 2.79873               | 0.001       |</pre>"
      ],
      "text/plain": [
       "| 435     | 4m 53s       | 7.83289           | 2.79873               | 0.001       |"
      ]
     },
     "metadata": {},
     "output_type": "display_data"
    },
    {
     "data": {
      "text/html": [
       "<pre>| 440     | 4m 56s       | 7.82812           | 2.79788               | 0.001       |</pre>"
      ],
      "text/plain": [
       "| 440     | 4m 56s       | 7.82812           | 2.79788               | 0.001       |"
      ]
     },
     "metadata": {},
     "output_type": "display_data"
    },
    {
     "data": {
      "text/html": [
       "<pre>| 445     | 5m 0s        | 7.82347           | 2.79704               | 0.001       |</pre>"
      ],
      "text/plain": [
       "| 445     | 5m 0s        | 7.82347           | 2.79704               | 0.001       |"
      ]
     },
     "metadata": {},
     "output_type": "display_data"
    },
    {
     "data": {
      "text/html": [
       "<pre>| 450     | 5m 4s        | 7.81887           | 2.79622               | 0.001       |</pre>"
      ],
      "text/plain": [
       "| 450     | 5m 4s        | 7.81887           | 2.79622               | 0.001       |"
      ]
     },
     "metadata": {},
     "output_type": "display_data"
    },
    {
     "data": {
      "text/html": [
       "<pre>| 455     | 5m 7s        | 7.81435           | 2.79541               | 0.001       |</pre>"
      ],
      "text/plain": [
       "| 455     | 5m 7s        | 7.81435           | 2.79541               | 0.001       |"
      ]
     },
     "metadata": {},
     "output_type": "display_data"
    },
    {
     "data": {
      "text/html": [
       "<pre>| 460     | 5m 11s       | 7.80988           | 2.79461               | 0.001       |</pre>"
      ],
      "text/plain": [
       "| 460     | 5m 11s       | 7.80988           | 2.79461               | 0.001       |"
      ]
     },
     "metadata": {},
     "output_type": "display_data"
    },
    {
     "data": {
      "text/html": [
       "<pre>| 465     | 5m 14s       | 7.80551           | 2.79383               | 0.001       |</pre>"
      ],
      "text/plain": [
       "| 465     | 5m 14s       | 7.80551           | 2.79383               | 0.001       |"
      ]
     },
     "metadata": {},
     "output_type": "display_data"
    },
    {
     "data": {
      "text/html": [
       "<pre>| 470     | 5m 18s       | 7.80119           | 2.79306               | 0.001       |</pre>"
      ],
      "text/plain": [
       "| 470     | 5m 18s       | 7.80119           | 2.79306               | 0.001       |"
      ]
     },
     "metadata": {},
     "output_type": "display_data"
    },
    {
     "data": {
      "text/html": [
       "<pre>| 475     | 5m 21s       | 7.79692           | 2.79229               | 0.001       |</pre>"
      ],
      "text/plain": [
       "| 475     | 5m 21s       | 7.79692           | 2.79229               | 0.001       |"
      ]
     },
     "metadata": {},
     "output_type": "display_data"
    },
    {
     "data": {
      "text/html": [
       "<pre>| 480     | 5m 25s       | 7.79277           | 2.79155               | 0.001       |</pre>"
      ],
      "text/plain": [
       "| 480     | 5m 25s       | 7.79277           | 2.79155               | 0.001       |"
      ]
     },
     "metadata": {},
     "output_type": "display_data"
    },
    {
     "data": {
      "text/html": [
       "<pre>| 485     | 5m 28s       | 7.78865           | 2.79081               | 0.001       |</pre>"
      ],
      "text/plain": [
       "| 485     | 5m 28s       | 7.78865           | 2.79081               | 0.001       |"
      ]
     },
     "metadata": {},
     "output_type": "display_data"
    },
    {
     "data": {
      "text/html": [
       "<pre>| 490     | 5m 32s       | 7.78457           | 2.79008               | 0.001       |</pre>"
      ],
      "text/plain": [
       "| 490     | 5m 32s       | 7.78457           | 2.79008               | 0.001       |"
      ]
     },
     "metadata": {},
     "output_type": "display_data"
    },
    {
     "data": {
      "text/html": [
       "<pre>| 495     | 5m 35s       | 7.78058           | 2.78937               | 0.001       |</pre>"
      ],
      "text/plain": [
       "| 495     | 5m 35s       | 7.78058           | 2.78937               | 0.001       |"
      ]
     },
     "metadata": {},
     "output_type": "display_data"
    },
    {
     "data": {
      "text/html": [
       "<pre>| 500     | 5m 38s       | 7.77667           | 2.78867               | 0.001       |</pre>"
      ],
      "text/plain": [
       "| 500     | 5m 38s       | 7.77667           | 2.78867               | 0.001       |"
      ]
     },
     "metadata": {},
     "output_type": "display_data"
    },
    {
     "data": {
      "text/html": [
       "<pre>| 501     | 5m 39s       | 7.77589           | 2.78853               | 0.001       |</pre>"
      ],
      "text/plain": [
       "| 501     | 5m 39s       | 7.77589           | 2.78853               | 0.001       |"
      ]
     },
     "metadata": {},
     "output_type": "display_data"
    },
    {
     "data": {
      "text/html": [
       "<pre>| 505     | 5m 42s       | 7.77284           | 2.78798               | 0.001       |</pre>"
      ],
      "text/plain": [
       "| 505     | 5m 42s       | 7.77284           | 2.78798               | 0.001       |"
      ]
     },
     "metadata": {},
     "output_type": "display_data"
    },
    {
     "data": {
      "text/html": [
       "<pre>| 510     | 5m 45s       | 7.76907           | 2.7873                | 0.001       |</pre>"
      ],
      "text/plain": [
       "| 510     | 5m 45s       | 7.76907           | 2.7873                | 0.001       |"
      ]
     },
     "metadata": {},
     "output_type": "display_data"
    },
    {
     "data": {
      "text/html": [
       "<pre>| 515     | 5m 49s       | 7.76533           | 2.78663               | 0.001       |</pre>"
      ],
      "text/plain": [
       "| 515     | 5m 49s       | 7.76533           | 2.78663               | 0.001       |"
      ]
     },
     "metadata": {},
     "output_type": "display_data"
    },
    {
     "data": {
      "text/html": [
       "<pre>| 520     | 5m 52s       | 7.76171           | 2.78598               | 0.001       |</pre>"
      ],
      "text/plain": [
       "| 520     | 5m 52s       | 7.76171           | 2.78598               | 0.001       |"
      ]
     },
     "metadata": {},
     "output_type": "display_data"
    },
    {
     "data": {
      "text/html": [
       "<pre>| 525     | 5m 56s       | 7.75812           | 2.78534               | 0.001       |</pre>"
      ],
      "text/plain": [
       "| 525     | 5m 56s       | 7.75812           | 2.78534               | 0.001       |"
      ]
     },
     "metadata": {},
     "output_type": "display_data"
    },
    {
     "data": {
      "text/html": [
       "<pre>| 530     | 5m 59s       | 7.75456           | 2.7847                | 0.001       |</pre>"
      ],
      "text/plain": [
       "| 530     | 5m 59s       | 7.75456           | 2.7847                | 0.001       |"
      ]
     },
     "metadata": {},
     "output_type": "display_data"
    },
    {
     "data": {
      "text/html": [
       "<pre>| 535     | 6m 3s        | 7.75105           | 2.78407               | 0.001       |</pre>"
      ],
      "text/plain": [
       "| 535     | 6m 3s        | 7.75105           | 2.78407               | 0.001       |"
      ]
     },
     "metadata": {},
     "output_type": "display_data"
    },
    {
     "data": {
      "text/html": [
       "<pre>| 540     | 6m 6s        | 7.7476            | 2.78345               | 0.001       |</pre>"
      ],
      "text/plain": [
       "| 540     | 6m 6s        | 7.7476            | 2.78345               | 0.001       |"
      ]
     },
     "metadata": {},
     "output_type": "display_data"
    },
    {
     "data": {
      "text/html": [
       "<pre>| 545     | 6m 10s       | 7.74415           | 2.78283               | 0.001       |</pre>"
      ],
      "text/plain": [
       "| 545     | 6m 10s       | 7.74415           | 2.78283               | 0.001       |"
      ]
     },
     "metadata": {},
     "output_type": "display_data"
    },
    {
     "data": {
      "text/html": [
       "<pre>| 550     | 6m 14s       | 7.74073           | 2.78221               | 0.001       |</pre>"
      ],
      "text/plain": [
       "| 550     | 6m 14s       | 7.74073           | 2.78221               | 0.001       |"
      ]
     },
     "metadata": {},
     "output_type": "display_data"
    },
    {
     "data": {
      "text/html": [
       "<pre>| 555     | 6m 17s       | 7.73738           | 2.78161               | 0.001       |</pre>"
      ],
      "text/plain": [
       "| 555     | 6m 17s       | 7.73738           | 2.78161               | 0.001       |"
      ]
     },
     "metadata": {},
     "output_type": "display_data"
    },
    {
     "data": {
      "text/html": [
       "<pre>| 560     | 6m 21s       | 7.7341            | 2.78102               | 0.001       |</pre>"
      ],
      "text/plain": [
       "| 560     | 6m 21s       | 7.7341            | 2.78102               | 0.001       |"
      ]
     },
     "metadata": {},
     "output_type": "display_data"
    },
    {
     "data": {
      "text/html": [
       "<pre>| 565     | 6m 24s       | 7.73087           | 2.78044               | 0.001       |</pre>"
      ],
      "text/plain": [
       "| 565     | 6m 24s       | 7.73087           | 2.78044               | 0.001       |"
      ]
     },
     "metadata": {},
     "output_type": "display_data"
    },
    {
     "data": {
      "text/html": [
       "<pre>| 570     | 6m 28s       | 7.72769           | 2.77987               | 0.001       |</pre>"
      ],
      "text/plain": [
       "| 570     | 6m 28s       | 7.72769           | 2.77987               | 0.001       |"
      ]
     },
     "metadata": {},
     "output_type": "display_data"
    },
    {
     "data": {
      "text/html": [
       "<pre>| 575     | 6m 31s       | 7.72455           | 2.77931               | 0.001       |</pre>"
      ],
      "text/plain": [
       "| 575     | 6m 31s       | 7.72455           | 2.77931               | 0.001       |"
      ]
     },
     "metadata": {},
     "output_type": "display_data"
    },
    {
     "data": {
      "text/html": [
       "<pre>| 580     | 6m 35s       | 7.72142           | 2.77874               | 0.001       |</pre>"
      ],
      "text/plain": [
       "| 580     | 6m 35s       | 7.72142           | 2.77874               | 0.001       |"
      ]
     },
     "metadata": {},
     "output_type": "display_data"
    },
    {
     "data": {
      "text/html": [
       "<pre>| 585     | 6m 38s       | 7.71836           | 2.77819               | 0.001       |</pre>"
      ],
      "text/plain": [
       "| 585     | 6m 38s       | 7.71836           | 2.77819               | 0.001       |"
      ]
     },
     "metadata": {},
     "output_type": "display_data"
    },
    {
     "data": {
      "text/html": [
       "<pre>| 590     | 6m 42s       | 7.71532           | 2.77764               | 0.001       |</pre>"
      ],
      "text/plain": [
       "| 590     | 6m 42s       | 7.71532           | 2.77764               | 0.001       |"
      ]
     },
     "metadata": {},
     "output_type": "display_data"
    },
    {
     "data": {
      "text/html": [
       "<pre>| 595     | 6m 45s       | 7.71234           | 2.77711               | 0.001       |</pre>"
      ],
      "text/plain": [
       "| 595     | 6m 45s       | 7.71234           | 2.77711               | 0.001       |"
      ]
     },
     "metadata": {},
     "output_type": "display_data"
    },
    {
     "data": {
      "text/html": [
       "<pre>| 600     | 6m 49s       | 7.70942           | 2.77658               | 0.001       |</pre>"
      ],
      "text/plain": [
       "| 600     | 6m 49s       | 7.70942           | 2.77658               | 0.001       |"
      ]
     },
     "metadata": {},
     "output_type": "display_data"
    },
    {
     "data": {
      "text/html": [
       "<pre>| 605     | 6m 52s       | 7.70652           | 2.77606               | 0.001       |</pre>"
      ],
      "text/plain": [
       "| 605     | 6m 52s       | 7.70652           | 2.77606               | 0.001       |"
      ]
     },
     "metadata": {},
     "output_type": "display_data"
    },
    {
     "data": {
      "text/html": [
       "<pre>| 610     | 6m 55s       | 7.70366           | 2.77554               | 0.001       |</pre>"
      ],
      "text/plain": [
       "| 610     | 6m 55s       | 7.70366           | 2.77554               | 0.001       |"
      ]
     },
     "metadata": {},
     "output_type": "display_data"
    },
    {
     "data": {
      "text/html": [
       "<pre>| 615     | 6m 59s       | 7.70086           | 2.77504               | 0.001       |</pre>"
      ],
      "text/plain": [
       "| 615     | 6m 59s       | 7.70086           | 2.77504               | 0.001       |"
      ]
     },
     "metadata": {},
     "output_type": "display_data"
    },
    {
     "data": {
      "text/html": [
       "<pre>| 620     | 7m 2s        | 7.69808           | 2.77454               | 0.001       |</pre>"
      ],
      "text/plain": [
       "| 620     | 7m 2s        | 7.69808           | 2.77454               | 0.001       |"
      ]
     },
     "metadata": {},
     "output_type": "display_data"
    },
    {
     "data": {
      "text/html": [
       "<pre>| 625     | 7m 6s        | 7.69533           | 2.77404               | 0.001       |</pre>"
      ],
      "text/plain": [
       "| 625     | 7m 6s        | 7.69533           | 2.77404               | 0.001       |"
      ]
     },
     "metadata": {},
     "output_type": "display_data"
    },
    {
     "data": {
      "text/html": [
       "<pre>| 630     | 7m 9s        | 7.69261           | 2.77355               | 0.001       |</pre>"
      ],
      "text/plain": [
       "| 630     | 7m 9s        | 7.69261           | 2.77355               | 0.001       |"
      ]
     },
     "metadata": {},
     "output_type": "display_data"
    },
    {
     "data": {
      "text/html": [
       "<pre>| 635     | 7m 13s       | 7.68991           | 2.77307               | 0.001       |</pre>"
      ],
      "text/plain": [
       "| 635     | 7m 13s       | 7.68991           | 2.77307               | 0.001       |"
      ]
     },
     "metadata": {},
     "output_type": "display_data"
    },
    {
     "data": {
      "text/html": [
       "<pre>| 640     | 7m 16s       | 7.68726           | 2.77259               | 0.001       |</pre>"
      ],
      "text/plain": [
       "| 640     | 7m 16s       | 7.68726           | 2.77259               | 0.001       |"
      ]
     },
     "metadata": {},
     "output_type": "display_data"
    },
    {
     "data": {
      "text/html": [
       "<pre>| 645     | 7m 20s       | 7.68465           | 2.77212               | 0.001       |</pre>"
      ],
      "text/plain": [
       "| 645     | 7m 20s       | 7.68465           | 2.77212               | 0.001       |"
      ]
     },
     "metadata": {},
     "output_type": "display_data"
    },
    {
     "data": {
      "text/html": [
       "<pre>| 650     | 7m 23s       | 7.68204           | 2.77165               | 0.001       |</pre>"
      ],
      "text/plain": [
       "| 650     | 7m 23s       | 7.68204           | 2.77165               | 0.001       |"
      ]
     },
     "metadata": {},
     "output_type": "display_data"
    },
    {
     "data": {
      "text/html": [
       "<pre>| 655     | 7m 28s       | 7.67941           | 2.77117               | 0.001       |</pre>"
      ],
      "text/plain": [
       "| 655     | 7m 28s       | 7.67941           | 2.77117               | 0.001       |"
      ]
     },
     "metadata": {},
     "output_type": "display_data"
    },
    {
     "data": {
      "text/html": [
       "<pre>| 660     | 7m 32s       | 7.6768            | 2.7707                | 0.001       |</pre>"
      ],
      "text/plain": [
       "| 660     | 7m 32s       | 7.6768            | 2.7707                | 0.001       |"
      ]
     },
     "metadata": {},
     "output_type": "display_data"
    },
    {
     "data": {
      "text/html": [
       "<pre>| 665     | 7m 36s       | 7.67428           | 2.77025               | 0.001       |</pre>"
      ],
      "text/plain": [
       "| 665     | 7m 36s       | 7.67428           | 2.77025               | 0.001       |"
      ]
     },
     "metadata": {},
     "output_type": "display_data"
    },
    {
     "data": {
      "text/html": [
       "<pre>| 670     | 7m 40s       | 7.67177           | 2.76979               | 0.001       |</pre>"
      ],
      "text/plain": [
       "| 670     | 7m 40s       | 7.67177           | 2.76979               | 0.001       |"
      ]
     },
     "metadata": {},
     "output_type": "display_data"
    },
    {
     "data": {
      "text/html": [
       "<pre>| 675     | 7m 44s       | 7.66928           | 2.76934               | 0.001       |</pre>"
      ],
      "text/plain": [
       "| 675     | 7m 44s       | 7.66928           | 2.76934               | 0.001       |"
      ]
     },
     "metadata": {},
     "output_type": "display_data"
    },
    {
     "data": {
      "text/html": [
       "<pre>| 680     | 7m 48s       | 7.66682           | 2.7689                | 0.001       |</pre>"
      ],
      "text/plain": [
       "| 680     | 7m 48s       | 7.66682           | 2.7689                | 0.001       |"
      ]
     },
     "metadata": {},
     "output_type": "display_data"
    },
    {
     "data": {
      "text/html": [
       "<pre>| 685     | 7m 51s       | 7.6644            | 2.76846               | 0.001       |</pre>"
      ],
      "text/plain": [
       "| 685     | 7m 51s       | 7.6644            | 2.76846               | 0.001       |"
      ]
     },
     "metadata": {},
     "output_type": "display_data"
    },
    {
     "data": {
      "text/html": [
       "<pre>| 690     | 7m 55s       | 7.66201           | 2.76803               | 0.001       |</pre>"
      ],
      "text/plain": [
       "| 690     | 7m 55s       | 7.66201           | 2.76803               | 0.001       |"
      ]
     },
     "metadata": {},
     "output_type": "display_data"
    },
    {
     "data": {
      "text/html": [
       "<pre>| 695     | 7m 58s       | 7.65963           | 2.7676                | 0.001       |</pre>"
      ],
      "text/plain": [
       "| 695     | 7m 58s       | 7.65963           | 2.7676                | 0.001       |"
      ]
     },
     "metadata": {},
     "output_type": "display_data"
    },
    {
     "data": {
      "text/html": [
       "<pre>| 700     | 8m 2s        | 7.6573            | 2.76718               | 0.001       |</pre>"
      ],
      "text/plain": [
       "| 700     | 8m 2s        | 7.6573            | 2.76718               | 0.001       |"
      ]
     },
     "metadata": {},
     "output_type": "display_data"
    },
    {
     "data": {
      "text/html": [
       "<pre>| 705     | 8m 5s        | 7.65498           | 2.76676               | 0.001       |</pre>"
      ],
      "text/plain": [
       "| 705     | 8m 5s        | 7.65498           | 2.76676               | 0.001       |"
      ]
     },
     "metadata": {},
     "output_type": "display_data"
    },
    {
     "data": {
      "text/html": [
       "<pre>| 710     | 8m 9s        | 7.65267           | 2.76634               | 0.001       |</pre>"
      ],
      "text/plain": [
       "| 710     | 8m 9s        | 7.65267           | 2.76634               | 0.001       |"
      ]
     },
     "metadata": {},
     "output_type": "display_data"
    },
    {
     "data": {
      "text/html": [
       "<pre>| 715     | 8m 14s       | 7.65042           | 2.76594               | 0.001       |</pre>"
      ],
      "text/plain": [
       "| 715     | 8m 14s       | 7.65042           | 2.76594               | 0.001       |"
      ]
     },
     "metadata": {},
     "output_type": "display_data"
    },
    {
     "data": {
      "text/html": [
       "<pre>| 720     | 8m 17s       | 7.64816           | 2.76553               | 0.001       |</pre>"
      ],
      "text/plain": [
       "| 720     | 8m 17s       | 7.64816           | 2.76553               | 0.001       |"
      ]
     },
     "metadata": {},
     "output_type": "display_data"
    },
    {
     "data": {
      "text/html": [
       "<pre>| 725     | 8m 21s       | 7.64594           | 2.76513               | 0.001       |</pre>"
      ],
      "text/plain": [
       "| 725     | 8m 21s       | 7.64594           | 2.76513               | 0.001       |"
      ]
     },
     "metadata": {},
     "output_type": "display_data"
    },
    {
     "data": {
      "text/html": [
       "<pre>| 730     | 8m 25s       | 7.64373           | 2.76473               | 0.001       |</pre>"
      ],
      "text/plain": [
       "| 730     | 8m 25s       | 7.64373           | 2.76473               | 0.001       |"
      ]
     },
     "metadata": {},
     "output_type": "display_data"
    },
    {
     "data": {
      "text/html": [
       "<pre>| 735     | 8m 30s       | 7.64152           | 2.76433               | 0.001       |</pre>"
      ],
      "text/plain": [
       "| 735     | 8m 30s       | 7.64152           | 2.76433               | 0.001       |"
      ]
     },
     "metadata": {},
     "output_type": "display_data"
    },
    {
     "data": {
      "text/html": [
       "<pre>| 740     | 8m 34s       | 7.63935           | 2.76393               | 0.001       |</pre>"
      ],
      "text/plain": [
       "| 740     | 8m 34s       | 7.63935           | 2.76393               | 0.001       |"
      ]
     },
     "metadata": {},
     "output_type": "display_data"
    },
    {
     "data": {
      "text/html": [
       "<pre>| 745     | 8m 38s       | 7.63722           | 2.76355               | 0.001       |</pre>"
      ],
      "text/plain": [
       "| 745     | 8m 38s       | 7.63722           | 2.76355               | 0.001       |"
      ]
     },
     "metadata": {},
     "output_type": "display_data"
    },
    {
     "data": {
      "text/html": [
       "<pre>| 750     | 8m 41s       | 7.6351            | 2.76317               | 0.001       |</pre>"
      ],
      "text/plain": [
       "| 750     | 8m 41s       | 7.6351            | 2.76317               | 0.001       |"
      ]
     },
     "metadata": {},
     "output_type": "display_data"
    },
    {
     "data": {
      "text/html": [
       "<pre>| 755     | 8m 45s       | 7.63302           | 2.76279               | 0.001       |</pre>"
      ],
      "text/plain": [
       "| 755     | 8m 45s       | 7.63302           | 2.76279               | 0.001       |"
      ]
     },
     "metadata": {},
     "output_type": "display_data"
    },
    {
     "data": {
      "text/html": [
       "<pre>| 760     | 8m 49s       | 7.63095           | 2.76241               | 0.001       |</pre>"
      ],
      "text/plain": [
       "| 760     | 8m 49s       | 7.63095           | 2.76241               | 0.001       |"
      ]
     },
     "metadata": {},
     "output_type": "display_data"
    },
    {
     "data": {
      "text/html": [
       "<pre>| 765     | 8m 53s       | 7.62891           | 2.76205               | 0.001       |</pre>"
      ],
      "text/plain": [
       "| 765     | 8m 53s       | 7.62891           | 2.76205               | 0.001       |"
      ]
     },
     "metadata": {},
     "output_type": "display_data"
    },
    {
     "data": {
      "text/html": [
       "<pre>| 770     | 8m 56s       | 7.6269            | 2.76168               | 0.001       |</pre>"
      ],
      "text/plain": [
       "| 770     | 8m 56s       | 7.6269            | 2.76168               | 0.001       |"
      ]
     },
     "metadata": {},
     "output_type": "display_data"
    },
    {
     "data": {
      "text/html": [
       "<pre>| 775     | 9m 0s        | 7.6249            | 2.76132               | 0.001       |</pre>"
      ],
      "text/plain": [
       "| 775     | 9m 0s        | 7.6249            | 2.76132               | 0.001       |"
      ]
     },
     "metadata": {},
     "output_type": "display_data"
    },
    {
     "data": {
      "text/html": [
       "<pre>| 780     | 9m 4s        | 7.62291           | 2.76096               | 0.001       |</pre>"
      ],
      "text/plain": [
       "| 780     | 9m 4s        | 7.62291           | 2.76096               | 0.001       |"
      ]
     },
     "metadata": {},
     "output_type": "display_data"
    },
    {
     "data": {
      "text/html": [
       "<pre>| 785     | 9m 9s        | 7.62095           | 2.7606                | 0.001       |</pre>"
      ],
      "text/plain": [
       "| 785     | 9m 9s        | 7.62095           | 2.7606                | 0.001       |"
      ]
     },
     "metadata": {},
     "output_type": "display_data"
    },
    {
     "data": {
      "text/html": [
       "<pre>| 790     | 9m 12s       | 7.61901           | 2.76025               | 0.001       |</pre>"
      ],
      "text/plain": [
       "| 790     | 9m 12s       | 7.61901           | 2.76025               | 0.001       |"
      ]
     },
     "metadata": {},
     "output_type": "display_data"
    },
    {
     "data": {
      "text/html": [
       "<pre>| 795     | 9m 16s       | 7.61707           | 2.7599                | 0.001       |</pre>"
      ],
      "text/plain": [
       "| 795     | 9m 16s       | 7.61707           | 2.7599                | 0.001       |"
      ]
     },
     "metadata": {},
     "output_type": "display_data"
    },
    {
     "data": {
      "text/html": [
       "<pre>| 800     | 9m 20s       | 7.61515           | 2.75955               | 0.001       |</pre>"
      ],
      "text/plain": [
       "| 800     | 9m 20s       | 7.61515           | 2.75955               | 0.001       |"
      ]
     },
     "metadata": {},
     "output_type": "display_data"
    },
    {
     "data": {
      "text/html": [
       "<pre>| 805     | 9m 23s       | 7.61327           | 2.75921               | 0.001       |</pre>"
      ],
      "text/plain": [
       "| 805     | 9m 23s       | 7.61327           | 2.75921               | 0.001       |"
      ]
     },
     "metadata": {},
     "output_type": "display_data"
    },
    {
     "data": {
      "text/html": [
       "<pre>| 810     | 9m 27s       | 7.6114            | 2.75887               | 0.001       |</pre>"
      ],
      "text/plain": [
       "| 810     | 9m 27s       | 7.6114            | 2.75887               | 0.001       |"
      ]
     },
     "metadata": {},
     "output_type": "display_data"
    },
    {
     "data": {
      "text/html": [
       "<pre>| 815     | 9m 31s       | 7.60951           | 2.75853               | 0.001       |</pre>"
      ],
      "text/plain": [
       "| 815     | 9m 31s       | 7.60951           | 2.75853               | 0.001       |"
      ]
     },
     "metadata": {},
     "output_type": "display_data"
    },
    {
     "data": {
      "text/html": [
       "<pre>| 820     | 9m 35s       | 7.60764           | 2.75819               | 0.001       |</pre>"
      ],
      "text/plain": [
       "| 820     | 9m 35s       | 7.60764           | 2.75819               | 0.001       |"
      ]
     },
     "metadata": {},
     "output_type": "display_data"
    },
    {
     "data": {
      "text/html": [
       "<pre>| 825     | 9m 39s       | 7.6058            | 2.75786               | 0.001       |</pre>"
      ],
      "text/plain": [
       "| 825     | 9m 39s       | 7.6058            | 2.75786               | 0.001       |"
      ]
     },
     "metadata": {},
     "output_type": "display_data"
    },
    {
     "data": {
      "text/html": [
       "<pre>| 830     | 9m 43s       | 7.60397           | 2.75753               | 0.001       |</pre>"
      ],
      "text/plain": [
       "| 830     | 9m 43s       | 7.60397           | 2.75753               | 0.001       |"
      ]
     },
     "metadata": {},
     "output_type": "display_data"
    },
    {
     "data": {
      "text/html": [
       "<pre>| 835     | 9m 47s       | 7.60215           | 2.7572                | 0.001       |</pre>"
      ],
      "text/plain": [
       "| 835     | 9m 47s       | 7.60215           | 2.7572                | 0.001       |"
      ]
     },
     "metadata": {},
     "output_type": "display_data"
    },
    {
     "data": {
      "text/html": [
       "<pre>| 840     | 9m 51s       | 7.60033           | 2.75687               | 0.001       |</pre>"
      ],
      "text/plain": [
       "| 840     | 9m 51s       | 7.60033           | 2.75687               | 0.001       |"
      ]
     },
     "metadata": {},
     "output_type": "display_data"
    },
    {
     "data": {
      "text/html": [
       "<pre>| 845     | 9m 55s       | 7.59854           | 2.75654               | 0.001       |</pre>"
      ],
      "text/plain": [
       "| 845     | 9m 55s       | 7.59854           | 2.75654               | 0.001       |"
      ]
     },
     "metadata": {},
     "output_type": "display_data"
    },
    {
     "data": {
      "text/html": [
       "<pre>| 850     | 9m 58s       | 7.59678           | 2.75622               | 0.001       |</pre>"
      ],
      "text/plain": [
       "| 850     | 9m 58s       | 7.59678           | 2.75622               | 0.001       |"
      ]
     },
     "metadata": {},
     "output_type": "display_data"
    },
    {
     "data": {
      "text/html": [
       "<pre>| 855     | 10m 2s       | 7.59503           | 2.75591               | 0.001       |</pre>"
      ],
      "text/plain": [
       "| 855     | 10m 2s       | 7.59503           | 2.75591               | 0.001       |"
      ]
     },
     "metadata": {},
     "output_type": "display_data"
    },
    {
     "data": {
      "text/html": [
       "<pre>| 860     | 10m 5s       | 7.5933            | 2.75559               | 0.001       |</pre>"
      ],
      "text/plain": [
       "| 860     | 10m 5s       | 7.5933            | 2.75559               | 0.001       |"
      ]
     },
     "metadata": {},
     "output_type": "display_data"
    },
    {
     "data": {
      "text/html": [
       "<pre>| 865     | 10m 9s       | 7.59157           | 2.75528               | 0.001       |</pre>"
      ],
      "text/plain": [
       "| 865     | 10m 9s       | 7.59157           | 2.75528               | 0.001       |"
      ]
     },
     "metadata": {},
     "output_type": "display_data"
    },
    {
     "data": {
      "text/html": [
       "<pre>| 870     | 10m 14s      | 7.58984           | 2.75496               | 0.001       |</pre>"
      ],
      "text/plain": [
       "| 870     | 10m 14s      | 7.58984           | 2.75496               | 0.001       |"
      ]
     },
     "metadata": {},
     "output_type": "display_data"
    },
    {
     "data": {
      "text/html": [
       "<pre>| 875     | 10m 18s      | 7.58823           | 2.75467               | 0.001       |</pre>"
      ],
      "text/plain": [
       "| 875     | 10m 18s      | 7.58823           | 2.75467               | 0.001       |"
      ]
     },
     "metadata": {},
     "output_type": "display_data"
    },
    {
     "data": {
      "text/html": [
       "<pre>| 880     | 10m 22s      | 7.58667           | 2.75439               | 0.001       |</pre>"
      ],
      "text/plain": [
       "| 880     | 10m 22s      | 7.58667           | 2.75439               | 0.001       |"
      ]
     },
     "metadata": {},
     "output_type": "display_data"
    },
    {
     "data": {
      "text/html": [
       "<pre>| 885     | 10m 26s      | 7.58512           | 2.75411               | 0.001       |</pre>"
      ],
      "text/plain": [
       "| 885     | 10m 26s      | 7.58512           | 2.75411               | 0.001       |"
      ]
     },
     "metadata": {},
     "output_type": "display_data"
    },
    {
     "data": {
      "text/html": [
       "<pre>| 890     | 10m 29s      | 7.5836            | 2.75383               | 0.001       |</pre>"
      ],
      "text/plain": [
       "| 890     | 10m 29s      | 7.5836            | 2.75383               | 0.001       |"
      ]
     },
     "metadata": {},
     "output_type": "display_data"
    },
    {
     "data": {
      "text/html": [
       "<pre>| 895     | 10m 33s      | 7.5821            | 2.75356               | 0.001       |</pre>"
      ],
      "text/plain": [
       "| 895     | 10m 33s      | 7.5821            | 2.75356               | 0.001       |"
      ]
     },
     "metadata": {},
     "output_type": "display_data"
    },
    {
     "data": {
      "text/html": [
       "<pre>| 900     | 10m 36s      | 7.58064           | 2.75329               | 0.001       |</pre>"
      ],
      "text/plain": [
       "| 900     | 10m 36s      | 7.58064           | 2.75329               | 0.001       |"
      ]
     },
     "metadata": {},
     "output_type": "display_data"
    },
    {
     "data": {
      "text/html": [
       "<pre>| 905     | 10m 40s      | 7.57919           | 2.75303               | 0.001       |</pre>"
      ],
      "text/plain": [
       "| 905     | 10m 40s      | 7.57919           | 2.75303               | 0.001       |"
      ]
     },
     "metadata": {},
     "output_type": "display_data"
    },
    {
     "data": {
      "text/html": [
       "<pre>| 910     | 10m 44s      | 7.57776           | 2.75277               | 0.001       |</pre>"
      ],
      "text/plain": [
       "| 910     | 10m 44s      | 7.57776           | 2.75277               | 0.001       |"
      ]
     },
     "metadata": {},
     "output_type": "display_data"
    },
    {
     "data": {
      "text/html": [
       "<pre>| 915     | 10m 47s      | 7.57634           | 2.75251               | 0.001       |</pre>"
      ],
      "text/plain": [
       "| 915     | 10m 47s      | 7.57634           | 2.75251               | 0.001       |"
      ]
     },
     "metadata": {},
     "output_type": "display_data"
    },
    {
     "data": {
      "text/html": [
       "<pre>| 920     | 10m 51s      | 7.57494           | 2.75226               | 0.001       |</pre>"
      ],
      "text/plain": [
       "| 920     | 10m 51s      | 7.57494           | 2.75226               | 0.001       |"
      ]
     },
     "metadata": {},
     "output_type": "display_data"
    },
    {
     "data": {
      "text/html": [
       "<pre>| 925     | 10m 54s      | 7.57355           | 2.75201               | 0.001       |</pre>"
      ],
      "text/plain": [
       "| 925     | 10m 54s      | 7.57355           | 2.75201               | 0.001       |"
      ]
     },
     "metadata": {},
     "output_type": "display_data"
    },
    {
     "data": {
      "text/html": [
       "<pre>| 930     | 10m 58s      | 7.57217           | 2.75175               | 0.001       |</pre>"
      ],
      "text/plain": [
       "| 930     | 10m 58s      | 7.57217           | 2.75175               | 0.001       |"
      ]
     },
     "metadata": {},
     "output_type": "display_data"
    },
    {
     "data": {
      "text/html": [
       "<pre>| 935     | 11m 2s       | 7.57081           | 2.75151               | 0.001       |</pre>"
      ],
      "text/plain": [
       "| 935     | 11m 2s       | 7.57081           | 2.75151               | 0.001       |"
      ]
     },
     "metadata": {},
     "output_type": "display_data"
    },
    {
     "data": {
      "text/html": [
       "<pre>| 940     | 11m 6s       | 7.56946           | 2.75126               | 0.001       |</pre>"
      ],
      "text/plain": [
       "| 940     | 11m 6s       | 7.56946           | 2.75126               | 0.001       |"
      ]
     },
     "metadata": {},
     "output_type": "display_data"
    },
    {
     "data": {
      "text/html": [
       "<pre>| 945     | 11m 9s       | 7.56811           | 2.75102               | 0.001       |</pre>"
      ],
      "text/plain": [
       "| 945     | 11m 9s       | 7.56811           | 2.75102               | 0.001       |"
      ]
     },
     "metadata": {},
     "output_type": "display_data"
    },
    {
     "data": {
      "text/html": [
       "<pre>| 950     | 11m 13s      | 7.56679           | 2.75078               | 0.001       |</pre>"
      ],
      "text/plain": [
       "| 950     | 11m 13s      | 7.56679           | 2.75078               | 0.001       |"
      ]
     },
     "metadata": {},
     "output_type": "display_data"
    },
    {
     "data": {
      "text/html": [
       "<pre>| 955     | 11m 17s      | 7.56548           | 2.75054               | 0.001       |</pre>"
      ],
      "text/plain": [
       "| 955     | 11m 17s      | 7.56548           | 2.75054               | 0.001       |"
      ]
     },
     "metadata": {},
     "output_type": "display_data"
    },
    {
     "data": {
      "text/html": [
       "<pre>| 960     | 11m 20s      | 7.56416           | 2.7503                | 0.001       |</pre>"
      ],
      "text/plain": [
       "| 960     | 11m 20s      | 7.56416           | 2.7503                | 0.001       |"
      ]
     },
     "metadata": {},
     "output_type": "display_data"
    },
    {
     "data": {
      "text/html": [
       "<pre>| 965     | 11m 24s      | 7.56287           | 2.75006               | 0.001       |</pre>"
      ],
      "text/plain": [
       "| 965     | 11m 24s      | 7.56287           | 2.75006               | 0.001       |"
      ]
     },
     "metadata": {},
     "output_type": "display_data"
    },
    {
     "data": {
      "text/html": [
       "<pre>| 970     | 11m 27s      | 7.56159           | 2.74983               | 0.001       |</pre>"
      ],
      "text/plain": [
       "| 970     | 11m 27s      | 7.56159           | 2.74983               | 0.001       |"
      ]
     },
     "metadata": {},
     "output_type": "display_data"
    },
    {
     "data": {
      "text/html": [
       "<pre>| 975     | 11m 30s      | 7.56031           | 2.7496                | 0.001       |</pre>"
      ],
      "text/plain": [
       "| 975     | 11m 30s      | 7.56031           | 2.7496                | 0.001       |"
      ]
     },
     "metadata": {},
     "output_type": "display_data"
    },
    {
     "data": {
      "text/html": [
       "<pre>| 980     | 11m 34s      | 7.55905           | 2.74937               | 0.001       |</pre>"
      ],
      "text/plain": [
       "| 980     | 11m 34s      | 7.55905           | 2.74937               | 0.001       |"
      ]
     },
     "metadata": {},
     "output_type": "display_data"
    },
    {
     "data": {
      "text/html": [
       "<pre>| 985     | 11m 38s      | 7.55779           | 2.74914               | 0.001       |</pre>"
      ],
      "text/plain": [
       "| 985     | 11m 38s      | 7.55779           | 2.74914               | 0.001       |"
      ]
     },
     "metadata": {},
     "output_type": "display_data"
    },
    {
     "data": {
      "text/html": [
       "<pre>| 990     | 11m 41s      | 7.55654           | 2.74891               | 0.001       |</pre>"
      ],
      "text/plain": [
       "| 990     | 11m 41s      | 7.55654           | 2.74891               | 0.001       |"
      ]
     },
     "metadata": {},
     "output_type": "display_data"
    },
    {
     "data": {
      "text/html": [
       "<pre>| 995     | 11m 45s      | 7.5553            | 2.74869               | 0.001       |</pre>"
      ],
      "text/plain": [
       "| 995     | 11m 45s      | 7.5553            | 2.74869               | 0.001       |"
      ]
     },
     "metadata": {},
     "output_type": "display_data"
    },
    {
     "data": {
      "text/html": [
       "<pre>| 1000    | 11m 48s      | 7.55407           | 2.74846               | 0.001       |</pre>"
      ],
      "text/plain": [
       "| 1000    | 11m 48s      | 7.55407           | 2.74846               | 0.001       |"
      ]
     },
     "metadata": {},
     "output_type": "display_data"
    },
    {
     "data": {
      "text/html": [
       "<pre>| 1001    | 11m 49s      | 7.55383           | 2.74842               | 0.001       |</pre>"
      ],
      "text/plain": [
       "| 1001    | 11m 49s      | 7.55383           | 2.74842               | 0.001       |"
      ]
     },
     "metadata": {},
     "output_type": "display_data"
    },
    {
     "data": {
      "text/html": [
       "<pre>| 1005    | 11m 52s      | 7.55284           | 2.74824               | 0.001       |</pre>"
      ],
      "text/plain": [
       "| 1005    | 11m 52s      | 7.55284           | 2.74824               | 0.001       |"
      ]
     },
     "metadata": {},
     "output_type": "display_data"
    },
    {
     "data": {
      "text/html": [
       "<pre>| 1010    | 11m 55s      | 7.55164           | 2.74802               | 0.001       |</pre>"
      ],
      "text/plain": [
       "| 1010    | 11m 55s      | 7.55164           | 2.74802               | 0.001       |"
      ]
     },
     "metadata": {},
     "output_type": "display_data"
    },
    {
     "data": {
      "text/html": [
       "<pre>| 1015    | 11m 59s      | 7.55045           | 2.74781               | 0.001       |</pre>"
      ],
      "text/plain": [
       "| 1015    | 11m 59s      | 7.55045           | 2.74781               | 0.001       |"
      ]
     },
     "metadata": {},
     "output_type": "display_data"
    },
    {
     "data": {
      "text/html": [
       "<pre>| 1020    | 12m 3s       | 7.54927           | 2.74759               | 0.001       |</pre>"
      ],
      "text/plain": [
       "| 1020    | 12m 3s       | 7.54927           | 2.74759               | 0.001       |"
      ]
     },
     "metadata": {},
     "output_type": "display_data"
    },
    {
     "data": {
      "text/html": [
       "<pre>| 1025    | 12m 6s       | 7.54808           | 2.74737               | 0.001       |</pre>"
      ],
      "text/plain": [
       "| 1025    | 12m 6s       | 7.54808           | 2.74737               | 0.001       |"
      ]
     },
     "metadata": {},
     "output_type": "display_data"
    },
    {
     "data": {
      "text/html": [
       "<pre>| 1030    | 12m 10s      | 7.54692           | 2.74716               | 0.001       |</pre>"
      ],
      "text/plain": [
       "| 1030    | 12m 10s      | 7.54692           | 2.74716               | 0.001       |"
      ]
     },
     "metadata": {},
     "output_type": "display_data"
    },
    {
     "data": {
      "text/html": [
       "<pre>| 1035    | 12m 15s      | 7.54575           | 2.74695               | 0.001       |</pre>"
      ],
      "text/plain": [
       "| 1035    | 12m 15s      | 7.54575           | 2.74695               | 0.001       |"
      ]
     },
     "metadata": {},
     "output_type": "display_data"
    },
    {
     "data": {
      "text/html": [
       "<pre>| 1040    | 12m 19s      | 7.54461           | 2.74674               | 0.001       |</pre>"
      ],
      "text/plain": [
       "| 1040    | 12m 19s      | 7.54461           | 2.74674               | 0.001       |"
      ]
     },
     "metadata": {},
     "output_type": "display_data"
    },
    {
     "data": {
      "text/html": [
       "<pre>| 1045    | 12m 22s      | 7.54348           | 2.74654               | 0.001       |</pre>"
      ],
      "text/plain": [
       "| 1045    | 12m 22s      | 7.54348           | 2.74654               | 0.001       |"
      ]
     },
     "metadata": {},
     "output_type": "display_data"
    },
    {
     "data": {
      "text/html": [
       "<pre>| 1050    | 12m 26s      | 7.54234           | 2.74633               | 0.001       |</pre>"
      ],
      "text/plain": [
       "| 1050    | 12m 26s      | 7.54234           | 2.74633               | 0.001       |"
      ]
     },
     "metadata": {},
     "output_type": "display_data"
    },
    {
     "data": {
      "text/html": [
       "<pre>| 1055    | 12m 30s      | 7.54122           | 2.74612               | 0.001       |</pre>"
      ],
      "text/plain": [
       "| 1055    | 12m 30s      | 7.54122           | 2.74612               | 0.001       |"
      ]
     },
     "metadata": {},
     "output_type": "display_data"
    },
    {
     "data": {
      "text/html": [
       "<pre>| 1060    | 12m 33s      | 7.54011           | 2.74592               | 0.001       |</pre>"
      ],
      "text/plain": [
       "| 1060    | 12m 33s      | 7.54011           | 2.74592               | 0.001       |"
      ]
     },
     "metadata": {},
     "output_type": "display_data"
    },
    {
     "data": {
      "text/html": [
       "<pre>| 1065    | 12m 37s      | 7.539             | 2.74572               | 0.001       |</pre>"
      ],
      "text/plain": [
       "| 1065    | 12m 37s      | 7.539             | 2.74572               | 0.001       |"
      ]
     },
     "metadata": {},
     "output_type": "display_data"
    },
    {
     "data": {
      "text/html": [
       "<pre>| 1070    | 12m 40s      | 7.5379            | 2.74552               | 0.001       |</pre>"
      ],
      "text/plain": [
       "| 1070    | 12m 40s      | 7.5379            | 2.74552               | 0.001       |"
      ]
     },
     "metadata": {},
     "output_type": "display_data"
    },
    {
     "data": {
      "text/html": [
       "<pre>| 1075    | 12m 44s      | 7.53681           | 2.74532               | 0.001       |</pre>"
      ],
      "text/plain": [
       "| 1075    | 12m 44s      | 7.53681           | 2.74532               | 0.001       |"
      ]
     },
     "metadata": {},
     "output_type": "display_data"
    },
    {
     "data": {
      "text/html": [
       "<pre>| 1080    | 12m 47s      | 7.53572           | 2.74512               | 0.001       |</pre>"
      ],
      "text/plain": [
       "| 1080    | 12m 47s      | 7.53572           | 2.74512               | 0.001       |"
      ]
     },
     "metadata": {},
     "output_type": "display_data"
    },
    {
     "data": {
      "text/html": [
       "<pre>| 1085    | 12m 51s      | 7.53464           | 2.74493               | 0.001       |</pre>"
      ],
      "text/plain": [
       "| 1085    | 12m 51s      | 7.53464           | 2.74493               | 0.001       |"
      ]
     },
     "metadata": {},
     "output_type": "display_data"
    },
    {
     "data": {
      "text/html": [
       "<pre>| 1090    | 12m 55s      | 7.53357           | 2.74473               | 0.001       |</pre>"
      ],
      "text/plain": [
       "| 1090    | 12m 55s      | 7.53357           | 2.74473               | 0.001       |"
      ]
     },
     "metadata": {},
     "output_type": "display_data"
    },
    {
     "data": {
      "text/html": [
       "<pre>| 1095    | 12m 58s      | 7.53252           | 2.74454               | 0.001       |</pre>"
      ],
      "text/plain": [
       "| 1095    | 12m 58s      | 7.53252           | 2.74454               | 0.001       |"
      ]
     },
     "metadata": {},
     "output_type": "display_data"
    },
    {
     "data": {
      "text/html": [
       "<pre>| 1100    | 13m 2s       | 7.53148           | 2.74435               | 0.001       |</pre>"
      ],
      "text/plain": [
       "| 1100    | 13m 2s       | 7.53148           | 2.74435               | 0.001       |"
      ]
     },
     "metadata": {},
     "output_type": "display_data"
    },
    {
     "data": {
      "text/html": [
       "<pre>| 1105    | 13m 5s       | 7.53044           | 2.74416               | 0.001       |</pre>"
      ],
      "text/plain": [
       "| 1105    | 13m 5s       | 7.53044           | 2.74416               | 0.001       |"
      ]
     },
     "metadata": {},
     "output_type": "display_data"
    },
    {
     "data": {
      "text/html": [
       "<pre>| 1110    | 13m 9s       | 7.5294            | 2.74397               | 0.001       |</pre>"
      ],
      "text/plain": [
       "| 1110    | 13m 9s       | 7.5294            | 2.74397               | 0.001       |"
      ]
     },
     "metadata": {},
     "output_type": "display_data"
    },
    {
     "data": {
      "text/html": [
       "<pre>| 1115    | 13m 13s      | 7.52837           | 2.74378               | 0.001       |</pre>"
      ],
      "text/plain": [
       "| 1115    | 13m 13s      | 7.52837           | 2.74378               | 0.001       |"
      ]
     },
     "metadata": {},
     "output_type": "display_data"
    },
    {
     "data": {
      "text/html": [
       "<pre>| 1120    | 13m 17s      | 7.52734           | 2.7436                | 0.001       |</pre>"
      ],
      "text/plain": [
       "| 1120    | 13m 17s      | 7.52734           | 2.7436                | 0.001       |"
      ]
     },
     "metadata": {},
     "output_type": "display_data"
    },
    {
     "data": {
      "text/html": [
       "<pre>| 1125    | 13m 21s      | 7.52631           | 2.74341               | 0.001       |</pre>"
      ],
      "text/plain": [
       "| 1125    | 13m 21s      | 7.52631           | 2.74341               | 0.001       |"
      ]
     },
     "metadata": {},
     "output_type": "display_data"
    },
    {
     "data": {
      "text/html": [
       "<pre>| 1130    | 13m 24s      | 7.5253            | 2.74323               | 0.001       |</pre>"
      ],
      "text/plain": [
       "| 1130    | 13m 24s      | 7.5253            | 2.74323               | 0.001       |"
      ]
     },
     "metadata": {},
     "output_type": "display_data"
    },
    {
     "data": {
      "text/html": [
       "<pre>| 1135    | 13m 28s      | 7.52429           | 2.74304               | 0.001       |</pre>"
      ],
      "text/plain": [
       "| 1135    | 13m 28s      | 7.52429           | 2.74304               | 0.001       |"
      ]
     },
     "metadata": {},
     "output_type": "display_data"
    },
    {
     "data": {
      "text/html": [
       "<pre>| 1140    | 13m 32s      | 7.52329           | 2.74286               | 0.001       |</pre>"
      ],
      "text/plain": [
       "| 1140    | 13m 32s      | 7.52329           | 2.74286               | 0.001       |"
      ]
     },
     "metadata": {},
     "output_type": "display_data"
    },
    {
     "data": {
      "text/html": [
       "<pre>| 1145    | 13m 35s      | 7.5223            | 2.74268               | 0.001       |</pre>"
      ],
      "text/plain": [
       "| 1145    | 13m 35s      | 7.5223            | 2.74268               | 0.001       |"
      ]
     },
     "metadata": {},
     "output_type": "display_data"
    },
    {
     "data": {
      "text/html": [
       "<pre>| 1150    | 13m 39s      | 7.52132           | 2.7425                | 0.001       |</pre>"
      ],
      "text/plain": [
       "| 1150    | 13m 39s      | 7.52132           | 2.7425                | 0.001       |"
      ]
     },
     "metadata": {},
     "output_type": "display_data"
    },
    {
     "data": {
      "text/html": [
       "<pre>| 1155    | 13m 43s      | 7.52035           | 2.74232               | 0.001       |</pre>"
      ],
      "text/plain": [
       "| 1155    | 13m 43s      | 7.52035           | 2.74232               | 0.001       |"
      ]
     },
     "metadata": {},
     "output_type": "display_data"
    },
    {
     "data": {
      "text/html": [
       "<pre>| 1160    | 13m 47s      | 7.51939           | 2.74215               | 0.001       |</pre>"
      ],
      "text/plain": [
       "| 1160    | 13m 47s      | 7.51939           | 2.74215               | 0.001       |"
      ]
     },
     "metadata": {},
     "output_type": "display_data"
    },
    {
     "data": {
      "text/html": [
       "<pre>| 1165    | 13m 51s      | 7.51843           | 2.74197               | 0.001       |</pre>"
      ],
      "text/plain": [
       "| 1165    | 13m 51s      | 7.51843           | 2.74197               | 0.001       |"
      ]
     },
     "metadata": {},
     "output_type": "display_data"
    },
    {
     "data": {
      "text/html": [
       "<pre>| 1170    | 13m 54s      | 7.51748           | 2.7418                | 0.001       |</pre>"
      ],
      "text/plain": [
       "| 1170    | 13m 54s      | 7.51748           | 2.7418                | 0.001       |"
      ]
     },
     "metadata": {},
     "output_type": "display_data"
    },
    {
     "data": {
      "text/html": [
       "<pre>| 1175    | 13m 58s      | 7.51654           | 2.74163               | 0.001       |</pre>"
      ],
      "text/plain": [
       "| 1175    | 13m 58s      | 7.51654           | 2.74163               | 0.001       |"
      ]
     },
     "metadata": {},
     "output_type": "display_data"
    },
    {
     "data": {
      "text/html": [
       "<pre>| 1180    | 14m 1s       | 7.5156            | 2.74146               | 0.001       |</pre>"
      ],
      "text/plain": [
       "| 1180    | 14m 1s       | 7.5156            | 2.74146               | 0.001       |"
      ]
     },
     "metadata": {},
     "output_type": "display_data"
    },
    {
     "data": {
      "text/html": [
       "<pre>| 1185    | 14m 5s       | 7.51466           | 2.74128               | 0.001       |</pre>"
      ],
      "text/plain": [
       "| 1185    | 14m 5s       | 7.51466           | 2.74128               | 0.001       |"
      ]
     },
     "metadata": {},
     "output_type": "display_data"
    },
    {
     "data": {
      "text/html": [
       "<pre>| 1190    | 14m 9s       | 7.51373           | 2.74112               | 0.001       |</pre>"
      ],
      "text/plain": [
       "| 1190    | 14m 9s       | 7.51373           | 2.74112               | 0.001       |"
      ]
     },
     "metadata": {},
     "output_type": "display_data"
    },
    {
     "data": {
      "text/html": [
       "<pre>| 1195    | 14m 13s      | 7.51279           | 2.74094               | 0.001       |</pre>"
      ],
      "text/plain": [
       "| 1195    | 14m 13s      | 7.51279           | 2.74094               | 0.001       |"
      ]
     },
     "metadata": {},
     "output_type": "display_data"
    },
    {
     "data": {
      "text/html": [
       "<pre>| 1200    | 14m 17s      | 7.51186           | 2.74078               | 0.001       |</pre>"
      ],
      "text/plain": [
       "| 1200    | 14m 17s      | 7.51186           | 2.74078               | 0.001       |"
      ]
     },
     "metadata": {},
     "output_type": "display_data"
    },
    {
     "data": {
      "text/html": [
       "<pre>| 1205    | 14m 21s      | 7.51095           | 2.74061               | 0.001       |</pre>"
      ],
      "text/plain": [
       "| 1205    | 14m 21s      | 7.51095           | 2.74061               | 0.001       |"
      ]
     },
     "metadata": {},
     "output_type": "display_data"
    },
    {
     "data": {
      "text/html": [
       "<pre>| 1210    | 14m 25s      | 7.51007           | 2.74045               | 0.001       |</pre>"
      ],
      "text/plain": [
       "| 1210    | 14m 25s      | 7.51007           | 2.74045               | 0.001       |"
      ]
     },
     "metadata": {},
     "output_type": "display_data"
    },
    {
     "data": {
      "text/html": [
       "<pre>| 1215    | 14m 28s      | 7.5092            | 2.74029               | 0.001       |</pre>"
      ],
      "text/plain": [
       "| 1215    | 14m 28s      | 7.5092            | 2.74029               | 0.001       |"
      ]
     },
     "metadata": {},
     "output_type": "display_data"
    },
    {
     "data": {
      "text/html": [
       "<pre>| 1220    | 14m 31s      | 7.50833           | 2.74013               | 0.001       |</pre>"
      ],
      "text/plain": [
       "| 1220    | 14m 31s      | 7.50833           | 2.74013               | 0.001       |"
      ]
     },
     "metadata": {},
     "output_type": "display_data"
    },
    {
     "data": {
      "text/html": [
       "<pre>| 1225    | 14m 35s      | 7.50747           | 2.73997               | 0.001       |</pre>"
      ],
      "text/plain": [
       "| 1225    | 14m 35s      | 7.50747           | 2.73997               | 0.001       |"
      ]
     },
     "metadata": {},
     "output_type": "display_data"
    },
    {
     "data": {
      "text/html": [
       "<pre>| 1230    | 14m 39s      | 7.50661           | 2.73982               | 0.001       |</pre>"
      ],
      "text/plain": [
       "| 1230    | 14m 39s      | 7.50661           | 2.73982               | 0.001       |"
      ]
     },
     "metadata": {},
     "output_type": "display_data"
    },
    {
     "data": {
      "text/html": [
       "<pre>| 1235    | 14m 42s      | 7.50575           | 2.73966               | 0.001       |</pre>"
      ],
      "text/plain": [
       "| 1235    | 14m 42s      | 7.50575           | 2.73966               | 0.001       |"
      ]
     },
     "metadata": {},
     "output_type": "display_data"
    },
    {
     "data": {
      "text/html": [
       "<pre>| 1240    | 14m 46s      | 7.5049            | 2.7395                | 0.001       |</pre>"
      ],
      "text/plain": [
       "| 1240    | 14m 46s      | 7.5049            | 2.7395                | 0.001       |"
      ]
     },
     "metadata": {},
     "output_type": "display_data"
    },
    {
     "data": {
      "text/html": [
       "<pre>| 1245    | 14m 49s      | 7.50405           | 2.73935               | 0.001       |</pre>"
      ],
      "text/plain": [
       "| 1245    | 14m 49s      | 7.50405           | 2.73935               | 0.001       |"
      ]
     },
     "metadata": {},
     "output_type": "display_data"
    },
    {
     "data": {
      "text/html": [
       "<pre>| 1250    | 14m 53s      | 7.5032            | 2.73919               | 0.001       |</pre>"
      ],
      "text/plain": [
       "| 1250    | 14m 53s      | 7.5032            | 2.73919               | 0.001       |"
      ]
     },
     "metadata": {},
     "output_type": "display_data"
    },
    {
     "data": {
      "text/html": [
       "<pre>| 1255    | 14m 57s      | 7.50235           | 2.73904               | 0.001       |</pre>"
      ],
      "text/plain": [
       "| 1255    | 14m 57s      | 7.50235           | 2.73904               | 0.001       |"
      ]
     },
     "metadata": {},
     "output_type": "display_data"
    },
    {
     "data": {
      "text/html": [
       "<pre>| 1260    | 15m 0s       | 7.50151           | 2.73889               | 0.001       |</pre>"
      ],
      "text/plain": [
       "| 1260    | 15m 0s       | 7.50151           | 2.73889               | 0.001       |"
      ]
     },
     "metadata": {},
     "output_type": "display_data"
    },
    {
     "data": {
      "text/html": [
       "<pre>| 1265    | 15m 4s       | 7.50068           | 2.73873               | 0.001       |</pre>"
      ],
      "text/plain": [
       "| 1265    | 15m 4s       | 7.50068           | 2.73873               | 0.001       |"
      ]
     },
     "metadata": {},
     "output_type": "display_data"
    },
    {
     "data": {
      "text/html": [
       "<pre>| 1270    | 15m 7s       | 7.49986           | 2.73858               | 0.001       |</pre>"
      ],
      "text/plain": [
       "| 1270    | 15m 7s       | 7.49986           | 2.73858               | 0.001       |"
      ]
     },
     "metadata": {},
     "output_type": "display_data"
    },
    {
     "data": {
      "text/html": [
       "<pre>| 1275    | 15m 11s      | 7.49904           | 2.73843               | 0.001       |</pre>"
      ],
      "text/plain": [
       "| 1275    | 15m 11s      | 7.49904           | 2.73843               | 0.001       |"
      ]
     },
     "metadata": {},
     "output_type": "display_data"
    },
    {
     "data": {
      "text/html": [
       "<pre>| 1280    | 15m 14s      | 7.49823           | 2.73829               | 0.001       |</pre>"
      ],
      "text/plain": [
       "| 1280    | 15m 14s      | 7.49823           | 2.73829               | 0.001       |"
      ]
     },
     "metadata": {},
     "output_type": "display_data"
    },
    {
     "data": {
      "text/html": [
       "<pre>| 1285    | 15m 18s      | 7.49742           | 2.73814               | 0.001       |</pre>"
      ],
      "text/plain": [
       "| 1285    | 15m 18s      | 7.49742           | 2.73814               | 0.001       |"
      ]
     },
     "metadata": {},
     "output_type": "display_data"
    },
    {
     "data": {
      "text/html": [
       "<pre>| 1290    | 15m 23s      | 7.4966            | 2.73799               | 0.001       |</pre>"
      ],
      "text/plain": [
       "| 1290    | 15m 23s      | 7.4966            | 2.73799               | 0.001       |"
      ]
     },
     "metadata": {},
     "output_type": "display_data"
    },
    {
     "data": {
      "text/html": [
       "<pre>| 1295    | 15m 26s      | 7.4958            | 2.73784               | 0.001       |</pre>"
      ],
      "text/plain": [
       "| 1295    | 15m 26s      | 7.4958            | 2.73784               | 0.001       |"
      ]
     },
     "metadata": {},
     "output_type": "display_data"
    },
    {
     "data": {
      "text/html": [
       "<pre>| 1300    | 15m 30s      | 7.495             | 2.7377                | 0.001       |</pre>"
      ],
      "text/plain": [
       "| 1300    | 15m 30s      | 7.495             | 2.7377                | 0.001       |"
      ]
     },
     "metadata": {},
     "output_type": "display_data"
    },
    {
     "data": {
      "text/html": [
       "<pre>| 1305    | 15m 34s      | 7.4942            | 2.73755               | 0.001       |</pre>"
      ],
      "text/plain": [
       "| 1305    | 15m 34s      | 7.4942            | 2.73755               | 0.001       |"
      ]
     },
     "metadata": {},
     "output_type": "display_data"
    },
    {
     "data": {
      "text/html": [
       "<pre>| 1310    | 15m 37s      | 7.49342           | 2.73741               | 0.001       |</pre>"
      ],
      "text/plain": [
       "| 1310    | 15m 37s      | 7.49342           | 2.73741               | 0.001       |"
      ]
     },
     "metadata": {},
     "output_type": "display_data"
    },
    {
     "data": {
      "text/html": [
       "<pre>| 1315    | 15m 41s      | 7.49263           | 2.73726               | 0.001       |</pre>"
      ],
      "text/plain": [
       "| 1315    | 15m 41s      | 7.49263           | 2.73726               | 0.001       |"
      ]
     },
     "metadata": {},
     "output_type": "display_data"
    },
    {
     "data": {
      "text/html": [
       "<pre>| 1320    | 15m 45s      | 7.49184           | 2.73712               | 0.001       |</pre>"
      ],
      "text/plain": [
       "| 1320    | 15m 45s      | 7.49184           | 2.73712               | 0.001       |"
      ]
     },
     "metadata": {},
     "output_type": "display_data"
    },
    {
     "data": {
      "text/html": [
       "<pre>| 1325    | 15m 48s      | 7.49107           | 2.73698               | 0.001       |</pre>"
      ],
      "text/plain": [
       "| 1325    | 15m 48s      | 7.49107           | 2.73698               | 0.001       |"
      ]
     },
     "metadata": {},
     "output_type": "display_data"
    },
    {
     "data": {
      "text/html": [
       "<pre>| 1330    | 15m 52s      | 7.4903            | 2.73684               | 0.001       |</pre>"
      ],
      "text/plain": [
       "| 1330    | 15m 52s      | 7.4903            | 2.73684               | 0.001       |"
      ]
     },
     "metadata": {},
     "output_type": "display_data"
    },
    {
     "data": {
      "text/html": [
       "<pre>| 1335    | 15m 55s      | 7.48953           | 2.7367                | 0.001       |</pre>"
      ],
      "text/plain": [
       "| 1335    | 15m 55s      | 7.48953           | 2.7367                | 0.001       |"
      ]
     },
     "metadata": {},
     "output_type": "display_data"
    },
    {
     "data": {
      "text/html": [
       "<pre>| 1340    | 15m 59s      | 7.48878           | 2.73656               | 0.001       |</pre>"
      ],
      "text/plain": [
       "| 1340    | 15m 59s      | 7.48878           | 2.73656               | 0.001       |"
      ]
     },
     "metadata": {},
     "output_type": "display_data"
    },
    {
     "data": {
      "text/html": [
       "<pre>| 1345    | 16m 2s       | 7.48803           | 2.73642               | 0.001       |</pre>"
      ],
      "text/plain": [
       "| 1345    | 16m 2s       | 7.48803           | 2.73642               | 0.001       |"
      ]
     },
     "metadata": {},
     "output_type": "display_data"
    },
    {
     "data": {
      "text/html": [
       "<pre>| 1350    | 16m 6s       | 7.48729           | 2.73629               | 0.001       |</pre>"
      ],
      "text/plain": [
       "| 1350    | 16m 6s       | 7.48729           | 2.73629               | 0.001       |"
      ]
     },
     "metadata": {},
     "output_type": "display_data"
    },
    {
     "data": {
      "text/html": [
       "<pre>| 1355    | 16m 9s       | 7.48655           | 2.73615               | 0.001       |</pre>"
      ],
      "text/plain": [
       "| 1355    | 16m 9s       | 7.48655           | 2.73615               | 0.001       |"
      ]
     },
     "metadata": {},
     "output_type": "display_data"
    },
    {
     "data": {
      "text/html": [
       "<pre>| 1360    | 16m 14s      | 7.4858            | 2.73602               | 0.001       |</pre>"
      ],
      "text/plain": [
       "| 1360    | 16m 14s      | 7.4858            | 2.73602               | 0.001       |"
      ]
     },
     "metadata": {},
     "output_type": "display_data"
    },
    {
     "data": {
      "text/html": [
       "<pre>| 1365    | 16m 18s      | 7.48505           | 2.73588               | 0.001       |</pre>"
      ],
      "text/plain": [
       "| 1365    | 16m 18s      | 7.48505           | 2.73588               | 0.001       |"
      ]
     },
     "metadata": {},
     "output_type": "display_data"
    },
    {
     "data": {
      "text/html": [
       "<pre>| 1370    | 16m 22s      | 7.48432           | 2.73575               | 0.001       |</pre>"
      ],
      "text/plain": [
       "| 1370    | 16m 22s      | 7.48432           | 2.73575               | 0.001       |"
      ]
     },
     "metadata": {},
     "output_type": "display_data"
    },
    {
     "data": {
      "text/html": [
       "<pre>| 1375    | 16m 26s      | 7.48359           | 2.73561               | 0.001       |</pre>"
      ],
      "text/plain": [
       "| 1375    | 16m 26s      | 7.48359           | 2.73561               | 0.001       |"
      ]
     },
     "metadata": {},
     "output_type": "display_data"
    },
    {
     "data": {
      "text/html": [
       "<pre>| 1380    | 16m 30s      | 7.48286           | 2.73548               | 0.001       |</pre>"
      ],
      "text/plain": [
       "| 1380    | 16m 30s      | 7.48286           | 2.73548               | 0.001       |"
      ]
     },
     "metadata": {},
     "output_type": "display_data"
    },
    {
     "data": {
      "text/html": [
       "<pre>| 1385    | 16m 34s      | 7.48215           | 2.73535               | 0.001       |</pre>"
      ],
      "text/plain": [
       "| 1385    | 16m 34s      | 7.48215           | 2.73535               | 0.001       |"
      ]
     },
     "metadata": {},
     "output_type": "display_data"
    },
    {
     "data": {
      "text/html": [
       "<pre>| 1390    | 16m 37s      | 7.48144           | 2.73522               | 0.001       |</pre>"
      ],
      "text/plain": [
       "| 1390    | 16m 37s      | 7.48144           | 2.73522               | 0.001       |"
      ]
     },
     "metadata": {},
     "output_type": "display_data"
    },
    {
     "data": {
      "text/html": [
       "<pre>| 1395    | 16m 41s      | 7.48073           | 2.73509               | 0.001       |</pre>"
      ],
      "text/plain": [
       "| 1395    | 16m 41s      | 7.48073           | 2.73509               | 0.001       |"
      ]
     },
     "metadata": {},
     "output_type": "display_data"
    },
    {
     "data": {
      "text/html": [
       "<pre>| 1400    | 16m 45s      | 7.48001           | 2.73496               | 0.001       |</pre>"
      ],
      "text/plain": [
       "| 1400    | 16m 45s      | 7.48001           | 2.73496               | 0.001       |"
      ]
     },
     "metadata": {},
     "output_type": "display_data"
    },
    {
     "data": {
      "text/html": [
       "<pre>| 1405    | 16m 49s      | 7.47931           | 2.73483               | 0.001       |</pre>"
      ],
      "text/plain": [
       "| 1405    | 16m 49s      | 7.47931           | 2.73483               | 0.001       |"
      ]
     },
     "metadata": {},
     "output_type": "display_data"
    },
    {
     "data": {
      "text/html": [
       "<pre>| 1410    | 16m 52s      | 7.47861           | 2.7347                | 0.001       |</pre>"
      ],
      "text/plain": [
       "| 1410    | 16m 52s      | 7.47861           | 2.7347                | 0.001       |"
      ]
     },
     "metadata": {},
     "output_type": "display_data"
    },
    {
     "data": {
      "text/html": [
       "<pre>| 1415    | 16m 55s      | 7.47791           | 2.73457               | 0.001       |</pre>"
      ],
      "text/plain": [
       "| 1415    | 16m 55s      | 7.47791           | 2.73457               | 0.001       |"
      ]
     },
     "metadata": {},
     "output_type": "display_data"
    },
    {
     "data": {
      "text/html": [
       "<pre>| 1420    | 16m 59s      | 7.47721           | 2.73445               | 0.001       |</pre>"
      ],
      "text/plain": [
       "| 1420    | 16m 59s      | 7.47721           | 2.73445               | 0.001       |"
      ]
     },
     "metadata": {},
     "output_type": "display_data"
    },
    {
     "data": {
      "text/html": [
       "<pre>| 1425    | 17m 3s       | 7.47652           | 2.73432               | 0.001       |</pre>"
      ],
      "text/plain": [
       "| 1425    | 17m 3s       | 7.47652           | 2.73432               | 0.001       |"
      ]
     },
     "metadata": {},
     "output_type": "display_data"
    },
    {
     "data": {
      "text/html": [
       "<pre>| 1430    | 17m 7s       | 7.47581           | 2.73419               | 0.001       |</pre>"
      ],
      "text/plain": [
       "| 1430    | 17m 7s       | 7.47581           | 2.73419               | 0.001       |"
      ]
     },
     "metadata": {},
     "output_type": "display_data"
    },
    {
     "data": {
      "text/html": [
       "<pre>| 1435    | 17m 11s      | 7.47511           | 2.73406               | 0.001       |</pre>"
      ],
      "text/plain": [
       "| 1435    | 17m 11s      | 7.47511           | 2.73406               | 0.001       |"
      ]
     },
     "metadata": {},
     "output_type": "display_data"
    },
    {
     "data": {
      "text/html": [
       "<pre>| 1440    | 17m 17s      | 7.4744            | 2.73393               | 0.001       |</pre>"
      ],
      "text/plain": [
       "| 1440    | 17m 17s      | 7.4744            | 2.73393               | 0.001       |"
      ]
     },
     "metadata": {},
     "output_type": "display_data"
    },
    {
     "data": {
      "text/html": [
       "<pre>| 1445    | 17m 21s      | 7.4737            | 2.7338                | 0.001       |</pre>"
      ],
      "text/plain": [
       "| 1445    | 17m 21s      | 7.4737            | 2.7338                | 0.001       |"
      ]
     },
     "metadata": {},
     "output_type": "display_data"
    },
    {
     "data": {
      "text/html": [
       "<pre>| 1450    | 17m 25s      | 7.47302           | 2.73368               | 0.001       |</pre>"
      ],
      "text/plain": [
       "| 1450    | 17m 25s      | 7.47302           | 2.73368               | 0.001       |"
      ]
     },
     "metadata": {},
     "output_type": "display_data"
    },
    {
     "data": {
      "text/html": [
       "<pre>| 1455    | 17m 29s      | 7.47234           | 2.73355               | 0.001       |</pre>"
      ],
      "text/plain": [
       "| 1455    | 17m 29s      | 7.47234           | 2.73355               | 0.001       |"
      ]
     },
     "metadata": {},
     "output_type": "display_data"
    },
    {
     "data": {
      "text/html": [
       "<pre>| 1460    | 17m 33s      | 7.47165           | 2.73343               | 0.001       |</pre>"
      ],
      "text/plain": [
       "| 1460    | 17m 33s      | 7.47165           | 2.73343               | 0.001       |"
      ]
     },
     "metadata": {},
     "output_type": "display_data"
    },
    {
     "data": {
      "text/html": [
       "<pre>| 1465    | 17m 37s      | 7.47098           | 2.73331               | 0.001       |</pre>"
      ],
      "text/plain": [
       "| 1465    | 17m 37s      | 7.47098           | 2.73331               | 0.001       |"
      ]
     },
     "metadata": {},
     "output_type": "display_data"
    },
    {
     "data": {
      "text/html": [
       "<pre>| 1470    | 17m 40s      | 7.47032           | 2.73318               | 0.001       |</pre>"
      ],
      "text/plain": [
       "| 1470    | 17m 40s      | 7.47032           | 2.73318               | 0.001       |"
      ]
     },
     "metadata": {},
     "output_type": "display_data"
    },
    {
     "data": {
      "text/html": [
       "<pre>| 1475    | 17m 43s      | 7.46964           | 2.73306               | 0.001       |</pre>"
      ],
      "text/plain": [
       "| 1475    | 17m 43s      | 7.46964           | 2.73306               | 0.001       |"
      ]
     },
     "metadata": {},
     "output_type": "display_data"
    },
    {
     "data": {
      "text/html": [
       "<pre>| 1480    | 17m 47s      | 7.46898           | 2.73294               | 0.001       |</pre>"
      ],
      "text/plain": [
       "| 1480    | 17m 47s      | 7.46898           | 2.73294               | 0.001       |"
      ]
     },
     "metadata": {},
     "output_type": "display_data"
    },
    {
     "data": {
      "text/html": [
       "<pre>| 1485    | 17m 51s      | 7.46832           | 2.73282               | 0.001       |</pre>"
      ],
      "text/plain": [
       "| 1485    | 17m 51s      | 7.46832           | 2.73282               | 0.001       |"
      ]
     },
     "metadata": {},
     "output_type": "display_data"
    },
    {
     "data": {
      "text/html": [
       "<pre>| 1490    | 17m 54s      | 7.46766           | 2.7327                | 0.001       |</pre>"
      ],
      "text/plain": [
       "| 1490    | 17m 54s      | 7.46766           | 2.7327                | 0.001       |"
      ]
     },
     "metadata": {},
     "output_type": "display_data"
    },
    {
     "data": {
      "text/html": [
       "<pre>| 1495    | 17m 58s      | 7.46701           | 2.73258               | 0.001       |</pre>"
      ],
      "text/plain": [
       "| 1495    | 17m 58s      | 7.46701           | 2.73258               | 0.001       |"
      ]
     },
     "metadata": {},
     "output_type": "display_data"
    },
    {
     "data": {
      "text/html": [
       "<pre>| 1500    | 18m 1s       | 7.46636           | 2.73246               | 0.001       |</pre>"
      ],
      "text/plain": [
       "| 1500    | 18m 1s       | 7.46636           | 2.73246               | 0.001       |"
      ]
     },
     "metadata": {},
     "output_type": "display_data"
    },
    {
     "data": {
      "text/html": [
       "<pre>| 1505    | 18m 5s       | 7.46571           | 2.73234               | 0.001       |</pre>"
      ],
      "text/plain": [
       "| 1505    | 18m 5s       | 7.46571           | 2.73234               | 0.001       |"
      ]
     },
     "metadata": {},
     "output_type": "display_data"
    },
    {
     "data": {
      "text/html": [
       "<pre>| 1510    | 18m 8s       | 7.46507           | 2.73222               | 0.001       |</pre>"
      ],
      "text/plain": [
       "| 1510    | 18m 8s       | 7.46507           | 2.73222               | 0.001       |"
      ]
     },
     "metadata": {},
     "output_type": "display_data"
    },
    {
     "data": {
      "text/html": [
       "<pre>| 1515    | 18m 12s      | 7.46442           | 2.73211               | 0.001       |</pre>"
      ],
      "text/plain": [
       "| 1515    | 18m 12s      | 7.46442           | 2.73211               | 0.001       |"
      ]
     },
     "metadata": {},
     "output_type": "display_data"
    },
    {
     "data": {
      "text/html": [
       "<pre>| 1520    | 18m 16s      | 7.46378           | 2.73199               | 0.001       |</pre>"
      ],
      "text/plain": [
       "| 1520    | 18m 16s      | 7.46378           | 2.73199               | 0.001       |"
      ]
     },
     "metadata": {},
     "output_type": "display_data"
    },
    {
     "data": {
      "text/html": [
       "<pre>| 1525    | 18m 20s      | 7.46313           | 2.73187               | 0.001       |</pre>"
      ],
      "text/plain": [
       "| 1525    | 18m 20s      | 7.46313           | 2.73187               | 0.001       |"
      ]
     },
     "metadata": {},
     "output_type": "display_data"
    },
    {
     "data": {
      "text/html": [
       "<pre>| 1530    | 18m 23s      | 7.46249           | 2.73175               | 0.001       |</pre>"
      ],
      "text/plain": [
       "| 1530    | 18m 23s      | 7.46249           | 2.73175               | 0.001       |"
      ]
     },
     "metadata": {},
     "output_type": "display_data"
    },
    {
     "data": {
      "text/html": [
       "<pre>| 1535    | 18m 27s      | 7.46184           | 2.73163               | 0.001       |</pre>"
      ],
      "text/plain": [
       "| 1535    | 18m 27s      | 7.46184           | 2.73163               | 0.001       |"
      ]
     },
     "metadata": {},
     "output_type": "display_data"
    },
    {
     "data": {
      "text/html": [
       "<pre>| 1540    | 18m 31s      | 7.46119           | 2.73152               | 0.001       |</pre>"
      ],
      "text/plain": [
       "| 1540    | 18m 31s      | 7.46119           | 2.73152               | 0.001       |"
      ]
     },
     "metadata": {},
     "output_type": "display_data"
    },
    {
     "data": {
      "text/html": [
       "<pre>| 1545    | 18m 34s      | 7.46055           | 2.7314                | 0.001       |</pre>"
      ],
      "text/plain": [
       "| 1545    | 18m 34s      | 7.46055           | 2.7314                | 0.001       |"
      ]
     },
     "metadata": {},
     "output_type": "display_data"
    },
    {
     "data": {
      "text/html": [
       "<pre>| 1550    | 18m 38s      | 7.4599            | 2.73128               | 0.001       |</pre>"
      ],
      "text/plain": [
       "| 1550    | 18m 38s      | 7.4599            | 2.73128               | 0.001       |"
      ]
     },
     "metadata": {},
     "output_type": "display_data"
    },
    {
     "data": {
      "text/html": [
       "<pre>| 1555    | 18m 41s      | 7.45927           | 2.73116               | 0.001       |</pre>"
      ],
      "text/plain": [
       "| 1555    | 18m 41s      | 7.45927           | 2.73116               | 0.001       |"
      ]
     },
     "metadata": {},
     "output_type": "display_data"
    },
    {
     "data": {
      "text/html": [
       "<pre>| 1560    | 18m 45s      | 7.45863           | 2.73105               | 0.001       |</pre>"
      ],
      "text/plain": [
       "| 1560    | 18m 45s      | 7.45863           | 2.73105               | 0.001       |"
      ]
     },
     "metadata": {},
     "output_type": "display_data"
    },
    {
     "data": {
      "text/html": [
       "<pre>| 1565    | 18m 49s      | 7.45799           | 2.73093               | 0.001       |</pre>"
      ],
      "text/plain": [
       "| 1565    | 18m 49s      | 7.45799           | 2.73093               | 0.001       |"
      ]
     },
     "metadata": {},
     "output_type": "display_data"
    },
    {
     "data": {
      "text/html": [
       "<pre>| 1570    | 18m 52s      | 7.45735           | 2.73081               | 0.001       |</pre>"
      ],
      "text/plain": [
       "| 1570    | 18m 52s      | 7.45735           | 2.73081               | 0.001       |"
      ]
     },
     "metadata": {},
     "output_type": "display_data"
    },
    {
     "data": {
      "text/html": [
       "<pre>| 1575    | 18m 56s      | 7.45671           | 2.73069               | 0.001       |</pre>"
      ],
      "text/plain": [
       "| 1575    | 18m 56s      | 7.45671           | 2.73069               | 0.001       |"
      ]
     },
     "metadata": {},
     "output_type": "display_data"
    },
    {
     "data": {
      "text/html": [
       "<pre>| 1580    | 19m 0s       | 7.45607           | 2.73058               | 0.001       |</pre>"
      ],
      "text/plain": [
       "| 1580    | 19m 0s       | 7.45607           | 2.73058               | 0.001       |"
      ]
     },
     "metadata": {},
     "output_type": "display_data"
    },
    {
     "data": {
      "text/html": [
       "<pre>| 1585    | 19m 4s       | 7.45544           | 2.73046               | 0.001       |</pre>"
      ],
      "text/plain": [
       "| 1585    | 19m 4s       | 7.45544           | 2.73046               | 0.001       |"
      ]
     },
     "metadata": {},
     "output_type": "display_data"
    },
    {
     "data": {
      "text/html": [
       "<pre>| 1590    | 19m 7s       | 7.45481           | 2.73035               | 0.001       |</pre>"
      ],
      "text/plain": [
       "| 1590    | 19m 7s       | 7.45481           | 2.73035               | 0.001       |"
      ]
     },
     "metadata": {},
     "output_type": "display_data"
    },
    {
     "data": {
      "text/html": [
       "<pre>| 1595    | 19m 11s      | 7.45417           | 2.73023               | 0.001       |</pre>"
      ],
      "text/plain": [
       "| 1595    | 19m 11s      | 7.45417           | 2.73023               | 0.001       |"
      ]
     },
     "metadata": {},
     "output_type": "display_data"
    },
    {
     "data": {
      "text/html": [
       "<pre>| 1600    | 19m 15s      | 7.45354           | 2.73011               | 0.001       |</pre>"
      ],
      "text/plain": [
       "| 1600    | 19m 15s      | 7.45354           | 2.73011               | 0.001       |"
      ]
     },
     "metadata": {},
     "output_type": "display_data"
    },
    {
     "data": {
      "text/html": [
       "<pre>| 1605    | 19m 18s      | 7.45291           | 2.73                  | 0.001       |</pre>"
      ],
      "text/plain": [
       "| 1605    | 19m 18s      | 7.45291           | 2.73                  | 0.001       |"
      ]
     },
     "metadata": {},
     "output_type": "display_data"
    },
    {
     "data": {
      "text/html": [
       "<pre>| 1610    | 19m 21s      | 7.45229           | 2.72988               | 0.001       |</pre>"
      ],
      "text/plain": [
       "| 1610    | 19m 21s      | 7.45229           | 2.72988               | 0.001       |"
      ]
     },
     "metadata": {},
     "output_type": "display_data"
    },
    {
     "data": {
      "text/html": [
       "<pre>| 1615    | 19m 25s      | 7.45166           | 2.72977               | 0.001       |</pre>"
      ],
      "text/plain": [
       "| 1615    | 19m 25s      | 7.45166           | 2.72977               | 0.001       |"
      ]
     },
     "metadata": {},
     "output_type": "display_data"
    },
    {
     "data": {
      "text/html": [
       "<pre>| 1620    | 19m 29s      | 7.45104           | 2.72966               | 0.001       |</pre>"
      ],
      "text/plain": [
       "| 1620    | 19m 29s      | 7.45104           | 2.72966               | 0.001       |"
      ]
     },
     "metadata": {},
     "output_type": "display_data"
    },
    {
     "data": {
      "text/html": [
       "<pre>| 1625    | 19m 32s      | 7.45042           | 2.72954               | 0.001       |</pre>"
      ],
      "text/plain": [
       "| 1625    | 19m 32s      | 7.45042           | 2.72954               | 0.001       |"
      ]
     },
     "metadata": {},
     "output_type": "display_data"
    },
    {
     "data": {
      "text/html": [
       "<pre>| 1630    | 19m 36s      | 7.44981           | 2.72943               | 0.001       |</pre>"
      ],
      "text/plain": [
       "| 1630    | 19m 36s      | 7.44981           | 2.72943               | 0.001       |"
      ]
     },
     "metadata": {},
     "output_type": "display_data"
    },
    {
     "data": {
      "text/html": [
       "<pre>| 1635    | 19m 39s      | 7.4492            | 2.72932               | 0.001       |</pre>"
      ],
      "text/plain": [
       "| 1635    | 19m 39s      | 7.4492            | 2.72932               | 0.001       |"
      ]
     },
     "metadata": {},
     "output_type": "display_data"
    },
    {
     "data": {
      "text/html": [
       "<pre>| 1640    | 19m 43s      | 7.4486            | 2.72921               | 0.001       |</pre>"
      ],
      "text/plain": [
       "| 1640    | 19m 43s      | 7.4486            | 2.72921               | 0.001       |"
      ]
     },
     "metadata": {},
     "output_type": "display_data"
    },
    {
     "data": {
      "text/html": [
       "<pre>| 1645    | 19m 46s      | 7.448             | 2.7291                | 0.001       |</pre>"
      ],
      "text/plain": [
       "| 1645    | 19m 46s      | 7.448             | 2.7291                | 0.001       |"
      ]
     },
     "metadata": {},
     "output_type": "display_data"
    },
    {
     "data": {
      "text/html": [
       "<pre>| 1650    | 19m 50s      | 7.44739           | 2.72899               | 0.001       |</pre>"
      ],
      "text/plain": [
       "| 1650    | 19m 50s      | 7.44739           | 2.72899               | 0.001       |"
      ]
     },
     "metadata": {},
     "output_type": "display_data"
    },
    {
     "data": {
      "text/html": [
       "<pre>| 1655    | 19m 54s      | 7.44679           | 2.72888               | 0.001       |</pre>"
      ],
      "text/plain": [
       "| 1655    | 19m 54s      | 7.44679           | 2.72888               | 0.001       |"
      ]
     },
     "metadata": {},
     "output_type": "display_data"
    },
    {
     "data": {
      "text/html": [
       "<pre>| 1660    | 19m 57s      | 7.4462            | 2.72877               | 0.001       |</pre>"
      ],
      "text/plain": [
       "| 1660    | 19m 57s      | 7.4462            | 2.72877               | 0.001       |"
      ]
     },
     "metadata": {},
     "output_type": "display_data"
    },
    {
     "data": {
      "text/html": [
       "<pre>| 1665    | 20m 1s       | 7.4456            | 2.72866               | 0.001       |</pre>"
      ],
      "text/plain": [
       "| 1665    | 20m 1s       | 7.4456            | 2.72866               | 0.001       |"
      ]
     },
     "metadata": {},
     "output_type": "display_data"
    },
    {
     "data": {
      "text/html": [
       "<pre>| 1670    | 20m 4s       | 7.44501           | 2.72855               | 0.001       |</pre>"
      ],
      "text/plain": [
       "| 1670    | 20m 4s       | 7.44501           | 2.72855               | 0.001       |"
      ]
     },
     "metadata": {},
     "output_type": "display_data"
    },
    {
     "data": {
      "text/html": [
       "<pre>| 1675    | 20m 8s       | 7.44443           | 2.72844               | 0.001       |</pre>"
      ],
      "text/plain": [
       "| 1675    | 20m 8s       | 7.44443           | 2.72844               | 0.001       |"
      ]
     },
     "metadata": {},
     "output_type": "display_data"
    },
    {
     "data": {
      "text/html": [
       "<pre>| 1680    | 20m 12s      | 7.44383           | 2.72834               | 0.001       |</pre>"
      ],
      "text/plain": [
       "| 1680    | 20m 12s      | 7.44383           | 2.72834               | 0.001       |"
      ]
     },
     "metadata": {},
     "output_type": "display_data"
    },
    {
     "data": {
      "text/html": [
       "<pre>| 1685    | 20m 16s      | 7.44323           | 2.72823               | 0.001       |</pre>"
      ],
      "text/plain": [
       "| 1685    | 20m 16s      | 7.44323           | 2.72823               | 0.001       |"
      ]
     },
     "metadata": {},
     "output_type": "display_data"
    },
    {
     "data": {
      "text/html": [
       "<pre>| 1690    | 20m 20s      | 7.44264           | 2.72812               | 0.001       |</pre>"
      ],
      "text/plain": [
       "| 1690    | 20m 20s      | 7.44264           | 2.72812               | 0.001       |"
      ]
     },
     "metadata": {},
     "output_type": "display_data"
    },
    {
     "data": {
      "text/html": [
       "<pre>| 1695    | 20m 23s      | 7.44206           | 2.72801               | 0.001       |</pre>"
      ],
      "text/plain": [
       "| 1695    | 20m 23s      | 7.44206           | 2.72801               | 0.001       |"
      ]
     },
     "metadata": {},
     "output_type": "display_data"
    },
    {
     "data": {
      "text/html": [
       "<pre>| 1700    | 20m 27s      | 7.44148           | 2.7279                | 0.001       |</pre>"
      ],
      "text/plain": [
       "| 1700    | 20m 27s      | 7.44148           | 2.7279                | 0.001       |"
      ]
     },
     "metadata": {},
     "output_type": "display_data"
    },
    {
     "data": {
      "text/html": [
       "<pre>| 1705    | 20m 30s      | 7.4409            | 2.7278                | 0.001       |</pre>"
      ],
      "text/plain": [
       "| 1705    | 20m 30s      | 7.4409            | 2.7278                | 0.001       |"
      ]
     },
     "metadata": {},
     "output_type": "display_data"
    },
    {
     "data": {
      "text/html": [
       "<pre>| 1710    | 20m 34s      | 7.44032           | 2.72769               | 0.001       |</pre>"
      ],
      "text/plain": [
       "| 1710    | 20m 34s      | 7.44032           | 2.72769               | 0.001       |"
      ]
     },
     "metadata": {},
     "output_type": "display_data"
    },
    {
     "data": {
      "text/html": [
       "<pre>| 1715    | 20m 37s      | 7.43974           | 2.72758               | 0.001       |</pre>"
      ],
      "text/plain": [
       "| 1715    | 20m 37s      | 7.43974           | 2.72758               | 0.001       |"
      ]
     },
     "metadata": {},
     "output_type": "display_data"
    },
    {
     "data": {
      "text/html": [
       "<pre>| 1720    | 20m 41s      | 7.43915           | 2.72748               | 0.001       |</pre>"
      ],
      "text/plain": [
       "| 1720    | 20m 41s      | 7.43915           | 2.72748               | 0.001       |"
      ]
     },
     "metadata": {},
     "output_type": "display_data"
    },
    {
     "data": {
      "text/html": [
       "<pre>| 1725    | 20m 45s      | 7.43857           | 2.72737               | 0.001       |</pre>"
      ],
      "text/plain": [
       "| 1725    | 20m 45s      | 7.43857           | 2.72737               | 0.001       |"
      ]
     },
     "metadata": {},
     "output_type": "display_data"
    },
    {
     "data": {
      "text/html": [
       "<pre>| 1730    | 20m 48s      | 7.43799           | 2.72726               | 0.001       |</pre>"
      ],
      "text/plain": [
       "| 1730    | 20m 48s      | 7.43799           | 2.72726               | 0.001       |"
      ]
     },
     "metadata": {},
     "output_type": "display_data"
    },
    {
     "data": {
      "text/html": [
       "<pre>| 1735    | 20m 52s      | 7.4374            | 2.72716               | 0.001       |</pre>"
      ],
      "text/plain": [
       "| 1735    | 20m 52s      | 7.4374            | 2.72716               | 0.001       |"
      ]
     },
     "metadata": {},
     "output_type": "display_data"
    },
    {
     "data": {
      "text/html": [
       "<pre>| 1740    | 20m 56s      | 7.43682           | 2.72705               | 0.001       |</pre>"
      ],
      "text/plain": [
       "| 1740    | 20m 56s      | 7.43682           | 2.72705               | 0.001       |"
      ]
     },
     "metadata": {},
     "output_type": "display_data"
    },
    {
     "data": {
      "text/html": [
       "<pre>| 1745    | 20m 59s      | 7.43625           | 2.72694               | 0.001       |</pre>"
      ],
      "text/plain": [
       "| 1745    | 20m 59s      | 7.43625           | 2.72694               | 0.001       |"
      ]
     },
     "metadata": {},
     "output_type": "display_data"
    },
    {
     "data": {
      "text/html": [
       "<pre>| 1750    | 21m 3s       | 7.43567           | 2.72684               | 0.001       |</pre>"
      ],
      "text/plain": [
       "| 1750    | 21m 3s       | 7.43567           | 2.72684               | 0.001       |"
      ]
     },
     "metadata": {},
     "output_type": "display_data"
    },
    {
     "data": {
      "text/html": [
       "<pre>| 1755    | 21m 6s       | 7.4351            | 2.72673               | 0.001       |</pre>"
      ],
      "text/plain": [
       "| 1755    | 21m 6s       | 7.4351            | 2.72673               | 0.001       |"
      ]
     },
     "metadata": {},
     "output_type": "display_data"
    },
    {
     "data": {
      "text/html": [
       "<pre>| 1760    | 21m 10s      | 7.43453           | 2.72663               | 0.001       |</pre>"
      ],
      "text/plain": [
       "| 1760    | 21m 10s      | 7.43453           | 2.72663               | 0.001       |"
      ]
     },
     "metadata": {},
     "output_type": "display_data"
    },
    {
     "data": {
      "text/html": [
       "<pre>| 1765    | 21m 13s      | 7.43395           | 2.72652               | 0.001       |</pre>"
      ],
      "text/plain": [
       "| 1765    | 21m 13s      | 7.43395           | 2.72652               | 0.001       |"
      ]
     },
     "metadata": {},
     "output_type": "display_data"
    },
    {
     "data": {
      "text/html": [
       "<pre>| 1770    | 21m 16s      | 7.43338           | 2.72642               | 0.001       |</pre>"
      ],
      "text/plain": [
       "| 1770    | 21m 16s      | 7.43338           | 2.72642               | 0.001       |"
      ]
     },
     "metadata": {},
     "output_type": "display_data"
    },
    {
     "data": {
      "text/html": [
       "<pre>| 1775    | 21m 20s      | 7.43281           | 2.72631               | 0.001       |</pre>"
      ],
      "text/plain": [
       "| 1775    | 21m 20s      | 7.43281           | 2.72631               | 0.001       |"
      ]
     },
     "metadata": {},
     "output_type": "display_data"
    },
    {
     "data": {
      "text/html": [
       "<pre>| 1780    | 21m 23s      | 7.43224           | 2.72621               | 0.001       |</pre>"
      ],
      "text/plain": [
       "| 1780    | 21m 23s      | 7.43224           | 2.72621               | 0.001       |"
      ]
     },
     "metadata": {},
     "output_type": "display_data"
    },
    {
     "data": {
      "text/html": [
       "<pre>| 1785    | 21m 27s      | 7.43167           | 2.72611               | 0.001       |</pre>"
      ],
      "text/plain": [
       "| 1785    | 21m 27s      | 7.43167           | 2.72611               | 0.001       |"
      ]
     },
     "metadata": {},
     "output_type": "display_data"
    },
    {
     "data": {
      "text/html": [
       "<pre>| 1790    | 21m 31s      | 7.4311            | 2.726                 | 0.001       |</pre>"
      ],
      "text/plain": [
       "| 1790    | 21m 31s      | 7.4311            | 2.726                 | 0.001       |"
      ]
     },
     "metadata": {},
     "output_type": "display_data"
    },
    {
     "data": {
      "text/html": [
       "<pre>| 1795    | 21m 34s      | 7.43052           | 2.72589               | 0.001       |</pre>"
      ],
      "text/plain": [
       "| 1795    | 21m 34s      | 7.43052           | 2.72589               | 0.001       |"
      ]
     },
     "metadata": {},
     "output_type": "display_data"
    },
    {
     "data": {
      "text/html": [
       "<pre>| 1800    | 21m 38s      | 7.42995           | 2.72579               | 0.001       |</pre>"
      ],
      "text/plain": [
       "| 1800    | 21m 38s      | 7.42995           | 2.72579               | 0.001       |"
      ]
     },
     "metadata": {},
     "output_type": "display_data"
    },
    {
     "data": {
      "text/html": [
       "<pre>| 1805    | 21m 42s      | 7.42939           | 2.72569               | 0.001       |</pre>"
      ],
      "text/plain": [
       "| 1805    | 21m 42s      | 7.42939           | 2.72569               | 0.001       |"
      ]
     },
     "metadata": {},
     "output_type": "display_data"
    },
    {
     "data": {
      "text/html": [
       "<pre>| 1810    | 21m 45s      | 7.42881           | 2.72558               | 0.001       |</pre>"
      ],
      "text/plain": [
       "| 1810    | 21m 45s      | 7.42881           | 2.72558               | 0.001       |"
      ]
     },
     "metadata": {},
     "output_type": "display_data"
    },
    {
     "data": {
      "text/html": [
       "<pre>| 1815    | 21m 49s      | 7.42825           | 2.72548               | 0.001       |</pre>"
      ],
      "text/plain": [
       "| 1815    | 21m 49s      | 7.42825           | 2.72548               | 0.001       |"
      ]
     },
     "metadata": {},
     "output_type": "display_data"
    },
    {
     "data": {
      "text/html": [
       "<pre>| 1820    | 21m 52s      | 7.42768           | 2.72537               | 0.001       |</pre>"
      ],
      "text/plain": [
       "| 1820    | 21m 52s      | 7.42768           | 2.72537               | 0.001       |"
      ]
     },
     "metadata": {},
     "output_type": "display_data"
    },
    {
     "data": {
      "text/html": [
       "<pre>| 1825    | 21m 56s      | 7.42711           | 2.72527               | 0.001       |</pre>"
      ],
      "text/plain": [
       "| 1825    | 21m 56s      | 7.42711           | 2.72527               | 0.001       |"
      ]
     },
     "metadata": {},
     "output_type": "display_data"
    },
    {
     "data": {
      "text/html": [
       "<pre>| 1830    | 22m 0s       | 7.42655           | 2.72517               | 0.001       |</pre>"
      ],
      "text/plain": [
       "| 1830    | 22m 0s       | 7.42655           | 2.72517               | 0.001       |"
      ]
     },
     "metadata": {},
     "output_type": "display_data"
    },
    {
     "data": {
      "text/html": [
       "<pre>| 1835    | 22m 3s       | 7.42598           | 2.72506               | 0.001       |</pre>"
      ],
      "text/plain": [
       "| 1835    | 22m 3s       | 7.42598           | 2.72506               | 0.001       |"
      ]
     },
     "metadata": {},
     "output_type": "display_data"
    },
    {
     "data": {
      "text/html": [
       "<pre>| 1840    | 22m 7s       | 7.42542           | 2.72496               | 0.001       |</pre>"
      ],
      "text/plain": [
       "| 1840    | 22m 7s       | 7.42542           | 2.72496               | 0.001       |"
      ]
     },
     "metadata": {},
     "output_type": "display_data"
    },
    {
     "data": {
      "text/html": [
       "<pre>| 1845    | 22m 11s      | 7.42485           | 2.72485               | 0.001       |</pre>"
      ],
      "text/plain": [
       "| 1845    | 22m 11s      | 7.42485           | 2.72485               | 0.001       |"
      ]
     },
     "metadata": {},
     "output_type": "display_data"
    },
    {
     "data": {
      "text/html": [
       "<pre>| 1850    | 22m 15s      | 7.42429           | 2.72475               | 0.001       |</pre>"
      ],
      "text/plain": [
       "| 1850    | 22m 15s      | 7.42429           | 2.72475               | 0.001       |"
      ]
     },
     "metadata": {},
     "output_type": "display_data"
    },
    {
     "data": {
      "text/html": [
       "<pre>| 1855    | 22m 19s      | 7.42373           | 2.72465               | 0.001       |</pre>"
      ],
      "text/plain": [
       "| 1855    | 22m 19s      | 7.42373           | 2.72465               | 0.001       |"
      ]
     },
     "metadata": {},
     "output_type": "display_data"
    },
    {
     "data": {
      "text/html": [
       "<pre>| 1860    | 22m 22s      | 7.42317           | 2.72455               | 0.001       |</pre>"
      ],
      "text/plain": [
       "| 1860    | 22m 22s      | 7.42317           | 2.72455               | 0.001       |"
      ]
     },
     "metadata": {},
     "output_type": "display_data"
    },
    {
     "data": {
      "text/html": [
       "<pre>| 1865    | 22m 26s      | 7.4226            | 2.72444               | 0.001       |</pre>"
      ],
      "text/plain": [
       "| 1865    | 22m 26s      | 7.4226            | 2.72444               | 0.001       |"
      ]
     },
     "metadata": {},
     "output_type": "display_data"
    },
    {
     "data": {
      "text/html": [
       "<pre>| 1870    | 22m 30s      | 7.42204           | 2.72434               | 0.001       |</pre>"
      ],
      "text/plain": [
       "| 1870    | 22m 30s      | 7.42204           | 2.72434               | 0.001       |"
      ]
     },
     "metadata": {},
     "output_type": "display_data"
    },
    {
     "data": {
      "text/html": [
       "<pre>| 1875    | 22m 33s      | 7.42149           | 2.72424               | 0.001       |</pre>"
      ],
      "text/plain": [
       "| 1875    | 22m 33s      | 7.42149           | 2.72424               | 0.001       |"
      ]
     },
     "metadata": {},
     "output_type": "display_data"
    },
    {
     "data": {
      "text/html": [
       "<pre>| 1880    | 22m 37s      | 7.42094           | 2.72414               | 0.001       |</pre>"
      ],
      "text/plain": [
       "| 1880    | 22m 37s      | 7.42094           | 2.72414               | 0.001       |"
      ]
     },
     "metadata": {},
     "output_type": "display_data"
    },
    {
     "data": {
      "text/html": [
       "<pre>| 1885    | 22m 41s      | 7.42039           | 2.72404               | 0.001       |</pre>"
      ],
      "text/plain": [
       "| 1885    | 22m 41s      | 7.42039           | 2.72404               | 0.001       |"
      ]
     },
     "metadata": {},
     "output_type": "display_data"
    },
    {
     "data": {
      "text/html": [
       "<pre>| 1890    | 22m 44s      | 7.41983           | 2.72393               | 0.001       |</pre>"
      ],
      "text/plain": [
       "| 1890    | 22m 44s      | 7.41983           | 2.72393               | 0.001       |"
      ]
     },
     "metadata": {},
     "output_type": "display_data"
    },
    {
     "data": {
      "text/html": [
       "<pre>| 1895    | 22m 48s      | 7.41929           | 2.72383               | 0.001       |</pre>"
      ],
      "text/plain": [
       "| 1895    | 22m 48s      | 7.41929           | 2.72383               | 0.001       |"
      ]
     },
     "metadata": {},
     "output_type": "display_data"
    },
    {
     "data": {
      "text/html": [
       "<pre>| 1900    | 22m 51s      | 7.41874           | 2.72373               | 0.001       |</pre>"
      ],
      "text/plain": [
       "| 1900    | 22m 51s      | 7.41874           | 2.72373               | 0.001       |"
      ]
     },
     "metadata": {},
     "output_type": "display_data"
    },
    {
     "data": {
      "text/html": [
       "<pre>| 1905    | 22m 55s      | 7.4182            | 2.72363               | 0.001       |</pre>"
      ],
      "text/plain": [
       "| 1905    | 22m 55s      | 7.4182            | 2.72363               | 0.001       |"
      ]
     },
     "metadata": {},
     "output_type": "display_data"
    },
    {
     "data": {
      "text/html": [
       "<pre>| 1910    | 22m 58s      | 7.41766           | 2.72353               | 0.001       |</pre>"
      ],
      "text/plain": [
       "| 1910    | 22m 58s      | 7.41766           | 2.72353               | 0.001       |"
      ]
     },
     "metadata": {},
     "output_type": "display_data"
    },
    {
     "data": {
      "text/html": [
       "<pre>| 1915    | 23m 2s       | 7.41712           | 2.72344               | 0.001       |</pre>"
      ],
      "text/plain": [
       "| 1915    | 23m 2s       | 7.41712           | 2.72344               | 0.001       |"
      ]
     },
     "metadata": {},
     "output_type": "display_data"
    },
    {
     "data": {
      "text/html": [
       "<pre>| 1920    | 23m 6s       | 7.4166            | 2.72334               | 0.001       |</pre>"
      ],
      "text/plain": [
       "| 1920    | 23m 6s       | 7.4166            | 2.72334               | 0.001       |"
      ]
     },
     "metadata": {},
     "output_type": "display_data"
    },
    {
     "data": {
      "text/html": [
       "<pre>| 1925    | 23m 9s       | 7.41606           | 2.72324               | 0.001       |</pre>"
      ],
      "text/plain": [
       "| 1925    | 23m 9s       | 7.41606           | 2.72324               | 0.001       |"
      ]
     },
     "metadata": {},
     "output_type": "display_data"
    },
    {
     "data": {
      "text/html": [
       "<pre>| 1930    | 23m 13s      | 7.41554           | 2.72314               | 0.001       |</pre>"
      ],
      "text/plain": [
       "| 1930    | 23m 13s      | 7.41554           | 2.72314               | 0.001       |"
      ]
     },
     "metadata": {},
     "output_type": "display_data"
    },
    {
     "data": {
      "text/html": [
       "<pre>| 1935    | 23m 17s      | 7.415             | 2.72305               | 0.001       |</pre>"
      ],
      "text/plain": [
       "| 1935    | 23m 17s      | 7.415             | 2.72305               | 0.001       |"
      ]
     },
     "metadata": {},
     "output_type": "display_data"
    },
    {
     "data": {
      "text/html": [
       "<pre>| 1940    | 23m 21s      | 7.41447           | 2.72295               | 0.001       |</pre>"
      ],
      "text/plain": [
       "| 1940    | 23m 21s      | 7.41447           | 2.72295               | 0.001       |"
      ]
     },
     "metadata": {},
     "output_type": "display_data"
    },
    {
     "data": {
      "text/html": [
       "<pre>| 1945    | 23m 24s      | 7.41395           | 2.72285               | 0.001       |</pre>"
      ],
      "text/plain": [
       "| 1945    | 23m 24s      | 7.41395           | 2.72285               | 0.001       |"
      ]
     },
     "metadata": {},
     "output_type": "display_data"
    },
    {
     "data": {
      "text/html": [
       "<pre>| 1950    | 23m 28s      | 7.41344           | 2.72276               | 0.001       |</pre>"
      ],
      "text/plain": [
       "| 1950    | 23m 28s      | 7.41344           | 2.72276               | 0.001       |"
      ]
     },
     "metadata": {},
     "output_type": "display_data"
    },
    {
     "data": {
      "text/html": [
       "<pre>| 1955    | 23m 31s      | 7.41292           | 2.72266               | 0.001       |</pre>"
      ],
      "text/plain": [
       "| 1955    | 23m 31s      | 7.41292           | 2.72266               | 0.001       |"
      ]
     },
     "metadata": {},
     "output_type": "display_data"
    },
    {
     "data": {
      "text/html": [
       "<pre>| 1960    | 23m 35s      | 7.41239           | 2.72257               | 0.001       |</pre>"
      ],
      "text/plain": [
       "| 1960    | 23m 35s      | 7.41239           | 2.72257               | 0.001       |"
      ]
     },
     "metadata": {},
     "output_type": "display_data"
    },
    {
     "data": {
      "text/html": [
       "<pre>| 1965    | 23m 38s      | 7.41188           | 2.72247               | 0.001       |</pre>"
      ],
      "text/plain": [
       "| 1965    | 23m 38s      | 7.41188           | 2.72247               | 0.001       |"
      ]
     },
     "metadata": {},
     "output_type": "display_data"
    },
    {
     "data": {
      "text/html": [
       "<pre>| 1970    | 23m 42s      | 7.41136           | 2.72238               | 0.001       |</pre>"
      ],
      "text/plain": [
       "| 1970    | 23m 42s      | 7.41136           | 2.72238               | 0.001       |"
      ]
     },
     "metadata": {},
     "output_type": "display_data"
    },
    {
     "data": {
      "text/html": [
       "<pre>| 1975    | 23m 45s      | 7.41084           | 2.72228               | 0.001       |</pre>"
      ],
      "text/plain": [
       "| 1975    | 23m 45s      | 7.41084           | 2.72228               | 0.001       |"
      ]
     },
     "metadata": {},
     "output_type": "display_data"
    },
    {
     "data": {
      "text/html": [
       "<pre>| 1980    | 23m 49s      | 7.41033           | 2.72219               | 0.001       |</pre>"
      ],
      "text/plain": [
       "| 1980    | 23m 49s      | 7.41033           | 2.72219               | 0.001       |"
      ]
     },
     "metadata": {},
     "output_type": "display_data"
    },
    {
     "data": {
      "text/html": [
       "<pre>| 1985    | 23m 52s      | 7.40982           | 2.72209               | 0.001       |</pre>"
      ],
      "text/plain": [
       "| 1985    | 23m 52s      | 7.40982           | 2.72209               | 0.001       |"
      ]
     },
     "metadata": {},
     "output_type": "display_data"
    },
    {
     "data": {
      "text/html": [
       "<pre>| 1990    | 23m 56s      | 7.4093            | 2.722                 | 0.001       |</pre>"
      ],
      "text/plain": [
       "| 1990    | 23m 56s      | 7.4093            | 2.722                 | 0.001       |"
      ]
     },
     "metadata": {},
     "output_type": "display_data"
    },
    {
     "data": {
      "text/html": [
       "<pre>| 1995    | 23m 59s      | 7.40879           | 2.72191               | 0.001       |</pre>"
      ],
      "text/plain": [
       "| 1995    | 23m 59s      | 7.40879           | 2.72191               | 0.001       |"
      ]
     },
     "metadata": {},
     "output_type": "display_data"
    },
    {
     "data": {
      "text/html": [
       "<pre>| 2000    | 24m 3s       | 7.40827           | 2.72181               | 0.001       |</pre>"
      ],
      "text/plain": [
       "| 2000    | 24m 3s       | 7.40827           | 2.72181               | 0.001       |"
      ]
     },
     "metadata": {},
     "output_type": "display_data"
    },
    {
     "data": {
      "text/html": [
       "<pre>+---------+--------------+-------------------+-----------------------+-------------+</pre>"
      ],
      "text/plain": [
       "+---------+--------------+-------------------+-----------------------+-------------+"
      ]
     },
     "metadata": {},
     "output_type": "display_data"
    },
    {
     "data": {
      "text/html": [
       "<pre>Optimization Complete: Maximum number of passes through the data reached.</pre>"
      ],
      "text/plain": [
       "Optimization Complete: Maximum number of passes through the data reached."
      ]
     },
     "metadata": {},
     "output_type": "display_data"
    },
    {
     "data": {
      "text/html": [
       "<pre>Computing final objective value and training RMSE.</pre>"
      ],
      "text/plain": [
       "Computing final objective value and training RMSE."
      ]
     },
     "metadata": {},
     "output_type": "display_data"
    },
    {
     "data": {
      "text/html": [
       "<pre>       Final objective value: 7.40815</pre>"
      ],
      "text/plain": [
       "       Final objective value: 7.40815"
      ]
     },
     "metadata": {},
     "output_type": "display_data"
    },
    {
     "data": {
      "text/html": [
       "<pre>       Final training RMSE: 2.72179</pre>"
      ],
      "text/plain": [
       "       Final training RMSE: 2.72179"
      ]
     },
     "metadata": {},
     "output_type": "display_data"
    }
   ],
   "source": [
    "m9 = gl.factorization_recommender.create(train, user_id='User_ID', item_id='Article_ID', \n",
    "                                         target='Rating', user_data = user, item_data = article,\n",
    "                                         nmf = True, max_iterations = 2000, random_seed = 27,\n",
    "                                         sgd_step_size = 0.001)"
   ]
  },
  {
   "cell_type": "code",
   "execution_count": 82,
   "metadata": {
    "collapsed": false
   },
   "outputs": [
    {
     "data": {
      "text/plain": [
       "(-9.531112790107727, 19.26811981201172)"
      ]
     },
     "execution_count": 82,
     "metadata": {},
     "output_type": "execute_result"
    }
   ],
   "source": [
    "scores9 = m9.predict(pairs_to_inspect3)\n",
    "min(scores9), max(scores9)"
   ]
  },
  {
   "cell_type": "code",
   "execution_count": 83,
   "metadata": {
    "collapsed": true
   },
   "outputs": [],
   "source": [
    "submit9_1 = pairs_to_inspect3.select_columns(['ID'])\n",
    "submit9_1['Rating'] = scores9\n",
    "min9 = min(scores9)\n",
    "width9 = max(scores9) - min(scores9)\n",
    "submit9_1['Rating'] = submit9_1['Rating'] - min9\n",
    "submit9_1['Rating'] = submit9_1['Rating'] * 6 / width9\n",
    "submit9_1.save('submit_gl_9_1.csv', format='csv')"
   ]
  },
  {
   "cell_type": "code",
   "execution_count": 78,
   "metadata": {
    "collapsed": false
   },
   "outputs": [
    {
     "data": {
      "text/html": [
       "<pre>Finished parsing file C:\\Users\\Badics Judit\\AnalyticsVidhya\\5_QuickSolver_20170430\\submit_gl_3_1.csv</pre>"
      ],
      "text/plain": [
       "Finished parsing file C:\\Users\\Badics Judit\\AnalyticsVidhya\\5_QuickSolver_20170430\\submit_gl_3_1.csv"
      ]
     },
     "metadata": {},
     "output_type": "display_data"
    },
    {
     "data": {
      "text/html": [
       "<pre>Parsing completed. Parsed 100 lines in 0.574032 secs.</pre>"
      ],
      "text/plain": [
       "Parsing completed. Parsed 100 lines in 0.574032 secs."
      ]
     },
     "metadata": {},
     "output_type": "display_data"
    },
    {
     "name": "stdout",
     "output_type": "stream",
     "text": [
      "------------------------------------------------------\n",
      "Inferred types from first 100 line(s) of file as \n",
      "column_type_hints=[str,float]\n",
      "If parsing fails due to incorrect types, you can correct\n",
      "the inferred type list above and pass it to read_csv in\n",
      "the column_type_hints argument\n",
      "------------------------------------------------------\n"
     ]
    },
    {
     "data": {
      "text/html": [
       "<pre>Finished parsing file C:\\Users\\Badics Judit\\AnalyticsVidhya\\5_QuickSolver_20170430\\submit_gl_3_1.csv</pre>"
      ],
      "text/plain": [
       "Finished parsing file C:\\Users\\Badics Judit\\AnalyticsVidhya\\5_QuickSolver_20170430\\submit_gl_3_1.csv"
      ]
     },
     "metadata": {},
     "output_type": "display_data"
    },
    {
     "data": {
      "text/html": [
       "<pre>Parsing completed. Parsed 290306 lines in 0.260015 secs.</pre>"
      ],
      "text/plain": [
       "Parsing completed. Parsed 290306 lines in 0.260015 secs."
      ]
     },
     "metadata": {},
     "output_type": "display_data"
    },
    {
     "data": {
      "text/html": [
       "<pre>Finished parsing file C:\\Users\\Badics Judit\\AnalyticsVidhya\\5_QuickSolver_20170430\\submit_gl_5_1.csv</pre>"
      ],
      "text/plain": [
       "Finished parsing file C:\\Users\\Badics Judit\\AnalyticsVidhya\\5_QuickSolver_20170430\\submit_gl_5_1.csv"
      ]
     },
     "metadata": {},
     "output_type": "display_data"
    },
    {
     "data": {
      "text/html": [
       "<pre>Parsing completed. Parsed 100 lines in 0.442026 secs.</pre>"
      ],
      "text/plain": [
       "Parsing completed. Parsed 100 lines in 0.442026 secs."
      ]
     },
     "metadata": {},
     "output_type": "display_data"
    },
    {
     "name": "stdout",
     "output_type": "stream",
     "text": [
      "------------------------------------------------------\n",
      "Inferred types from first 100 line(s) of file as \n",
      "column_type_hints=[str,float]\n",
      "If parsing fails due to incorrect types, you can correct\n",
      "the inferred type list above and pass it to read_csv in\n",
      "the column_type_hints argument\n",
      "------------------------------------------------------\n"
     ]
    },
    {
     "data": {
      "text/html": [
       "<pre>Finished parsing file C:\\Users\\Badics Judit\\AnalyticsVidhya\\5_QuickSolver_20170430\\submit_gl_5_1.csv</pre>"
      ],
      "text/plain": [
       "Finished parsing file C:\\Users\\Badics Judit\\AnalyticsVidhya\\5_QuickSolver_20170430\\submit_gl_5_1.csv"
      ]
     },
     "metadata": {},
     "output_type": "display_data"
    },
    {
     "data": {
      "text/html": [
       "<pre>Parsing completed. Parsed 290306 lines in 0.325018 secs.</pre>"
      ],
      "text/plain": [
       "Parsing completed. Parsed 290306 lines in 0.325018 secs."
      ]
     },
     "metadata": {},
     "output_type": "display_data"
    }
   ],
   "source": [
    "pred3_1 = gl.SFrame.read_csv('submit_gl_3_1.csv')\n",
    "pred5_1 = gl.SFrame.read_csv('submit_gl_5_1.csv')\n",
    "pred_31_51 = pred3_1\n",
    "pred_31_51['Rating'] = (pred3_1['Rating'] + pred5_1['Rating']) / 2\n",
    "pred_31_51.save('submit_gl_aver_31_51.csv', format='csv')"
   ]
  },
  {
   "cell_type": "code",
   "execution_count": 79,
   "metadata": {
    "collapsed": false
   },
   "outputs": [
    {
     "data": {
      "text/html": [
       "<pre>Recsys training: model = factorization_recommender</pre>"
      ],
      "text/plain": [
       "Recsys training: model = factorization_recommender"
      ]
     },
     "metadata": {},
     "output_type": "display_data"
    },
    {
     "data": {
      "text/html": [
       "<pre>Preparing data set.</pre>"
      ],
      "text/plain": [
       "Preparing data set."
      ]
     },
     "metadata": {},
     "output_type": "display_data"
    },
    {
     "data": {
      "text/html": [
       "<pre>    Data has 679051 observations with 89502 users and 214027 items.</pre>"
      ],
      "text/plain": [
       "    Data has 679051 observations with 89502 users and 214027 items."
      ]
     },
     "metadata": {},
     "output_type": "display_data"
    },
    {
     "data": {
      "text/html": [
       "<pre>    Data prepared in: 2.82716s</pre>"
      ],
      "text/plain": [
       "    Data prepared in: 2.82716s"
      ]
     },
     "metadata": {},
     "output_type": "display_data"
    },
    {
     "data": {
      "text/html": [
       "<pre>Training factorization_recommender for recommendations.</pre>"
      ],
      "text/plain": [
       "Training factorization_recommender for recommendations."
      ]
     },
     "metadata": {},
     "output_type": "display_data"
    },
    {
     "data": {
      "text/html": [
       "<pre>+--------------------------------+--------------------------------------------------+----------+</pre>"
      ],
      "text/plain": [
       "+--------------------------------+--------------------------------------------------+----------+"
      ]
     },
     "metadata": {},
     "output_type": "display_data"
    },
    {
     "data": {
      "text/html": [
       "<pre>| Parameter                      | Description                                      | Value    |</pre>"
      ],
      "text/plain": [
       "| Parameter                      | Description                                      | Value    |"
      ]
     },
     "metadata": {},
     "output_type": "display_data"
    },
    {
     "data": {
      "text/html": [
       "<pre>+--------------------------------+--------------------------------------------------+----------+</pre>"
      ],
      "text/plain": [
       "+--------------------------------+--------------------------------------------------+----------+"
      ]
     },
     "metadata": {},
     "output_type": "display_data"
    },
    {
     "data": {
      "text/html": [
       "<pre>| num_factors                    | Factor Dimension                                 | 8        |</pre>"
      ],
      "text/plain": [
       "| num_factors                    | Factor Dimension                                 | 8        |"
      ]
     },
     "metadata": {},
     "output_type": "display_data"
    },
    {
     "data": {
      "text/html": [
       "<pre>| regularization                 | L2 Regularization on Factors                     | 1e-008   |</pre>"
      ],
      "text/plain": [
       "| regularization                 | L2 Regularization on Factors                     | 1e-008   |"
      ]
     },
     "metadata": {},
     "output_type": "display_data"
    },
    {
     "data": {
      "text/html": [
       "<pre>| solver                         | Solver used for training                         | adagrad  |</pre>"
      ],
      "text/plain": [
       "| solver                         | Solver used for training                         | adagrad  |"
      ]
     },
     "metadata": {},
     "output_type": "display_data"
    },
    {
     "data": {
      "text/html": [
       "<pre>| linear_regularization          | L2 Regularization on Linear Coefficients         | 1e-010   |</pre>"
      ],
      "text/plain": [
       "| linear_regularization          | L2 Regularization on Linear Coefficients         | 1e-010   |"
      ]
     },
     "metadata": {},
     "output_type": "display_data"
    },
    {
     "data": {
      "text/html": [
       "<pre>| nmf                            | Use Non-Negative Factors                         | True     |</pre>"
      ],
      "text/plain": [
       "| nmf                            | Use Non-Negative Factors                         | True     |"
      ]
     },
     "metadata": {},
     "output_type": "display_data"
    },
    {
     "data": {
      "text/html": [
       "<pre>| side_data_factorization        | Assign Factors for Side Data                     | True     |</pre>"
      ],
      "text/plain": [
       "| side_data_factorization        | Assign Factors for Side Data                     | True     |"
      ]
     },
     "metadata": {},
     "output_type": "display_data"
    },
    {
     "data": {
      "text/html": [
       "<pre>| max_iterations                 | Maximum Number of Iterations                     | 50       |</pre>"
      ],
      "text/plain": [
       "| max_iterations                 | Maximum Number of Iterations                     | 50       |"
      ]
     },
     "metadata": {},
     "output_type": "display_data"
    },
    {
     "data": {
      "text/html": [
       "<pre>+--------------------------------+--------------------------------------------------+----------+</pre>"
      ],
      "text/plain": [
       "+--------------------------------+--------------------------------------------------+----------+"
      ]
     },
     "metadata": {},
     "output_type": "display_data"
    },
    {
     "data": {
      "text/html": [
       "<pre>  Optimizing model using SGD; tuning step size.</pre>"
      ],
      "text/plain": [
       "  Optimizing model using SGD; tuning step size."
      ]
     },
     "metadata": {},
     "output_type": "display_data"
    },
    {
     "data": {
      "text/html": [
       "<pre>  Using 84881 / 679051 points for tuning the step size.</pre>"
      ],
      "text/plain": [
       "  Using 84881 / 679051 points for tuning the step size."
      ]
     },
     "metadata": {},
     "output_type": "display_data"
    },
    {
     "data": {
      "text/html": [
       "<pre>+---------+-------------------+------------------------------------------+</pre>"
      ],
      "text/plain": [
       "+---------+-------------------+------------------------------------------+"
      ]
     },
     "metadata": {},
     "output_type": "display_data"
    },
    {
     "data": {
      "text/html": [
       "<pre>| Attempt | Initial Step Size | Estimated Objective Value                |</pre>"
      ],
      "text/plain": [
       "| Attempt | Initial Step Size | Estimated Objective Value                |"
      ]
     },
     "metadata": {},
     "output_type": "display_data"
    },
    {
     "data": {
      "text/html": [
       "<pre>+---------+-------------------+------------------------------------------+</pre>"
      ],
      "text/plain": [
       "+---------+-------------------+------------------------------------------+"
      ]
     },
     "metadata": {},
     "output_type": "display_data"
    },
    {
     "data": {
      "text/html": [
       "<pre>| 0       | 10                | Not Viable                               |</pre>"
      ],
      "text/plain": [
       "| 0       | 10                | Not Viable                               |"
      ]
     },
     "metadata": {},
     "output_type": "display_data"
    },
    {
     "data": {
      "text/html": [
       "<pre>| 1       | 2.5               | Not Viable                               |</pre>"
      ],
      "text/plain": [
       "| 1       | 2.5               | Not Viable                               |"
      ]
     },
     "metadata": {},
     "output_type": "display_data"
    },
    {
     "data": {
      "text/html": [
       "<pre>| 2       | 0.625             | 0.373052                                 |</pre>"
      ],
      "text/plain": [
       "| 2       | 0.625             | 0.373052                                 |"
      ]
     },
     "metadata": {},
     "output_type": "display_data"
    },
    {
     "data": {
      "text/html": [
       "<pre>| 3       | 0.3125            | 0.194436                                 |</pre>"
      ],
      "text/plain": [
       "| 3       | 0.3125            | 0.194436                                 |"
      ]
     },
     "metadata": {},
     "output_type": "display_data"
    },
    {
     "data": {
      "text/html": [
       "<pre>| 4       | 0.15625           | 0.16878                                  |</pre>"
      ],
      "text/plain": [
       "| 4       | 0.15625           | 0.16878                                  |"
      ]
     },
     "metadata": {},
     "output_type": "display_data"
    },
    {
     "data": {
      "text/html": [
       "<pre>| 5       | 0.078125          | 0.288264                                 |</pre>"
      ],
      "text/plain": [
       "| 5       | 0.078125          | 0.288264                                 |"
      ]
     },
     "metadata": {},
     "output_type": "display_data"
    },
    {
     "data": {
      "text/html": [
       "<pre>| 6       | 0.0390625         | 1.28466                                  |</pre>"
      ],
      "text/plain": [
       "| 6       | 0.0390625         | 1.28466                                  |"
      ]
     },
     "metadata": {},
     "output_type": "display_data"
    },
    {
     "data": {
      "text/html": [
       "<pre>+---------+-------------------+------------------------------------------+</pre>"
      ],
      "text/plain": [
       "+---------+-------------------+------------------------------------------+"
      ]
     },
     "metadata": {},
     "output_type": "display_data"
    },
    {
     "data": {
      "text/html": [
       "<pre>| Final   | 0.15625           | 0.16878                                  |</pre>"
      ],
      "text/plain": [
       "| Final   | 0.15625           | 0.16878                                  |"
      ]
     },
     "metadata": {},
     "output_type": "display_data"
    },
    {
     "data": {
      "text/html": [
       "<pre>+---------+-------------------+------------------------------------------+</pre>"
      ],
      "text/plain": [
       "+---------+-------------------+------------------------------------------+"
      ]
     },
     "metadata": {},
     "output_type": "display_data"
    },
    {
     "data": {
      "text/html": [
       "<pre>Starting Optimization.</pre>"
      ],
      "text/plain": [
       "Starting Optimization."
      ]
     },
     "metadata": {},
     "output_type": "display_data"
    },
    {
     "data": {
      "text/html": [
       "<pre>+---------+--------------+-------------------+-----------------------+-------------+</pre>"
      ],
      "text/plain": [
       "+---------+--------------+-------------------+-----------------------+-------------+"
      ]
     },
     "metadata": {},
     "output_type": "display_data"
    },
    {
     "data": {
      "text/html": [
       "<pre>| Iter.   | Elapsed Time | Approx. Objective | Approx. Training RMSE | Step Size   |</pre>"
      ],
      "text/plain": [
       "| Iter.   | Elapsed Time | Approx. Objective | Approx. Training RMSE | Step Size   |"
      ]
     },
     "metadata": {},
     "output_type": "display_data"
    },
    {
     "data": {
      "text/html": [
       "<pre>+---------+--------------+-------------------+-----------------------+-------------+</pre>"
      ],
      "text/plain": [
       "+---------+--------------+-------------------+-----------------------+-------------+"
      ]
     },
     "metadata": {},
     "output_type": "display_data"
    },
    {
     "data": {
      "text/html": [
       "<pre>| Initial | 0us          | 9.8062            | 3.13149               |             |</pre>"
      ],
      "text/plain": [
       "| Initial | 0us          | 9.8062            | 3.13149               |             |"
      ]
     },
     "metadata": {},
     "output_type": "display_data"
    },
    {
     "data": {
      "text/html": [
       "<pre>+---------+--------------+-------------------+-----------------------+-------------+</pre>"
      ],
      "text/plain": [
       "+---------+--------------+-------------------+-----------------------+-------------+"
      ]
     },
     "metadata": {},
     "output_type": "display_data"
    },
    {
     "data": {
      "text/html": [
       "<pre>| 1       | 566.032ms    | 3.76144           | 1.93925               | 0.15625     |</pre>"
      ],
      "text/plain": [
       "| 1       | 566.032ms    | 3.76144           | 1.93925               | 0.15625     |"
      ]
     },
     "metadata": {},
     "output_type": "display_data"
    },
    {
     "data": {
      "text/html": [
       "<pre>| 2       | 959.054ms    | 1.67044           | 1.292                 | 0.15625     |</pre>"
      ],
      "text/plain": [
       "| 2       | 959.054ms    | 1.67044           | 1.292                 | 0.15625     |"
      ]
     },
     "metadata": {},
     "output_type": "display_data"
    },
    {
     "data": {
      "text/html": [
       "<pre>| 3       | 1.33s        | 0.765833          | 0.874296              | 0.15625     |</pre>"
      ],
      "text/plain": [
       "| 3       | 1.33s        | 0.765833          | 0.874296              | 0.15625     |"
      ]
     },
     "metadata": {},
     "output_type": "display_data"
    },
    {
     "data": {
      "text/html": [
       "<pre>| 4       | 1.72s        | 0.39358           | 0.626106              | 0.15625     |</pre>"
      ],
      "text/plain": [
       "| 4       | 1.72s        | 0.39358           | 0.626106              | 0.15625     |"
      ]
     },
     "metadata": {},
     "output_type": "display_data"
    },
    {
     "data": {
      "text/html": [
       "<pre>| 5       | 2.09s        | 0.234342          | 0.482377              | 0.15625     |</pre>"
      ],
      "text/plain": [
       "| 5       | 2.09s        | 0.234342          | 0.482377              | 0.15625     |"
      ]
     },
     "metadata": {},
     "output_type": "display_data"
    },
    {
     "data": {
      "text/html": [
       "<pre>| 6       | 2.48s        | 0.146046          | 0.379915              | 0.15625     |</pre>"
      ],
      "text/plain": [
       "| 6       | 2.48s        | 0.146046          | 0.379915              | 0.15625     |"
      ]
     },
     "metadata": {},
     "output_type": "display_data"
    },
    {
     "data": {
      "text/html": [
       "<pre>| 10      | 4.14s        | 0.0361011         | 0.185177              | 0.15625     |</pre>"
      ],
      "text/plain": [
       "| 10      | 4.14s        | 0.0361011         | 0.185177              | 0.15625     |"
      ]
     },
     "metadata": {},
     "output_type": "display_data"
    },
    {
     "data": {
      "text/html": [
       "<pre>| 11      | 4.54s        | 0.0275506         | 0.160399              | 0.15625     |</pre>"
      ],
      "text/plain": [
       "| 11      | 4.54s        | 0.0275506         | 0.160399              | 0.15625     |"
      ]
     },
     "metadata": {},
     "output_type": "display_data"
    },
    {
     "data": {
      "text/html": [
       "<pre>| 15      | 6.08s        | 0.0123808         | 0.102622              | 0.15625     |</pre>"
      ],
      "text/plain": [
       "| 15      | 6.08s        | 0.0123808         | 0.102622              | 0.15625     |"
      ]
     },
     "metadata": {},
     "output_type": "display_data"
    },
    {
     "data": {
      "text/html": [
       "<pre>| 20      | 8.02s        | 0.00722127        | 0.0731904             | 0.15625     |</pre>"
      ],
      "text/plain": [
       "| 20      | 8.02s        | 0.00722127        | 0.0731904             | 0.15625     |"
      ]
     },
     "metadata": {},
     "output_type": "display_data"
    },
    {
     "data": {
      "text/html": [
       "<pre>| 25      | 9.98s        | 0.00615756        | 0.0654592             | 0.15625     |</pre>"
      ],
      "text/plain": [
       "| 25      | 9.98s        | 0.00615756        | 0.0654592             | 0.15625     |"
      ]
     },
     "metadata": {},
     "output_type": "display_data"
    },
    {
     "data": {
      "text/html": [
       "<pre>| 30      | 11.99s       | 0.00622334        | 0.0659061             | 0.15625     |</pre>"
      ],
      "text/plain": [
       "| 30      | 11.99s       | 0.00622334        | 0.0659061             | 0.15625     |"
      ]
     },
     "metadata": {},
     "output_type": "display_data"
    },
    {
     "data": {
      "text/html": [
       "<pre>| 35      | 14.12s       | 0.00626349        | 0.0661616             | 0.15625     |</pre>"
      ],
      "text/plain": [
       "| 35      | 14.12s       | 0.00626349        | 0.0661616             | 0.15625     |"
      ]
     },
     "metadata": {},
     "output_type": "display_data"
    },
    {
     "data": {
      "text/html": [
       "<pre>| 40      | 16.56s       | 0.00643499        | 0.0673952             | 0.15625     |</pre>"
      ],
      "text/plain": [
       "| 40      | 16.56s       | 0.00643499        | 0.0673952             | 0.15625     |"
      ]
     },
     "metadata": {},
     "output_type": "display_data"
    },
    {
     "data": {
      "text/html": [
       "<pre>| 45      | 18.67s       | 0.00645801        | 0.0675128             | 0.15625     |</pre>"
      ],
      "text/plain": [
       "| 45      | 18.67s       | 0.00645801        | 0.0675128             | 0.15625     |"
      ]
     },
     "metadata": {},
     "output_type": "display_data"
    },
    {
     "data": {
      "text/html": [
       "<pre>| 50      | 20.94s       | 0.00633396        | 0.0665366             | 0.15625     |</pre>"
      ],
      "text/plain": [
       "| 50      | 20.94s       | 0.00633396        | 0.0665366             | 0.15625     |"
      ]
     },
     "metadata": {},
     "output_type": "display_data"
    },
    {
     "data": {
      "text/html": [
       "<pre>+---------+--------------+-------------------+-----------------------+-------------+</pre>"
      ],
      "text/plain": [
       "+---------+--------------+-------------------+-----------------------+-------------+"
      ]
     },
     "metadata": {},
     "output_type": "display_data"
    },
    {
     "data": {
      "text/html": [
       "<pre>Optimization Complete: Maximum number of passes through the data reached.</pre>"
      ],
      "text/plain": [
       "Optimization Complete: Maximum number of passes through the data reached."
      ]
     },
     "metadata": {},
     "output_type": "display_data"
    },
    {
     "data": {
      "text/html": [
       "<pre>Computing final objective value and training RMSE.</pre>"
      ],
      "text/plain": [
       "Computing final objective value and training RMSE."
      ]
     },
     "metadata": {},
     "output_type": "display_data"
    },
    {
     "data": {
      "text/html": [
       "<pre>       Final objective value: 0.00641319</pre>"
      ],
      "text/plain": [
       "       Final objective value: 0.00641319"
      ]
     },
     "metadata": {},
     "output_type": "display_data"
    },
    {
     "data": {
      "text/html": [
       "<pre>       Final training RMSE: 0.0671294</pre>"
      ],
      "text/plain": [
       "       Final training RMSE: 0.0671294"
      ]
     },
     "metadata": {},
     "output_type": "display_data"
    }
   ],
   "source": [
    "m10 = gl.factorization_recommender.create(train, user_id='User_ID', item_id='Article_ID', \n",
    "                                         target='Rating', user_data = user,\n",
    "                                         nmf = True)"
   ]
  },
  {
   "cell_type": "code",
   "execution_count": 80,
   "metadata": {
    "collapsed": false
   },
   "outputs": [
    {
     "data": {
      "text/plain": [
       "(0.009423971176147461, 11.518002212047577)"
      ]
     },
     "execution_count": 80,
     "metadata": {},
     "output_type": "execute_result"
    }
   ],
   "source": [
    "scores10 = m10.predict(pairs_to_inspect3)\n",
    "min(scores10), max(scores10)"
   ]
  },
  {
   "cell_type": "code",
   "execution_count": 81,
   "metadata": {
    "collapsed": true
   },
   "outputs": [],
   "source": [
    "submit10_1 = pairs_to_inspect3.select_columns(['ID'])\n",
    "submit10_1['Rating'] = scores10\n",
    "min10 = min(scores10)\n",
    "width10 = max(scores10) - min(scores10)\n",
    "submit10_1['Rating'] = submit10_1['Rating'] - min10\n",
    "submit10_1['Rating'] = submit10_1['Rating'] * 6 / width10\n",
    "submit10_1.save('submit_gl_10_1.csv', format='csv')"
   ]
  },
  {
   "cell_type": "code",
   "execution_count": 84,
   "metadata": {
    "collapsed": false
   },
   "outputs": [
    {
     "data": {
      "text/html": [
       "<pre>Finished parsing file C:\\Users\\Badics Judit\\AnalyticsVidhya\\5_QuickSolver_20170430\\submit_gl_3_1.csv</pre>"
      ],
      "text/plain": [
       "Finished parsing file C:\\Users\\Badics Judit\\AnalyticsVidhya\\5_QuickSolver_20170430\\submit_gl_3_1.csv"
      ]
     },
     "metadata": {},
     "output_type": "display_data"
    },
    {
     "data": {
      "text/html": [
       "<pre>Parsing completed. Parsed 100 lines in 0.299017 secs.</pre>"
      ],
      "text/plain": [
       "Parsing completed. Parsed 100 lines in 0.299017 secs."
      ]
     },
     "metadata": {},
     "output_type": "display_data"
    },
    {
     "name": "stdout",
     "output_type": "stream",
     "text": [
      "------------------------------------------------------\n",
      "Inferred types from first 100 line(s) of file as \n",
      "column_type_hints=[str,float]\n",
      "If parsing fails due to incorrect types, you can correct\n",
      "the inferred type list above and pass it to read_csv in\n",
      "the column_type_hints argument\n",
      "------------------------------------------------------\n"
     ]
    },
    {
     "data": {
      "text/html": [
       "<pre>Finished parsing file C:\\Users\\Badics Judit\\AnalyticsVidhya\\5_QuickSolver_20170430\\submit_gl_3_1.csv</pre>"
      ],
      "text/plain": [
       "Finished parsing file C:\\Users\\Badics Judit\\AnalyticsVidhya\\5_QuickSolver_20170430\\submit_gl_3_1.csv"
      ]
     },
     "metadata": {},
     "output_type": "display_data"
    },
    {
     "data": {
      "text/html": [
       "<pre>Parsing completed. Parsed 290306 lines in 0.187011 secs.</pre>"
      ],
      "text/plain": [
       "Parsing completed. Parsed 290306 lines in 0.187011 secs."
      ]
     },
     "metadata": {},
     "output_type": "display_data"
    },
    {
     "data": {
      "text/html": [
       "<pre>Finished parsing file C:\\Users\\Badics Judit\\AnalyticsVidhya\\5_QuickSolver_20170430\\submit_gl_5_1.csv</pre>"
      ],
      "text/plain": [
       "Finished parsing file C:\\Users\\Badics Judit\\AnalyticsVidhya\\5_QuickSolver_20170430\\submit_gl_5_1.csv"
      ]
     },
     "metadata": {},
     "output_type": "display_data"
    },
    {
     "data": {
      "text/html": [
       "<pre>Parsing completed. Parsed 100 lines in 0.261015 secs.</pre>"
      ],
      "text/plain": [
       "Parsing completed. Parsed 100 lines in 0.261015 secs."
      ]
     },
     "metadata": {},
     "output_type": "display_data"
    },
    {
     "name": "stdout",
     "output_type": "stream",
     "text": [
      "------------------------------------------------------\n",
      "Inferred types from first 100 line(s) of file as \n",
      "column_type_hints=[str,float]\n",
      "If parsing fails due to incorrect types, you can correct\n",
      "the inferred type list above and pass it to read_csv in\n",
      "the column_type_hints argument\n",
      "------------------------------------------------------\n"
     ]
    },
    {
     "data": {
      "text/html": [
       "<pre>Finished parsing file C:\\Users\\Badics Judit\\AnalyticsVidhya\\5_QuickSolver_20170430\\submit_gl_5_1.csv</pre>"
      ],
      "text/plain": [
       "Finished parsing file C:\\Users\\Badics Judit\\AnalyticsVidhya\\5_QuickSolver_20170430\\submit_gl_5_1.csv"
      ]
     },
     "metadata": {},
     "output_type": "display_data"
    },
    {
     "data": {
      "text/html": [
       "<pre>Parsing completed. Parsed 290306 lines in 0.193011 secs.</pre>"
      ],
      "text/plain": [
       "Parsing completed. Parsed 290306 lines in 0.193011 secs."
      ]
     },
     "metadata": {},
     "output_type": "display_data"
    },
    {
     "data": {
      "text/html": [
       "<pre>Finished parsing file C:\\Users\\Badics Judit\\AnalyticsVidhya\\5_QuickSolver_20170430\\submit_gl_9_1.csv</pre>"
      ],
      "text/plain": [
       "Finished parsing file C:\\Users\\Badics Judit\\AnalyticsVidhya\\5_QuickSolver_20170430\\submit_gl_9_1.csv"
      ]
     },
     "metadata": {},
     "output_type": "display_data"
    },
    {
     "data": {
      "text/html": [
       "<pre>Parsing completed. Parsed 100 lines in 0.238013 secs.</pre>"
      ],
      "text/plain": [
       "Parsing completed. Parsed 100 lines in 0.238013 secs."
      ]
     },
     "metadata": {},
     "output_type": "display_data"
    },
    {
     "name": "stdout",
     "output_type": "stream",
     "text": [
      "------------------------------------------------------\n",
      "Inferred types from first 100 line(s) of file as \n",
      "column_type_hints=[str,float]\n",
      "If parsing fails due to incorrect types, you can correct\n",
      "the inferred type list above and pass it to read_csv in\n",
      "the column_type_hints argument\n",
      "------------------------------------------------------\n"
     ]
    },
    {
     "data": {
      "text/html": [
       "<pre>Finished parsing file C:\\Users\\Badics Judit\\AnalyticsVidhya\\5_QuickSolver_20170430\\submit_gl_9_1.csv</pre>"
      ],
      "text/plain": [
       "Finished parsing file C:\\Users\\Badics Judit\\AnalyticsVidhya\\5_QuickSolver_20170430\\submit_gl_9_1.csv"
      ]
     },
     "metadata": {},
     "output_type": "display_data"
    },
    {
     "data": {
      "text/html": [
       "<pre>Parsing completed. Parsed 290306 lines in 0.191011 secs.</pre>"
      ],
      "text/plain": [
       "Parsing completed. Parsed 290306 lines in 0.191011 secs."
      ]
     },
     "metadata": {},
     "output_type": "display_data"
    }
   ],
   "source": [
    "pred3_1 = gl.SFrame.read_csv('submit_gl_3_1.csv')\n",
    "pred5_1 = gl.SFrame.read_csv('submit_gl_5_1.csv')\n",
    "pred9_1 = gl.SFrame.read_csv('submit_gl_9_1.csv')\n",
    "pred_aver = pred3_1\n",
    "pred_aver['Rating'] = (pred3_1['Rating'] + pred5_1['Rating'] + pred9_1['Rating']) / 3\n",
    "pred_aver.save('submit_gl_aver_of_3.csv', format='csv')"
   ]
  },
  {
   "cell_type": "code",
   "execution_count": null,
   "metadata": {
    "collapsed": true
   },
   "outputs": [],
   "source": [
    "## Private score: 2.133120"
   ]
  }
 ],
 "metadata": {
  "kernelspec": {
   "display_name": "Python 3",
   "language": "python",
   "name": "python3"
  },
  "language_info": {
   "codemirror_mode": {
    "name": "ipython",
    "version": 3
   },
   "file_extension": ".py",
   "mimetype": "text/x-python",
   "name": "python",
   "nbconvert_exporter": "python",
   "pygments_lexer": "ipython3",
   "version": "3.6.0"
  }
 },
 "nbformat": 4,
 "nbformat_minor": 2
}
