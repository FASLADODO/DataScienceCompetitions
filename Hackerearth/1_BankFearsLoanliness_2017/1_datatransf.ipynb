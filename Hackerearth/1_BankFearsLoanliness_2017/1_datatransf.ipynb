{
 "cells": [
  {
   "cell_type": "markdown",
   "metadata": {},
   "source": [
    " # Hackerearth - Machine Learning Competition\n",
    " ### March, 2017\n",
    " \n",
    " # Data preprocessing"
   ]
  },
  {
   "cell_type": "code",
   "execution_count": 1,
   "metadata": {
    "collapsed": true
   },
   "outputs": [],
   "source": [
    "ID = 'member_id'\n",
    "TARGET = 'loan_status'\n",
    "DIRECTORY = 'C:/Users/Public/Hackerearth/1_MachineLearningChallenge_2017march/'\n",
    "TRAIN_FILE = DIRECTORY + 'train_indessa.csv'\n",
    "TEST_FILE = DIRECTORY +'test_indessa.csv'\n",
    "\n",
    "# The provided training data will be splitted into these files (for training and local test):\n",
    "TRAIN_ONEHOT = DIRECTORY + 'train_onehot.csv'\n",
    "VALID_ONEHOT = DIRECTORY + 'valid_onehot.csv'\n",
    "\n",
    "# The predictions will be made for this dataset:\n",
    "TEST_ONEHOT = DIRECTORY + 'test_onehot.csv'"
   ]
  },
  {
   "cell_type": "code",
   "execution_count": 2,
   "metadata": {
    "collapsed": false
   },
   "outputs": [],
   "source": [
    "import pandas as pd\n",
    "import numpy as np\n",
    "import matplotlib.pyplot as plt\n",
    "%matplotlib inline\n",
    "import operator"
   ]
  },
  {
   "cell_type": "markdown",
   "metadata": {},
   "source": [
    "### Load data"
   ]
  },
  {
   "cell_type": "code",
   "execution_count": 3,
   "metadata": {
    "collapsed": false
   },
   "outputs": [],
   "source": [
    "train = pd.read_csv(TRAIN_FILE)\n",
    "test = pd.read_csv(TEST_FILE)"
   ]
  },
  {
   "cell_type": "code",
   "execution_count": 4,
   "metadata": {
    "collapsed": false
   },
   "outputs": [
    {
     "data": {
      "text/html": [
       "<div>\n",
       "<table border=\"1\" class=\"dataframe\">\n",
       "  <thead>\n",
       "    <tr style=\"text-align: right;\">\n",
       "      <th></th>\n",
       "      <th>member_id</th>\n",
       "      <th>loan_amnt</th>\n",
       "      <th>funded_amnt</th>\n",
       "      <th>funded_amnt_inv</th>\n",
       "      <th>term</th>\n",
       "      <th>batch_enrolled</th>\n",
       "      <th>int_rate</th>\n",
       "      <th>grade</th>\n",
       "      <th>sub_grade</th>\n",
       "      <th>emp_title</th>\n",
       "      <th>...</th>\n",
       "      <th>collections_12_mths_ex_med</th>\n",
       "      <th>mths_since_last_major_derog</th>\n",
       "      <th>application_type</th>\n",
       "      <th>verification_status_joint</th>\n",
       "      <th>last_week_pay</th>\n",
       "      <th>acc_now_delinq</th>\n",
       "      <th>tot_coll_amt</th>\n",
       "      <th>tot_cur_bal</th>\n",
       "      <th>total_rev_hi_lim</th>\n",
       "      <th>loan_status</th>\n",
       "    </tr>\n",
       "  </thead>\n",
       "  <tbody>\n",
       "    <tr>\n",
       "      <th>0</th>\n",
       "      <td>58189336</td>\n",
       "      <td>14350</td>\n",
       "      <td>14350</td>\n",
       "      <td>14350.0</td>\n",
       "      <td>36 months</td>\n",
       "      <td></td>\n",
       "      <td>19.19</td>\n",
       "      <td>E</td>\n",
       "      <td>E3</td>\n",
       "      <td>clerk</td>\n",
       "      <td>...</td>\n",
       "      <td>0.0</td>\n",
       "      <td>74.0</td>\n",
       "      <td>INDIVIDUAL</td>\n",
       "      <td>NaN</td>\n",
       "      <td>26th week</td>\n",
       "      <td>0.0</td>\n",
       "      <td>0.0</td>\n",
       "      <td>28699.0</td>\n",
       "      <td>30800.0</td>\n",
       "      <td>0</td>\n",
       "    </tr>\n",
       "    <tr>\n",
       "      <th>1</th>\n",
       "      <td>70011223</td>\n",
       "      <td>4800</td>\n",
       "      <td>4800</td>\n",
       "      <td>4800.0</td>\n",
       "      <td>36 months</td>\n",
       "      <td>BAT1586599</td>\n",
       "      <td>10.99</td>\n",
       "      <td>B</td>\n",
       "      <td>B4</td>\n",
       "      <td>Human Resources Specialist</td>\n",
       "      <td>...</td>\n",
       "      <td>0.0</td>\n",
       "      <td>NaN</td>\n",
       "      <td>INDIVIDUAL</td>\n",
       "      <td>NaN</td>\n",
       "      <td>9th week</td>\n",
       "      <td>0.0</td>\n",
       "      <td>0.0</td>\n",
       "      <td>9974.0</td>\n",
       "      <td>32900.0</td>\n",
       "      <td>0</td>\n",
       "    </tr>\n",
       "    <tr>\n",
       "      <th>2</th>\n",
       "      <td>70255675</td>\n",
       "      <td>10000</td>\n",
       "      <td>10000</td>\n",
       "      <td>10000.0</td>\n",
       "      <td>36 months</td>\n",
       "      <td>BAT1586599</td>\n",
       "      <td>7.26</td>\n",
       "      <td>A</td>\n",
       "      <td>A4</td>\n",
       "      <td>Driver</td>\n",
       "      <td>...</td>\n",
       "      <td>0.0</td>\n",
       "      <td>NaN</td>\n",
       "      <td>INDIVIDUAL</td>\n",
       "      <td>NaN</td>\n",
       "      <td>9th week</td>\n",
       "      <td>0.0</td>\n",
       "      <td>65.0</td>\n",
       "      <td>38295.0</td>\n",
       "      <td>34900.0</td>\n",
       "      <td>0</td>\n",
       "    </tr>\n",
       "    <tr>\n",
       "      <th>3</th>\n",
       "      <td>1893936</td>\n",
       "      <td>15000</td>\n",
       "      <td>15000</td>\n",
       "      <td>15000.0</td>\n",
       "      <td>36 months</td>\n",
       "      <td>BAT4808022</td>\n",
       "      <td>19.72</td>\n",
       "      <td>D</td>\n",
       "      <td>D5</td>\n",
       "      <td>Us office of Personnel Management</td>\n",
       "      <td>...</td>\n",
       "      <td>0.0</td>\n",
       "      <td>NaN</td>\n",
       "      <td>INDIVIDUAL</td>\n",
       "      <td>NaN</td>\n",
       "      <td>135th week</td>\n",
       "      <td>0.0</td>\n",
       "      <td>0.0</td>\n",
       "      <td>55564.0</td>\n",
       "      <td>24700.0</td>\n",
       "      <td>0</td>\n",
       "    </tr>\n",
       "    <tr>\n",
       "      <th>4</th>\n",
       "      <td>7652106</td>\n",
       "      <td>16000</td>\n",
       "      <td>16000</td>\n",
       "      <td>16000.0</td>\n",
       "      <td>36 months</td>\n",
       "      <td>BAT2833642</td>\n",
       "      <td>10.64</td>\n",
       "      <td>B</td>\n",
       "      <td>B2</td>\n",
       "      <td>LAUSD-HOLLYWOOD HIGH SCHOOL</td>\n",
       "      <td>...</td>\n",
       "      <td>0.0</td>\n",
       "      <td>NaN</td>\n",
       "      <td>INDIVIDUAL</td>\n",
       "      <td>NaN</td>\n",
       "      <td>96th week</td>\n",
       "      <td>0.0</td>\n",
       "      <td>0.0</td>\n",
       "      <td>47159.0</td>\n",
       "      <td>47033.0</td>\n",
       "      <td>0</td>\n",
       "    </tr>\n",
       "  </tbody>\n",
       "</table>\n",
       "<p>5 rows × 45 columns</p>\n",
       "</div>"
      ],
      "text/plain": [
       "   member_id  loan_amnt  funded_amnt  funded_amnt_inv       term  \\\n",
       "0   58189336      14350        14350          14350.0  36 months   \n",
       "1   70011223       4800         4800           4800.0  36 months   \n",
       "2   70255675      10000        10000          10000.0  36 months   \n",
       "3    1893936      15000        15000          15000.0  36 months   \n",
       "4    7652106      16000        16000          16000.0  36 months   \n",
       "\n",
       "  batch_enrolled  int_rate grade sub_grade                          emp_title  \\\n",
       "0                    19.19     E        E3                              clerk   \n",
       "1     BAT1586599     10.99     B        B4         Human Resources Specialist   \n",
       "2     BAT1586599      7.26     A        A4                             Driver   \n",
       "3     BAT4808022     19.72     D        D5  Us office of Personnel Management   \n",
       "4     BAT2833642     10.64     B        B2        LAUSD-HOLLYWOOD HIGH SCHOOL   \n",
       "\n",
       "      ...     collections_12_mths_ex_med mths_since_last_major_derog  \\\n",
       "0     ...                            0.0                        74.0   \n",
       "1     ...                            0.0                         NaN   \n",
       "2     ...                            0.0                         NaN   \n",
       "3     ...                            0.0                         NaN   \n",
       "4     ...                            0.0                         NaN   \n",
       "\n",
       "   application_type verification_status_joint last_week_pay acc_now_delinq  \\\n",
       "0        INDIVIDUAL                       NaN     26th week            0.0   \n",
       "1        INDIVIDUAL                       NaN      9th week            0.0   \n",
       "2        INDIVIDUAL                       NaN      9th week            0.0   \n",
       "3        INDIVIDUAL                       NaN    135th week            0.0   \n",
       "4        INDIVIDUAL                       NaN     96th week            0.0   \n",
       "\n",
       "  tot_coll_amt tot_cur_bal total_rev_hi_lim loan_status  \n",
       "0          0.0     28699.0          30800.0           0  \n",
       "1          0.0      9974.0          32900.0           0  \n",
       "2         65.0     38295.0          34900.0           0  \n",
       "3          0.0     55564.0          24700.0           0  \n",
       "4          0.0     47159.0          47033.0           0  \n",
       "\n",
       "[5 rows x 45 columns]"
      ]
     },
     "execution_count": 4,
     "metadata": {},
     "output_type": "execute_result"
    }
   ],
   "source": [
    "train.head()"
   ]
  },
  {
   "cell_type": "code",
   "execution_count": 5,
   "metadata": {
    "collapsed": false
   },
   "outputs": [
    {
     "data": {
      "text/html": [
       "<div>\n",
       "<table border=\"1\" class=\"dataframe\">\n",
       "  <thead>\n",
       "    <tr style=\"text-align: right;\">\n",
       "      <th></th>\n",
       "      <th>member_id</th>\n",
       "      <th>loan_amnt</th>\n",
       "      <th>funded_amnt</th>\n",
       "      <th>funded_amnt_inv</th>\n",
       "      <th>term</th>\n",
       "      <th>batch_enrolled</th>\n",
       "      <th>int_rate</th>\n",
       "      <th>grade</th>\n",
       "      <th>sub_grade</th>\n",
       "      <th>emp_title</th>\n",
       "      <th>...</th>\n",
       "      <th>collection_recovery_fee</th>\n",
       "      <th>collections_12_mths_ex_med</th>\n",
       "      <th>mths_since_last_major_derog</th>\n",
       "      <th>application_type</th>\n",
       "      <th>verification_status_joint</th>\n",
       "      <th>last_week_pay</th>\n",
       "      <th>acc_now_delinq</th>\n",
       "      <th>tot_coll_amt</th>\n",
       "      <th>tot_cur_bal</th>\n",
       "      <th>total_rev_hi_lim</th>\n",
       "    </tr>\n",
       "  </thead>\n",
       "  <tbody>\n",
       "    <tr>\n",
       "      <th>0</th>\n",
       "      <td>11937648</td>\n",
       "      <td>14000</td>\n",
       "      <td>14000</td>\n",
       "      <td>14000.0</td>\n",
       "      <td>60 months</td>\n",
       "      <td>BAT4711174</td>\n",
       "      <td>16.24</td>\n",
       "      <td>C</td>\n",
       "      <td>C5</td>\n",
       "      <td>Data Analyst</td>\n",
       "      <td>...</td>\n",
       "      <td>0.0</td>\n",
       "      <td>0.0</td>\n",
       "      <td>NaN</td>\n",
       "      <td>INDIVIDUAL</td>\n",
       "      <td>NaN</td>\n",
       "      <td>104th week</td>\n",
       "      <td>0.0</td>\n",
       "      <td>0.0</td>\n",
       "      <td>85230.0</td>\n",
       "      <td>45700.0</td>\n",
       "    </tr>\n",
       "    <tr>\n",
       "      <th>1</th>\n",
       "      <td>38983318</td>\n",
       "      <td>16000</td>\n",
       "      <td>16000</td>\n",
       "      <td>16000.0</td>\n",
       "      <td>60 months</td>\n",
       "      <td>BAT4318899</td>\n",
       "      <td>9.49</td>\n",
       "      <td>B</td>\n",
       "      <td>B2</td>\n",
       "      <td>Senior Database Administrator</td>\n",
       "      <td>...</td>\n",
       "      <td>0.0</td>\n",
       "      <td>0.0</td>\n",
       "      <td>NaN</td>\n",
       "      <td>INDIVIDUAL</td>\n",
       "      <td>NaN</td>\n",
       "      <td>57th week</td>\n",
       "      <td>0.0</td>\n",
       "      <td>0.0</td>\n",
       "      <td>444991.0</td>\n",
       "      <td>21400.0</td>\n",
       "    </tr>\n",
       "    <tr>\n",
       "      <th>2</th>\n",
       "      <td>27999917</td>\n",
       "      <td>11050</td>\n",
       "      <td>11050</td>\n",
       "      <td>11050.0</td>\n",
       "      <td>60 months</td>\n",
       "      <td>BAT446479</td>\n",
       "      <td>15.61</td>\n",
       "      <td>D</td>\n",
       "      <td>D1</td>\n",
       "      <td>Customer service representative</td>\n",
       "      <td>...</td>\n",
       "      <td>0.0</td>\n",
       "      <td>0.0</td>\n",
       "      <td>26.0</td>\n",
       "      <td>INDIVIDUAL</td>\n",
       "      <td>NaN</td>\n",
       "      <td>70th week</td>\n",
       "      <td>0.0</td>\n",
       "      <td>0.0</td>\n",
       "      <td>105737.0</td>\n",
       "      <td>16300.0</td>\n",
       "    </tr>\n",
       "    <tr>\n",
       "      <th>3</th>\n",
       "      <td>61514932</td>\n",
       "      <td>35000</td>\n",
       "      <td>35000</td>\n",
       "      <td>34700.0</td>\n",
       "      <td>60 months</td>\n",
       "      <td>BAT4664105</td>\n",
       "      <td>12.69</td>\n",
       "      <td>C</td>\n",
       "      <td>C2</td>\n",
       "      <td>ACCT OFFICER</td>\n",
       "      <td>...</td>\n",
       "      <td>0.0</td>\n",
       "      <td>0.0</td>\n",
       "      <td>NaN</td>\n",
       "      <td>INDIVIDUAL</td>\n",
       "      <td>NaN</td>\n",
       "      <td>22th week</td>\n",
       "      <td>0.0</td>\n",
       "      <td>0.0</td>\n",
       "      <td>287022.0</td>\n",
       "      <td>72400.0</td>\n",
       "    </tr>\n",
       "    <tr>\n",
       "      <th>4</th>\n",
       "      <td>59622821</td>\n",
       "      <td>6500</td>\n",
       "      <td>6500</td>\n",
       "      <td>6500.0</td>\n",
       "      <td>36 months</td>\n",
       "      <td></td>\n",
       "      <td>6.89</td>\n",
       "      <td>A</td>\n",
       "      <td>A3</td>\n",
       "      <td>Paralegal</td>\n",
       "      <td>...</td>\n",
       "      <td>0.0</td>\n",
       "      <td>0.0</td>\n",
       "      <td>NaN</td>\n",
       "      <td>INDIVIDUAL</td>\n",
       "      <td>NaN</td>\n",
       "      <td>22th week</td>\n",
       "      <td>0.0</td>\n",
       "      <td>0.0</td>\n",
       "      <td>234278.0</td>\n",
       "      <td>26700.0</td>\n",
       "    </tr>\n",
       "  </tbody>\n",
       "</table>\n",
       "<p>5 rows × 44 columns</p>\n",
       "</div>"
      ],
      "text/plain": [
       "   member_id  loan_amnt  funded_amnt  funded_amnt_inv       term  \\\n",
       "0   11937648      14000        14000          14000.0  60 months   \n",
       "1   38983318      16000        16000          16000.0  60 months   \n",
       "2   27999917      11050        11050          11050.0  60 months   \n",
       "3   61514932      35000        35000          34700.0  60 months   \n",
       "4   59622821       6500         6500           6500.0  36 months   \n",
       "\n",
       "  batch_enrolled  int_rate grade sub_grade                        emp_title  \\\n",
       "0     BAT4711174     16.24     C        C5                     Data Analyst   \n",
       "1     BAT4318899      9.49     B        B2    Senior Database Administrator   \n",
       "2      BAT446479     15.61     D        D1  Customer service representative   \n",
       "3     BAT4664105     12.69     C        C2                     ACCT OFFICER   \n",
       "4                     6.89     A        A3                        Paralegal   \n",
       "\n",
       "        ...        collection_recovery_fee collections_12_mths_ex_med  \\\n",
       "0       ...                            0.0                        0.0   \n",
       "1       ...                            0.0                        0.0   \n",
       "2       ...                            0.0                        0.0   \n",
       "3       ...                            0.0                        0.0   \n",
       "4       ...                            0.0                        0.0   \n",
       "\n",
       "   mths_since_last_major_derog application_type verification_status_joint  \\\n",
       "0                          NaN       INDIVIDUAL                       NaN   \n",
       "1                          NaN       INDIVIDUAL                       NaN   \n",
       "2                         26.0       INDIVIDUAL                       NaN   \n",
       "3                          NaN       INDIVIDUAL                       NaN   \n",
       "4                          NaN       INDIVIDUAL                       NaN   \n",
       "\n",
       "  last_week_pay acc_now_delinq tot_coll_amt tot_cur_bal total_rev_hi_lim  \n",
       "0    104th week            0.0          0.0     85230.0          45700.0  \n",
       "1     57th week            0.0          0.0    444991.0          21400.0  \n",
       "2     70th week            0.0          0.0    105737.0          16300.0  \n",
       "3     22th week            0.0          0.0    287022.0          72400.0  \n",
       "4     22th week            0.0          0.0    234278.0          26700.0  \n",
       "\n",
       "[5 rows x 44 columns]"
      ]
     },
     "execution_count": 5,
     "metadata": {},
     "output_type": "execute_result"
    }
   ],
   "source": [
    "test.head()"
   ]
  },
  {
   "cell_type": "code",
   "execution_count": 6,
   "metadata": {
    "collapsed": false
   },
   "outputs": [
    {
     "data": {
      "text/plain": [
       "((532428, 45), (354951, 44))"
      ]
     },
     "execution_count": 6,
     "metadata": {},
     "output_type": "execute_result"
    }
   ],
   "source": [
    "train.shape, test.shape"
   ]
  },
  {
   "cell_type": "code",
   "execution_count": 7,
   "metadata": {
    "collapsed": false
   },
   "outputs": [
    {
     "name": "stdout",
     "output_type": "stream",
     "text": [
      "member_id 532428\n",
      "loan_amnt 1370\n",
      "funded_amnt 1370\n",
      "funded_amnt_inv 6442\n",
      "term 2\n",
      "batch_enrolled 105\n",
      "int_rate 535\n",
      "grade 7\n",
      "sub_grade 35\n",
      "emp_title 190126\n",
      "emp_length 12\n",
      "home_ownership 6\n",
      "annual_inc 33989\n",
      "verification_status 3\n",
      "pymnt_plan 2\n",
      "desc 70639\n",
      "purpose 14\n",
      "title 39694\n",
      "zip_code 917\n",
      "addr_state 51\n",
      "dti 4058\n",
      "delinq_2yrs 27\n",
      "inq_last_6mths 24\n",
      "mths_since_last_delinq 148\n",
      "mths_since_last_record 123\n",
      "open_acc 74\n",
      "pub_rec 29\n",
      "revol_bal 63459\n",
      "revol_util 1266\n",
      "total_acc 127\n",
      "initial_list_status 2\n",
      "total_rec_int 243149\n",
      "total_rec_late_fee 4073\n",
      "recoveries 14024\n",
      "collection_recovery_fee 12617\n",
      "collections_12_mths_ex_med 10\n",
      "mths_since_last_major_derog 163\n",
      "application_type 2\n",
      "verification_status_joint 4\n",
      "last_week_pay 98\n",
      "acc_now_delinq 9\n",
      "tot_coll_amt 8082\n",
      "tot_cur_bal 251641\n",
      "total_rev_hi_lim 14698\n",
      "loan_status 2\n"
     ]
    }
   ],
   "source": [
    "# number of unique levels\n",
    "for i in range(len(train.columns)):\n",
    "    print(train.columns[i] + ' ' +str(len(train[train.columns[i]].unique())))"
   ]
  },
  {
   "cell_type": "code",
   "execution_count": 8,
   "metadata": {
    "collapsed": false
   },
   "outputs": [
    {
     "data": {
      "text/plain": [
       "(887379, 46)"
      ]
     },
     "execution_count": 8,
     "metadata": {},
     "output_type": "execute_result"
    }
   ],
   "source": [
    "train['istrain'] = 1\n",
    "test['istrain'] = 0\n",
    "data = pd.concat([train, test], ignore_index = True)\n",
    "data.shape"
   ]
  },
  {
   "cell_type": "code",
   "execution_count": 9,
   "metadata": {
    "collapsed": false
   },
   "outputs": [
    {
     "data": {
      "text/html": [
       "<div>\n",
       "<table border=\"1\" class=\"dataframe\">\n",
       "  <thead>\n",
       "    <tr style=\"text-align: right;\">\n",
       "      <th></th>\n",
       "      <th>acc_now_delinq</th>\n",
       "      <th>addr_state</th>\n",
       "      <th>annual_inc</th>\n",
       "      <th>application_type</th>\n",
       "      <th>batch_enrolled</th>\n",
       "      <th>collection_recovery_fee</th>\n",
       "      <th>collections_12_mths_ex_med</th>\n",
       "      <th>delinq_2yrs</th>\n",
       "      <th>desc</th>\n",
       "      <th>dti</th>\n",
       "      <th>...</th>\n",
       "      <th>title</th>\n",
       "      <th>tot_coll_amt</th>\n",
       "      <th>tot_cur_bal</th>\n",
       "      <th>total_acc</th>\n",
       "      <th>total_rec_int</th>\n",
       "      <th>total_rec_late_fee</th>\n",
       "      <th>total_rev_hi_lim</th>\n",
       "      <th>verification_status</th>\n",
       "      <th>verification_status_joint</th>\n",
       "      <th>zip_code</th>\n",
       "    </tr>\n",
       "  </thead>\n",
       "  <tbody>\n",
       "    <tr>\n",
       "      <th>0</th>\n",
       "      <td>0.0</td>\n",
       "      <td>FL</td>\n",
       "      <td>28700.0</td>\n",
       "      <td>INDIVIDUAL</td>\n",
       "      <td></td>\n",
       "      <td>0.0</td>\n",
       "      <td>0.0</td>\n",
       "      <td>0.0</td>\n",
       "      <td>NaN</td>\n",
       "      <td>33.88</td>\n",
       "      <td>...</td>\n",
       "      <td>Debt consolidation</td>\n",
       "      <td>0.0</td>\n",
       "      <td>28699.0</td>\n",
       "      <td>28.0</td>\n",
       "      <td>1173.84</td>\n",
       "      <td>0.0</td>\n",
       "      <td>30800.0</td>\n",
       "      <td>Source Verified</td>\n",
       "      <td>NaN</td>\n",
       "      <td>349xx</td>\n",
       "    </tr>\n",
       "    <tr>\n",
       "      <th>1</th>\n",
       "      <td>0.0</td>\n",
       "      <td>MD</td>\n",
       "      <td>65000.0</td>\n",
       "      <td>INDIVIDUAL</td>\n",
       "      <td>BAT1586599</td>\n",
       "      <td>0.0</td>\n",
       "      <td>0.0</td>\n",
       "      <td>0.0</td>\n",
       "      <td>NaN</td>\n",
       "      <td>3.64</td>\n",
       "      <td>...</td>\n",
       "      <td>Home improvement</td>\n",
       "      <td>0.0</td>\n",
       "      <td>9974.0</td>\n",
       "      <td>13.0</td>\n",
       "      <td>83.95</td>\n",
       "      <td>0.0</td>\n",
       "      <td>32900.0</td>\n",
       "      <td>Source Verified</td>\n",
       "      <td>NaN</td>\n",
       "      <td>209xx</td>\n",
       "    </tr>\n",
       "    <tr>\n",
       "      <th>2</th>\n",
       "      <td>0.0</td>\n",
       "      <td>OH</td>\n",
       "      <td>45000.0</td>\n",
       "      <td>INDIVIDUAL</td>\n",
       "      <td>BAT1586599</td>\n",
       "      <td>0.0</td>\n",
       "      <td>0.0</td>\n",
       "      <td>0.0</td>\n",
       "      <td>NaN</td>\n",
       "      <td>18.42</td>\n",
       "      <td>...</td>\n",
       "      <td>Debt consolidation</td>\n",
       "      <td>65.0</td>\n",
       "      <td>38295.0</td>\n",
       "      <td>19.0</td>\n",
       "      <td>56.47</td>\n",
       "      <td>0.0</td>\n",
       "      <td>34900.0</td>\n",
       "      <td>Not Verified</td>\n",
       "      <td>NaN</td>\n",
       "      <td>447xx</td>\n",
       "    </tr>\n",
       "    <tr>\n",
       "      <th>3</th>\n",
       "      <td>0.0</td>\n",
       "      <td>VA</td>\n",
       "      <td>105000.0</td>\n",
       "      <td>INDIVIDUAL</td>\n",
       "      <td>BAT4808022</td>\n",
       "      <td>0.0</td>\n",
       "      <td>0.0</td>\n",
       "      <td>0.0</td>\n",
       "      <td>&gt; My goal is to obtain a loan to pay off my hi...</td>\n",
       "      <td>14.97</td>\n",
       "      <td>...</td>\n",
       "      <td>Debt consolidation</td>\n",
       "      <td>0.0</td>\n",
       "      <td>55564.0</td>\n",
       "      <td>21.0</td>\n",
       "      <td>4858.62</td>\n",
       "      <td>0.0</td>\n",
       "      <td>24700.0</td>\n",
       "      <td>Not Verified</td>\n",
       "      <td>NaN</td>\n",
       "      <td>221xx</td>\n",
       "    </tr>\n",
       "    <tr>\n",
       "      <th>4</th>\n",
       "      <td>0.0</td>\n",
       "      <td>CA</td>\n",
       "      <td>52000.0</td>\n",
       "      <td>INDIVIDUAL</td>\n",
       "      <td>BAT2833642</td>\n",
       "      <td>0.0</td>\n",
       "      <td>0.0</td>\n",
       "      <td>0.0</td>\n",
       "      <td>NaN</td>\n",
       "      <td>20.16</td>\n",
       "      <td>...</td>\n",
       "      <td>refi</td>\n",
       "      <td>0.0</td>\n",
       "      <td>47159.0</td>\n",
       "      <td>27.0</td>\n",
       "      <td>2296.41</td>\n",
       "      <td>0.0</td>\n",
       "      <td>47033.0</td>\n",
       "      <td>Verified</td>\n",
       "      <td>NaN</td>\n",
       "      <td>900xx</td>\n",
       "    </tr>\n",
       "  </tbody>\n",
       "</table>\n",
       "<p>5 rows × 46 columns</p>\n",
       "</div>"
      ],
      "text/plain": [
       "   acc_now_delinq addr_state  annual_inc application_type batch_enrolled  \\\n",
       "0             0.0         FL     28700.0       INDIVIDUAL                  \n",
       "1             0.0         MD     65000.0       INDIVIDUAL     BAT1586599   \n",
       "2             0.0         OH     45000.0       INDIVIDUAL     BAT1586599   \n",
       "3             0.0         VA    105000.0       INDIVIDUAL     BAT4808022   \n",
       "4             0.0         CA     52000.0       INDIVIDUAL     BAT2833642   \n",
       "\n",
       "   collection_recovery_fee  collections_12_mths_ex_med  delinq_2yrs  \\\n",
       "0                      0.0                         0.0          0.0   \n",
       "1                      0.0                         0.0          0.0   \n",
       "2                      0.0                         0.0          0.0   \n",
       "3                      0.0                         0.0          0.0   \n",
       "4                      0.0                         0.0          0.0   \n",
       "\n",
       "                                                desc    dti    ...     \\\n",
       "0                                                NaN  33.88    ...      \n",
       "1                                                NaN   3.64    ...      \n",
       "2                                                NaN  18.42    ...      \n",
       "3  > My goal is to obtain a loan to pay off my hi...  14.97    ...      \n",
       "4                                                NaN  20.16    ...      \n",
       "\n",
       "                title tot_coll_amt  tot_cur_bal  total_acc total_rec_int  \\\n",
       "0  Debt consolidation          0.0      28699.0       28.0       1173.84   \n",
       "1    Home improvement          0.0       9974.0       13.0         83.95   \n",
       "2  Debt consolidation         65.0      38295.0       19.0         56.47   \n",
       "3  Debt consolidation          0.0      55564.0       21.0       4858.62   \n",
       "4                refi          0.0      47159.0       27.0       2296.41   \n",
       "\n",
       "  total_rec_late_fee total_rev_hi_lim  verification_status  \\\n",
       "0                0.0          30800.0      Source Verified   \n",
       "1                0.0          32900.0      Source Verified   \n",
       "2                0.0          34900.0         Not Verified   \n",
       "3                0.0          24700.0         Not Verified   \n",
       "4                0.0          47033.0             Verified   \n",
       "\n",
       "   verification_status_joint  zip_code  \n",
       "0                        NaN     349xx  \n",
       "1                        NaN     209xx  \n",
       "2                        NaN     447xx  \n",
       "3                        NaN     221xx  \n",
       "4                        NaN     900xx  \n",
       "\n",
       "[5 rows x 46 columns]"
      ]
     },
     "execution_count": 9,
     "metadata": {},
     "output_type": "execute_result"
    }
   ],
   "source": [
    "data.head()"
   ]
  },
  {
   "cell_type": "code",
   "execution_count": 10,
   "metadata": {
    "collapsed": false
   },
   "outputs": [
    {
     "data": {
      "text/plain": [
       "Index(['acc_now_delinq', 'addr_state', 'annual_inc', 'application_type',\n",
       "       'batch_enrolled', 'collection_recovery_fee',\n",
       "       'collections_12_mths_ex_med', 'delinq_2yrs', 'desc', 'dti',\n",
       "       'emp_length', 'emp_title', 'funded_amnt', 'funded_amnt_inv', 'grade',\n",
       "       'home_ownership', 'initial_list_status', 'inq_last_6mths', 'int_rate',\n",
       "       'istrain', 'last_week_pay', 'loan_amnt', 'loan_status', 'member_id',\n",
       "       'mths_since_last_delinq', 'mths_since_last_major_derog',\n",
       "       'mths_since_last_record', 'open_acc', 'pub_rec', 'purpose',\n",
       "       'pymnt_plan', 'recoveries', 'revol_bal', 'revol_util', 'sub_grade',\n",
       "       'term', 'title', 'tot_coll_amt', 'tot_cur_bal', 'total_acc',\n",
       "       'total_rec_int', 'total_rec_late_fee', 'total_rev_hi_lim',\n",
       "       'verification_status', 'verification_status_joint', 'zip_code'],\n",
       "      dtype='object')"
      ]
     },
     "execution_count": 10,
     "metadata": {},
     "output_type": "execute_result"
    }
   ],
   "source": [
    "data.columns"
   ]
  },
  {
   "cell_type": "code",
   "execution_count": 11,
   "metadata": {
    "collapsed": false
   },
   "outputs": [
    {
     "data": {
      "text/plain": [
       "acc_now_delinq                 float64\n",
       "addr_state                      object\n",
       "annual_inc                     float64\n",
       "application_type                object\n",
       "batch_enrolled                  object\n",
       "collection_recovery_fee        float64\n",
       "collections_12_mths_ex_med     float64\n",
       "delinq_2yrs                    float64\n",
       "desc                            object\n",
       "dti                            float64\n",
       "emp_length                      object\n",
       "emp_title                       object\n",
       "funded_amnt                      int64\n",
       "funded_amnt_inv                float64\n",
       "grade                           object\n",
       "home_ownership                  object\n",
       "initial_list_status             object\n",
       "inq_last_6mths                 float64\n",
       "int_rate                       float64\n",
       "istrain                          int64\n",
       "last_week_pay                   object\n",
       "loan_amnt                        int64\n",
       "loan_status                    float64\n",
       "member_id                        int64\n",
       "mths_since_last_delinq         float64\n",
       "mths_since_last_major_derog    float64\n",
       "mths_since_last_record         float64\n",
       "open_acc                       float64\n",
       "pub_rec                        float64\n",
       "purpose                         object\n",
       "pymnt_plan                      object\n",
       "recoveries                     float64\n",
       "revol_bal                      float64\n",
       "revol_util                     float64\n",
       "sub_grade                       object\n",
       "term                            object\n",
       "title                           object\n",
       "tot_coll_amt                   float64\n",
       "tot_cur_bal                    float64\n",
       "total_acc                      float64\n",
       "total_rec_int                  float64\n",
       "total_rec_late_fee             float64\n",
       "total_rev_hi_lim               float64\n",
       "verification_status             object\n",
       "verification_status_joint       object\n",
       "zip_code                        object\n",
       "dtype: object"
      ]
     },
     "execution_count": 11,
     "metadata": {},
     "output_type": "execute_result"
    }
   ],
   "source": [
    "data.dtypes"
   ]
  },
  {
   "cell_type": "code",
   "execution_count": 12,
   "metadata": {
    "collapsed": false
   },
   "outputs": [
    {
     "name": "stdout",
     "output_type": "stream",
     "text": [
      "member_id 532428\n",
      "loan_amnt 1370\n",
      "funded_amnt 1370\n",
      "funded_amnt_inv 6442\n",
      "term 2\n",
      "batch_enrolled 105\n",
      "int_rate 535\n",
      "grade 7\n",
      "sub_grade 35\n",
      "emp_title 190126\n",
      "emp_length 12\n",
      "home_ownership 6\n",
      "annual_inc 33989\n",
      "verification_status 3\n",
      "pymnt_plan 2\n",
      "desc 70639\n",
      "purpose 14\n",
      "title 39694\n",
      "zip_code 917\n",
      "addr_state 51\n",
      "dti 4058\n",
      "delinq_2yrs 27\n",
      "inq_last_6mths 24\n",
      "mths_since_last_delinq 148\n",
      "mths_since_last_record 123\n",
      "open_acc 74\n",
      "pub_rec 29\n",
      "revol_bal 63459\n",
      "revol_util 1266\n",
      "total_acc 127\n",
      "initial_list_status 2\n",
      "total_rec_int 243149\n",
      "total_rec_late_fee 4073\n",
      "recoveries 14024\n",
      "collection_recovery_fee 12617\n",
      "collections_12_mths_ex_med 10\n",
      "mths_since_last_major_derog 163\n",
      "application_type 2\n",
      "verification_status_joint 4\n",
      "last_week_pay 98\n",
      "acc_now_delinq 9\n",
      "tot_coll_amt 8082\n",
      "tot_cur_bal 251641\n",
      "total_rev_hi_lim 14698\n",
      "loan_status 2\n",
      "istrain 1\n"
     ]
    }
   ],
   "source": [
    "# number of unique levels\n",
    "for i in range(len(train.columns)):\n",
    "    print(train.columns[i] + ' ' +str(len(train[train.columns[i]].unique())))"
   ]
  },
  {
   "cell_type": "code",
   "execution_count": 13,
   "metadata": {
    "collapsed": false
   },
   "outputs": [
    {
     "data": {
      "image/png": "[encoded data removed]",
      "text/plain": [
       "<matplotlib.figure.Figure at 0xa7246a0>"
      ]
     },
     "metadata": {},
     "output_type": "display_data"
    }
   ],
   "source": [
    "plt.hist(train[train.columns[-2]])\n",
    "plt.title(\"Frequencies of the target values in the training set\")\n",
    "plt.xlabel(\"Value\")\n",
    "plt.ylabel(\"Frequency\")\n",
    "plt.show()"
   ]
  },
  {
   "cell_type": "code",
   "execution_count": 14,
   "metadata": {
    "collapsed": false
   },
   "outputs": [
    {
     "name": "stdout",
     "output_type": "stream",
     "text": [
      "Number of elements in class 0: 406601\n",
      "Number of elements in class 1: 125827\n"
     ]
    }
   ],
   "source": [
    "print('Number of elements in class 0: ' + str(train[train[TARGET] == 0].shape[0]))\n",
    "print('Number of elements in class 1: ' + str(train[train[TARGET] == 1].shape[0]))"
   ]
  },
  {
   "cell_type": "code",
   "execution_count": 15,
   "metadata": {
    "collapsed": false
   },
   "outputs": [
    {
     "data": {
      "text/plain": [
       "acc_now_delinq                     29\n",
       "addr_state                          0\n",
       "annual_inc                          4\n",
       "application_type                    0\n",
       "batch_enrolled                 130748\n",
       "collection_recovery_fee             0\n",
       "collections_12_mths_ex_med        145\n",
       "delinq_2yrs                        29\n",
       "desc                           761598\n",
       "dti                                 0\n",
       "emp_length                          0\n",
       "emp_title                       51457\n",
       "funded_amnt                         0\n",
       "funded_amnt_inv                     0\n",
       "grade                               0\n",
       "home_ownership                      0\n",
       "initial_list_status                 0\n",
       "inq_last_6mths                     29\n",
       "int_rate                            0\n",
       "istrain                             0\n",
       "last_week_pay                       0\n",
       "loan_amnt                           0\n",
       "loan_status                    354951\n",
       "member_id                           0\n",
       "mths_since_last_delinq         454312\n",
       "mths_since_last_major_derog    665676\n",
       "mths_since_last_record         750326\n",
       "open_acc                           29\n",
       "pub_rec                            29\n",
       "purpose                             0\n",
       "pymnt_plan                          0\n",
       "recoveries                          0\n",
       "revol_bal                           0\n",
       "revol_util                        502\n",
       "sub_grade                           0\n",
       "term                                0\n",
       "title                             151\n",
       "tot_coll_amt                    70276\n",
       "tot_cur_bal                     70276\n",
       "total_acc                          29\n",
       "total_rec_int                       0\n",
       "total_rec_late_fee                  0\n",
       "total_rev_hi_lim                70276\n",
       "verification_status                 0\n",
       "verification_status_joint      886868\n",
       "zip_code                            0\n",
       "dtype: int64"
      ]
     },
     "execution_count": 15,
     "metadata": {},
     "output_type": "execute_result"
    }
   ],
   "source": [
    "# Check for missing values\n",
    "data.apply(lambda x: sum(x.isnull()))"
   ]
  },
  {
   "cell_type": "code",
   "execution_count": 16,
   "metadata": {
    "collapsed": false
   },
   "outputs": [
    {
     "data": {
      "text/plain": [
       "acc_now_delinq                 0.000033\n",
       "addr_state                     0.000000\n",
       "annual_inc                     0.000005\n",
       "application_type               0.000000\n",
       "batch_enrolled                 0.147342\n",
       "collection_recovery_fee        0.000000\n",
       "collections_12_mths_ex_med     0.000163\n",
       "delinq_2yrs                    0.000033\n",
       "desc                           0.858256\n",
       "dti                            0.000000\n",
       "emp_length                     0.000000\n",
       "emp_title                      0.057988\n",
       "funded_amnt                    0.000000\n",
       "funded_amnt_inv                0.000000\n",
       "grade                          0.000000\n",
       "home_ownership                 0.000000\n",
       "initial_list_status            0.000000\n",
       "inq_last_6mths                 0.000033\n",
       "int_rate                       0.000000\n",
       "istrain                        0.000000\n",
       "last_week_pay                  0.000000\n",
       "loan_amnt                      0.000000\n",
       "loan_status                    0.399999\n",
       "member_id                      0.000000\n",
       "mths_since_last_delinq         0.511971\n",
       "mths_since_last_major_derog    0.750160\n",
       "mths_since_last_record         0.845553\n",
       "open_acc                       0.000033\n",
       "pub_rec                        0.000033\n",
       "purpose                        0.000000\n",
       "pymnt_plan                     0.000000\n",
       "recoveries                     0.000000\n",
       "revol_bal                      0.000000\n",
       "revol_util                     0.000566\n",
       "sub_grade                      0.000000\n",
       "term                           0.000000\n",
       "title                          0.000170\n",
       "tot_coll_amt                   0.079195\n",
       "tot_cur_bal                    0.079195\n",
       "total_acc                      0.000033\n",
       "total_rec_int                  0.000000\n",
       "total_rec_late_fee             0.000000\n",
       "total_rev_hi_lim               0.079195\n",
       "verification_status            0.000000\n",
       "verification_status_joint      0.999424\n",
       "zip_code                       0.000000\n",
       "dtype: float64"
      ]
     },
     "execution_count": 16,
     "metadata": {},
     "output_type": "execute_result"
    }
   ],
   "source": [
    "# Calculate the rate of missing values\n",
    "\n",
    "data.apply(lambda x: sum(x.isnull()) / len(x))"
   ]
  },
  {
   "cell_type": "markdown",
   "metadata": {},
   "source": [
    "## Drop variables with too much categories"
   ]
  },
  {
   "cell_type": "code",
   "execution_count": 17,
   "metadata": {
    "collapsed": false
   },
   "outputs": [
    {
     "data": {
      "text/plain": [
       "Index(['acc_now_delinq', 'addr_state', 'annual_inc', 'application_type',\n",
       "       'collection_recovery_fee', 'collections_12_mths_ex_med', 'delinq_2yrs',\n",
       "       'dti', 'emp_length', 'funded_amnt', 'funded_amnt_inv', 'grade',\n",
       "       'home_ownership', 'initial_list_status', 'inq_last_6mths', 'int_rate',\n",
       "       'istrain', 'last_week_pay', 'loan_amnt', 'loan_status', 'member_id',\n",
       "       'mths_since_last_delinq', 'mths_since_last_major_derog',\n",
       "       'mths_since_last_record', 'open_acc', 'pub_rec', 'purpose',\n",
       "       'pymnt_plan', 'recoveries', 'revol_bal', 'revol_util', 'sub_grade',\n",
       "       'term', 'tot_coll_amt', 'tot_cur_bal', 'total_acc', 'total_rec_int',\n",
       "       'total_rec_late_fee', 'total_rev_hi_lim', 'verification_status',\n",
       "       'verification_status_joint', 'zip_code'],\n",
       "      dtype='object')"
      ]
     },
     "execution_count": 17,
     "metadata": {},
     "output_type": "execute_result"
    }
   ],
   "source": [
    "data = data.drop(['batch_enrolled', 'emp_title', 'desc', 'title'], axis = 1)\n",
    "data.columns"
   ]
  },
  {
   "cell_type": "code",
   "execution_count": 18,
   "metadata": {
    "collapsed": false
   },
   "outputs": [
    {
     "name": "stdout",
     "output_type": "stream",
     "text": [
      "Index(['addr_state', 'application_type', 'emp_length', 'grade',\n",
      "       'home_ownership', 'initial_list_status', 'last_week_pay', 'purpose',\n",
      "       'pymnt_plan', 'sub_grade', 'term', 'verification_status',\n",
      "       'verification_status_joint', 'zip_code'],\n",
      "      dtype='object')\n",
      "Index(['acc_now_delinq', 'annual_inc', 'collection_recovery_fee',\n",
      "       'collections_12_mths_ex_med', 'delinq_2yrs', 'dti', 'funded_amnt',\n",
      "       'funded_amnt_inv', 'inq_last_6mths', 'int_rate', 'istrain', 'loan_amnt',\n",
      "       'loan_status', 'member_id', 'mths_since_last_delinq',\n",
      "       'mths_since_last_major_derog', 'mths_since_last_record', 'open_acc',\n",
      "       'pub_rec', 'recoveries', 'revol_bal', 'revol_util', 'tot_coll_amt',\n",
      "       'tot_cur_bal', 'total_acc', 'total_rec_int', 'total_rec_late_fee',\n",
      "       'total_rev_hi_lim'],\n",
      "      dtype='object')\n"
     ]
    }
   ],
   "source": [
    "nonnumeric_cols = data.dtypes[data.dtypes == 'object'].index.copy()\n",
    "numeric_cols = data.dtypes[data.dtypes != 'object'].index.copy()\n",
    "print(nonnumeric_cols)\n",
    "print(numeric_cols)"
   ]
  },
  {
   "cell_type": "markdown",
   "metadata": {},
   "source": [
    "## Numerical variables"
   ]
  },
  {
   "cell_type": "code",
   "execution_count": 19,
   "metadata": {
    "collapsed": false
   },
   "outputs": [
    {
     "data": {
      "text/plain": [
       "acc_now_delinq                     29\n",
       "annual_inc                          4\n",
       "collection_recovery_fee             0\n",
       "collections_12_mths_ex_med        145\n",
       "delinq_2yrs                        29\n",
       "dti                                 0\n",
       "funded_amnt                         0\n",
       "funded_amnt_inv                     0\n",
       "inq_last_6mths                     29\n",
       "int_rate                            0\n",
       "istrain                             0\n",
       "loan_amnt                           0\n",
       "loan_status                    354951\n",
       "member_id                           0\n",
       "mths_since_last_delinq         454312\n",
       "mths_since_last_major_derog    665676\n",
       "mths_since_last_record         750326\n",
       "open_acc                           29\n",
       "pub_rec                            29\n",
       "recoveries                          0\n",
       "revol_bal                           0\n",
       "revol_util                        502\n",
       "tot_coll_amt                    70276\n",
       "tot_cur_bal                     70276\n",
       "total_acc                          29\n",
       "total_rec_int                       0\n",
       "total_rec_late_fee                  0\n",
       "total_rev_hi_lim                70276\n",
       "dtype: int64"
      ]
     },
     "execution_count": 19,
     "metadata": {},
     "output_type": "execute_result"
    }
   ],
   "source": [
    "# Check for missing numerical values\n",
    "data[numeric_cols].apply(lambda x: sum(x.isnull()))"
   ]
  },
  {
   "cell_type": "markdown",
   "metadata": {},
   "source": [
    "### acc_now_delinq"
   ]
  },
  {
   "cell_type": "code",
   "execution_count": 20,
   "metadata": {
    "collapsed": false
   },
   "outputs": [
    {
     "name": "stdout",
     "output_type": "stream",
     "text": [
      "Number of missing values: 29\n",
      "Number of unique values: 9\n"
     ]
    },
    {
     "data": {
      "text/plain": [
       "<matplotlib.axes._subplots.AxesSubplot at 0xa8ceb70>"
      ]
     },
     "execution_count": 20,
     "metadata": {},
     "output_type": "execute_result"
    },
    {
     "data": {
      "image/png": "[encoded data removed]",
      "text/plain": [
       "<matplotlib.figure.Figure at 0xa724358>"
      ]
     },
     "metadata": {},
     "output_type": "display_data"
    }
   ],
   "source": [
    "var = 'acc_now_delinq'\n",
    "print('Number of missing values: ' + str(sum(data[var].isnull())))\n",
    "print('Number of unique values: ' + str(len(data[var].unique())))\n",
    "data.boxplot(column = var, return_type = 'axes')"
   ]
  },
  {
   "cell_type": "code",
   "execution_count": 21,
   "metadata": {
    "collapsed": false
   },
   "outputs": [
    {
     "name": "stdout",
     "output_type": "stream",
     "text": [
      "0.0     883236\n",
      "1.0       3866\n",
      "2.0        208\n",
      "3.0         28\n",
      "4.0          7\n",
      "5.0          3\n",
      "6.0          1\n",
      "14.0         1\n",
      "Name: acc_now_delinq, dtype: int64\n"
     ]
    }
   ],
   "source": [
    "print(data[var].value_counts())"
   ]
  },
  {
   "cell_type": "code",
   "execution_count": 22,
   "metadata": {
    "collapsed": true
   },
   "outputs": [],
   "source": [
    "# The same value for more than 99.5 percent of examples, so drop variable\n",
    "data.drop(var, axis = 1, inplace = True)"
   ]
  },
  {
   "cell_type": "markdown",
   "metadata": {},
   "source": [
    "### annual_inc"
   ]
  },
  {
   "cell_type": "code",
   "execution_count": 23,
   "metadata": {
    "collapsed": false
   },
   "outputs": [
    {
     "name": "stdout",
     "output_type": "stream",
     "text": [
      "Number of missing values: 4\n",
      "Number of unique values: 49385\n"
     ]
    },
    {
     "data": {
      "text/plain": [
       "<matplotlib.axes._subplots.AxesSubplot at 0xa9799b0>"
      ]
     },
     "execution_count": 23,
     "metadata": {},
     "output_type": "execute_result"
    },
    {
     "data": {
      "image/png": "[encoded data removed]",
      "text/plain": [
       "<matplotlib.figure.Figure at 0x9b6fcf8>"
      ]
     },
     "metadata": {},
     "output_type": "display_data"
    }
   ],
   "source": [
    "var = 'annual_inc'\n",
    "print('Number of missing values: ' + str(sum(data[var].isnull())))\n",
    "print('Number of unique values: ' + str(len(data[var].unique())))\n",
    "data.boxplot(column=var, return_type='axes')"
   ]
  },
  {
   "cell_type": "code",
   "execution_count": 24,
   "metadata": {
    "collapsed": false
   },
   "outputs": [
    {
     "data": {
      "text/plain": [
       "65000.0"
      ]
     },
     "execution_count": 24,
     "metadata": {},
     "output_type": "execute_result"
    }
   ],
   "source": [
    "median_of_var = data[var].median()\n",
    "median_of_var"
   ]
  },
  {
   "cell_type": "code",
   "execution_count": 25,
   "metadata": {
    "collapsed": true
   },
   "outputs": [],
   "source": [
    "# Impute by median because only 4 missing:\n",
    "data[var].fillna(median_of_var, inplace = True)"
   ]
  },
  {
   "cell_type": "code",
   "execution_count": 26,
   "metadata": {
    "collapsed": false
   },
   "outputs": [
    {
     "data": {
      "text/plain": [
       "count    8.873790e+05\n",
       "mean     7.502754e+04\n",
       "std      6.469816e+04\n",
       "min      0.000000e+00\n",
       "25%      4.500000e+04\n",
       "50%      6.500000e+04\n",
       "75%      9.000000e+04\n",
       "max      9.500000e+06\n",
       "Name: annual_inc, dtype: float64"
      ]
     },
     "execution_count": 26,
     "metadata": {},
     "output_type": "execute_result"
    }
   ],
   "source": [
    "data[var].describe()"
   ]
  },
  {
   "cell_type": "code",
   "execution_count": 27,
   "metadata": {
    "collapsed": false
   },
   "outputs": [],
   "source": [
    "# Take its logarithm because of skewness\n",
    "data['log_annual_inc'] = np.log(1 + data[var])\n",
    "\n",
    "# Drop variable 'annual_inc'\n",
    "data.drop(var, axis = 1, inplace = True)"
   ]
  },
  {
   "cell_type": "code",
   "execution_count": 28,
   "metadata": {
    "collapsed": false
   },
   "outputs": [
    {
     "data": {
      "text/plain": [
       "count    887379.000000\n",
       "mean         11.075042\n",
       "std           0.528559\n",
       "min           0.000000\n",
       "25%          10.714440\n",
       "50%          11.082158\n",
       "75%          11.407576\n",
       "max          16.066802\n",
       "Name: log_annual_inc, dtype: float64"
      ]
     },
     "execution_count": 28,
     "metadata": {},
     "output_type": "execute_result"
    }
   ],
   "source": [
    "data['log_annual_inc'].describe()"
   ]
  },
  {
   "cell_type": "code",
   "execution_count": 29,
   "metadata": {
    "collapsed": false
   },
   "outputs": [
    {
     "data": {
      "text/plain": [
       "<matplotlib.axes._subplots.AxesSubplot at 0x60d59240>"
      ]
     },
     "execution_count": 29,
     "metadata": {},
     "output_type": "execute_result"
    },
    {
     "data": {
      "image/png": "[encoded data removed]",
      "text/plain": [
       "<matplotlib.figure.Figure at 0x4fd392b0>"
      ]
     },
     "metadata": {},
     "output_type": "display_data"
    }
   ],
   "source": [
    "data.boxplot(column = 'log_annual_inc', return_type = 'axes')"
   ]
  },
  {
   "cell_type": "markdown",
   "metadata": {},
   "source": [
    "### collection_recovery_fee"
   ]
  },
  {
   "cell_type": "code",
   "execution_count": 30,
   "metadata": {
    "collapsed": false
   },
   "outputs": [
    {
     "name": "stdout",
     "output_type": "stream",
     "text": [
      "Number of missing values: 0\n",
      "Number of unique values: 20679\n"
     ]
    },
    {
     "data": {
      "text/plain": [
       "<matplotlib.axes._subplots.AxesSubplot at 0x6a75518>"
      ]
     },
     "execution_count": 30,
     "metadata": {},
     "output_type": "execute_result"
    },
    {
     "data": {
      "image/png": "[encoded data removed]",
      "text/plain": [
       "<matplotlib.figure.Figure at 0xa8ae080>"
      ]
     },
     "metadata": {},
     "output_type": "display_data"
    }
   ],
   "source": [
    "var = 'collection_recovery_fee'\n",
    "print('Number of missing values: ' + str(sum(data[var].isnull())))\n",
    "print('Number of unique values: ' + str(len(data[var].unique())))\n",
    "data.boxplot(column = var, return_type = 'axes')"
   ]
  },
  {
   "cell_type": "code",
   "execution_count": 31,
   "metadata": {
    "collapsed": false
   },
   "outputs": [
    {
     "data": {
      "text/plain": [
       "count    887379.000000\n",
       "mean          4.880757\n",
       "std          63.125281\n",
       "min           0.000000\n",
       "25%           0.000000\n",
       "50%           0.000000\n",
       "75%           0.000000\n",
       "max        7002.190000\n",
       "Name: collection_recovery_fee, dtype: float64"
      ]
     },
     "execution_count": 31,
     "metadata": {},
     "output_type": "execute_result"
    }
   ],
   "source": [
    "data[var].describe()"
   ]
  },
  {
   "cell_type": "markdown",
   "metadata": {},
   "source": [
    "### collections_12_mths_ex_med"
   ]
  },
  {
   "cell_type": "code",
   "execution_count": 32,
   "metadata": {
    "collapsed": false
   },
   "outputs": [
    {
     "name": "stdout",
     "output_type": "stream",
     "text": [
      "Number of missing values: 145\n",
      "Number of unique values: 13\n"
     ]
    },
    {
     "data": {
      "text/plain": [
       "<matplotlib.axes._subplots.AxesSubplot at 0xa9495f8>"
      ]
     },
     "execution_count": 32,
     "metadata": {},
     "output_type": "execute_result"
    },
    {
     "data": {
      "image/png": "[encoded data removed]",
      "text/plain": [
       "<matplotlib.figure.Figure at 0xa85ba90>"
      ]
     },
     "metadata": {},
     "output_type": "display_data"
    }
   ],
   "source": [
    "var = 'collections_12_mths_ex_med'\n",
    "print('Number of missing values: ' + str(sum(data[var].isnull())))\n",
    "print('Number of unique values: ' + str(len(data[var].unique())))\n",
    "data.boxplot(column = var, return_type = 'axes')"
   ]
  },
  {
   "cell_type": "code",
   "execution_count": 33,
   "metadata": {
    "collapsed": false
   },
   "outputs": [
    {
     "data": {
      "text/plain": [
       "count    887234.000000\n",
       "mean          0.014380\n",
       "std           0.134191\n",
       "min           0.000000\n",
       "25%           0.000000\n",
       "50%           0.000000\n",
       "75%           0.000000\n",
       "max          20.000000\n",
       "Name: collections_12_mths_ex_med, dtype: float64"
      ]
     },
     "execution_count": 33,
     "metadata": {},
     "output_type": "execute_result"
    }
   ],
   "source": [
    "data[var].describe()"
   ]
  },
  {
   "cell_type": "code",
   "execution_count": 34,
   "metadata": {
    "collapsed": true
   },
   "outputs": [],
   "source": [
    "# Impute by median because only 145 missing:\n",
    "data[var].fillna(0, inplace = True)"
   ]
  },
  {
   "cell_type": "markdown",
   "metadata": {},
   "source": [
    "### delinq_2yrs"
   ]
  },
  {
   "cell_type": "code",
   "execution_count": 35,
   "metadata": {
    "collapsed": false
   },
   "outputs": [
    {
     "name": "stdout",
     "output_type": "stream",
     "text": [
      "Number of missing values: 29\n",
      "Number of unique values: 30\n"
     ]
    },
    {
     "data": {
      "text/plain": [
       "<matplotlib.axes._subplots.AxesSubplot at 0x6b7a4e0>"
      ]
     },
     "execution_count": 35,
     "metadata": {},
     "output_type": "execute_result"
    },
    {
     "data": {
      "image/png": "[encoded data removed]",
      "text/plain": [
       "<matplotlib.figure.Figure at 0x6b8b4e0>"
      ]
     },
     "metadata": {},
     "output_type": "display_data"
    }
   ],
   "source": [
    "var = 'delinq_2yrs'\n",
    "print('Number of missing values: ' + str(sum(data[var].isnull())))\n",
    "print('Number of unique values: ' + str(len(data[var].unique())))\n",
    "data.boxplot(column = var, return_type = 'axes')"
   ]
  },
  {
   "cell_type": "code",
   "execution_count": 36,
   "metadata": {
    "collapsed": false
   },
   "outputs": [
    {
     "data": {
      "text/plain": [
       "count    887350.000000\n",
       "mean          0.314442\n",
       "std           0.862244\n",
       "min           0.000000\n",
       "25%           0.000000\n",
       "50%           0.000000\n",
       "75%           0.000000\n",
       "max          39.000000\n",
       "Name: delinq_2yrs, dtype: float64"
      ]
     },
     "execution_count": 36,
     "metadata": {},
     "output_type": "execute_result"
    }
   ],
   "source": [
    "data[var].describe()"
   ]
  },
  {
   "cell_type": "code",
   "execution_count": 37,
   "metadata": {
    "collapsed": true
   },
   "outputs": [],
   "source": [
    "# Impute by median because only 29 missing:\n",
    "data[var].fillna(0, inplace = True)"
   ]
  },
  {
   "cell_type": "markdown",
   "metadata": {},
   "source": [
    "### dti"
   ]
  },
  {
   "cell_type": "code",
   "execution_count": 38,
   "metadata": {
    "collapsed": false
   },
   "outputs": [
    {
     "name": "stdout",
     "output_type": "stream",
     "text": [
      "Number of missing values: 0\n",
      "Number of unique values: 4086\n"
     ]
    },
    {
     "data": {
      "text/plain": [
       "<matplotlib.axes._subplots.AxesSubplot at 0x6f08828>"
      ]
     },
     "execution_count": 38,
     "metadata": {},
     "output_type": "execute_result"
    },
    {
     "data": {
      "image/png": "[encoded data removed]",
      "text/plain": [
       "<matplotlib.figure.Figure at 0x6f14898>"
      ]
     },
     "metadata": {},
     "output_type": "display_data"
    }
   ],
   "source": [
    "var = 'dti'\n",
    "print('Number of missing values: ' + str(sum(data[var].isnull())))\n",
    "print('Number of unique values: ' + str(len(data[var].unique())))\n",
    "data.boxplot(column = var, return_type = 'axes')"
   ]
  },
  {
   "cell_type": "code",
   "execution_count": 39,
   "metadata": {
    "collapsed": false
   },
   "outputs": [
    {
     "data": {
      "text/plain": [
       "count    887379.000000\n",
       "mean         18.157039\n",
       "std          17.190626\n",
       "min           0.000000\n",
       "25%          11.910000\n",
       "50%          17.650000\n",
       "75%          23.950000\n",
       "max        9999.000000\n",
       "Name: dti, dtype: float64"
      ]
     },
     "execution_count": 39,
     "metadata": {},
     "output_type": "execute_result"
    }
   ],
   "source": [
    "data[var].describe()"
   ]
  },
  {
   "cell_type": "code",
   "execution_count": 40,
   "metadata": {
    "collapsed": false
   },
   "outputs": [
    {
     "data": {
      "text/plain": [
       "<matplotlib.axes._subplots.AxesSubplot at 0xa985908>"
      ]
     },
     "execution_count": 40,
     "metadata": {},
     "output_type": "execute_result"
    },
    {
     "data": {
      "image/png": "[encoded data removed]",
      "text/plain": [
       "<matplotlib.figure.Figure at 0xa9f75c0>"
      ]
     },
     "metadata": {},
     "output_type": "display_data"
    }
   ],
   "source": [
    "data['log_dti'] = np.log(1 + data[var])\n",
    "data.boxplot(column = 'log_dti', return_type = 'axes')"
   ]
  },
  {
   "cell_type": "code",
   "execution_count": 41,
   "metadata": {
    "collapsed": false
   },
   "outputs": [
    {
     "data": {
      "text/plain": [
       "count    887379.000000\n",
       "mean          2.832395\n",
       "std           0.535684\n",
       "min           0.000000\n",
       "25%           2.558002\n",
       "50%           2.925846\n",
       "75%           3.216874\n",
       "max           9.210340\n",
       "Name: log_dti, dtype: float64"
      ]
     },
     "execution_count": 41,
     "metadata": {},
     "output_type": "execute_result"
    }
   ],
   "source": [
    "data['log_dti'].describe()"
   ]
  },
  {
   "cell_type": "code",
   "execution_count": 42,
   "metadata": {
    "collapsed": false
   },
   "outputs": [],
   "source": [
    "# Drop variable 'dti'\n",
    "data.drop(var, axis = 1, inplace = True)"
   ]
  },
  {
   "cell_type": "markdown",
   "metadata": {},
   "source": [
    "### funded_amnt"
   ]
  },
  {
   "cell_type": "code",
   "execution_count": 43,
   "metadata": {
    "collapsed": false
   },
   "outputs": [
    {
     "name": "stdout",
     "output_type": "stream",
     "text": [
      "Number of missing values: 0\n",
      "Number of unique values: 1372\n"
     ]
    },
    {
     "data": {
      "text/plain": [
       "<matplotlib.axes._subplots.AxesSubplot at 0xaa22780>"
      ]
     },
     "execution_count": 43,
     "metadata": {},
     "output_type": "execute_result"
    },
    {
     "data": {
      "image/png": "[encoded data removed]",
      "text/plain": [
       "<matplotlib.figure.Figure at 0xb123748>"
      ]
     },
     "metadata": {},
     "output_type": "display_data"
    }
   ],
   "source": [
    "var = 'funded_amnt'\n",
    "print('Number of missing values: ' + str(sum(data[var].isnull())))\n",
    "print('Number of unique values: ' + str(len(data[var].unique())))\n",
    "data.boxplot(column = var, return_type = 'axes')"
   ]
  },
  {
   "cell_type": "code",
   "execution_count": 44,
   "metadata": {
    "collapsed": false
   },
   "outputs": [
    {
     "data": {
      "text/plain": [
       "count    887379.000000\n",
       "mean      14741.877625\n",
       "std        8429.897657\n",
       "min         500.000000\n",
       "25%        8000.000000\n",
       "50%       13000.000000\n",
       "75%       20000.000000\n",
       "max       35000.000000\n",
       "Name: funded_amnt, dtype: float64"
      ]
     },
     "execution_count": 44,
     "metadata": {},
     "output_type": "execute_result"
    }
   ],
   "source": [
    "data[var].describe()"
   ]
  },
  {
   "cell_type": "markdown",
   "metadata": {},
   "source": [
    "### funded_amnt_inv"
   ]
  },
  {
   "cell_type": "code",
   "execution_count": 45,
   "metadata": {
    "collapsed": false
   },
   "outputs": [
    {
     "name": "stdout",
     "output_type": "stream",
     "text": [
      "Number of missing values: 0\n",
      "Number of unique values: 9864\n"
     ]
    },
    {
     "data": {
      "text/plain": [
       "<matplotlib.axes._subplots.AxesSubplot at 0xb1c2ac8>"
      ]
     },
     "execution_count": 45,
     "metadata": {},
     "output_type": "execute_result"
    },
    {
     "data": {
      "image/png": "[encoded data removed]",
      "text/plain": [
       "<matplotlib.figure.Figure at 0xb1d0eb8>"
      ]
     },
     "metadata": {},
     "output_type": "display_data"
    }
   ],
   "source": [
    "var = 'funded_amnt_inv'\n",
    "print('Number of missing values: ' + str(sum(data[var].isnull())))\n",
    "print('Number of unique values: ' + str(len(data[var].unique())))\n",
    "data.boxplot(column = var, return_type = 'axes')"
   ]
  },
  {
   "cell_type": "code",
   "execution_count": 46,
   "metadata": {
    "collapsed": false
   },
   "outputs": [
    {
     "data": {
      "text/plain": [
       "100599"
      ]
     },
     "execution_count": 46,
     "metadata": {},
     "output_type": "execute_result"
    }
   ],
   "source": [
    "sum(data['funded_amnt'] != data['funded_amnt_inv'])"
   ]
  },
  {
   "cell_type": "code",
   "execution_count": 47,
   "metadata": {
    "collapsed": false
   },
   "outputs": [
    {
     "data": {
      "text/plain": [
       "100599"
      ]
     },
     "execution_count": 47,
     "metadata": {},
     "output_type": "execute_result"
    }
   ],
   "source": [
    "sum(data['funded_amnt'] > data['funded_amnt_inv'])"
   ]
  },
  {
   "cell_type": "code",
   "execution_count": 48,
   "metadata": {
    "collapsed": false
   },
   "outputs": [
    {
     "data": {
      "text/plain": [
       "count    887379.000000\n",
       "mean         39.413242\n",
       "std         530.323039\n",
       "min           0.000000\n",
       "25%           0.000000\n",
       "50%           0.000000\n",
       "75%           0.000000\n",
       "max       32474.996081\n",
       "dtype: float64"
      ]
     },
     "execution_count": 48,
     "metadata": {},
     "output_type": "execute_result"
    }
   ],
   "source": [
    "# Have a look at the difference between variables funded_amnt and funded_amnt_inv\n",
    "diff_in_inv = data['funded_amnt'] - data['funded_amnt_inv']\n",
    "diff_in_inv.describe()"
   ]
  },
  {
   "cell_type": "code",
   "execution_count": 49,
   "metadata": {
    "collapsed": false
   },
   "outputs": [
    {
     "data": {
      "text/plain": [
       "count    100599.000000\n",
       "mean        347.662333\n",
       "std        1540.675553\n",
       "min           0.030000\n",
       "25%          25.000000\n",
       "50%          50.000000\n",
       "75%         100.000000\n",
       "max       32474.996081\n",
       "dtype: float64"
      ]
     },
     "execution_count": 49,
     "metadata": {},
     "output_type": "execute_result"
    }
   ],
   "source": [
    "diff_in_inv[diff_in_inv != 0].describe()"
   ]
  },
  {
   "cell_type": "code",
   "execution_count": 50,
   "metadata": {
    "collapsed": false
   },
   "outputs": [
    {
     "data": {
      "image/png": "[encoded data removed]",
      "text/plain": [
       "<matplotlib.figure.Figure at 0xb66f908>"
      ]
     },
     "metadata": {},
     "output_type": "display_data"
    }
   ],
   "source": [
    "bins = np.linspace(25, 35000, 100)\n",
    "plt.hist(diff_in_inv, bins = bins)\n",
    "plt.show()"
   ]
  },
  {
   "cell_type": "code",
   "execution_count": 51,
   "metadata": {
    "collapsed": false
   },
   "outputs": [
    {
     "data": {
      "image/png": "[encoded data removed]",
      "text/plain": [
       "<matplotlib.figure.Figure at 0xb202550>"
      ]
     },
     "metadata": {},
     "output_type": "display_data"
    }
   ],
   "source": [
    "bins = np.linspace(500, 10000, 50)\n",
    "plt.hist(diff_in_inv[diff_in_inv != 0], bins = bins)\n",
    "plt.show()"
   ]
  },
  {
   "cell_type": "code",
   "execution_count": 52,
   "metadata": {
    "collapsed": false
   },
   "outputs": [
    {
     "data": {
      "text/plain": [
       "count    887379.000000\n",
       "mean          0.996430\n",
       "std           0.044094\n",
       "min           0.000000\n",
       "25%           1.000000\n",
       "50%           1.000000\n",
       "75%           1.000000\n",
       "max           1.000000\n",
       "dtype: float64"
      ]
     },
     "execution_count": 52,
     "metadata": {},
     "output_type": "execute_result"
    }
   ],
   "source": [
    "ratio_of_inv = data['funded_amnt_inv'] / data['funded_amnt']\n",
    "ratio_of_inv.describe()"
   ]
  },
  {
   "cell_type": "code",
   "execution_count": 53,
   "metadata": {
    "collapsed": false
   },
   "outputs": [
    {
     "data": {
      "text/plain": [
       "<function matplotlib.pyplot.show>"
      ]
     },
     "execution_count": 53,
     "metadata": {},
     "output_type": "execute_result"
    },
    {
     "data": {
      "image/png": "[encoded data removed]",
      "text/plain": [
       "<matplotlib.figure.Figure at 0xc41aba8>"
      ]
     },
     "metadata": {},
     "output_type": "display_data"
    }
   ],
   "source": [
    "plt.hist(ratio_of_inv)\n",
    "plt.show"
   ]
  },
  {
   "cell_type": "code",
   "execution_count": 54,
   "metadata": {
    "collapsed": false
   },
   "outputs": [
    {
     "data": {
      "text/plain": [
       "<function matplotlib.pyplot.show>"
      ]
     },
     "execution_count": 54,
     "metadata": {},
     "output_type": "execute_result"
    },
    {
     "data": {
      "image/png": "[encoded data removed]",
      "text/plain": [
       "<matplotlib.figure.Figure at 0xc4b5ef0>"
      ]
     },
     "metadata": {},
     "output_type": "display_data"
    }
   ],
   "source": [
    "plt.hist(ratio_of_inv[ratio_of_inv < 0.9])\n",
    "plt.show"
   ]
  },
  {
   "cell_type": "code",
   "execution_count": 55,
   "metadata": {
    "collapsed": true
   },
   "outputs": [],
   "source": [
    "# Create a new variable of the ratio_of_inv and drop funded_amnt_inv\n",
    "data['ratio_of_inv'] = data['funded_amnt_inv'] / data['funded_amnt']\n",
    "data.drop('funded_amnt_inv', axis = 1, inplace = True)"
   ]
  },
  {
   "cell_type": "markdown",
   "metadata": {},
   "source": [
    "### inq_last_6mths"
   ]
  },
  {
   "cell_type": "code",
   "execution_count": 56,
   "metadata": {
    "collapsed": false
   },
   "outputs": [
    {
     "name": "stdout",
     "output_type": "stream",
     "text": [
      "Number of missing values: 29\n",
      "Number of unique values: 29\n"
     ]
    },
    {
     "data": {
      "text/plain": [
       "<matplotlib.axes._subplots.AxesSubplot at 0xc495a20>"
      ]
     },
     "execution_count": 56,
     "metadata": {},
     "output_type": "execute_result"
    },
    {
     "data": {
      "image/png": "[encoded data removed]",
      "text/plain": [
       "<matplotlib.figure.Figure at 0xc4d5208>"
      ]
     },
     "metadata": {},
     "output_type": "display_data"
    }
   ],
   "source": [
    "var = 'inq_last_6mths'\n",
    "print('Number of missing values: ' + str(sum(data[var].isnull())))\n",
    "print('Number of unique values: ' + str(len(data[var].unique())))\n",
    "data.boxplot(column = var, return_type = 'axes')"
   ]
  },
  {
   "cell_type": "code",
   "execution_count": 57,
   "metadata": {
    "collapsed": false
   },
   "outputs": [
    {
     "data": {
      "text/plain": [
       "count    887350.000000\n",
       "mean          0.694623\n",
       "std           0.998448\n",
       "min           0.000000\n",
       "25%           0.000000\n",
       "50%           0.000000\n",
       "75%           1.000000\n",
       "max          33.000000\n",
       "Name: inq_last_6mths, dtype: float64"
      ]
     },
     "execution_count": 57,
     "metadata": {},
     "output_type": "execute_result"
    }
   ],
   "source": [
    "data[var].describe()"
   ]
  },
  {
   "cell_type": "code",
   "execution_count": 58,
   "metadata": {
    "collapsed": true
   },
   "outputs": [],
   "source": [
    "# Impute by median because only 29 missing:\n",
    "data[var].fillna(0, inplace = True)"
   ]
  },
  {
   "cell_type": "markdown",
   "metadata": {},
   "source": [
    "### int_rate"
   ]
  },
  {
   "cell_type": "code",
   "execution_count": 59,
   "metadata": {
    "collapsed": false
   },
   "outputs": [
    {
     "name": "stdout",
     "output_type": "stream",
     "text": [
      "Number of missing values: 0\n",
      "Number of unique values: 542\n"
     ]
    },
    {
     "data": {
      "text/plain": [
       "<matplotlib.axes._subplots.AxesSubplot at 0xb1fe5f8>"
      ]
     },
     "execution_count": 59,
     "metadata": {},
     "output_type": "execute_result"
    },
    {
     "data": {
      "image/png": "[encoded data removed]",
      "text/plain": [
       "<matplotlib.figure.Figure at 0x1bd82a58>"
      ]
     },
     "metadata": {},
     "output_type": "display_data"
    }
   ],
   "source": [
    "var = 'int_rate'\n",
    "print('Number of missing values: ' + str(sum(data[var].isnull())))\n",
    "print('Number of unique values: ' + str(len(data[var].unique())))\n",
    "data.boxplot(column = var, return_type = 'axes')"
   ]
  },
  {
   "cell_type": "markdown",
   "metadata": {},
   "source": [
    "### loan_amnt"
   ]
  },
  {
   "cell_type": "code",
   "execution_count": 60,
   "metadata": {
    "collapsed": false
   },
   "outputs": [
    {
     "name": "stdout",
     "output_type": "stream",
     "text": [
      "Number of missing values: 0\n",
      "Number of unique values: 1372\n"
     ]
    },
    {
     "data": {
      "text/plain": [
       "<matplotlib.axes._subplots.AxesSubplot at 0x1c487c50>"
      ]
     },
     "execution_count": 60,
     "metadata": {},
     "output_type": "execute_result"
    },
    {
     "data": {
      "image/png": "[encoded data removed]",
      "text/plain": [
       "<matplotlib.figure.Figure at 0xb1d7cc0>"
      ]
     },
     "metadata": {},
     "output_type": "display_data"
    }
   ],
   "source": [
    "var = 'loan_amnt'\n",
    "print('Number of missing values: ' + str(sum(data[var].isnull())))\n",
    "print('Number of unique values: ' + str(len(data[var].unique())))\n",
    "data.boxplot(column = var, return_type = 'axes')"
   ]
  },
  {
   "cell_type": "markdown",
   "metadata": {},
   "source": [
    "### mths_since_last_delinq"
   ]
  },
  {
   "cell_type": "code",
   "execution_count": 61,
   "metadata": {
    "collapsed": false
   },
   "outputs": [
    {
     "name": "stdout",
     "output_type": "stream",
     "text": [
      "Number of missing values: 454312\n",
      "Number of unique values: 156\n"
     ]
    },
    {
     "data": {
      "text/plain": [
       "<matplotlib.axes._subplots.AxesSubplot at 0x1c527780>"
      ]
     },
     "execution_count": 61,
     "metadata": {},
     "output_type": "execute_result"
    },
    {
     "data": {
      "image/png": "[encoded data removed]",
      "text/plain": [
       "<matplotlib.figure.Figure at 0x1c6bbc88>"
      ]
     },
     "metadata": {},
     "output_type": "display_data"
    }
   ],
   "source": [
    "var = 'mths_since_last_delinq'\n",
    "print('Number of missing values: ' + str(sum(data[var].isnull())))\n",
    "print('Number of unique values: ' + str(len(data[var].unique())))\n",
    "data.boxplot(column = var, return_type = 'axes')"
   ]
  },
  {
   "cell_type": "code",
   "execution_count": 62,
   "metadata": {
    "collapsed": false
   },
   "outputs": [
    {
     "data": {
      "text/plain": [
       "count    433067.000000\n",
       "mean         34.063798\n",
       "std          21.884940\n",
       "min           0.000000\n",
       "25%          15.000000\n",
       "50%          31.000000\n",
       "75%          50.000000\n",
       "max         188.000000\n",
       "Name: mths_since_last_delinq, dtype: float64"
      ]
     },
     "execution_count": 62,
     "metadata": {},
     "output_type": "execute_result"
    }
   ],
   "source": [
    "data[var].describe()"
   ]
  },
  {
   "cell_type": "code",
   "execution_count": 63,
   "metadata": {
    "collapsed": true
   },
   "outputs": [],
   "source": [
    "# Assume that NaN values refer to cases without delinquency so impute 999 for these cases\n",
    "data[var].fillna(999.0, inplace = True)"
   ]
  },
  {
   "cell_type": "markdown",
   "metadata": {},
   "source": [
    "### mths_since_last_major_derog"
   ]
  },
  {
   "cell_type": "code",
   "execution_count": 64,
   "metadata": {
    "collapsed": false
   },
   "outputs": [
    {
     "name": "stdout",
     "output_type": "stream",
     "text": [
      "Number of missing values: 665676\n",
      "Number of unique values: 169\n"
     ]
    },
    {
     "data": {
      "text/plain": [
       "<matplotlib.axes._subplots.AxesSubplot at 0x1c6e4c88>"
      ]
     },
     "execution_count": 64,
     "metadata": {},
     "output_type": "execute_result"
    },
    {
     "data": {
      "image/png": "[encoded data removed]",
      "text/plain": [
       "<matplotlib.figure.Figure at 0x1c6f5128>"
      ]
     },
     "metadata": {},
     "output_type": "display_data"
    }
   ],
   "source": [
    "var = 'mths_since_last_major_derog'\n",
    "print('Number of missing values: ' + str(sum(data[var].isnull())))\n",
    "print('Number of unique values: ' + str(len(data[var].unique())))\n",
    "data.boxplot(column = var, return_type = 'axes')"
   ]
  },
  {
   "cell_type": "code",
   "execution_count": 65,
   "metadata": {
    "collapsed": false
   },
   "outputs": [
    {
     "data": {
      "text/plain": [
       "count    221703.000000\n",
       "mean         44.104838\n",
       "std          22.179841\n",
       "min           0.000000\n",
       "25%          27.000000\n",
       "50%          44.000000\n",
       "75%          61.000000\n",
       "max         188.000000\n",
       "Name: mths_since_last_major_derog, dtype: float64"
      ]
     },
     "execution_count": 65,
     "metadata": {},
     "output_type": "execute_result"
    }
   ],
   "source": [
    "data[var].describe()"
   ]
  },
  {
   "cell_type": "code",
   "execution_count": 66,
   "metadata": {
    "collapsed": true
   },
   "outputs": [],
   "source": [
    "# Assume that NaN values refer to cases without major derog so impute 999 for these cases\n",
    "data[var].fillna(999.0, inplace = True)"
   ]
  },
  {
   "cell_type": "markdown",
   "metadata": {},
   "source": [
    "### mths_since_last_record"
   ]
  },
  {
   "cell_type": "code",
   "execution_count": 67,
   "metadata": {
    "collapsed": false
   },
   "outputs": [
    {
     "name": "stdout",
     "output_type": "stream",
     "text": [
      "Number of missing values: 750326\n",
      "Number of unique values: 124\n"
     ]
    },
    {
     "data": {
      "text/plain": [
       "<matplotlib.axes._subplots.AxesSubplot at 0x1c7cefd0>"
      ]
     },
     "execution_count": 67,
     "metadata": {},
     "output_type": "execute_result"
    },
    {
     "data": {
      "image/png": "[encoded data removed]",
      "text/plain": [
       "<matplotlib.figure.Figure at 0x1c846828>"
      ]
     },
     "metadata": {},
     "output_type": "display_data"
    }
   ],
   "source": [
    "var = 'mths_since_last_record'\n",
    "print('Number of missing values: ' + str(sum(data[var].isnull())))\n",
    "print('Number of unique values: ' + str(len(data[var].unique())))\n",
    "data.boxplot(column = var, return_type = 'axes')"
   ]
  },
  {
   "cell_type": "code",
   "execution_count": 68,
   "metadata": {
    "collapsed": false
   },
   "outputs": [
    {
     "data": {
      "text/plain": [
       "count    137053.000000\n",
       "mean         70.117903\n",
       "std          28.127914\n",
       "min           0.000000\n",
       "25%          51.000000\n",
       "50%          70.000000\n",
       "75%          92.000000\n",
       "max         129.000000\n",
       "Name: mths_since_last_record, dtype: float64"
      ]
     },
     "execution_count": 68,
     "metadata": {},
     "output_type": "execute_result"
    }
   ],
   "source": [
    "data[var].describe()"
   ]
  },
  {
   "cell_type": "code",
   "execution_count": 69,
   "metadata": {
    "collapsed": true
   },
   "outputs": [],
   "source": [
    "# Assume that NaN values refer to cases without any record so impute 999 for these cases\n",
    "data[var].fillna(999.0, inplace = True)"
   ]
  },
  {
   "cell_type": "markdown",
   "metadata": {},
   "source": [
    "### open_acc"
   ]
  },
  {
   "cell_type": "code",
   "execution_count": 70,
   "metadata": {
    "collapsed": false
   },
   "outputs": [
    {
     "name": "stdout",
     "output_type": "stream",
     "text": [
      "Number of missing values: 29\n",
      "Number of unique values: 78\n"
     ]
    },
    {
     "data": {
      "text/plain": [
       "<matplotlib.axes._subplots.AxesSubplot at 0x1c880dd8>"
      ]
     },
     "execution_count": 70,
     "metadata": {},
     "output_type": "execute_result"
    },
    {
     "data": {
      "image/png": "[encoded data removed]",
      "text/plain": [
       "<matplotlib.figure.Figure at 0x1c8f27f0>"
      ]
     },
     "metadata": {},
     "output_type": "display_data"
    }
   ],
   "source": [
    "var = 'open_acc'\n",
    "print('Number of missing values: ' + str(sum(data[var].isnull())))\n",
    "print('Number of unique values: ' + str(len(data[var].unique())))\n",
    "data.boxplot(column = var, return_type = 'axes')"
   ]
  },
  {
   "cell_type": "code",
   "execution_count": 71,
   "metadata": {
    "collapsed": false
   },
   "outputs": [
    {
     "data": {
      "text/plain": [
       "count    887350.000000\n",
       "mean         11.548469\n",
       "std           5.317313\n",
       "min           0.000000\n",
       "25%           8.000000\n",
       "50%          11.000000\n",
       "75%          14.000000\n",
       "max          90.000000\n",
       "Name: open_acc, dtype: float64"
      ]
     },
     "execution_count": 71,
     "metadata": {},
     "output_type": "execute_result"
    }
   ],
   "source": [
    "data[var].describe()"
   ]
  },
  {
   "cell_type": "code",
   "execution_count": 72,
   "metadata": {
    "collapsed": true
   },
   "outputs": [],
   "source": [
    "# Impute the median because there are only 29 missing values\n",
    "data[var].fillna(11.0, inplace = True)"
   ]
  },
  {
   "cell_type": "markdown",
   "metadata": {},
   "source": [
    "### pub_rec"
   ]
  },
  {
   "cell_type": "code",
   "execution_count": 73,
   "metadata": {
    "collapsed": false
   },
   "outputs": [
    {
     "name": "stdout",
     "output_type": "stream",
     "text": [
      "Number of missing values: 29\n",
      "Number of unique values: 33\n"
     ]
    },
    {
     "data": {
      "text/plain": [
       "<matplotlib.axes._subplots.AxesSubplot at 0x1cb520f0>"
      ]
     },
     "execution_count": 73,
     "metadata": {},
     "output_type": "execute_result"
    },
    {
     "data": {
      "image/png": "[encoded data removed]",
      "text/plain": [
       "<matplotlib.figure.Figure at 0xa874c50>"
      ]
     },
     "metadata": {},
     "output_type": "display_data"
    }
   ],
   "source": [
    "var = 'pub_rec'\n",
    "print('Number of missing values: ' + str(sum(data[var].isnull())))\n",
    "print('Number of unique values: ' + str(len(data[var].unique())))\n",
    "data.boxplot(column = var, return_type = 'axes')"
   ]
  },
  {
   "cell_type": "code",
   "execution_count": 74,
   "metadata": {
    "collapsed": false
   },
   "outputs": [
    {
     "data": {
      "text/plain": [
       "count    887350.000000\n",
       "mean          0.195307\n",
       "std           0.582091\n",
       "min           0.000000\n",
       "25%           0.000000\n",
       "50%           0.000000\n",
       "75%           0.000000\n",
       "max          86.000000\n",
       "Name: pub_rec, dtype: float64"
      ]
     },
     "execution_count": 74,
     "metadata": {},
     "output_type": "execute_result"
    }
   ],
   "source": [
    "data[var].describe()"
   ]
  },
  {
   "cell_type": "code",
   "execution_count": 75,
   "metadata": {
    "collapsed": true
   },
   "outputs": [],
   "source": [
    "# Impute the median because there are only 29 missing values\n",
    "data[var].fillna(11.0, inplace = True)"
   ]
  },
  {
   "cell_type": "markdown",
   "metadata": {},
   "source": [
    "### recoveries"
   ]
  },
  {
   "cell_type": "code",
   "execution_count": 76,
   "metadata": {
    "collapsed": false
   },
   "outputs": [
    {
     "name": "stdout",
     "output_type": "stream",
     "text": [
      "Number of missing values: 0\n",
      "Number of unique values: 23055\n"
     ]
    },
    {
     "data": {
      "text/plain": [
       "<matplotlib.axes._subplots.AxesSubplot at 0x1cbebba8>"
      ]
     },
     "execution_count": 76,
     "metadata": {},
     "output_type": "execute_result"
    },
    {
     "data": {
      "image/png": "[encoded data removed]",
      "text/plain": [
       "<matplotlib.figure.Figure at 0x1c8f8128>"
      ]
     },
     "metadata": {},
     "output_type": "display_data"
    }
   ],
   "source": [
    "var = 'recoveries'\n",
    "print('Number of missing values: ' + str(sum(data[var].isnull())))\n",
    "print('Number of unique values: ' + str(len(data[var].unique())))\n",
    "data.boxplot(column = var, return_type = 'axes')"
   ]
  },
  {
   "cell_type": "code",
   "execution_count": 77,
   "metadata": {
    "collapsed": false
   },
   "outputs": [
    {
     "data": {
      "text/plain": [
       "count    887379.000000\n",
       "mean         45.919243\n",
       "std         409.693874\n",
       "min           0.000000\n",
       "25%           0.000000\n",
       "50%           0.000000\n",
       "75%           0.000000\n",
       "max       33520.270000\n",
       "Name: recoveries, dtype: float64"
      ]
     },
     "execution_count": 77,
     "metadata": {},
     "output_type": "execute_result"
    }
   ],
   "source": [
    "data[var].describe()"
   ]
  },
  {
   "cell_type": "code",
   "execution_count": 78,
   "metadata": {
    "collapsed": false
   },
   "outputs": [
    {
     "data": {
      "text/plain": [
       "24677"
      ]
     },
     "execution_count": 78,
     "metadata": {},
     "output_type": "execute_result"
    }
   ],
   "source": [
    "sum(data[var] != 0)"
   ]
  },
  {
   "cell_type": "markdown",
   "metadata": {},
   "source": [
    "### revol_bal"
   ]
  },
  {
   "cell_type": "code",
   "execution_count": 79,
   "metadata": {
    "collapsed": false
   },
   "outputs": [
    {
     "name": "stdout",
     "output_type": "stream",
     "text": [
      "Number of missing values: 0\n",
      "Number of unique values: 73740\n"
     ]
    },
    {
     "data": {
      "text/plain": [
       "<matplotlib.axes._subplots.AxesSubplot at 0xb698748>"
      ]
     },
     "execution_count": 79,
     "metadata": {},
     "output_type": "execute_result"
    },
    {
     "data": {
      "image/png": "[encoded data removed]",
      "text/plain": [
       "<matplotlib.figure.Figure at 0x1bccf240>"
      ]
     },
     "metadata": {},
     "output_type": "display_data"
    }
   ],
   "source": [
    "var = 'revol_bal'\n",
    "print('Number of missing values: ' + str(sum(data[var].isnull())))\n",
    "print('Number of unique values: ' + str(len(data[var].unique())))\n",
    "data.boxplot(column = var, return_type = 'axes')"
   ]
  },
  {
   "cell_type": "code",
   "execution_count": 80,
   "metadata": {
    "collapsed": false
   },
   "outputs": [
    {
     "data": {
      "text/plain": [
       "count    8.873790e+05\n",
       "mean     1.692079e+04\n",
       "std      2.242679e+04\n",
       "min      0.000000e+00\n",
       "25%      6.443000e+03\n",
       "50%      1.187500e+04\n",
       "75%      2.082900e+04\n",
       "max      2.904836e+06\n",
       "Name: revol_bal, dtype: float64"
      ]
     },
     "execution_count": 80,
     "metadata": {},
     "output_type": "execute_result"
    }
   ],
   "source": [
    "data[var].describe()"
   ]
  },
  {
   "cell_type": "code",
   "execution_count": 81,
   "metadata": {
    "collapsed": false
   },
   "outputs": [
    {
     "data": {
      "text/plain": [
       "count    887379.000000\n",
       "mean          1.374659\n",
       "std           2.179737\n",
       "min           0.000000\n",
       "25%           0.594600\n",
       "50%           0.948235\n",
       "75%           1.419048\n",
       "max         269.726000\n",
       "Name: ratio_revolbal_loanamnt, dtype: float64"
      ]
     },
     "execution_count": 81,
     "metadata": {},
     "output_type": "execute_result"
    }
   ],
   "source": [
    "# Create a new variable that measures the ratio of revol_bal and loan_amnt\n",
    "data['ratio_revolbal_loanamnt'] = data[var] / data['loan_amnt']\n",
    "data['ratio_revolbal_loanamnt'].describe()"
   ]
  },
  {
   "cell_type": "code",
   "execution_count": 82,
   "metadata": {
    "collapsed": false
   },
   "outputs": [
    {
     "data": {
      "text/plain": [
       "<matplotlib.axes._subplots.AxesSubplot at 0x1ac87eb8>"
      ]
     },
     "execution_count": 82,
     "metadata": {},
     "output_type": "execute_result"
    },
    {
     "data": {
      "image/png": "[encoded data removed]",
      "text/plain": [
       "<matplotlib.figure.Figure at 0xc3f95f8>"
      ]
     },
     "metadata": {},
     "output_type": "display_data"
    }
   ],
   "source": [
    "data.boxplot(column = 'ratio_revolbal_loanamnt', return_type = 'axes')"
   ]
  },
  {
   "cell_type": "code",
   "execution_count": 83,
   "metadata": {
    "collapsed": false
   },
   "outputs": [
    {
     "data": {
      "text/plain": [
       "<matplotlib.axes._subplots.AxesSubplot at 0x1aceb7b8>"
      ]
     },
     "execution_count": 83,
     "metadata": {},
     "output_type": "execute_result"
    },
    {
     "data": {
      "image/png": "[encoded data removed]",
      "text/plain": [
       "<matplotlib.figure.Figure at 0xc4746a0>"
      ]
     },
     "metadata": {},
     "output_type": "display_data"
    }
   ],
   "source": [
    "data['log_ratio_revolbal_loanamnt'] = np.log(1 + data['ratio_revolbal_loanamnt'])\n",
    "data.boxplot(column = 'log_ratio_revolbal_loanamnt', return_type = 'axes')"
   ]
  },
  {
   "cell_type": "code",
   "execution_count": 84,
   "metadata": {
    "collapsed": false
   },
   "outputs": [
    {
     "data": {
      "text/plain": [
       "count    887379.000000\n",
       "mean          0.731680\n",
       "std           0.437207\n",
       "min           0.000000\n",
       "25%           0.466623\n",
       "50%           0.666924\n",
       "75%           0.883374\n",
       "max           5.601107\n",
       "Name: log_ratio_revolbal_loanamnt, dtype: float64"
      ]
     },
     "execution_count": 84,
     "metadata": {},
     "output_type": "execute_result"
    }
   ],
   "source": [
    "data['log_ratio_revolbal_loanamnt'].describe()"
   ]
  },
  {
   "cell_type": "code",
   "execution_count": 85,
   "metadata": {
    "collapsed": true
   },
   "outputs": [],
   "source": [
    "# Drop variable ratio_revolbal_loanamnt\n",
    "data.drop('ratio_revolbal_loanamnt', axis = 1, inplace = True)"
   ]
  },
  {
   "cell_type": "markdown",
   "metadata": {},
   "source": [
    "### revol_util"
   ]
  },
  {
   "cell_type": "code",
   "execution_count": 86,
   "metadata": {
    "collapsed": false
   },
   "outputs": [
    {
     "name": "stdout",
     "output_type": "stream",
     "text": [
      "Number of missing values: 502\n",
      "Number of unique values: 1357\n"
     ]
    },
    {
     "data": {
      "text/plain": [
       "<matplotlib.axes._subplots.AxesSubplot at 0x1aceb160>"
      ]
     },
     "execution_count": 86,
     "metadata": {},
     "output_type": "execute_result"
    },
    {
     "data": {
      "image/png": "[encoded data removed]",
      "text/plain": [
       "<matplotlib.figure.Figure at 0x1c85bdd8>"
      ]
     },
     "metadata": {},
     "output_type": "display_data"
    }
   ],
   "source": [
    "var = 'revol_util'\n",
    "print('Number of missing values: ' + str(sum(data[var].isnull())))\n",
    "print('Number of unique values: ' + str(len(data[var].unique())))\n",
    "data.boxplot(column = var, return_type = 'axes')"
   ]
  },
  {
   "cell_type": "code",
   "execution_count": 87,
   "metadata": {
    "collapsed": false
   },
   "outputs": [
    {
     "data": {
      "text/plain": [
       "count    886877.000000\n",
       "mean         55.067693\n",
       "std          23.834344\n",
       "min           0.000000\n",
       "25%          37.700000\n",
       "50%          56.000000\n",
       "75%          73.600000\n",
       "max         892.300000\n",
       "Name: revol_util, dtype: float64"
      ]
     },
     "execution_count": 87,
     "metadata": {},
     "output_type": "execute_result"
    }
   ],
   "source": [
    "data[var].describe()"
   ]
  },
  {
   "cell_type": "code",
   "execution_count": 88,
   "metadata": {
    "collapsed": true
   },
   "outputs": [],
   "source": [
    "# Impute the median because there are only 502 missing values\n",
    "data[var].fillna(56.0, inplace = True)"
   ]
  },
  {
   "cell_type": "markdown",
   "metadata": {},
   "source": [
    "### tot_coll_amt"
   ]
  },
  {
   "cell_type": "code",
   "execution_count": 89,
   "metadata": {
    "collapsed": false
   },
   "outputs": [
    {
     "name": "stdout",
     "output_type": "stream",
     "text": [
      "Number of missing values: 70276\n",
      "Number of unique values: 10326\n"
     ]
    },
    {
     "data": {
      "text/plain": [
       "<matplotlib.axes._subplots.AxesSubplot at 0x1bd22c88>"
      ]
     },
     "execution_count": 89,
     "metadata": {},
     "output_type": "execute_result"
    },
    {
     "data": {
      "image/png": "[encoded data removed]",
      "text/plain": [
       "<matplotlib.figure.Figure at 0x1bd421d0>"
      ]
     },
     "metadata": {},
     "output_type": "display_data"
    }
   ],
   "source": [
    "var = 'tot_coll_amt'\n",
    "print('Number of missing values: ' + str(sum(data[var].isnull())))\n",
    "print('Number of unique values: ' + str(len(data[var].unique())))\n",
    "data.boxplot(column = var, return_type = 'axes')"
   ]
  },
  {
   "cell_type": "code",
   "execution_count": 90,
   "metadata": {
    "collapsed": false
   },
   "outputs": [
    {
     "data": {
      "text/plain": [
       "count    8.171030e+05\n",
       "mean     2.257026e+02\n",
       "std      1.031137e+04\n",
       "min      0.000000e+00\n",
       "25%      0.000000e+00\n",
       "50%      0.000000e+00\n",
       "75%      0.000000e+00\n",
       "max      9.152545e+06\n",
       "Name: tot_coll_amt, dtype: float64"
      ]
     },
     "execution_count": 90,
     "metadata": {},
     "output_type": "execute_result"
    }
   ],
   "source": [
    "data[var].describe()"
   ]
  },
  {
   "cell_type": "code",
   "execution_count": 91,
   "metadata": {
    "collapsed": false
   },
   "outputs": [
    {
     "data": {
      "text/plain": [
       "700946"
      ]
     },
     "execution_count": 91,
     "metadata": {},
     "output_type": "execute_result"
    }
   ],
   "source": [
    "sum(data[var] == 0)"
   ]
  },
  {
   "cell_type": "code",
   "execution_count": 92,
   "metadata": {
    "collapsed": false
   },
   "outputs": [],
   "source": [
    "# Create new variable that shows whether tot_coll_amt > 0 (assuming 0 for NaN cases)\n",
    "data['tot_coll_exist'] = data[var].apply(lambda x: 1 if x > 0 else 0)"
   ]
  },
  {
   "cell_type": "code",
   "execution_count": 93,
   "metadata": {
    "collapsed": true
   },
   "outputs": [],
   "source": [
    "# Drop tot_coll_amt\n",
    "data.drop(var, axis = 1, inplace = True)"
   ]
  },
  {
   "cell_type": "markdown",
   "metadata": {},
   "source": [
    "### tot_cur_bal"
   ]
  },
  {
   "cell_type": "code",
   "execution_count": 94,
   "metadata": {
    "collapsed": false
   },
   "outputs": [
    {
     "name": "stdout",
     "output_type": "stream",
     "text": [
      "Number of missing values: 70276\n",
      "Number of unique values: 327343\n"
     ]
    },
    {
     "data": {
      "text/plain": [
       "<matplotlib.axes._subplots.AxesSubplot at 0x1ccdee10>"
      ]
     },
     "execution_count": 94,
     "metadata": {},
     "output_type": "execute_result"
    },
    {
     "data": {
      "image/png": "[encoded data removed]",
      "text/plain": [
       "<matplotlib.figure.Figure at 0x1cce7588>"
      ]
     },
     "metadata": {},
     "output_type": "display_data"
    }
   ],
   "source": [
    "var = 'tot_cur_bal'\n",
    "print('Number of missing values: ' + str(sum(data[var].isnull())))\n",
    "print('Number of unique values: ' + str(len(data[var].unique())))\n",
    "data.boxplot(column = var, return_type = 'axes')"
   ]
  },
  {
   "cell_type": "code",
   "execution_count": 95,
   "metadata": {
    "collapsed": false
   },
   "outputs": [
    {
     "data": {
      "text/plain": [
       "count    8.171030e+05\n",
       "mean     1.394582e+05\n",
       "std      1.537500e+05\n",
       "min      0.000000e+00\n",
       "25%      2.985300e+04\n",
       "50%      8.055900e+04\n",
       "75%      2.082050e+05\n",
       "max      8.000078e+06\n",
       "Name: tot_cur_bal, dtype: float64"
      ]
     },
     "execution_count": 95,
     "metadata": {},
     "output_type": "execute_result"
    }
   ],
   "source": [
    "data[var].describe()"
   ]
  },
  {
   "cell_type": "code",
   "execution_count": 96,
   "metadata": {
    "collapsed": false
   },
   "outputs": [
    {
     "data": {
      "text/plain": [
       "126"
      ]
     },
     "execution_count": 96,
     "metadata": {},
     "output_type": "execute_result"
    }
   ],
   "source": [
    "sum(data[var] == 0)"
   ]
  },
  {
   "cell_type": "code",
   "execution_count": 97,
   "metadata": {
    "collapsed": false
   },
   "outputs": [],
   "source": [
    "# High proportion missing so create a new variable whether present or not\n",
    "data['tot_cur_bal_exist'] = data[var].apply(lambda x: 0 if pd.isnull(x) else 1)"
   ]
  },
  {
   "cell_type": "code",
   "execution_count": 98,
   "metadata": {
    "collapsed": true
   },
   "outputs": [],
   "source": [
    "# Drop variable\n",
    "data.drop(var, axis = 1, inplace = True)"
   ]
  },
  {
   "cell_type": "markdown",
   "metadata": {},
   "source": [
    "### total_acc"
   ]
  },
  {
   "cell_type": "code",
   "execution_count": 99,
   "metadata": {
    "collapsed": false
   },
   "outputs": [
    {
     "name": "stdout",
     "output_type": "stream",
     "text": [
      "Number of missing values: 29\n",
      "Number of unique values: 136\n"
     ]
    },
    {
     "data": {
      "text/plain": [
       "<matplotlib.axes._subplots.AxesSubplot at 0x1cd87518>"
      ]
     },
     "execution_count": 99,
     "metadata": {},
     "output_type": "execute_result"
    },
    {
     "data": {
      "image/png": "[encoded data removed]",
      "text/plain": [
       "<matplotlib.figure.Figure at 0x1cd940f0>"
      ]
     },
     "metadata": {},
     "output_type": "display_data"
    }
   ],
   "source": [
    "var = 'total_acc'\n",
    "print('Number of missing values: ' + str(sum(data[var].isnull())))\n",
    "print('Number of unique values: ' + str(len(data[var].unique())))\n",
    "data.boxplot(column = var, return_type = 'axes')"
   ]
  },
  {
   "cell_type": "code",
   "execution_count": 100,
   "metadata": {
    "collapsed": false
   },
   "outputs": [
    {
     "data": {
      "text/plain": [
       "count    887350.000000\n",
       "mean         25.268026\n",
       "std          11.840561\n",
       "min           1.000000\n",
       "25%          17.000000\n",
       "50%          24.000000\n",
       "75%          32.000000\n",
       "max         169.000000\n",
       "Name: total_acc, dtype: float64"
      ]
     },
     "execution_count": 100,
     "metadata": {},
     "output_type": "execute_result"
    }
   ],
   "source": [
    "data[var].describe()"
   ]
  },
  {
   "cell_type": "code",
   "execution_count": 101,
   "metadata": {
    "collapsed": true
   },
   "outputs": [],
   "source": [
    "# Impute median because only 29 values missing\n",
    "data[var].fillna(24.0, inplace = True)"
   ]
  },
  {
   "cell_type": "markdown",
   "metadata": {},
   "source": [
    "### total_rec_int"
   ]
  },
  {
   "cell_type": "code",
   "execution_count": 102,
   "metadata": {
    "collapsed": false
   },
   "outputs": [
    {
     "name": "stdout",
     "output_type": "stream",
     "text": [
      "Number of missing values: 0\n",
      "Number of unique values: 324635\n"
     ]
    },
    {
     "data": {
      "text/plain": [
       "<matplotlib.axes._subplots.AxesSubplot at 0x25954160>"
      ]
     },
     "execution_count": 102,
     "metadata": {},
     "output_type": "execute_result"
    },
    {
     "data": {
      "image/png": "[encoded data removed]",
      "text/plain": [
       "<matplotlib.figure.Figure at 0x1cdf4518>"
      ]
     },
     "metadata": {},
     "output_type": "display_data"
    }
   ],
   "source": [
    "var = 'total_rec_int'\n",
    "print('Number of missing values: ' + str(sum(data[var].isnull())))\n",
    "print('Number of unique values: ' + str(len(data[var].unique())))\n",
    "data.boxplot(column = var, return_type = 'axes')"
   ]
  },
  {
   "cell_type": "code",
   "execution_count": 103,
   "metadata": {
    "collapsed": false
   },
   "outputs": [
    {
     "data": {
      "text/plain": [
       "count    887379.000000\n",
       "mean       1754.804327\n",
       "std        2095.356099\n",
       "min           0.000000\n",
       "25%         441.460000\n",
       "50%        1073.280000\n",
       "75%        2238.265000\n",
       "max       24205.620000\n",
       "Name: total_rec_int, dtype: float64"
      ]
     },
     "execution_count": 103,
     "metadata": {},
     "output_type": "execute_result"
    }
   ],
   "source": [
    "data[var].describe()"
   ]
  },
  {
   "cell_type": "code",
   "execution_count": 104,
   "metadata": {
    "collapsed": false
   },
   "outputs": [
    {
     "data": {
      "text/plain": [
       "<matplotlib.axes._subplots.AxesSubplot at 0x1ce31b70>"
      ]
     },
     "execution_count": 104,
     "metadata": {},
     "output_type": "execute_result"
    },
    {
     "data": {
      "image/png": "[encoded data removed]",
      "text/plain": [
       "<matplotlib.figure.Figure at 0x1c7a7240>"
      ]
     },
     "metadata": {},
     "output_type": "display_data"
    }
   ],
   "source": [
    "data['log_total_rec_int'] = np.log(1 + data[var])\n",
    "data.boxplot(column = 'log_total_rec_int', return_type = 'axes')"
   ]
  },
  {
   "cell_type": "code",
   "execution_count": 105,
   "metadata": {
    "collapsed": false
   },
   "outputs": [
    {
     "data": {
      "text/plain": [
       "count    887379.000000\n",
       "mean          6.754958\n",
       "std           1.532066\n",
       "min           0.000000\n",
       "25%           6.092350\n",
       "50%           6.979406\n",
       "75%           7.713903\n",
       "max          10.094381\n",
       "Name: log_total_rec_int, dtype: float64"
      ]
     },
     "execution_count": 105,
     "metadata": {},
     "output_type": "execute_result"
    }
   ],
   "source": [
    "data['log_total_rec_int'].describe()"
   ]
  },
  {
   "cell_type": "code",
   "execution_count": 106,
   "metadata": {
    "collapsed": true
   },
   "outputs": [],
   "source": [
    "# Drop variable total_rec_int\n",
    "data.drop(var, axis = 1, inplace = True)"
   ]
  },
  {
   "cell_type": "markdown",
   "metadata": {},
   "source": [
    "### total_rec_late_fee"
   ]
  },
  {
   "cell_type": "code",
   "execution_count": 107,
   "metadata": {
    "collapsed": false
   },
   "outputs": [
    {
     "name": "stdout",
     "output_type": "stream",
     "text": [
      "Number of missing values: 0\n",
      "Number of unique values: 6162\n"
     ]
    },
    {
     "data": {
      "text/plain": [
       "<matplotlib.axes._subplots.AxesSubplot at 0x1cecb710>"
      ]
     },
     "execution_count": 107,
     "metadata": {},
     "output_type": "execute_result"
    },
    {
     "data": {
      "image/png": "[encoded data removed]",
      "text/plain": [
       "<matplotlib.figure.Figure at 0x1cdf8860>"
      ]
     },
     "metadata": {},
     "output_type": "display_data"
    }
   ],
   "source": [
    "var = 'total_rec_late_fee'\n",
    "print('Number of missing values: ' + str(sum(data[var].isnull())))\n",
    "print('Number of unique values: ' + str(len(data[var].unique())))\n",
    "data.boxplot(column = var, return_type = 'axes')"
   ]
  },
  {
   "cell_type": "code",
   "execution_count": 108,
   "metadata": {
    "collapsed": false
   },
   "outputs": [
    {
     "data": {
      "text/plain": [
       "count    887379.000000\n",
       "mean          0.396692\n",
       "std           4.087825\n",
       "min           0.000000\n",
       "25%           0.000000\n",
       "50%           0.000000\n",
       "75%           0.000000\n",
       "max         358.680000\n",
       "Name: total_rec_late_fee, dtype: float64"
      ]
     },
     "execution_count": 108,
     "metadata": {},
     "output_type": "execute_result"
    }
   ],
   "source": [
    "data[var].describe()"
   ]
  },
  {
   "cell_type": "code",
   "execution_count": 109,
   "metadata": {
    "collapsed": false
   },
   "outputs": [
    {
     "data": {
      "text/plain": [
       "12517"
      ]
     },
     "execution_count": 109,
     "metadata": {},
     "output_type": "execute_result"
    }
   ],
   "source": [
    "sum(data[var] > 0)"
   ]
  },
  {
   "cell_type": "markdown",
   "metadata": {},
   "source": [
    "### total_rev_hi_lim"
   ]
  },
  {
   "cell_type": "code",
   "execution_count": 110,
   "metadata": {
    "collapsed": false
   },
   "outputs": [
    {
     "name": "stdout",
     "output_type": "stream",
     "text": [
      "Number of missing values: 70276\n",
      "Number of unique values: 21252\n"
     ]
    },
    {
     "data": {
      "text/plain": [
       "<matplotlib.axes._subplots.AxesSubplot at 0x1cf79940>"
      ]
     },
     "execution_count": 110,
     "metadata": {},
     "output_type": "execute_result"
    },
    {
     "data": {
      "image/png": "[encoded data removed]",
      "text/plain": [
       "<matplotlib.figure.Figure at 0x1cfe65c0>"
      ]
     },
     "metadata": {},
     "output_type": "display_data"
    }
   ],
   "source": [
    "var = 'total_rev_hi_lim'\n",
    "print('Number of missing values: ' + str(sum(data[var].isnull())))\n",
    "print('Number of unique values: ' + str(len(data[var].unique())))\n",
    "data.boxplot(column = var, return_type = 'axes')"
   ]
  },
  {
   "cell_type": "code",
   "execution_count": 111,
   "metadata": {
    "collapsed": false
   },
   "outputs": [
    {
     "data": {
      "text/plain": [
       "count    8.171030e+05\n",
       "mean     3.206862e+04\n",
       "std      3.749826e+04\n",
       "min      0.000000e+00\n",
       "25%      1.390000e+04\n",
       "50%      2.370000e+04\n",
       "75%      3.980000e+04\n",
       "max      9.999999e+06\n",
       "Name: total_rev_hi_lim, dtype: float64"
      ]
     },
     "execution_count": 111,
     "metadata": {},
     "output_type": "execute_result"
    }
   ],
   "source": [
    "data[var].describe()"
   ]
  },
  {
   "cell_type": "code",
   "execution_count": 112,
   "metadata": {
    "collapsed": false
   },
   "outputs": [],
   "source": [
    "# High proportion missing so create a new var whether present or not\n",
    "data['tot_rev_hi_lim_exist'] = data[var].apply(lambda x: 0 if pd.isnull(x) else 1)"
   ]
  },
  {
   "cell_type": "code",
   "execution_count": 113,
   "metadata": {
    "collapsed": true
   },
   "outputs": [],
   "source": [
    "# Drop variable\n",
    "data.drop(var, axis = 1, inplace = True)"
   ]
  },
  {
   "cell_type": "markdown",
   "metadata": {},
   "source": [
    "## Categorical variables ('object' dtype)"
   ]
  },
  {
   "cell_type": "code",
   "execution_count": 114,
   "metadata": {
    "collapsed": false
   },
   "outputs": [
    {
     "name": "stdout",
     "output_type": "stream",
     "text": [
      "\n",
      "Frequency count for variable addr_state\n",
      "CA    129517\n",
      "NY     74086\n",
      "TX     71138\n",
      "FL     60935\n",
      "IL     35476\n",
      "NJ     33256\n",
      "PA     31393\n",
      "OH     29631\n",
      "GA     29085\n",
      "VA     26255\n",
      "NC     24720\n",
      "MI     22985\n",
      "MD     21031\n",
      "MA     20593\n",
      "AZ     20412\n",
      "WA     19434\n",
      "CO     18807\n",
      "MN     15957\n",
      "MO     14207\n",
      "IN     13789\n",
      "CT     13531\n",
      "TN     12887\n",
      "NV     12443\n",
      "WI     11574\n",
      "AL     11200\n",
      "OR     10893\n",
      "SC     10639\n",
      "LA     10587\n",
      "KY      8550\n",
      "OK      8085\n",
      "KS      7926\n",
      "AR      6640\n",
      "UT      6264\n",
      "NM      4939\n",
      "HI      4570\n",
      "WV      4386\n",
      "NH      4294\n",
      "RI      3893\n",
      "MS      3819\n",
      "MT      2558\n",
      "DE      2511\n",
      "DC      2432\n",
      "AK      2205\n",
      "WY      2028\n",
      "SD      1815\n",
      "VT      1797\n",
      "NE      1176\n",
      "ME       525\n",
      "ND       479\n",
      "IA        14\n",
      "ID        12\n",
      "Name: addr_state, dtype: int64\n",
      "\n",
      "Frequency count for variable application_type\n",
      "INDIVIDUAL    886868\n",
      "JOINT            511\n",
      "Name: application_type, dtype: int64\n",
      "\n",
      "Frequency count for variable emp_length\n",
      "10+ years    291569\n",
      "2 years       78870\n",
      "< 1 year      70605\n",
      "3 years       70026\n",
      "1 year        57095\n",
      "5 years       55704\n",
      "4 years       52529\n",
      "n/a           44825\n",
      "7 years       44594\n",
      "8 years       43955\n",
      "6 years       42950\n",
      "9 years       34657\n",
      "Name: emp_length, dtype: int64\n",
      "\n",
      "Frequency count for variable grade\n",
      "B    254535\n",
      "C    245860\n",
      "A    148202\n",
      "D    139542\n",
      "E     70705\n",
      "F     23046\n",
      "G      5489\n",
      "Name: grade, dtype: int64\n",
      "\n",
      "Frequency count for variable home_ownership\n",
      "MORTGAGE    443557\n",
      "RENT        356117\n",
      "OWN          87470\n",
      "OTHER          182\n",
      "NONE            50\n",
      "ANY              3\n",
      "Name: home_ownership, dtype: int64\n",
      "\n",
      "Frequency count for variable initial_list_status\n",
      "f    456848\n",
      "w    430531\n",
      "Name: initial_list_status, dtype: int64\n",
      "\n",
      "Frequency count for variable last_week_pay\n",
      "13th week     50321\n",
      "9th week      47680\n",
      "26th week     45989\n",
      "22th week     43342\n",
      "4th week      43105\n",
      "35th week     40162\n",
      "39th week     39767\n",
      "17th week     36684\n",
      "31th week     35386\n",
      "48th week     32189\n",
      "52th week     32164\n",
      "65th week     31867\n",
      "61th week     30421\n",
      "78th week     23518\n",
      "74th week     22385\n",
      "87th week     18698\n",
      "91th week     18016\n",
      "NAth week     17659\n",
      "44th week     17505\n",
      "83th week     16266\n",
      "70th week     16068\n",
      "156th week    14131\n",
      "43th week     13713\n",
      "100th week    13702\n",
      "109th week    12984\n",
      "57th week     12981\n",
      "104th week    12874\n",
      "96th week     11267\n",
      "113th week    10967\n",
      "117th week    10757\n",
      "              ...  \n",
      "108th week      319\n",
      "204th week      318\n",
      "222th week      313\n",
      "226th week      270\n",
      "239th week      230\n",
      "231th week      230\n",
      "235th week      229\n",
      "244th week      228\n",
      "248th week      207\n",
      "252th week      178\n",
      "169th week      169\n",
      "256th week      138\n",
      "79th week       128\n",
      "182th week       65\n",
      "243th week       50\n",
      "153th week       36\n",
      "192th week       31\n",
      "230th week       28\n",
      "218th week       19\n",
      "270th week       18\n",
      "257th week       18\n",
      "205th week       10\n",
      "221th week        7\n",
      "291th week        3\n",
      "283th week        2\n",
      "304th week        1\n",
      "300th week        1\n",
      "274th week        1\n",
      "269th week        1\n",
      "278th week        1\n",
      "Name: last_week_pay, dtype: int64\n",
      "\n",
      "Frequency count for variable purpose\n",
      "debt_consolidation    524215\n",
      "credit_card           206182\n",
      "home_improvement       51829\n",
      "other                  42894\n",
      "major_purchase         17277\n",
      "small_business         10377\n",
      "car                     8863\n",
      "medical                 8540\n",
      "moving                  5414\n",
      "vacation                4736\n",
      "house                   3707\n",
      "wedding                 2347\n",
      "renewable_energy         575\n",
      "educational              423\n",
      "Name: purpose, dtype: int64\n",
      "\n",
      "Frequency count for variable pymnt_plan\n",
      "n    887369\n",
      "y        10\n",
      "Name: pymnt_plan, dtype: int64\n",
      "\n",
      "Frequency count for variable sub_grade\n",
      "B3    56323\n",
      "B4    55626\n",
      "C1    53387\n",
      "C2    52236\n",
      "C3    50161\n",
      "C4    48857\n",
      "B5    48833\n",
      "B2    48781\n",
      "B1    44972\n",
      "A5    44816\n",
      "C5    41219\n",
      "D1    36238\n",
      "A4    34531\n",
      "D2    29803\n",
      "D3    26554\n",
      "D4    25558\n",
      "A3    23457\n",
      "A1    22913\n",
      "A2    22485\n",
      "D5    21389\n",
      "E1    18268\n",
      "E2    17004\n",
      "E3    14134\n",
      "E4    11724\n",
      "E5     9575\n",
      "F1     7218\n",
      "F2     5392\n",
      "F3     4433\n",
      "F4     3409\n",
      "F5     2594\n",
      "G1     1871\n",
      "G2     1398\n",
      "G3      981\n",
      "G4      663\n",
      "G5      576\n",
      "Name: sub_grade, dtype: int64\n",
      "\n",
      "Frequency count for variable term\n",
      "36 months    621125\n",
      "60 months    266254\n",
      "Name: term, dtype: int64\n",
      "\n",
      "Frequency count for variable verification_status\n",
      "Source Verified    329558\n",
      "Verified           291071\n",
      "Not Verified       266750\n",
      "Name: verification_status, dtype: int64\n",
      "\n",
      "Frequency count for variable verification_status_joint\n",
      "Not Verified       283\n",
      "Verified           167\n",
      "Source Verified     61\n",
      "Name: verification_status_joint, dtype: int64\n",
      "\n",
      "Frequency count for variable zip_code\n",
      "945xx    9770\n",
      "750xx    9417\n",
      "112xx    9272\n",
      "606xx    8641\n",
      "300xx    8126\n",
      "100xx    7609\n",
      "070xx    7431\n",
      "331xx    7416\n",
      "900xx    7287\n",
      "770xx    6938\n",
      "891xx    6441\n",
      "917xx    6357\n",
      "330xx    6283\n",
      "117xx    6129\n",
      "104xx    6008\n",
      "921xx    5661\n",
      "852xx    5442\n",
      "926xx    5415\n",
      "913xx    5160\n",
      "925xx    4907\n",
      "113xx    4813\n",
      "334xx    4744\n",
      "481xx    4645\n",
      "601xx    4603\n",
      "080xx    4539\n",
      "021xx    4531\n",
      "604xx    4527\n",
      "600xx    4518\n",
      "956xx    4329\n",
      "920xx    4303\n",
      "         ... \n",
      "702xx       1\n",
      "399xx       1\n",
      "343xx       1\n",
      "507xx       1\n",
      "889xx       1\n",
      "205xx       1\n",
      "643xx       1\n",
      "742xx       1\n",
      "511xx       1\n",
      "862xx       1\n",
      "888xx       1\n",
      "694xx       1\n",
      "909xx       1\n",
      "819xx       1\n",
      "269xx       1\n",
      "513xx       1\n",
      "568xx       1\n",
      "892xx       1\n",
      "649xx       1\n",
      "429xx       1\n",
      "938xx       1\n",
      "514xx       1\n",
      "621xx       1\n",
      "520xx       1\n",
      "516xx       1\n",
      "509xx       1\n",
      "817xx       1\n",
      "348xx       1\n",
      "849xx       1\n",
      "569xx       1\n",
      "Name: zip_code, dtype: int64\n"
     ]
    }
   ],
   "source": [
    "for col in nonnumeric_cols:\n",
    "    print('\\nFrequency count for variable %s'%col)\n",
    "    print(data[col].value_counts())"
   ]
  },
  {
   "cell_type": "code",
   "execution_count": 115,
   "metadata": {
    "collapsed": false
   },
   "outputs": [
    {
     "name": "stdout",
     "output_type": "stream",
     "text": [
      "addr_state 51\n",
      "application_type 2\n",
      "emp_length 12\n",
      "grade 7\n",
      "home_ownership 6\n",
      "initial_list_status 2\n",
      "last_week_pay 98\n",
      "purpose 14\n",
      "pymnt_plan 2\n",
      "sub_grade 35\n",
      "term 2\n",
      "verification_status 3\n",
      "verification_status_joint 4\n",
      "zip_code 935\n"
     ]
    }
   ],
   "source": [
    "# Number of unique levels for categorical variables\n",
    "for col in nonnumeric_cols:\n",
    "    print(col + ' ' +str(len(data[col].unique())))"
   ]
  },
  {
   "cell_type": "code",
   "execution_count": 116,
   "metadata": {
    "collapsed": false
   },
   "outputs": [
    {
     "data": {
      "text/plain": [
       "addr_state                        0\n",
       "application_type                  0\n",
       "emp_length                        0\n",
       "grade                             0\n",
       "home_ownership                    0\n",
       "initial_list_status               0\n",
       "last_week_pay                     0\n",
       "purpose                           0\n",
       "pymnt_plan                        0\n",
       "sub_grade                         0\n",
       "term                              0\n",
       "verification_status               0\n",
       "verification_status_joint    886868\n",
       "zip_code                          0\n",
       "dtype: int64"
      ]
     },
     "execution_count": 116,
     "metadata": {},
     "output_type": "execute_result"
    }
   ],
   "source": [
    "# Check for missing values\n",
    "data[nonnumeric_cols].apply(lambda x: sum(x.isnull()))"
   ]
  },
  {
   "cell_type": "code",
   "execution_count": 117,
   "metadata": {
    "collapsed": false
   },
   "outputs": [
    {
     "name": "stdout",
     "output_type": "stream",
     "text": [
      "Not Verified       283\n",
      "Verified           167\n",
      "Source Verified     61\n",
      "Name: verification_status_joint, dtype: int64\n"
     ]
    }
   ],
   "source": [
    "print(data['verification_status_joint'].value_counts())"
   ]
  },
  {
   "cell_type": "code",
   "execution_count": 118,
   "metadata": {
    "collapsed": false
   },
   "outputs": [
    {
     "name": "stdout",
     "output_type": "stream",
     "text": [
      "INDIVIDUAL    886868\n",
      "JOINT            511\n",
      "Name: application_type, dtype: int64\n"
     ]
    }
   ],
   "source": [
    "print(data['application_type'].value_counts())"
   ]
  },
  {
   "cell_type": "code",
   "execution_count": 119,
   "metadata": {
    "collapsed": true
   },
   "outputs": [],
   "source": [
    "# Impute 'not applied' for 'verification_status_joint'\n",
    "data['verification_status_joint'].fillna('not applied', inplace = True)\n",
    "\n",
    "# Drop application_type because it's substituted with verification_status_joint\n",
    "data.drop('application_type', axis = 1, inplace = True)"
   ]
  },
  {
   "cell_type": "markdown",
   "metadata": {},
   "source": [
    "## Transform some categorical variables into numeric ones"
   ]
  },
  {
   "cell_type": "code",
   "execution_count": 120,
   "metadata": {
    "collapsed": false
   },
   "outputs": [
    {
     "name": "stdout",
     "output_type": "stream",
     "text": [
      "Index(['addr_state', 'emp_length', 'grade', 'home_ownership',\n",
      "       'initial_list_status', 'last_week_pay', 'purpose', 'pymnt_plan',\n",
      "       'sub_grade', 'term', 'verification_status', 'verification_status_joint',\n",
      "       'zip_code'],\n",
      "      dtype='object')\n",
      "Index(['collection_recovery_fee', 'collections_12_mths_ex_med', 'delinq_2yrs',\n",
      "       'funded_amnt', 'inq_last_6mths', 'int_rate', 'istrain', 'loan_amnt',\n",
      "       'loan_status', 'member_id', 'mths_since_last_delinq',\n",
      "       'mths_since_last_major_derog', 'mths_since_last_record', 'open_acc',\n",
      "       'pub_rec', 'recoveries', 'revol_bal', 'revol_util', 'total_acc',\n",
      "       'total_rec_late_fee', 'log_annual_inc', 'log_dti', 'ratio_of_inv',\n",
      "       'log_ratio_revolbal_loanamnt', 'tot_coll_exist', 'tot_cur_bal_exist',\n",
      "       'log_total_rec_int', 'tot_rev_hi_lim_exist'],\n",
      "      dtype='object')\n"
     ]
    }
   ],
   "source": [
    "nonnumeric_cols = data.dtypes[data.dtypes == 'object'].index.copy()\n",
    "numeric_cols = data.dtypes[data.dtypes != 'object'].index.copy()\n",
    "print(nonnumeric_cols)\n",
    "print(numeric_cols)"
   ]
  },
  {
   "cell_type": "code",
   "execution_count": 121,
   "metadata": {
    "collapsed": false
   },
   "outputs": [
    {
     "name": "stdout",
     "output_type": "stream",
     "text": [
      "\n",
      "Frequency count for variable addr_state\n",
      "CA    129517\n",
      "NY     74086\n",
      "TX     71138\n",
      "FL     60935\n",
      "IL     35476\n",
      "NJ     33256\n",
      "PA     31393\n",
      "OH     29631\n",
      "GA     29085\n",
      "VA     26255\n",
      "NC     24720\n",
      "MI     22985\n",
      "MD     21031\n",
      "MA     20593\n",
      "AZ     20412\n",
      "WA     19434\n",
      "CO     18807\n",
      "MN     15957\n",
      "MO     14207\n",
      "IN     13789\n",
      "CT     13531\n",
      "TN     12887\n",
      "NV     12443\n",
      "WI     11574\n",
      "AL     11200\n",
      "OR     10893\n",
      "SC     10639\n",
      "LA     10587\n",
      "KY      8550\n",
      "OK      8085\n",
      "KS      7926\n",
      "AR      6640\n",
      "UT      6264\n",
      "NM      4939\n",
      "HI      4570\n",
      "WV      4386\n",
      "NH      4294\n",
      "RI      3893\n",
      "MS      3819\n",
      "MT      2558\n",
      "DE      2511\n",
      "DC      2432\n",
      "AK      2205\n",
      "WY      2028\n",
      "SD      1815\n",
      "VT      1797\n",
      "NE      1176\n",
      "ME       525\n",
      "ND       479\n",
      "IA        14\n",
      "ID        12\n",
      "Name: addr_state, dtype: int64\n",
      "\n",
      "Frequency count for variable emp_length\n",
      "10+ years    291569\n",
      "2 years       78870\n",
      "< 1 year      70605\n",
      "3 years       70026\n",
      "1 year        57095\n",
      "5 years       55704\n",
      "4 years       52529\n",
      "n/a           44825\n",
      "7 years       44594\n",
      "8 years       43955\n",
      "6 years       42950\n",
      "9 years       34657\n",
      "Name: emp_length, dtype: int64\n",
      "\n",
      "Frequency count for variable grade\n",
      "B    254535\n",
      "C    245860\n",
      "A    148202\n",
      "D    139542\n",
      "E     70705\n",
      "F     23046\n",
      "G      5489\n",
      "Name: grade, dtype: int64\n",
      "\n",
      "Frequency count for variable home_ownership\n",
      "MORTGAGE    443557\n",
      "RENT        356117\n",
      "OWN          87470\n",
      "OTHER          182\n",
      "NONE            50\n",
      "ANY              3\n",
      "Name: home_ownership, dtype: int64\n",
      "\n",
      "Frequency count for variable initial_list_status\n",
      "f    456848\n",
      "w    430531\n",
      "Name: initial_list_status, dtype: int64\n",
      "\n",
      "Frequency count for variable last_week_pay\n",
      "13th week     50321\n",
      "9th week      47680\n",
      "26th week     45989\n",
      "22th week     43342\n",
      "4th week      43105\n",
      "35th week     40162\n",
      "39th week     39767\n",
      "17th week     36684\n",
      "31th week     35386\n",
      "48th week     32189\n",
      "52th week     32164\n",
      "65th week     31867\n",
      "61th week     30421\n",
      "78th week     23518\n",
      "74th week     22385\n",
      "87th week     18698\n",
      "91th week     18016\n",
      "NAth week     17659\n",
      "44th week     17505\n",
      "83th week     16266\n",
      "70th week     16068\n",
      "156th week    14131\n",
      "43th week     13713\n",
      "100th week    13702\n",
      "109th week    12984\n",
      "57th week     12981\n",
      "104th week    12874\n",
      "96th week     11267\n",
      "113th week    10967\n",
      "117th week    10757\n",
      "              ...  \n",
      "108th week      319\n",
      "204th week      318\n",
      "222th week      313\n",
      "226th week      270\n",
      "239th week      230\n",
      "231th week      230\n",
      "235th week      229\n",
      "244th week      228\n",
      "248th week      207\n",
      "252th week      178\n",
      "169th week      169\n",
      "256th week      138\n",
      "79th week       128\n",
      "182th week       65\n",
      "243th week       50\n",
      "153th week       36\n",
      "192th week       31\n",
      "230th week       28\n",
      "218th week       19\n",
      "270th week       18\n",
      "257th week       18\n",
      "205th week       10\n",
      "221th week        7\n",
      "291th week        3\n",
      "283th week        2\n",
      "304th week        1\n",
      "300th week        1\n",
      "274th week        1\n",
      "269th week        1\n",
      "278th week        1\n",
      "Name: last_week_pay, dtype: int64\n",
      "\n",
      "Frequency count for variable purpose\n",
      "debt_consolidation    524215\n",
      "credit_card           206182\n",
      "home_improvement       51829\n",
      "other                  42894\n",
      "major_purchase         17277\n",
      "small_business         10377\n",
      "car                     8863\n",
      "medical                 8540\n",
      "moving                  5414\n",
      "vacation                4736\n",
      "house                   3707\n",
      "wedding                 2347\n",
      "renewable_energy         575\n",
      "educational              423\n",
      "Name: purpose, dtype: int64\n",
      "\n",
      "Frequency count for variable pymnt_plan\n",
      "n    887369\n",
      "y        10\n",
      "Name: pymnt_plan, dtype: int64\n",
      "\n",
      "Frequency count for variable sub_grade\n",
      "B3    56323\n",
      "B4    55626\n",
      "C1    53387\n",
      "C2    52236\n",
      "C3    50161\n",
      "C4    48857\n",
      "B5    48833\n",
      "B2    48781\n",
      "B1    44972\n",
      "A5    44816\n",
      "C5    41219\n",
      "D1    36238\n",
      "A4    34531\n",
      "D2    29803\n",
      "D3    26554\n",
      "D4    25558\n",
      "A3    23457\n",
      "A1    22913\n",
      "A2    22485\n",
      "D5    21389\n",
      "E1    18268\n",
      "E2    17004\n",
      "E3    14134\n",
      "E4    11724\n",
      "E5     9575\n",
      "F1     7218\n",
      "F2     5392\n",
      "F3     4433\n",
      "F4     3409\n",
      "F5     2594\n",
      "G1     1871\n",
      "G2     1398\n",
      "G3      981\n",
      "G4      663\n",
      "G5      576\n",
      "Name: sub_grade, dtype: int64\n",
      "\n",
      "Frequency count for variable term\n",
      "36 months    621125\n",
      "60 months    266254\n",
      "Name: term, dtype: int64\n",
      "\n",
      "Frequency count for variable verification_status\n",
      "Source Verified    329558\n",
      "Verified           291071\n",
      "Not Verified       266750\n",
      "Name: verification_status, dtype: int64\n",
      "\n",
      "Frequency count for variable verification_status_joint\n",
      "not applied        886868\n",
      "Not Verified          283\n",
      "Verified              167\n",
      "Source Verified        61\n",
      "Name: verification_status_joint, dtype: int64\n",
      "\n",
      "Frequency count for variable zip_code\n",
      "945xx    9770\n",
      "750xx    9417\n",
      "112xx    9272\n",
      "606xx    8641\n",
      "300xx    8126\n",
      "100xx    7609\n",
      "070xx    7431\n",
      "331xx    7416\n",
      "900xx    7287\n",
      "770xx    6938\n",
      "891xx    6441\n",
      "917xx    6357\n",
      "330xx    6283\n",
      "117xx    6129\n",
      "104xx    6008\n",
      "921xx    5661\n",
      "852xx    5442\n",
      "926xx    5415\n",
      "913xx    5160\n",
      "925xx    4907\n",
      "113xx    4813\n",
      "334xx    4744\n",
      "481xx    4645\n",
      "601xx    4603\n",
      "080xx    4539\n",
      "021xx    4531\n",
      "604xx    4527\n",
      "600xx    4518\n",
      "956xx    4329\n",
      "920xx    4303\n",
      "         ... \n",
      "702xx       1\n",
      "399xx       1\n",
      "343xx       1\n",
      "507xx       1\n",
      "889xx       1\n",
      "205xx       1\n",
      "643xx       1\n",
      "742xx       1\n",
      "511xx       1\n",
      "862xx       1\n",
      "888xx       1\n",
      "694xx       1\n",
      "909xx       1\n",
      "819xx       1\n",
      "269xx       1\n",
      "513xx       1\n",
      "568xx       1\n",
      "892xx       1\n",
      "649xx       1\n",
      "429xx       1\n",
      "938xx       1\n",
      "514xx       1\n",
      "621xx       1\n",
      "520xx       1\n",
      "516xx       1\n",
      "509xx       1\n",
      "817xx       1\n",
      "348xx       1\n",
      "849xx       1\n",
      "569xx       1\n",
      "Name: zip_code, dtype: int64\n"
     ]
    }
   ],
   "source": [
    "for col in nonnumeric_cols:\n",
    "    print('\\nFrequency count for variable %s'%col)\n",
    "    print(data[col].value_counts())"
   ]
  },
  {
   "cell_type": "code",
   "execution_count": 122,
   "metadata": {
    "collapsed": false
   },
   "outputs": [],
   "source": [
    "# Create a new numerical variable for emp_length (value -1 refers to the case of emp_length!='n/a')\n",
    "data['emp_length_num'] = data['emp_length'].apply(lambda x: -1 if x == 'n/a' else 0 if x == '< 1 year' \n",
    "                                                  else 10 if x == '10+ years' else int(x[0]))\n",
    "# Drop variable emp_length\n",
    "data.drop('emp_length', axis = 1, inplace = True)"
   ]
  },
  {
   "cell_type": "code",
   "execution_count": 123,
   "metadata": {
    "collapsed": false
   },
   "outputs": [
    {
     "name": "stdout",
     "output_type": "stream",
     "text": [
      "('A1', 5.712018504779583)\n",
      "('A2', 6.425859017122811)\n",
      "('A3', 7.141020164555867)\n",
      "('A4', 7.529181315340288)\n",
      "('A5', 8.269619555522203)\n",
      "('B1', 8.948791247884262)\n",
      "('B2', 9.996643365244365)\n",
      "('B3', 10.900791861223762)\n",
      "('B4', 11.744866249589949)\n",
      "('B5', 12.26916900456938)\n",
      "('C1', 12.892131605072835)\n",
      "('C2', 13.423569760311706)\n",
      "('C3', 14.015993700281465)\n",
      "('C4', 14.598234643959731)\n",
      "('C5', 15.31815279361602)\n",
      "('D1', 16.079182625968738)\n",
      "('D2', 16.847392544369516)\n",
      "('D3', 17.340907207949822)\n",
      "('D4', 17.903247124191484)\n",
      "('D5', 18.417205105421164)\n",
      "('E1', 18.827669695641326)\n",
      "('E2', 19.373988473298724)\n",
      "('E3', 19.968241828215525)\n",
      "('E4', 20.780979187988954)\n",
      "('E5', 21.680796866839877)\n",
      "('F1', 22.606217788860455)\n",
      "('F2', 23.316743323443458)\n",
      "('F3', 23.970559440559956)\n",
      "('F4', 24.4894925198009)\n",
      "('F5', 24.99890902081706)\n",
      "('G1', 25.45769107429193)\n",
      "('G4', 25.622428355957684)\n",
      "('G2', 25.675672389128035)\n",
      "('G5', 25.693454861110986)\n",
      "('G3', 25.842976554535987)\n"
     ]
    }
   ],
   "source": [
    "aver_ints = {}\n",
    "for subgrade in data['sub_grade'].unique():\n",
    "    aver_ints[subgrade] = np.mean(data[data['sub_grade'] == subgrade]['int_rate'])\n",
    "sorted_aver_ints = sorted(aver_ints.items(), key=operator.itemgetter(1))\n",
    "\n",
    "for idx in range(len(sorted_aver_ints)):\n",
    "    print(sorted_aver_ints[idx])"
   ]
  },
  {
   "cell_type": "code",
   "execution_count": 124,
   "metadata": {
    "collapsed": false
   },
   "outputs": [],
   "source": [
    "# Transform sub_grade into numeric variable\n",
    "# Assume order A1 < A2 < A3 < A4 < A5 < B1 < B2 < B3 < B4 < B5 < C1 < C2 < ... < E4 < E5\n",
    "# (This assumption is based on the average interest rates for each subgrade.)\n",
    "data['grade_multiplicator'] = data['grade'].apply(lambda x: 1 if x == 'A' else 2 if x == 'B' else \n",
    "                                                  3 if x == 'C' else 4 if x == 'D' else \n",
    "                                                  5 if x == 'E' else 6 if x == 'F' else 7)\n",
    "data['subgrade_plus'] = data['sub_grade'].apply(lambda x: int(str(x)[-1]))\n",
    "data['subgrade_num'] = data['grade_multiplicator'] * 5 + data['subgrade_plus']\n",
    "# Drop variables grade, sub_grade, grade_multiplicator, subgrade_plus\n",
    "data.drop('grade', axis = 1, inplace = True)\n",
    "data.drop('sub_grade', axis = 1, inplace = True)\n",
    "data.drop('grade_multiplicator', axis = 1, inplace = True)\n",
    "data.drop('subgrade_plus', axis = 1, inplace = True)"
   ]
  },
  {
   "cell_type": "code",
   "execution_count": 125,
   "metadata": {
    "collapsed": false
   },
   "outputs": [
    {
     "data": {
      "text/plain": [
       "array(['26th week', '9th week', '135th week', '96th week', '113th week',\n",
       "       '117th week', '78th week', '44th week', '52th week', '95th week',\n",
       "       '48th week', '82th week', '35th week', '104th week', '17th week',\n",
       "       '13th week', 'NAth week', '31th week', '30th week', '70th week',\n",
       "       '4th week', '91th week', '65th week', '39th week', '83th week',\n",
       "       '74th week', '22th week', '61th week', '156th week', '122th week',\n",
       "       '174th week', '87th week', '139th week', '0th week', '57th week',\n",
       "       '131th week', '152th week', '43th week', '161th week', '56th week',\n",
       "       '170th week', '157th week', '109th week', '126th week',\n",
       "       '100th week', '148th week', '265th week', '165th week',\n",
       "       '261th week', '213th week', '222th week', '196th week',\n",
       "       '130th week', '144th week', '244th week', '204th week', '69th week',\n",
       "       '217th week', '143th week', '191th week', '21th week', '226th week',\n",
       "       '18th week', '108th week', '79th week', '183th week', '178th week',\n",
       "       '187th week', '252th week', '200th week', '118th week', '92th week',\n",
       "       '121th week', '209th week', '239th week', '248th week',\n",
       "       '169th week', '153th week', '235th week', '256th week', '8th week',\n",
       "       '182th week', '230th week', '231th week', '257th week',\n",
       "       '243th week', '205th week', '192th week', '270th week',\n",
       "       '218th week', '283th week', '300th week', '221th week',\n",
       "       '291th week', '278th week', '274th week', '269th week', '304th week'], dtype=object)"
      ]
     },
     "execution_count": 125,
     "metadata": {},
     "output_type": "execute_result"
    }
   ],
   "source": [
    "data['last_week_pay'].unique()"
   ]
  },
  {
   "cell_type": "code",
   "execution_count": 126,
   "metadata": {
    "collapsed": false
   },
   "outputs": [
    {
     "data": {
      "text/plain": [
       "17659"
      ]
     },
     "execution_count": 126,
     "metadata": {},
     "output_type": "execute_result"
    }
   ],
   "source": [
    "sum(data['last_week_pay'] == 'NAth week')"
   ]
  },
  {
   "cell_type": "code",
   "execution_count": 127,
   "metadata": {
    "collapsed": false
   },
   "outputs": [],
   "source": [
    "# Assume that 'NAth week' means '0th week'\n",
    "data['last_week_pay'] = data['last_week_pay'].apply(lambda x: '0th week' if x == 'NAth week' else x)"
   ]
  },
  {
   "cell_type": "code",
   "execution_count": 128,
   "metadata": {
    "collapsed": false
   },
   "outputs": [],
   "source": [
    "# Transform last_week_pay into numeric variable\n",
    "data['last_week_pay_num'] = data['last_week_pay'].apply(lambda x: int(str(x)[ : -7]))\n",
    "# Drop last_week_pay\n",
    "data.drop('last_week_pay', axis = 1, inplace = True)"
   ]
  },
  {
   "cell_type": "code",
   "execution_count": 129,
   "metadata": {
    "collapsed": true
   },
   "outputs": [],
   "source": [
    "# Drop pymnt_plan because of almost same values\n",
    "data.drop('pymnt_plan', axis = 1, inplace = True)"
   ]
  },
  {
   "cell_type": "code",
   "execution_count": 130,
   "metadata": {
    "collapsed": false
   },
   "outputs": [
    {
     "data": {
      "text/plain": [
       "10"
      ]
     },
     "execution_count": 130,
     "metadata": {},
     "output_type": "execute_result"
    }
   ],
   "source": [
    "# Create variable that shows only the first digit of the zip code (which refers to groups of states)\n",
    "data['zip'] = data['zip_code'].apply(lambda x: int(str(x)[0]))\n",
    "# Drop zip_code\n",
    "data.drop('zip_code', axis = 1, inplace = True)\n",
    "len(data['zip'].unique())"
   ]
  },
  {
   "cell_type": "markdown",
   "metadata": {},
   "source": [
    "## Check for missing values"
   ]
  },
  {
   "cell_type": "code",
   "execution_count": 131,
   "metadata": {
    "collapsed": false
   },
   "outputs": [
    {
     "data": {
      "text/plain": [
       "addr_state                          0\n",
       "collection_recovery_fee             0\n",
       "collections_12_mths_ex_med          0\n",
       "delinq_2yrs                         0\n",
       "funded_amnt                         0\n",
       "home_ownership                      0\n",
       "initial_list_status                 0\n",
       "inq_last_6mths                      0\n",
       "int_rate                            0\n",
       "istrain                             0\n",
       "loan_amnt                           0\n",
       "loan_status                    354951\n",
       "member_id                           0\n",
       "mths_since_last_delinq              0\n",
       "mths_since_last_major_derog         0\n",
       "mths_since_last_record              0\n",
       "open_acc                            0\n",
       "pub_rec                             0\n",
       "purpose                             0\n",
       "recoveries                          0\n",
       "revol_bal                           0\n",
       "revol_util                          0\n",
       "term                                0\n",
       "total_acc                           0\n",
       "total_rec_late_fee                  0\n",
       "verification_status                 0\n",
       "verification_status_joint           0\n",
       "log_annual_inc                      0\n",
       "log_dti                             0\n",
       "ratio_of_inv                        0\n",
       "log_ratio_revolbal_loanamnt         0\n",
       "tot_coll_exist                      0\n",
       "tot_cur_bal_exist                   0\n",
       "log_total_rec_int                   0\n",
       "tot_rev_hi_lim_exist                0\n",
       "emp_length_num                      0\n",
       "subgrade_num                        0\n",
       "last_week_pay_num                   0\n",
       "zip                                 0\n",
       "dtype: int64"
      ]
     },
     "execution_count": 131,
     "metadata": {},
     "output_type": "execute_result"
    }
   ],
   "source": [
    "# Check for missing values\n",
    "data.apply(lambda x: sum(x.isnull()))"
   ]
  },
  {
   "cell_type": "code",
   "execution_count": 132,
   "metadata": {
    "collapsed": false
   },
   "outputs": [
    {
     "data": {
      "text/html": [
       "<div>\n",
       "<table border=\"1\" class=\"dataframe\">\n",
       "  <thead>\n",
       "    <tr style=\"text-align: right;\">\n",
       "      <th></th>\n",
       "      <th>addr_state</th>\n",
       "      <th>collection_recovery_fee</th>\n",
       "      <th>collections_12_mths_ex_med</th>\n",
       "      <th>delinq_2yrs</th>\n",
       "      <th>funded_amnt</th>\n",
       "      <th>home_ownership</th>\n",
       "      <th>initial_list_status</th>\n",
       "      <th>inq_last_6mths</th>\n",
       "      <th>int_rate</th>\n",
       "      <th>istrain</th>\n",
       "      <th>...</th>\n",
       "      <th>ratio_of_inv</th>\n",
       "      <th>log_ratio_revolbal_loanamnt</th>\n",
       "      <th>tot_coll_exist</th>\n",
       "      <th>tot_cur_bal_exist</th>\n",
       "      <th>log_total_rec_int</th>\n",
       "      <th>tot_rev_hi_lim_exist</th>\n",
       "      <th>emp_length_num</th>\n",
       "      <th>subgrade_num</th>\n",
       "      <th>last_week_pay_num</th>\n",
       "      <th>zip</th>\n",
       "    </tr>\n",
       "  </thead>\n",
       "  <tbody>\n",
       "    <tr>\n",
       "      <th>0</th>\n",
       "      <td>FL</td>\n",
       "      <td>0.0</td>\n",
       "      <td>0.0</td>\n",
       "      <td>0.0</td>\n",
       "      <td>14350</td>\n",
       "      <td>OWN</td>\n",
       "      <td>f</td>\n",
       "      <td>1.0</td>\n",
       "      <td>19.19</td>\n",
       "      <td>1</td>\n",
       "      <td>...</td>\n",
       "      <td>1.0</td>\n",
       "      <td>0.943513</td>\n",
       "      <td>0</td>\n",
       "      <td>1</td>\n",
       "      <td>7.068887</td>\n",
       "      <td>1</td>\n",
       "      <td>9</td>\n",
       "      <td>28</td>\n",
       "      <td>26</td>\n",
       "      <td>3</td>\n",
       "    </tr>\n",
       "    <tr>\n",
       "      <th>1</th>\n",
       "      <td>MD</td>\n",
       "      <td>0.0</td>\n",
       "      <td>0.0</td>\n",
       "      <td>0.0</td>\n",
       "      <td>4800</td>\n",
       "      <td>MORTGAGE</td>\n",
       "      <td>w</td>\n",
       "      <td>1.0</td>\n",
       "      <td>10.99</td>\n",
       "      <td>1</td>\n",
       "      <td>...</td>\n",
       "      <td>1.0</td>\n",
       "      <td>0.951014</td>\n",
       "      <td>0</td>\n",
       "      <td>1</td>\n",
       "      <td>4.442063</td>\n",
       "      <td>1</td>\n",
       "      <td>0</td>\n",
       "      <td>14</td>\n",
       "      <td>9</td>\n",
       "      <td>2</td>\n",
       "    </tr>\n",
       "    <tr>\n",
       "      <th>2</th>\n",
       "      <td>OH</td>\n",
       "      <td>0.0</td>\n",
       "      <td>0.0</td>\n",
       "      <td>0.0</td>\n",
       "      <td>10000</td>\n",
       "      <td>OWN</td>\n",
       "      <td>w</td>\n",
       "      <td>0.0</td>\n",
       "      <td>7.26</td>\n",
       "      <td>1</td>\n",
       "      <td>...</td>\n",
       "      <td>1.0</td>\n",
       "      <td>0.736063</td>\n",
       "      <td>1</td>\n",
       "      <td>1</td>\n",
       "      <td>4.051263</td>\n",
       "      <td>1</td>\n",
       "      <td>2</td>\n",
       "      <td>9</td>\n",
       "      <td>9</td>\n",
       "      <td>4</td>\n",
       "    </tr>\n",
       "    <tr>\n",
       "      <th>3</th>\n",
       "      <td>VA</td>\n",
       "      <td>0.0</td>\n",
       "      <td>0.0</td>\n",
       "      <td>0.0</td>\n",
       "      <td>15000</td>\n",
       "      <td>RENT</td>\n",
       "      <td>f</td>\n",
       "      <td>2.0</td>\n",
       "      <td>19.72</td>\n",
       "      <td>1</td>\n",
       "      <td>...</td>\n",
       "      <td>1.0</td>\n",
       "      <td>0.649265</td>\n",
       "      <td>0</td>\n",
       "      <td>1</td>\n",
       "      <td>8.488716</td>\n",
       "      <td>1</td>\n",
       "      <td>10</td>\n",
       "      <td>25</td>\n",
       "      <td>135</td>\n",
       "      <td>2</td>\n",
       "    </tr>\n",
       "    <tr>\n",
       "      <th>4</th>\n",
       "      <td>CA</td>\n",
       "      <td>0.0</td>\n",
       "      <td>0.0</td>\n",
       "      <td>0.0</td>\n",
       "      <td>16000</td>\n",
       "      <td>RENT</td>\n",
       "      <td>w</td>\n",
       "      <td>0.0</td>\n",
       "      <td>10.64</td>\n",
       "      <td>1</td>\n",
       "      <td>...</td>\n",
       "      <td>1.0</td>\n",
       "      <td>1.175477</td>\n",
       "      <td>0</td>\n",
       "      <td>1</td>\n",
       "      <td>7.739538</td>\n",
       "      <td>1</td>\n",
       "      <td>10</td>\n",
       "      <td>12</td>\n",
       "      <td>96</td>\n",
       "      <td>9</td>\n",
       "    </tr>\n",
       "  </tbody>\n",
       "</table>\n",
       "<p>5 rows × 39 columns</p>\n",
       "</div>"
      ],
      "text/plain": [
       "  addr_state  collection_recovery_fee  collections_12_mths_ex_med  \\\n",
       "0         FL                      0.0                         0.0   \n",
       "1         MD                      0.0                         0.0   \n",
       "2         OH                      0.0                         0.0   \n",
       "3         VA                      0.0                         0.0   \n",
       "4         CA                      0.0                         0.0   \n",
       "\n",
       "   delinq_2yrs  funded_amnt home_ownership initial_list_status  \\\n",
       "0          0.0        14350            OWN                   f   \n",
       "1          0.0         4800       MORTGAGE                   w   \n",
       "2          0.0        10000            OWN                   w   \n",
       "3          0.0        15000           RENT                   f   \n",
       "4          0.0        16000           RENT                   w   \n",
       "\n",
       "   inq_last_6mths  int_rate  istrain ...   ratio_of_inv  \\\n",
       "0             1.0     19.19        1 ...            1.0   \n",
       "1             1.0     10.99        1 ...            1.0   \n",
       "2             0.0      7.26        1 ...            1.0   \n",
       "3             2.0     19.72        1 ...            1.0   \n",
       "4             0.0     10.64        1 ...            1.0   \n",
       "\n",
       "   log_ratio_revolbal_loanamnt  tot_coll_exist  tot_cur_bal_exist  \\\n",
       "0                     0.943513               0                  1   \n",
       "1                     0.951014               0                  1   \n",
       "2                     0.736063               1                  1   \n",
       "3                     0.649265               0                  1   \n",
       "4                     1.175477               0                  1   \n",
       "\n",
       "   log_total_rec_int  tot_rev_hi_lim_exist  emp_length_num  subgrade_num  \\\n",
       "0           7.068887                     1               9            28   \n",
       "1           4.442063                     1               0            14   \n",
       "2           4.051263                     1               2             9   \n",
       "3           8.488716                     1              10            25   \n",
       "4           7.739538                     1              10            12   \n",
       "\n",
       "  last_week_pay_num  zip  \n",
       "0                26    3  \n",
       "1                 9    2  \n",
       "2                 9    4  \n",
       "3               135    2  \n",
       "4                96    9  \n",
       "\n",
       "[5 rows x 39 columns]"
      ]
     },
     "execution_count": 132,
     "metadata": {},
     "output_type": "execute_result"
    }
   ],
   "source": [
    "data.head()"
   ]
  },
  {
   "cell_type": "markdown",
   "metadata": {},
   "source": [
    "## One-hot encoding"
   ]
  },
  {
   "cell_type": "code",
   "execution_count": 133,
   "metadata": {
    "collapsed": false
   },
   "outputs": [
    {
     "name": "stdout",
     "output_type": "stream",
     "text": [
      "Index(['addr_state', 'home_ownership', 'initial_list_status', 'purpose',\n",
      "       'term', 'verification_status', 'verification_status_joint'],\n",
      "      dtype='object')\n",
      "Index(['collection_recovery_fee', 'collections_12_mths_ex_med', 'delinq_2yrs',\n",
      "       'funded_amnt', 'inq_last_6mths', 'int_rate', 'istrain', 'loan_amnt',\n",
      "       'loan_status', 'member_id', 'mths_since_last_delinq',\n",
      "       'mths_since_last_major_derog', 'mths_since_last_record', 'open_acc',\n",
      "       'pub_rec', 'recoveries', 'revol_bal', 'revol_util', 'total_acc',\n",
      "       'total_rec_late_fee', 'log_annual_inc', 'log_dti', 'ratio_of_inv',\n",
      "       'log_ratio_revolbal_loanamnt', 'tot_coll_exist', 'tot_cur_bal_exist',\n",
      "       'log_total_rec_int', 'tot_rev_hi_lim_exist', 'emp_length_num',\n",
      "       'subgrade_num', 'last_week_pay_num', 'zip'],\n",
      "      dtype='object')\n"
     ]
    }
   ],
   "source": [
    "# Update the lists of nonnumeric and numeric cols\n",
    "nonnumeric_cols = data.dtypes[data.dtypes == 'object'].index.copy()\n",
    "numeric_cols = data.dtypes[data.dtypes != 'object'].index.copy()\n",
    "print(nonnumeric_cols)\n",
    "print(numeric_cols)"
   ]
  },
  {
   "cell_type": "code",
   "execution_count": 134,
   "metadata": {
    "collapsed": false
   },
   "outputs": [
    {
     "name": "stdout",
     "output_type": "stream",
     "text": [
      "addr_state 51\n",
      "home_ownership 6\n",
      "initial_list_status 2\n",
      "purpose 14\n",
      "term 2\n",
      "verification_status 3\n",
      "verification_status_joint 4\n"
     ]
    }
   ],
   "source": [
    "# check for number of categories in nonnumerical columns\n",
    "for col in nonnumeric_cols:\n",
    "    print(col + ' ' + str(len(data[col].unique())))"
   ]
  },
  {
   "cell_type": "code",
   "execution_count": 135,
   "metadata": {
    "collapsed": true
   },
   "outputs": [],
   "source": [
    "data = pd.get_dummies(data)"
   ]
  },
  {
   "cell_type": "code",
   "execution_count": 136,
   "metadata": {
    "collapsed": false
   },
   "outputs": [
    {
     "data": {
      "text/plain": [
       "collection_recovery_fee                      float64\n",
       "collections_12_mths_ex_med                   float64\n",
       "delinq_2yrs                                  float64\n",
       "funded_amnt                                    int64\n",
       "inq_last_6mths                               float64\n",
       "int_rate                                     float64\n",
       "istrain                                        int64\n",
       "loan_amnt                                      int64\n",
       "loan_status                                  float64\n",
       "member_id                                      int64\n",
       "mths_since_last_delinq                       float64\n",
       "mths_since_last_major_derog                  float64\n",
       "mths_since_last_record                       float64\n",
       "open_acc                                     float64\n",
       "pub_rec                                      float64\n",
       "recoveries                                   float64\n",
       "revol_bal                                    float64\n",
       "revol_util                                   float64\n",
       "total_acc                                    float64\n",
       "total_rec_late_fee                           float64\n",
       "log_annual_inc                               float64\n",
       "log_dti                                      float64\n",
       "ratio_of_inv                                 float64\n",
       "log_ratio_revolbal_loanamnt                  float64\n",
       "tot_coll_exist                                 int64\n",
       "tot_cur_bal_exist                              int64\n",
       "log_total_rec_int                            float64\n",
       "tot_rev_hi_lim_exist                           int64\n",
       "emp_length_num                                 int64\n",
       "subgrade_num                                   int64\n",
       "                                              ...   \n",
       "home_ownership_MORTGAGE                        uint8\n",
       "home_ownership_NONE                            uint8\n",
       "home_ownership_OTHER                           uint8\n",
       "home_ownership_OWN                             uint8\n",
       "home_ownership_RENT                            uint8\n",
       "initial_list_status_f                          uint8\n",
       "initial_list_status_w                          uint8\n",
       "purpose_car                                    uint8\n",
       "purpose_credit_card                            uint8\n",
       "purpose_debt_consolidation                     uint8\n",
       "purpose_educational                            uint8\n",
       "purpose_home_improvement                       uint8\n",
       "purpose_house                                  uint8\n",
       "purpose_major_purchase                         uint8\n",
       "purpose_medical                                uint8\n",
       "purpose_moving                                 uint8\n",
       "purpose_other                                  uint8\n",
       "purpose_renewable_energy                       uint8\n",
       "purpose_small_business                         uint8\n",
       "purpose_vacation                               uint8\n",
       "purpose_wedding                                uint8\n",
       "term_36 months                                 uint8\n",
       "term_60 months                                 uint8\n",
       "verification_status_Not Verified               uint8\n",
       "verification_status_Source Verified            uint8\n",
       "verification_status_Verified                   uint8\n",
       "verification_status_joint_Not Verified         uint8\n",
       "verification_status_joint_Source Verified      uint8\n",
       "verification_status_joint_Verified             uint8\n",
       "verification_status_joint_not applied          uint8\n",
       "dtype: object"
      ]
     },
     "execution_count": 136,
     "metadata": {},
     "output_type": "execute_result"
    }
   ],
   "source": [
    "data.dtypes"
   ]
  },
  {
   "cell_type": "code",
   "execution_count": 137,
   "metadata": {
    "collapsed": false
   },
   "outputs": [
    {
     "data": {
      "text/plain": [
       "(887379, 114)"
      ]
     },
     "execution_count": 137,
     "metadata": {},
     "output_type": "execute_result"
    }
   ],
   "source": [
    "data.shape"
   ]
  },
  {
   "cell_type": "code",
   "execution_count": 138,
   "metadata": {
    "collapsed": false
   },
   "outputs": [
    {
     "data": {
      "text/plain": [
       "Index(['collection_recovery_fee', 'collections_12_mths_ex_med', 'delinq_2yrs',\n",
       "       'funded_amnt', 'inq_last_6mths', 'int_rate', 'istrain', 'loan_amnt',\n",
       "       'loan_status', 'member_id',\n",
       "       ...\n",
       "       'purpose_wedding', 'term_36 months', 'term_60 months',\n",
       "       'verification_status_Not Verified',\n",
       "       'verification_status_Source Verified', 'verification_status_Verified',\n",
       "       'verification_status_joint_Not Verified',\n",
       "       'verification_status_joint_Source Verified',\n",
       "       'verification_status_joint_Verified',\n",
       "       'verification_status_joint_not applied'],\n",
       "      dtype='object', length=114)"
      ]
     },
     "execution_count": 138,
     "metadata": {},
     "output_type": "execute_result"
    }
   ],
   "source": [
    "data.columns"
   ]
  },
  {
   "cell_type": "code",
   "execution_count": 139,
   "metadata": {
    "collapsed": false
   },
   "outputs": [
    {
     "data": {
      "text/html": [
       "<div>\n",
       "<table border=\"1\" class=\"dataframe\">\n",
       "  <thead>\n",
       "    <tr style=\"text-align: right;\">\n",
       "      <th></th>\n",
       "      <th>collection_recovery_fee</th>\n",
       "      <th>collections_12_mths_ex_med</th>\n",
       "      <th>delinq_2yrs</th>\n",
       "      <th>funded_amnt</th>\n",
       "      <th>inq_last_6mths</th>\n",
       "      <th>int_rate</th>\n",
       "      <th>istrain</th>\n",
       "      <th>loan_amnt</th>\n",
       "      <th>loan_status</th>\n",
       "      <th>member_id</th>\n",
       "      <th>...</th>\n",
       "      <th>purpose_wedding</th>\n",
       "      <th>term_36 months</th>\n",
       "      <th>term_60 months</th>\n",
       "      <th>verification_status_Not Verified</th>\n",
       "      <th>verification_status_Source Verified</th>\n",
       "      <th>verification_status_Verified</th>\n",
       "      <th>verification_status_joint_Not Verified</th>\n",
       "      <th>verification_status_joint_Source Verified</th>\n",
       "      <th>verification_status_joint_Verified</th>\n",
       "      <th>verification_status_joint_not applied</th>\n",
       "    </tr>\n",
       "  </thead>\n",
       "  <tbody>\n",
       "    <tr>\n",
       "      <th>0</th>\n",
       "      <td>0.0</td>\n",
       "      <td>0.0</td>\n",
       "      <td>0.0</td>\n",
       "      <td>14350</td>\n",
       "      <td>1.0</td>\n",
       "      <td>19.19</td>\n",
       "      <td>1</td>\n",
       "      <td>14350</td>\n",
       "      <td>0.0</td>\n",
       "      <td>58189336</td>\n",
       "      <td>...</td>\n",
       "      <td>0</td>\n",
       "      <td>1</td>\n",
       "      <td>0</td>\n",
       "      <td>0</td>\n",
       "      <td>1</td>\n",
       "      <td>0</td>\n",
       "      <td>0</td>\n",
       "      <td>0</td>\n",
       "      <td>0</td>\n",
       "      <td>1</td>\n",
       "    </tr>\n",
       "    <tr>\n",
       "      <th>1</th>\n",
       "      <td>0.0</td>\n",
       "      <td>0.0</td>\n",
       "      <td>0.0</td>\n",
       "      <td>4800</td>\n",
       "      <td>1.0</td>\n",
       "      <td>10.99</td>\n",
       "      <td>1</td>\n",
       "      <td>4800</td>\n",
       "      <td>0.0</td>\n",
       "      <td>70011223</td>\n",
       "      <td>...</td>\n",
       "      <td>0</td>\n",
       "      <td>1</td>\n",
       "      <td>0</td>\n",
       "      <td>0</td>\n",
       "      <td>1</td>\n",
       "      <td>0</td>\n",
       "      <td>0</td>\n",
       "      <td>0</td>\n",
       "      <td>0</td>\n",
       "      <td>1</td>\n",
       "    </tr>\n",
       "    <tr>\n",
       "      <th>2</th>\n",
       "      <td>0.0</td>\n",
       "      <td>0.0</td>\n",
       "      <td>0.0</td>\n",
       "      <td>10000</td>\n",
       "      <td>0.0</td>\n",
       "      <td>7.26</td>\n",
       "      <td>1</td>\n",
       "      <td>10000</td>\n",
       "      <td>0.0</td>\n",
       "      <td>70255675</td>\n",
       "      <td>...</td>\n",
       "      <td>0</td>\n",
       "      <td>1</td>\n",
       "      <td>0</td>\n",
       "      <td>1</td>\n",
       "      <td>0</td>\n",
       "      <td>0</td>\n",
       "      <td>0</td>\n",
       "      <td>0</td>\n",
       "      <td>0</td>\n",
       "      <td>1</td>\n",
       "    </tr>\n",
       "    <tr>\n",
       "      <th>3</th>\n",
       "      <td>0.0</td>\n",
       "      <td>0.0</td>\n",
       "      <td>0.0</td>\n",
       "      <td>15000</td>\n",
       "      <td>2.0</td>\n",
       "      <td>19.72</td>\n",
       "      <td>1</td>\n",
       "      <td>15000</td>\n",
       "      <td>0.0</td>\n",
       "      <td>1893936</td>\n",
       "      <td>...</td>\n",
       "      <td>0</td>\n",
       "      <td>1</td>\n",
       "      <td>0</td>\n",
       "      <td>1</td>\n",
       "      <td>0</td>\n",
       "      <td>0</td>\n",
       "      <td>0</td>\n",
       "      <td>0</td>\n",
       "      <td>0</td>\n",
       "      <td>1</td>\n",
       "    </tr>\n",
       "    <tr>\n",
       "      <th>4</th>\n",
       "      <td>0.0</td>\n",
       "      <td>0.0</td>\n",
       "      <td>0.0</td>\n",
       "      <td>16000</td>\n",
       "      <td>0.0</td>\n",
       "      <td>10.64</td>\n",
       "      <td>1</td>\n",
       "      <td>16000</td>\n",
       "      <td>0.0</td>\n",
       "      <td>7652106</td>\n",
       "      <td>...</td>\n",
       "      <td>0</td>\n",
       "      <td>1</td>\n",
       "      <td>0</td>\n",
       "      <td>0</td>\n",
       "      <td>0</td>\n",
       "      <td>1</td>\n",
       "      <td>0</td>\n",
       "      <td>0</td>\n",
       "      <td>0</td>\n",
       "      <td>1</td>\n",
       "    </tr>\n",
       "  </tbody>\n",
       "</table>\n",
       "<p>5 rows × 114 columns</p>\n",
       "</div>"
      ],
      "text/plain": [
       "   collection_recovery_fee  collections_12_mths_ex_med  delinq_2yrs  \\\n",
       "0                      0.0                         0.0          0.0   \n",
       "1                      0.0                         0.0          0.0   \n",
       "2                      0.0                         0.0          0.0   \n",
       "3                      0.0                         0.0          0.0   \n",
       "4                      0.0                         0.0          0.0   \n",
       "\n",
       "   funded_amnt  inq_last_6mths  int_rate  istrain  loan_amnt  loan_status  \\\n",
       "0        14350             1.0     19.19        1      14350          0.0   \n",
       "1         4800             1.0     10.99        1       4800          0.0   \n",
       "2        10000             0.0      7.26        1      10000          0.0   \n",
       "3        15000             2.0     19.72        1      15000          0.0   \n",
       "4        16000             0.0     10.64        1      16000          0.0   \n",
       "\n",
       "   member_id                  ...                    purpose_wedding  \\\n",
       "0   58189336                  ...                                  0   \n",
       "1   70011223                  ...                                  0   \n",
       "2   70255675                  ...                                  0   \n",
       "3    1893936                  ...                                  0   \n",
       "4    7652106                  ...                                  0   \n",
       "\n",
       "   term_36 months  term_60 months  verification_status_Not Verified  \\\n",
       "0               1               0                                 0   \n",
       "1               1               0                                 0   \n",
       "2               1               0                                 1   \n",
       "3               1               0                                 1   \n",
       "4               1               0                                 0   \n",
       "\n",
       "   verification_status_Source Verified  verification_status_Verified  \\\n",
       "0                                    1                             0   \n",
       "1                                    1                             0   \n",
       "2                                    0                             0   \n",
       "3                                    0                             0   \n",
       "4                                    0                             1   \n",
       "\n",
       "   verification_status_joint_Not Verified  \\\n",
       "0                                       0   \n",
       "1                                       0   \n",
       "2                                       0   \n",
       "3                                       0   \n",
       "4                                       0   \n",
       "\n",
       "   verification_status_joint_Source Verified  \\\n",
       "0                                          0   \n",
       "1                                          0   \n",
       "2                                          0   \n",
       "3                                          0   \n",
       "4                                          0   \n",
       "\n",
       "   verification_status_joint_Verified  verification_status_joint_not applied  \n",
       "0                                   0                                      1  \n",
       "1                                   0                                      1  \n",
       "2                                   0                                      1  \n",
       "3                                   0                                      1  \n",
       "4                                   0                                      1  \n",
       "\n",
       "[5 rows x 114 columns]"
      ]
     },
     "execution_count": 139,
     "metadata": {},
     "output_type": "execute_result"
    }
   ],
   "source": [
    "data.head()"
   ]
  },
  {
   "cell_type": "markdown",
   "metadata": {
    "collapsed": true
   },
   "source": [
    "## Separate train and test"
   ]
  },
  {
   "cell_type": "code",
   "execution_count": 141,
   "metadata": {
    "collapsed": false
   },
   "outputs": [
    {
     "name": "stderr",
     "output_type": "stream",
     "text": [
      "C:\\ProgramData\\Anaconda3\\lib\\site-packages\\ipykernel\\__main__.py:3: SettingWithCopyWarning: \n",
      "A value is trying to be set on a copy of a slice from a DataFrame\n",
      "\n",
      "See the caveats in the documentation: http://pandas.pydata.org/pandas-docs/stable/indexing.html#indexing-view-versus-copy\n",
      "  app.launch_new_instance()\n",
      "C:\\ProgramData\\Anaconda3\\lib\\site-packages\\ipykernel\\__main__.py:4: SettingWithCopyWarning: \n",
      "A value is trying to be set on a copy of a slice from a DataFrame\n",
      "\n",
      "See the caveats in the documentation: http://pandas.pydata.org/pandas-docs/stable/indexing.html#indexing-view-versus-copy\n",
      "C:\\ProgramData\\Anaconda3\\lib\\site-packages\\ipykernel\\__main__.py:14: SettingWithCopyWarning: \n",
      "A value is trying to be set on a copy of a slice from a DataFrame\n",
      "\n",
      "See the caveats in the documentation: http://pandas.pydata.org/pandas-docs/stable/indexing.html#indexing-view-versus-copy\n"
     ]
    }
   ],
   "source": [
    "train = data[data['istrain'] == 1]\n",
    "test = data[data['istrain'] == 0]\n",
    "train.drop('istrain', axis = 1, inplace = True)\n",
    "test.drop('istrain', axis = 1, inplace = True)\n",
    "\n",
    "# Split the training data into training and validation set\n",
    "msk = np.random.rand(len(train)) < 0.8\n",
    "valid = train[~msk]\n",
    "train = train[msk]\n",
    "\n",
    "train.to_csv(TRAIN_ONEHOT, sep = ',', index = False)\n",
    "valid.to_csv(VALID_ONEHOT, sep = ',', index = False)\n",
    "\n",
    "test.drop('loan_status', axis = 1, inplace = True)\n",
    "test.to_csv(TEST_ONEHOT, sep = ',', index = False)"
   ]
  },
  {
   "cell_type": "code",
   "execution_count": null,
   "metadata": {
    "collapsed": true
   },
   "outputs": [],
   "source": []
  }
 ],
 "metadata": {
  "kernelspec": {
   "display_name": "Python 3",
   "language": "python",
   "name": "python3"
  },
  "language_info": {
   "codemirror_mode": {
    "name": "ipython",
    "version": 3
   },
   "file_extension": ".py",
   "mimetype": "text/x-python",
   "name": "python",
   "nbconvert_exporter": "python",
   "pygments_lexer": "ipython3",
   "version": "3.6.0"
  }
 },
 "nbformat": 4,
 "nbformat_minor": 0
}
